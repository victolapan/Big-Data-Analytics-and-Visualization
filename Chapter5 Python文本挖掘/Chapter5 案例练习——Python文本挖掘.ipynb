{
 "cells": [
  {
   "cell_type": "markdown",
   "id": "d27d22c1",
   "metadata": {},
   "source": [
    "# Chapter5 案例练习——Python文本挖掘"
   ]
  },
  {
   "cell_type": "code",
   "execution_count": 1,
   "id": "1a05d855",
   "metadata": {},
   "outputs": [],
   "source": [
    "import pandas as pd\n",
    "import numpy as np\n",
    "import matplotlib.pyplot as plt\n",
    "import seaborn as sns\n",
    "%matplotlib inline"
   ]
  },
  {
   "cell_type": "code",
   "execution_count": 2,
   "id": "0c86a36e",
   "metadata": {},
   "outputs": [],
   "source": [
    "import warnings\n",
    "warnings.filterwarnings(\"ignore\")"
   ]
  },
  {
   "cell_type": "markdown",
   "id": "f4935764",
   "metadata": {},
   "source": [
    "## 读取数据"
   ]
  },
  {
   "cell_type": "code",
   "execution_count": 3,
   "id": "4035c27f",
   "metadata": {},
   "outputs": [],
   "source": [
    "dtype = {\n",
    "    \"InvoiceNo\": \"string\",\n",
    "    \"StockCode\": \"string\",\n",
    "    \"Description\": \"string\",\n",
    "    \"Quantity\": \"int32\",\n",
    "    \"UnitPrice\": \"float32\",\n",
    "    \"CustomerID\": \"string\",\n",
    "    \"Country\": \"string\"\n",
    "}\n",
    "\n",
    "filename = '../data/Online Retail Preprocessing.xlsx'\n",
    "sales_success = pd.read_excel(filename, sheet_name='Online Retail Preprocessing', dtype=dtype, engine='calamine')"
   ]
  },
  {
   "cell_type": "code",
   "execution_count": 4,
   "id": "76311644",
   "metadata": {},
   "outputs": [
    {
     "data": {
      "text/plain": [
       "InvoiceNo        string[python]\n",
       "StockCode        string[python]\n",
       "Description      string[python]\n",
       "Quantity                  int32\n",
       "InvoiceDate      datetime64[ns]\n",
       "UnitPrice               float32\n",
       "CustomerID       string[python]\n",
       "Country          string[python]\n",
       "UnitPrice_RMB           float64\n",
       "SumPrice                float64\n",
       "Month                     int64\n",
       "Date             datetime64[ns]\n",
       "Dayofweek                 int64\n",
       "Quarter                   int64\n",
       "Hour                      int64\n",
       "dtype: object"
      ]
     },
     "execution_count": 4,
     "metadata": {},
     "output_type": "execute_result"
    }
   ],
   "source": [
    "sales_success.dtypes"
   ]
  },
  {
   "cell_type": "code",
   "execution_count": 5,
   "id": "032507ed",
   "metadata": {},
   "outputs": [
    {
     "data": {
      "text/html": [
       "<div>\n",
       "<style scoped>\n",
       "    .dataframe tbody tr th:only-of-type {\n",
       "        vertical-align: middle;\n",
       "    }\n",
       "\n",
       "    .dataframe tbody tr th {\n",
       "        vertical-align: top;\n",
       "    }\n",
       "\n",
       "    .dataframe thead th {\n",
       "        text-align: right;\n",
       "    }\n",
       "</style>\n",
       "<table border=\"1\" class=\"dataframe\">\n",
       "  <thead>\n",
       "    <tr style=\"text-align: right;\">\n",
       "      <th></th>\n",
       "      <th>InvoiceNo</th>\n",
       "      <th>StockCode</th>\n",
       "      <th>Description</th>\n",
       "      <th>Quantity</th>\n",
       "      <th>InvoiceDate</th>\n",
       "      <th>UnitPrice</th>\n",
       "      <th>CustomerID</th>\n",
       "      <th>Country</th>\n",
       "      <th>UnitPrice_RMB</th>\n",
       "      <th>SumPrice</th>\n",
       "      <th>Month</th>\n",
       "      <th>Date</th>\n",
       "      <th>Dayofweek</th>\n",
       "      <th>Quarter</th>\n",
       "      <th>Hour</th>\n",
       "    </tr>\n",
       "  </thead>\n",
       "  <tbody>\n",
       "    <tr>\n",
       "      <th>0</th>\n",
       "      <td>536365</td>\n",
       "      <td>85123A</td>\n",
       "      <td>WHITE HANGING HEART T-LIGHT HOLDER</td>\n",
       "      <td>6</td>\n",
       "      <td>2010-12-01 08:26:00</td>\n",
       "      <td>2.55</td>\n",
       "      <td>17850</td>\n",
       "      <td>United Kingdom</td>\n",
       "      <td>23.1030</td>\n",
       "      <td>138.6180</td>\n",
       "      <td>12</td>\n",
       "      <td>2010-12-01</td>\n",
       "      <td>2</td>\n",
       "      <td>4</td>\n",
       "      <td>8</td>\n",
       "    </tr>\n",
       "    <tr>\n",
       "      <th>1</th>\n",
       "      <td>536365</td>\n",
       "      <td>71053</td>\n",
       "      <td>WHITE METAL LANTERN</td>\n",
       "      <td>6</td>\n",
       "      <td>2010-12-01 08:26:00</td>\n",
       "      <td>3.39</td>\n",
       "      <td>17850</td>\n",
       "      <td>United Kingdom</td>\n",
       "      <td>30.7134</td>\n",
       "      <td>184.2804</td>\n",
       "      <td>12</td>\n",
       "      <td>2010-12-01</td>\n",
       "      <td>2</td>\n",
       "      <td>4</td>\n",
       "      <td>8</td>\n",
       "    </tr>\n",
       "    <tr>\n",
       "      <th>2</th>\n",
       "      <td>536365</td>\n",
       "      <td>84406B</td>\n",
       "      <td>CREAM CUPID HEARTS COAT HANGER</td>\n",
       "      <td>8</td>\n",
       "      <td>2010-12-01 08:26:00</td>\n",
       "      <td>2.75</td>\n",
       "      <td>17850</td>\n",
       "      <td>United Kingdom</td>\n",
       "      <td>24.9150</td>\n",
       "      <td>199.3200</td>\n",
       "      <td>12</td>\n",
       "      <td>2010-12-01</td>\n",
       "      <td>2</td>\n",
       "      <td>4</td>\n",
       "      <td>8</td>\n",
       "    </tr>\n",
       "    <tr>\n",
       "      <th>3</th>\n",
       "      <td>536365</td>\n",
       "      <td>84029G</td>\n",
       "      <td>KNITTED UNION FLAG HOT WATER BOTTLE</td>\n",
       "      <td>6</td>\n",
       "      <td>2010-12-01 08:26:00</td>\n",
       "      <td>3.39</td>\n",
       "      <td>17850</td>\n",
       "      <td>United Kingdom</td>\n",
       "      <td>30.7134</td>\n",
       "      <td>184.2804</td>\n",
       "      <td>12</td>\n",
       "      <td>2010-12-01</td>\n",
       "      <td>2</td>\n",
       "      <td>4</td>\n",
       "      <td>8</td>\n",
       "    </tr>\n",
       "    <tr>\n",
       "      <th>4</th>\n",
       "      <td>536365</td>\n",
       "      <td>84029E</td>\n",
       "      <td>RED WOOLLY HOTTIE WHITE HEART.</td>\n",
       "      <td>6</td>\n",
       "      <td>2010-12-01 08:26:00</td>\n",
       "      <td>3.39</td>\n",
       "      <td>17850</td>\n",
       "      <td>United Kingdom</td>\n",
       "      <td>30.7134</td>\n",
       "      <td>184.2804</td>\n",
       "      <td>12</td>\n",
       "      <td>2010-12-01</td>\n",
       "      <td>2</td>\n",
       "      <td>4</td>\n",
       "      <td>8</td>\n",
       "    </tr>\n",
       "  </tbody>\n",
       "</table>\n",
       "</div>"
      ],
      "text/plain": [
       "  InvoiceNo StockCode                          Description  Quantity  \\\n",
       "0    536365    85123A   WHITE HANGING HEART T-LIGHT HOLDER         6   \n",
       "1    536365     71053                  WHITE METAL LANTERN         6   \n",
       "2    536365    84406B       CREAM CUPID HEARTS COAT HANGER         8   \n",
       "3    536365    84029G  KNITTED UNION FLAG HOT WATER BOTTLE         6   \n",
       "4    536365    84029E       RED WOOLLY HOTTIE WHITE HEART.         6   \n",
       "\n",
       "          InvoiceDate  UnitPrice CustomerID         Country  UnitPrice_RMB  \\\n",
       "0 2010-12-01 08:26:00       2.55      17850  United Kingdom        23.1030   \n",
       "1 2010-12-01 08:26:00       3.39      17850  United Kingdom        30.7134   \n",
       "2 2010-12-01 08:26:00       2.75      17850  United Kingdom        24.9150   \n",
       "3 2010-12-01 08:26:00       3.39      17850  United Kingdom        30.7134   \n",
       "4 2010-12-01 08:26:00       3.39      17850  United Kingdom        30.7134   \n",
       "\n",
       "   SumPrice  Month       Date  Dayofweek  Quarter  Hour  \n",
       "0  138.6180     12 2010-12-01          2        4     8  \n",
       "1  184.2804     12 2010-12-01          2        4     8  \n",
       "2  199.3200     12 2010-12-01          2        4     8  \n",
       "3  184.2804     12 2010-12-01          2        4     8  \n",
       "4  184.2804     12 2010-12-01          2        4     8  "
      ]
     },
     "execution_count": 5,
     "metadata": {},
     "output_type": "execute_result"
    }
   ],
   "source": [
    "sales_success.head()"
   ]
  },
  {
   "cell_type": "markdown",
   "id": "5488aa37",
   "metadata": {},
   "source": [
    "## 数据预处理"
   ]
  },
  {
   "cell_type": "markdown",
   "id": "9d03022b",
   "metadata": {},
   "source": [
    "### 分组聚合"
   ]
  },
  {
   "cell_type": "code",
   "execution_count": 6,
   "id": "999d63c7",
   "metadata": {},
   "outputs": [
    {
     "data": {
      "text/html": [
       "<div>\n",
       "<style scoped>\n",
       "    .dataframe tbody tr th:only-of-type {\n",
       "        vertical-align: middle;\n",
       "    }\n",
       "\n",
       "    .dataframe tbody tr th {\n",
       "        vertical-align: top;\n",
       "    }\n",
       "\n",
       "    .dataframe thead th {\n",
       "        text-align: right;\n",
       "    }\n",
       "</style>\n",
       "<table border=\"1\" class=\"dataframe\">\n",
       "  <thead>\n",
       "    <tr style=\"text-align: right;\">\n",
       "      <th></th>\n",
       "      <th>StockCode</th>\n",
       "      <th>Description</th>\n",
       "      <th>SumPrice</th>\n",
       "      <th>Quantity</th>\n",
       "    </tr>\n",
       "  </thead>\n",
       "  <tbody>\n",
       "    <tr>\n",
       "      <th>0</th>\n",
       "      <td>10002</td>\n",
       "      <td>INFLATABLE POLITICAL GLOBE</td>\n",
       "      <td>6884.6034</td>\n",
       "      <td>860</td>\n",
       "    </tr>\n",
       "    <tr>\n",
       "      <th>1</th>\n",
       "      <td>10080</td>\n",
       "      <td>GROOVY CACTUS INFLATABLE</td>\n",
       "      <td>1078.9554</td>\n",
       "      <td>303</td>\n",
       "    </tr>\n",
       "    <tr>\n",
       "      <th>2</th>\n",
       "      <td>10120</td>\n",
       "      <td>DOGGY RUBBER</td>\n",
       "      <td>365.2992</td>\n",
       "      <td>192</td>\n",
       "    </tr>\n",
       "    <tr>\n",
       "      <th>3</th>\n",
       "      <td>10123C</td>\n",
       "      <td>HEARTS WRAPPING TAPE</td>\n",
       "      <td>29.4450</td>\n",
       "      <td>5</td>\n",
       "    </tr>\n",
       "    <tr>\n",
       "      <th>4</th>\n",
       "      <td>10124A</td>\n",
       "      <td>SPOTS ON RED BOOKCOVER TAPE</td>\n",
       "      <td>60.8832</td>\n",
       "      <td>16</td>\n",
       "    </tr>\n",
       "    <tr>\n",
       "      <th>...</th>\n",
       "      <td>...</td>\n",
       "      <td>...</td>\n",
       "      <td>...</td>\n",
       "      <td>...</td>\n",
       "    </tr>\n",
       "    <tr>\n",
       "      <th>4156</th>\n",
       "      <td>gift_0001_20</td>\n",
       "      <td>Dotcomgiftshop Gift Voucher £20.00</td>\n",
       "      <td>1513.4730</td>\n",
       "      <td>10</td>\n",
       "    </tr>\n",
       "    <tr>\n",
       "      <th>4157</th>\n",
       "      <td>gift_0001_30</td>\n",
       "      <td>Dotcomgiftshop Gift Voucher £30.00</td>\n",
       "      <td>1590.3018</td>\n",
       "      <td>7</td>\n",
       "    </tr>\n",
       "    <tr>\n",
       "      <th>4158</th>\n",
       "      <td>gift_0001_40</td>\n",
       "      <td>Dotcomgiftshop Gift Voucher £40.00</td>\n",
       "      <td>912.3420</td>\n",
       "      <td>3</td>\n",
       "    </tr>\n",
       "    <tr>\n",
       "      <th>4159</th>\n",
       "      <td>gift_0001_50</td>\n",
       "      <td>Dotcomgiftshop Gift Voucher £50.00</td>\n",
       "      <td>1518.0936</td>\n",
       "      <td>4</td>\n",
       "    </tr>\n",
       "    <tr>\n",
       "      <th>4160</th>\n",
       "      <td>m</td>\n",
       "      <td>Manual</td>\n",
       "      <td>23.1030</td>\n",
       "      <td>1</td>\n",
       "    </tr>\n",
       "  </tbody>\n",
       "</table>\n",
       "<p>4161 rows × 4 columns</p>\n",
       "</div>"
      ],
      "text/plain": [
       "         StockCode                         Description   SumPrice  Quantity\n",
       "0            10002         INFLATABLE POLITICAL GLOBE   6884.6034       860\n",
       "1            10080            GROOVY CACTUS INFLATABLE  1078.9554       303\n",
       "2            10120                        DOGGY RUBBER   365.2992       192\n",
       "3           10123C               HEARTS WRAPPING TAPE     29.4450         5\n",
       "4           10124A         SPOTS ON RED BOOKCOVER TAPE    60.8832        16\n",
       "...            ...                                 ...        ...       ...\n",
       "4156  gift_0001_20  Dotcomgiftshop Gift Voucher £20.00  1513.4730        10\n",
       "4157  gift_0001_30  Dotcomgiftshop Gift Voucher £30.00  1590.3018         7\n",
       "4158  gift_0001_40  Dotcomgiftshop Gift Voucher £40.00   912.3420         3\n",
       "4159  gift_0001_50  Dotcomgiftshop Gift Voucher £50.00  1518.0936         4\n",
       "4160             m                              Manual    23.1030         1\n",
       "\n",
       "[4161 rows x 4 columns]"
      ]
     },
     "execution_count": 6,
     "metadata": {},
     "output_type": "execute_result"
    }
   ],
   "source": [
    "good_grouped = sales_success.groupby(['StockCode', 'Description'], as_index=False)[['SumPrice','Quantity']].sum()\n",
    "good_grouped"
   ]
  },
  {
   "cell_type": "markdown",
   "id": "c9f4319b",
   "metadata": {},
   "source": [
    "### 生成热门分类变量"
   ]
  },
  {
   "cell_type": "code",
   "execution_count": 7,
   "id": "b9c4eeee",
   "metadata": {},
   "outputs": [
    {
     "data": {
      "text/plain": [
       "np.float64(323.0)"
      ]
     },
     "execution_count": 7,
     "metadata": {},
     "output_type": "execute_result"
    }
   ],
   "source": [
    "good_grouped['Quantity'].median()"
   ]
  },
  {
   "cell_type": "code",
   "execution_count": 8,
   "id": "f12c705d",
   "metadata": {},
   "outputs": [
    {
     "data": {
      "text/plain": [
       "np.float64(1339.2021148762317)"
      ]
     },
     "execution_count": 8,
     "metadata": {},
     "output_type": "execute_result"
    }
   ],
   "source": [
    "good_grouped['Quantity'].mean()"
   ]
  },
  {
   "cell_type": "code",
   "execution_count": 9,
   "id": "49a428f6",
   "metadata": {},
   "outputs": [
    {
     "data": {
      "text/plain": [
       "np.float64(1752.0)"
      ]
     },
     "execution_count": 9,
     "metadata": {},
     "output_type": "execute_result"
    }
   ],
   "source": [
    "threshold = good_grouped['Quantity'].quantile(0.8)\n",
    "threshold"
   ]
  },
  {
   "cell_type": "code",
   "execution_count": 10,
   "id": "916af122",
   "metadata": {},
   "outputs": [],
   "source": [
    "from sklearn.preprocessing import Binarizer\n",
    "\n",
    "binarizer = Binarizer(threshold=threshold)\n",
    "good_grouped['Hot'] = binarizer.fit_transform(good_grouped[['Quantity']])"
   ]
  },
  {
   "cell_type": "code",
   "execution_count": 11,
   "id": "9659bc4c",
   "metadata": {},
   "outputs": [
    {
     "data": {
      "text/html": [
       "<div>\n",
       "<style scoped>\n",
       "    .dataframe tbody tr th:only-of-type {\n",
       "        vertical-align: middle;\n",
       "    }\n",
       "\n",
       "    .dataframe tbody tr th {\n",
       "        vertical-align: top;\n",
       "    }\n",
       "\n",
       "    .dataframe thead th {\n",
       "        text-align: right;\n",
       "    }\n",
       "</style>\n",
       "<table border=\"1\" class=\"dataframe\">\n",
       "  <thead>\n",
       "    <tr style=\"text-align: right;\">\n",
       "      <th></th>\n",
       "      <th>StockCode</th>\n",
       "      <th>Description</th>\n",
       "      <th>SumPrice</th>\n",
       "      <th>Quantity</th>\n",
       "      <th>Hot</th>\n",
       "    </tr>\n",
       "  </thead>\n",
       "  <tbody>\n",
       "    <tr>\n",
       "      <th>0</th>\n",
       "      <td>10002</td>\n",
       "      <td>INFLATABLE POLITICAL GLOBE</td>\n",
       "      <td>6884.6034</td>\n",
       "      <td>860</td>\n",
       "      <td>0</td>\n",
       "    </tr>\n",
       "    <tr>\n",
       "      <th>1</th>\n",
       "      <td>10080</td>\n",
       "      <td>GROOVY CACTUS INFLATABLE</td>\n",
       "      <td>1078.9554</td>\n",
       "      <td>303</td>\n",
       "      <td>0</td>\n",
       "    </tr>\n",
       "    <tr>\n",
       "      <th>2</th>\n",
       "      <td>10120</td>\n",
       "      <td>DOGGY RUBBER</td>\n",
       "      <td>365.2992</td>\n",
       "      <td>192</td>\n",
       "      <td>0</td>\n",
       "    </tr>\n",
       "    <tr>\n",
       "      <th>3</th>\n",
       "      <td>10123C</td>\n",
       "      <td>HEARTS WRAPPING TAPE</td>\n",
       "      <td>29.4450</td>\n",
       "      <td>5</td>\n",
       "      <td>0</td>\n",
       "    </tr>\n",
       "    <tr>\n",
       "      <th>4</th>\n",
       "      <td>10124A</td>\n",
       "      <td>SPOTS ON RED BOOKCOVER TAPE</td>\n",
       "      <td>60.8832</td>\n",
       "      <td>16</td>\n",
       "      <td>0</td>\n",
       "    </tr>\n",
       "  </tbody>\n",
       "</table>\n",
       "</div>"
      ],
      "text/plain": [
       "  StockCode                  Description   SumPrice  Quantity  Hot\n",
       "0     10002  INFLATABLE POLITICAL GLOBE   6884.6034       860    0\n",
       "1     10080     GROOVY CACTUS INFLATABLE  1078.9554       303    0\n",
       "2     10120                 DOGGY RUBBER   365.2992       192    0\n",
       "3    10123C        HEARTS WRAPPING TAPE     29.4450         5    0\n",
       "4    10124A  SPOTS ON RED BOOKCOVER TAPE    60.8832        16    0"
      ]
     },
     "execution_count": 11,
     "metadata": {},
     "output_type": "execute_result"
    }
   ],
   "source": [
    "good_grouped.head()"
   ]
  },
  {
   "cell_type": "code",
   "execution_count": 12,
   "id": "f66dad90",
   "metadata": {},
   "outputs": [
    {
     "data": {
      "text/plain": [
       "Hot\n",
       "0    3330\n",
       "1     831\n",
       "Name: count, dtype: int64"
      ]
     },
     "execution_count": 12,
     "metadata": {},
     "output_type": "execute_result"
    }
   ],
   "source": [
    "good_grouped.Hot.value_counts()"
   ]
  },
  {
   "cell_type": "markdown",
   "id": "da623189",
   "metadata": {},
   "source": [
    "## 文本分类"
   ]
  },
  {
   "cell_type": "markdown",
   "id": "b4c066b9",
   "metadata": {},
   "source": [
    "### 训练集-测试集划分"
   ]
  },
  {
   "cell_type": "code",
   "execution_count": 13,
   "id": "fcfcf864",
   "metadata": {},
   "outputs": [],
   "source": [
    "from sklearn.model_selection import train_test_split\n",
    "X = good_grouped.Description\n",
    "y = good_grouped.Hot\n",
    "\n",
    "X_train, X_test, y_train, y_test = train_test_split(X, y, random_state=0, train_size=0.7)"
   ]
  },
  {
   "cell_type": "markdown",
   "id": "9e8b2fa4",
   "metadata": {},
   "source": [
    "### 词袋模型"
   ]
  },
  {
   "cell_type": "code",
   "execution_count": 14,
   "id": "ca940679",
   "metadata": {},
   "outputs": [
    {
     "name": "stdout",
     "output_type": "stream",
     "text": [
      "X_train:\n",
      "<2912x1846 sparse matrix of type '<class 'numpy.int64'>'\n",
      "\twith 12489 stored elements in Compressed Sparse Row format>\n"
     ]
    }
   ],
   "source": [
    "from sklearn.feature_extraction.text import CountVectorizer\n",
    "\n",
    "default_vect = CountVectorizer().fit(X_train)\n",
    "X_train_bag = default_vect.transform(X_train)\n",
    "X_test_bag = default_vect.transform(X_test)\n",
    "print(\"X_train:\\n{}\".format(repr(X_train_bag)))"
   ]
  },
  {
   "cell_type": "code",
   "execution_count": 15,
   "id": "b6948676",
   "metadata": {},
   "outputs": [
    {
     "name": "stdout",
     "output_type": "stream",
     "text": [
      "Number of features: 1846\n",
      "First 20 features:\n",
      "['00' '10' '11' '12' '120cm' '125g' '15cm' '16' '16954' '16956' '16957'\n",
      " '16960' '16961' '16963' '16965' '16x16cm' '17067' '17068' '17070' '17074']\n",
      "Features 20010 to 20030:\n",
      "[]\n",
      "Every 2000th feature:\n",
      "['00']\n"
     ]
    }
   ],
   "source": [
    "feature_names = default_vect.get_feature_names_out()\n",
    "print(\"Number of features: {}\".format(len(feature_names)))\n",
    "print(\"First 20 features:\\n{}\".format(feature_names[:20]))\n",
    "print(\"Features 20010 to 20030:\\n{}\".format(feature_names[20010:20030]))\n",
    "print(\"Every 2000th feature:\\n{}\".format(feature_names[::2000]))"
   ]
  },
  {
   "cell_type": "code",
   "execution_count": 16,
   "id": "e146afc8",
   "metadata": {},
   "outputs": [
    {
     "data": {
      "text/html": [
       "<div>\n",
       "<style scoped>\n",
       "    .dataframe tbody tr th:only-of-type {\n",
       "        vertical-align: middle;\n",
       "    }\n",
       "\n",
       "    .dataframe tbody tr th {\n",
       "        vertical-align: top;\n",
       "    }\n",
       "\n",
       "    .dataframe thead th {\n",
       "        text-align: right;\n",
       "    }\n",
       "</style>\n",
       "<table border=\"1\" class=\"dataframe\">\n",
       "  <thead>\n",
       "    <tr style=\"text-align: right;\">\n",
       "      <th></th>\n",
       "      <th>00</th>\n",
       "      <th>10</th>\n",
       "      <th>11</th>\n",
       "      <th>12</th>\n",
       "      <th>120cm</th>\n",
       "      <th>125g</th>\n",
       "      <th>15cm</th>\n",
       "      <th>16</th>\n",
       "      <th>16954</th>\n",
       "      <th>16956</th>\n",
       "      <th>...</th>\n",
       "      <th>wraps</th>\n",
       "      <th>wreath</th>\n",
       "      <th>wrecking</th>\n",
       "      <th>writing</th>\n",
       "      <th>xmas</th>\n",
       "      <th>yellow</th>\n",
       "      <th>you</th>\n",
       "      <th>your</th>\n",
       "      <th>yuletide</th>\n",
       "      <th>zinc</th>\n",
       "    </tr>\n",
       "  </thead>\n",
       "  <tbody>\n",
       "    <tr>\n",
       "      <th>0</th>\n",
       "      <td>0</td>\n",
       "      <td>0</td>\n",
       "      <td>0</td>\n",
       "      <td>0</td>\n",
       "      <td>0</td>\n",
       "      <td>0</td>\n",
       "      <td>0</td>\n",
       "      <td>0</td>\n",
       "      <td>0</td>\n",
       "      <td>0</td>\n",
       "      <td>...</td>\n",
       "      <td>0</td>\n",
       "      <td>0</td>\n",
       "      <td>0</td>\n",
       "      <td>0</td>\n",
       "      <td>0</td>\n",
       "      <td>0</td>\n",
       "      <td>0</td>\n",
       "      <td>0</td>\n",
       "      <td>0</td>\n",
       "      <td>0</td>\n",
       "    </tr>\n",
       "    <tr>\n",
       "      <th>1</th>\n",
       "      <td>0</td>\n",
       "      <td>0</td>\n",
       "      <td>0</td>\n",
       "      <td>0</td>\n",
       "      <td>0</td>\n",
       "      <td>0</td>\n",
       "      <td>0</td>\n",
       "      <td>0</td>\n",
       "      <td>0</td>\n",
       "      <td>0</td>\n",
       "      <td>...</td>\n",
       "      <td>0</td>\n",
       "      <td>0</td>\n",
       "      <td>0</td>\n",
       "      <td>0</td>\n",
       "      <td>0</td>\n",
       "      <td>0</td>\n",
       "      <td>0</td>\n",
       "      <td>0</td>\n",
       "      <td>0</td>\n",
       "      <td>0</td>\n",
       "    </tr>\n",
       "    <tr>\n",
       "      <th>2</th>\n",
       "      <td>0</td>\n",
       "      <td>0</td>\n",
       "      <td>0</td>\n",
       "      <td>0</td>\n",
       "      <td>0</td>\n",
       "      <td>0</td>\n",
       "      <td>0</td>\n",
       "      <td>0</td>\n",
       "      <td>0</td>\n",
       "      <td>0</td>\n",
       "      <td>...</td>\n",
       "      <td>0</td>\n",
       "      <td>0</td>\n",
       "      <td>0</td>\n",
       "      <td>0</td>\n",
       "      <td>0</td>\n",
       "      <td>0</td>\n",
       "      <td>0</td>\n",
       "      <td>0</td>\n",
       "      <td>0</td>\n",
       "      <td>0</td>\n",
       "    </tr>\n",
       "    <tr>\n",
       "      <th>3</th>\n",
       "      <td>0</td>\n",
       "      <td>0</td>\n",
       "      <td>0</td>\n",
       "      <td>0</td>\n",
       "      <td>0</td>\n",
       "      <td>0</td>\n",
       "      <td>0</td>\n",
       "      <td>0</td>\n",
       "      <td>0</td>\n",
       "      <td>0</td>\n",
       "      <td>...</td>\n",
       "      <td>0</td>\n",
       "      <td>0</td>\n",
       "      <td>0</td>\n",
       "      <td>0</td>\n",
       "      <td>0</td>\n",
       "      <td>0</td>\n",
       "      <td>0</td>\n",
       "      <td>0</td>\n",
       "      <td>0</td>\n",
       "      <td>0</td>\n",
       "    </tr>\n",
       "    <tr>\n",
       "      <th>4</th>\n",
       "      <td>0</td>\n",
       "      <td>0</td>\n",
       "      <td>0</td>\n",
       "      <td>0</td>\n",
       "      <td>0</td>\n",
       "      <td>0</td>\n",
       "      <td>0</td>\n",
       "      <td>0</td>\n",
       "      <td>0</td>\n",
       "      <td>0</td>\n",
       "      <td>...</td>\n",
       "      <td>0</td>\n",
       "      <td>0</td>\n",
       "      <td>0</td>\n",
       "      <td>0</td>\n",
       "      <td>0</td>\n",
       "      <td>0</td>\n",
       "      <td>0</td>\n",
       "      <td>0</td>\n",
       "      <td>0</td>\n",
       "      <td>0</td>\n",
       "    </tr>\n",
       "    <tr>\n",
       "      <th>...</th>\n",
       "      <td>...</td>\n",
       "      <td>...</td>\n",
       "      <td>...</td>\n",
       "      <td>...</td>\n",
       "      <td>...</td>\n",
       "      <td>...</td>\n",
       "      <td>...</td>\n",
       "      <td>...</td>\n",
       "      <td>...</td>\n",
       "      <td>...</td>\n",
       "      <td>...</td>\n",
       "      <td>...</td>\n",
       "      <td>...</td>\n",
       "      <td>...</td>\n",
       "      <td>...</td>\n",
       "      <td>...</td>\n",
       "      <td>...</td>\n",
       "      <td>...</td>\n",
       "      <td>...</td>\n",
       "      <td>...</td>\n",
       "      <td>...</td>\n",
       "    </tr>\n",
       "    <tr>\n",
       "      <th>2907</th>\n",
       "      <td>0</td>\n",
       "      <td>0</td>\n",
       "      <td>0</td>\n",
       "      <td>0</td>\n",
       "      <td>0</td>\n",
       "      <td>0</td>\n",
       "      <td>0</td>\n",
       "      <td>0</td>\n",
       "      <td>0</td>\n",
       "      <td>0</td>\n",
       "      <td>...</td>\n",
       "      <td>0</td>\n",
       "      <td>0</td>\n",
       "      <td>0</td>\n",
       "      <td>0</td>\n",
       "      <td>0</td>\n",
       "      <td>0</td>\n",
       "      <td>0</td>\n",
       "      <td>0</td>\n",
       "      <td>0</td>\n",
       "      <td>0</td>\n",
       "    </tr>\n",
       "    <tr>\n",
       "      <th>2908</th>\n",
       "      <td>0</td>\n",
       "      <td>0</td>\n",
       "      <td>0</td>\n",
       "      <td>0</td>\n",
       "      <td>0</td>\n",
       "      <td>0</td>\n",
       "      <td>0</td>\n",
       "      <td>0</td>\n",
       "      <td>0</td>\n",
       "      <td>0</td>\n",
       "      <td>...</td>\n",
       "      <td>0</td>\n",
       "      <td>0</td>\n",
       "      <td>0</td>\n",
       "      <td>0</td>\n",
       "      <td>0</td>\n",
       "      <td>0</td>\n",
       "      <td>0</td>\n",
       "      <td>0</td>\n",
       "      <td>0</td>\n",
       "      <td>0</td>\n",
       "    </tr>\n",
       "    <tr>\n",
       "      <th>2909</th>\n",
       "      <td>0</td>\n",
       "      <td>0</td>\n",
       "      <td>0</td>\n",
       "      <td>0</td>\n",
       "      <td>0</td>\n",
       "      <td>0</td>\n",
       "      <td>0</td>\n",
       "      <td>0</td>\n",
       "      <td>0</td>\n",
       "      <td>0</td>\n",
       "      <td>...</td>\n",
       "      <td>0</td>\n",
       "      <td>0</td>\n",
       "      <td>0</td>\n",
       "      <td>0</td>\n",
       "      <td>0</td>\n",
       "      <td>0</td>\n",
       "      <td>0</td>\n",
       "      <td>1</td>\n",
       "      <td>0</td>\n",
       "      <td>0</td>\n",
       "    </tr>\n",
       "    <tr>\n",
       "      <th>2910</th>\n",
       "      <td>0</td>\n",
       "      <td>0</td>\n",
       "      <td>0</td>\n",
       "      <td>0</td>\n",
       "      <td>0</td>\n",
       "      <td>0</td>\n",
       "      <td>0</td>\n",
       "      <td>0</td>\n",
       "      <td>0</td>\n",
       "      <td>0</td>\n",
       "      <td>...</td>\n",
       "      <td>0</td>\n",
       "      <td>0</td>\n",
       "      <td>0</td>\n",
       "      <td>0</td>\n",
       "      <td>0</td>\n",
       "      <td>0</td>\n",
       "      <td>0</td>\n",
       "      <td>0</td>\n",
       "      <td>0</td>\n",
       "      <td>0</td>\n",
       "    </tr>\n",
       "    <tr>\n",
       "      <th>2911</th>\n",
       "      <td>0</td>\n",
       "      <td>0</td>\n",
       "      <td>0</td>\n",
       "      <td>0</td>\n",
       "      <td>0</td>\n",
       "      <td>0</td>\n",
       "      <td>0</td>\n",
       "      <td>0</td>\n",
       "      <td>0</td>\n",
       "      <td>0</td>\n",
       "      <td>...</td>\n",
       "      <td>0</td>\n",
       "      <td>0</td>\n",
       "      <td>0</td>\n",
       "      <td>0</td>\n",
       "      <td>0</td>\n",
       "      <td>0</td>\n",
       "      <td>0</td>\n",
       "      <td>0</td>\n",
       "      <td>0</td>\n",
       "      <td>0</td>\n",
       "    </tr>\n",
       "  </tbody>\n",
       "</table>\n",
       "<p>2912 rows × 1846 columns</p>\n",
       "</div>"
      ],
      "text/plain": [
       "      00  10  11  12  120cm  125g  15cm  16  16954  16956  ...  wraps  wreath  \\\n",
       "0      0   0   0   0      0     0     0   0      0      0  ...      0       0   \n",
       "1      0   0   0   0      0     0     0   0      0      0  ...      0       0   \n",
       "2      0   0   0   0      0     0     0   0      0      0  ...      0       0   \n",
       "3      0   0   0   0      0     0     0   0      0      0  ...      0       0   \n",
       "4      0   0   0   0      0     0     0   0      0      0  ...      0       0   \n",
       "...   ..  ..  ..  ..    ...   ...   ...  ..    ...    ...  ...    ...     ...   \n",
       "2907   0   0   0   0      0     0     0   0      0      0  ...      0       0   \n",
       "2908   0   0   0   0      0     0     0   0      0      0  ...      0       0   \n",
       "2909   0   0   0   0      0     0     0   0      0      0  ...      0       0   \n",
       "2910   0   0   0   0      0     0     0   0      0      0  ...      0       0   \n",
       "2911   0   0   0   0      0     0     0   0      0      0  ...      0       0   \n",
       "\n",
       "      wrecking  writing  xmas  yellow  you  your  yuletide  zinc  \n",
       "0            0        0     0       0    0     0         0     0  \n",
       "1            0        0     0       0    0     0         0     0  \n",
       "2            0        0     0       0    0     0         0     0  \n",
       "3            0        0     0       0    0     0         0     0  \n",
       "4            0        0     0       0    0     0         0     0  \n",
       "...        ...      ...   ...     ...  ...   ...       ...   ...  \n",
       "2907         0        0     0       0    0     0         0     0  \n",
       "2908         0        0     0       0    0     0         0     0  \n",
       "2909         0        0     0       0    0     1         0     0  \n",
       "2910         0        0     0       0    0     0         0     0  \n",
       "2911         0        0     0       0    0     0         0     0  \n",
       "\n",
       "[2912 rows x 1846 columns]"
      ]
     },
     "execution_count": 16,
     "metadata": {},
     "output_type": "execute_result"
    }
   ],
   "source": [
    "pd.DataFrame(X_train_bag.toarray(), columns=default_vect.get_feature_names_out())"
   ]
  },
  {
   "cell_type": "markdown",
   "id": "191e35bd",
   "metadata": {},
   "source": [
    "### 可视化"
   ]
  },
  {
   "cell_type": "code",
   "execution_count": 17,
   "id": "2634a376",
   "metadata": {},
   "outputs": [
    {
     "name": "stdout",
     "output_type": "stream",
     "text": [
      "Requirement already satisfied: wordcloud in c:\\users\\victola pan\\appdata\\roaming\\python\\python312\\site-packages (1.9.4)\n",
      "Requirement already satisfied: numpy>=1.6.1 in d:\\programdata\\anaconda3\\envs\\keras\\lib\\site-packages (from wordcloud) (2.2.6)\n",
      "Requirement already satisfied: pillow in d:\\programdata\\anaconda3\\envs\\keras\\lib\\site-packages (from wordcloud) (11.2.1)\n",
      "Requirement already satisfied: matplotlib in d:\\programdata\\anaconda3\\envs\\keras\\lib\\site-packages (from wordcloud) (3.10.3)\n",
      "Requirement already satisfied: contourpy>=1.0.1 in d:\\programdata\\anaconda3\\envs\\keras\\lib\\site-packages (from matplotlib->wordcloud) (1.3.2)\n",
      "Requirement already satisfied: cycler>=0.10 in d:\\programdata\\anaconda3\\envs\\keras\\lib\\site-packages (from matplotlib->wordcloud) (0.12.1)\n",
      "Requirement already satisfied: fonttools>=4.22.0 in d:\\programdata\\anaconda3\\envs\\keras\\lib\\site-packages (from matplotlib->wordcloud) (4.58.0)\n",
      "Requirement already satisfied: kiwisolver>=1.3.1 in d:\\programdata\\anaconda3\\envs\\keras\\lib\\site-packages (from matplotlib->wordcloud) (1.4.8)\n",
      "Requirement already satisfied: packaging>=20.0 in d:\\programdata\\anaconda3\\envs\\keras\\lib\\site-packages (from matplotlib->wordcloud) (24.2)\n",
      "Requirement already satisfied: pyparsing>=2.3.1 in d:\\programdata\\anaconda3\\envs\\keras\\lib\\site-packages (from matplotlib->wordcloud) (3.2.3)\n",
      "Requirement already satisfied: python-dateutil>=2.7 in d:\\programdata\\anaconda3\\envs\\keras\\lib\\site-packages (from matplotlib->wordcloud) (2.9.0.post0)\n",
      "Requirement already satisfied: six>=1.5 in d:\\programdata\\anaconda3\\envs\\keras\\lib\\site-packages (from python-dateutil>=2.7->matplotlib->wordcloud) (1.17.0)\n"
     ]
    }
   ],
   "source": [
    "!pip install wordcloud"
   ]
  },
  {
   "cell_type": "code",
   "execution_count": 18,
   "id": "e13ddde7",
   "metadata": {},
   "outputs": [
    {
     "data": {
      "text/plain": [
       "'for one retro tea asstd flowers fridge fruit magnets jigsaw mini purdey bow brooch colour diamante red asstd car design pen racing box cottage keepsake rose hanging lantern metal star cover crochet flower food red bling key ring stand enchanted forest ivory placemat house pencil shape sharpener edge folding pointed scissor small bag blue cosmetic embroidery green black diamante diamon drop earrings bell heart holly metal painted with alphabet design wrap bead box jewel pink vintage 36 pencils skulls tube metal neighbourhood sign witch bracelet green sweetheart blue cutlery piece polkadot set clock diner pink wall assorted colour holder light bottle charlie hot lola red water frame mini oval portrait blue floral monster can heat if mug stand the you frangipani necklace purple bitty chain light pink 12 art card folk greeting pack bag charlotte pink polkadot baroque butterfly earrings red antique hook ivory rose single blue check crusoe lampshade glass jar marmalade doormat sunrise welcome boom box boys speaker art forest magic the wall blue hen knitted art mirrored splodges wall blue murano necklace twist cubes retro set storage white dish glass pink small sundae highlighter mini pens blue french laundry metal sign bling key letter ring 18pc cutlery disposable set wooden animals assorted bucket farmyard in aperitif glass silver flowers grow of own set your bottle english hot rose water charm crystal guitar phone pink heart ivory large trellis holiday of purse queen skies the board design memo retrospot black bracelet charms glass heart billboard hate love mug vintage 72 doilies of paper retrospot set acrylic angel jewel pink box buttons heart jewellery bell decoration star with wreath bell christmas hanging heart with gingham mouse mummy red ribbon bathroom metal sign boxes des nursery round set cherub decoration gold heart dish party pink pizza polkadot assorted colour cup hook suction design lace reel ribbon decoration heart retrospot wooden baskets lids oval set wicker garland love painted zinc design poppies wrap box funky monkey pop small bunting spotty artificial blue delphinium flower blue geisha girl blossom images notebook set 10 george lights of party set st babushka of set stacking tins blue door french metal sign bird candles ivory light set 10 17077 cards dressing set up bag gift king the led lights of pack six tea black bracelet orbit silver bunting paisley paper park large platter round wicker candle stick willie winkie zinc home magnets of pack sweet bicycle kit puncture repair design rose summer wrap 36 flower garland glass green neckl dairy jug large maid milk blue disc mirror pink string bowl pink polkadot bamboo lampshade ribs white cakestand sweetheart tier box funky monkey pop small red retrospot set tea towels assorted crawlies creepy box skulls square tissue bag chocolate gift polkadot small chalet decoration swiss tree embroidered emily reel ribbon board chopping fields poppy choc gold pot trinket truffle box bunny egg collage paperweight vintage charm leaf necklace silver strand decoration hanging lovebird white 16 cutlery of rose set vintage 12 peg pink place rose settings cabinet drawer finish white wood blood dragons incense felt heart large pink woodland brocante hooks shelf with case pen pens teatime 60 cake cases design dolly girl ant boudicca green lime ring silver asstd chains key rasta design flannel strawberries badges balloon girl set candle holder rococo tall etched glass hanging tealight blue owl soft toy baskets set storage wicker christmas scandispot stocking wood do door hanger my not stuff touch cat lucky magnets of set bag christmas gift paper vintage blossom cherry cover passport candle christmas silver spike table dolly girl wrap holder plant pot white wire art clock deco savoy candy decoration heart spot assorted metal painted pears black blank card cats hearts diamante mirror oval wall blue door french metal sign allium artificial flower pink chalice glass green small carnival elephant pouffe 50 charms party pieces classic diamante jet necklace door girl hanger moody brown earrings victorian vintage red retrospot teapot traditional cover frame record silver bicycle classic clips boxes gift of pack panettone 10 lights night owl set birthday card robot 10 17090 cards perfect post set bubble cover cushion gum woven car engine fire pack patches 36 colour doiley pencils set boxes chocolate nesting pink spots little monster pink soft toy cloche glass small assorted case colour glasses silk bead black bracelet rose vintage bunny easter wreath dinner paisley tray tv vintage blank card cat sunglasses with ahoy art treasure wall and breakfast cup pink saucer blue cosy egg felt rabbit childs garden pink rake design doormat leaves vintage chalkboard heart natural slate chandelier drop earrings ruby madras medium notebook pink ring rosebud white crosses naughts traditional christmas droplet flock white bird decoration hanging ivory cluster glass necklace ruby asst pencil popart rect sharpener birthday bunting happy pink bowl cream dog vintage jam jar magnets of set black clock stitched wall bag charm gold ivory metal cabinet office post vintage childrens circus cutlery parade canvas luggage tags three heart hook ivory triple wire bird candle de eau love nil milk pan red retrospot calendar family favourites bell garland honeycomb paper white tea time towels flower rabbits rope set skippping enchanted forest placemat red glamour kit knitting midnight scarf books bundle exercise of retro design of pantry set spice tins birdhouse decoration green box design retrospot sewing cabinet key parisienne beach cabinet hut key decoration of set stocking wooden holder light mirror mosaic frosted glass holder light star dish party pizza red retrospot cracked earrings glaze red 60cm christmas tree white 12 of pack spaceboy tissues cardholder christmas gingham tree pudding sheet sticker sweet gift spaceboy wrap balls christmas flock gold biscuit green tin vintage curtain ivory pole string with bowl giant medina metal stamped box gift in tea teapot time 23 holly lantern paper point star drawer glass hexagon knob vintage frame jewelled photo pink felt garden garland magic bin bread diner red style bag recycling retrospot 15cm 20 ball christmas glass lights bells holly metal painted star with cracked glaze necklace red basket flowers kit of sewing blue candleholder flock glass dolly girl jigsaw mini cornice frame photo blue colours cushions pot pouri babushka blue measuring tape bowl large medina metal stamped bar stool vintage wooden decoration heart musical zinc ceramic design mug strawberry christmas gift tags vintage blossom cherry purse dinosaur jigsaw mini box diamante gift green in pen chalkboard christmas list star wish collage magnets of pack vintage cabinet cream sweetheart wall back basket bunny easter on with daisy magnets mirror set barn family hen house in nest butterfly lights purple set art flower pink rose small white 3d christmas stickers traditional doll feltcraft rosie doll emily feltcraft blue cover passport polkadot ceramic hearts of painted set apple bag design lunch mini rucksack woodland and charlie lola table tins helicopter red shark blue journal paisley beach chests hut treasure bird coathanger enchanted hook chilli lights box confectionery design money pink rose washbag bin blue charlie lola wastepaper hammock ocean stripe jug milk pink regency notebook travelogue vintage botanical card greeting lily candle flame holder single small art balloon flowers make own your eight piece set snake in plasters spaceboy tin blue polkadot purse 50 bag christmas gift large babushka doorstop retrospot crawlie creepy eight piece set reel ribbon snowy village and card game heads tails vintage bingo set frog puppet sock cook metal sign wine with green pears wrap candles dinner flock purple doormat home our to welcome skulls stickers chart dinosaur height set sticker acapulco lavender mat recycled badges creatures cute set garden shelf sweetheart tier 500g bag marbles swirly christmas print screen wrap christmas gift sack vintage cosy green shoes slipper small candle dinner garden rose set box days keepsake paris vintage fan paper pocket traveling birdhouse garden marker bin bread diner mint style earrings heart ivory shell charm crystal phone stiletto diamante grip hair lt pack rose holder large light stars zinc bucket heart love pink shape 16 cutlery of rose set vintage bowl jam red retrospot sugar embroidered reel ribbon rosie cottage garden number tile 45x45cm filler pad polyester bowl childrens spaceboy chocolate faux fur throw apron jack union vintage ceramic christmas of reindeer set container garden herb zinc porcelain rose small baroque blue candlestick flock new breakfast childs dolly girl set and breakfast cup saucer yellow paisley park wrap du rose sud washbag burner butterfly oil porcelain blue paisley sketchbook greens lush ribbons charm crystal frog phone black bracelet jet las round vegas black classic design tea towel beaded blue crystal heart large box cake christmas decorations of blue clock refectory doll feltcraft maria chair flag george of st 36 doilies mushroom of paper set brown coconut kukui necklace seed hanging holder light sweetheart animal farm felt rabbit bell christmas hanging star with chrysanthemum notebook barrier cordon hen party tape fishing gnome silver cake design fairy umbrella base frosted white candlepot jardin silver bag charm daisy pink box medium sewing victorian bead cluster drop earrings green drawing magic purdey slate metal painted sea shell windchime bon glass jar twist ladders snakes vintage blues bright ribbons backpack dolly girl mini baby gift set spaceboy cosy egg knitted pink cherry cover crochet food dinner dolly girl tray tv candleholder glass small zinc art century mid modern wall basket hanging heart 36 colour london love pencils set coat gumball rack luggage tag tropical candle frog butterflies of pink string decoration egg hanging ivory 60 cake cases fairy teatime bag jumbo paisley scandinavian art blossom canvas cherry picture birthday card spaceboy decoration metal rabbit wobbly gnome silver standing 12 basket chicks hen in pink 12 chalk retro set sticks white assorted box diamante in ring banner birthday tape lights of santa set folding metre ruler vintage candleholder glass pink daisy decoration folkart heart bowl finger glass ridged flowers handbag pink yellow beware cat metal of sign the bead glass hoop montana necklace 50 box crackers mini of box empire tissue box gingham red rose set storage fuschia lipstick pen black glass necklace pearl shell assorted carnival cones party dinosaur drawing magic slate black enchanted forest placemat cake hanging large stand strawbery comb enamel glass hair pink candle scented strawbry votive earrings pearl rosebud white garland light owls wooden campagne chest drawer ma board chopping leaf vintage dairy maid teapot traditional coffee cup pink polkadot saucer in paisley plasters tin vintage glass holder light vintage home of set sweet trays and cake cream red tier tin london love wrap cupcake lace paper set coconut kukui necklace red seed bling key letter ring art show village wall box cutlery lunch skull with crystal earrings enamel vintage home mug sweet flock frame heart love photo red clip hanging ladder photo rope container of retrospot round set bag nurse soft toy and beads char leaves phone purple antique earrings flower green olive mirror regency shutters with lights mini mushrooms woodland ceramic double hook parlour black drop earrings edwardian jet bead pink scarf vintage beaker red spot vintage bird garden wrap carriage day next bell decoration heart hanging lantern medina small cupcake hook metal sign single check hangers padded pair pink doormat puppies welcome chocolate folding polkadot umbrella dolly girl mini rucksack garden hanger hook magic chart height stickers woodland black necklace orbit silver chocolate metal sign this way hanging heart holder light white card greeting overcrowded pool babushka bottle hot large water christmas holder light tree 70 alphabet art wall days notebook paris vintage bottle grey heart hot water baking choc easter egg mould white bling key letter ring asstd butterfly chime col crystal draw fairy flower liners summer airline lounge metal sign chateau french fruitbowl small hearts lantern paper set table chick craft easter ivy with wreath pudding red spoon glass holder light ridged ball drawer glass knob vintage crystal drop earrings purple butterfly glitter hanging string bunting party heart ivory pearlised small frame hill landmark notting clip cup elephant suction design doorstop football blue brown cubic flock mug on candy egg hare spot warmer card leaf travel vintage wallet lantern paper point snow star gumball magazine rack bead combo necklace old rose frame record single size bonne holder jam jar large light and feltcraft hairband pink purple bird bunny painted with wooden black coal feather pen copper flower green necklace olive box harmonica in red chrysanthemum sketchbook cases mini red retrospot blue reel tinsel vintage leaf storage tin vintage garland honeycomb paper tropical cover cushion floral french book ducks easter eggs picture art garden haven wall boudoir holder light pink christmas magic pink small tree animal farm felt hen bottle hot love water bird black design garden mug cake candle lavender scent black crystal drop earrings bouquet fairy flower incense balloons black of set skull christmas craft friends little 16 blue cutlery of set sky vintage 36 black flower garland glass neckl bracelet las purple round vegas 3d garland hearts honeycomb paper earrings flower hoop silver with comb daisies hair and bili necklace nut wood doily kit sewing travel vintage coffee guard mug queens flytrap grow in or sunflower tin 36 doilies flower of paisley set cupcake hook metal sign single hanging heart holder jar light airline bag jet set vintage white assorted circular mobile cafe hanging ivory lamp blue box fabric oval victorian box campagne cutlery ma mirror pocket woodland butterfly denim patch pink purse design flannel kittens 12 pencils tall tube woodland psychedelic thermometer wall blue milk pan polkadot bag cotton design lolita tote bank piggy retrospot art horse pony wall bottle clear hanging mini holiday purse vip box crackers mini of vintage 25w blue cube silicon circus jigsaw mini parade beads charm hand phone pink pencil round sharpener teatime diamante green necklace breakfast childs circus parade set christmas painted tree zinc cluster earrings glass ruby crystal diamante expandable ring 10 17099 cards robin set snowy babushka notebook red small drop earrings flower silver with cottage garden number tile flower garland necklace red english flower hanging rose scented coat fashion paris rack red christmas green horse rocking amethyst necklace purple tassel bin biscuit blue enamel rim cover cushion garden rose woven glass jar songbird storage and black bowl cat white amethyst necklace pale pink stone candles celebration girls of set bus coffee london mug apron microwave ping black measure mini tape assorted bells decorations easter blue dragonfly helicopter charger heart lattice small zinc fairy flower its toast 20 napkins paper set strawberry candle pink plant pot acrylic blue drawer edwardian knob flowr necklace pink shell silver in plasters skulls tin birthday cake card happy teddy cracked doorknob glaze green nat necklace pendant shell silver looking mirror silver book bunny easter eggs picture 16 cutlery of pistachio set vintage baking chocolate cupcake mould antique hook ivory rose triple black cadet space cake chopsticks of set bowl design dolly mix orange small stickers sweeties childrens cutlery pink polkadot cartoon pencil sharpeners cover cushion jack pink union cake hanging mini stand strawbery bunny decoration easter hanging clips dolly hair pink heart ivory small trellis herb marker rosemary apples board chopping red assorted gebra magazine rack am bottle hot poorly so water design flower orange plate yellow clip folkart on stars decoration gold heart reindeer bracelet murano pink twist cottage garden number tile boxed candle gardenia morris wick basket egg wire design doll monkey stripes doiley vintage wrap font number tile vintage birthday fancy fonts wrap childrens cutlery red retrospot led light night red toadstool dinosaurs set writing bag bead coasters gauze gold set design fob garage key beaker dolly girl jewelled mirror silver tray trinket decoration hanging hen nest on chicks craft easter fauna flora reel ribbon 12 crayons of pack traditional bead blue cluster drop earrings heart ivory large wicker heart ivory organiser small wall cast fork garden hook iron gingham red snack tray decoration five hanging heart cats doormat smiley black doormat flock blue bowl print teatime brown colouring pencils tube gnome gold standing doormat hearts asstd fragrance heavens oils scent legs long mousey soft toy assorted cat colour metal abstract circles sketchbook cube photo drawing frog leap magic slate baking chocolate heart mould white charlie door lola my room sign 20 fruit napkins paper salad set board cottage design memo 60cm feather goose pink tree cosy egg felt ladybird fan sandalwood coffee design mug paisley pink and art ball dog wall art bicycle saftey wall pink roll spots swiss towel ass circle col mobile blue box craft felt pink trinket and black bowl dog white candle ceramic holder pink yellow candlepot silver small trellis candy cones decoration party cake glass pink small stand candle incense origami set vanilla hook la palmiera tile block letters peace wooden cutlery piece pink polkadot set candy egg rabbit spot warmer balloon girl invites party banquet birthday card amethyst brooch colour lily bag cosmetic embroidery green pink doormat english rose blue folkart russian wrap mod retro tray bag design dolly girl jumbo country of ribbons set style advent box calendar wooden birthday card empire horse kit pink puppet sock bathroom design heart love set pinks ribbons romantic crochet keyring rabbit white bird cage enchanted plant box chocolate ribbons cabinet doors glass rustic wooden antique beads book mark silver with bling key letter ring blue crystal drop midnight necklace burgundy candles dinner wine daisies garland honeycomb bird table tuscan villa frame of picture set stickers biscuits charlie lola tins baroque black necklace new small hanging natural slate tile blue coat fashion paris rack assorted ball frutti keyring tutti holder light star zinc blue crackle drawer glaze knob bird dovecote feeder tuscan villa artificial flower lavender sprig decorations easter four rabbit bag butterflies charm summer design funky mini tapes calendar cut design paper aid blue first kit travel art spaceboy wall baking design set spaceboy chalkboard large natural slate cover passport tropical bird feather light of pink set cover cushion green peony card paisley park decorative parasol sunflower 00 10 dotcomgiftshop gift voucher metal no sign singing fishing gnome gold frame heart photo pink shape bar fuschia retro stool paper party tea wrapping amethyst bead bracelet chunky str mug office polkadot warmer candle goblet holder mirror mosaic carpet daisy wrap blue bowl polkadot pudding covent frame garden landmark box shine shoe bowl design large red tortilla calm cards carry keep on playing card pretty thank you pouffe triangular vintage baroque butterfly crystal earrings fabric gold mirror art elvis icon placemat pop childrens mug spaceboy decoration heart pearls with assorted clip photo shapes silver airline bag champion vintage world blue bottle dark dressing wine chick decoration garden magic pink baby boom ribbons milk pan pink polkadot card circus parade assorted frutti mirror tutti babushka design hand warmer bunting paisley paper vintage boombox classic ipod charms instrument napkin of set box oyster trinket 10 17087 mini santa set snowman baking chocolate cupcakes mould 20 dolly pegs retrospot manual amethyst diamante expandable ring and beads bracelet glass painted to art loves secret wall boxes christmas pack panettone butterfly lights set turquoise blue green necklace pendant shell blue bottle charlie hot lola water gingham glove heart oven red donkey game tail christmas dec folkart heart zinc bowl marshmallows pink small 20 chest drawers natural wood beach metal red spade bracelet orbit silver cottage garden number tile hanger home peg sweet block letters welcome wooden cards snap vintage chateau french large platter acrylic bangle faceted purple big bowl design flower pink yellow art for stop tea wall bottle bull clock dog top wall butterfiles garland light pink badges dogs set and friends suki wrap bathroom playhouse poppy and of pepper salt set toadstools birdie craft little paper edwardian parasol pink bag cabin retrospot vintage incense sage white bunting christmas vintage blue book paisley pocket decoration metal rabbit wobbly bead pink shade vintage heart place setting white flower garld glass neckl36 turquois chicken decoration hanging metal charlotte doll feltcraft princess box candles of pebble candleholder flock glass pink miror rococo wall bake cake jigsaw mini english level rose spirit backpack mini woodland herb of set sketchbook tins box coffee decorative vintage calendar cockerel sign up wake baroque box jewellery new decoration glitter pear snow tree funky monkey mug 72 cake cases fairy sweetheart doorstop duck pink spotty bottle chick grey hot water heart ivory necklace shell 10 17074 cards david madonna set cakes fairy pink wrap en fridge la magnets rose vie biscuit red tin vintage bunny green metal swinging print shells vintage hanging heart holder light zinc berries cover cushion woven apples bag gift psychedelic 50cm clips metal string with green jam jar lid with ball blue ceramic large provencal bead chunky glass necklace purple clam large shell collage cups paper set egg flower hanging large spring box candle in jewelled rose set baths hot metal sign leaf magnetic notepad vintage 12 botanical lights of rose set antique hook ivory miniature rose christmas doormat merry red pink plate polkadot magnets of pack swallows cake lace stand tier two white cake stand sweetheart tier dove filigree heart large embroidered ivory quilt basket chicks hen in pink diamante mirror pink rectangle wall bracelet charm chunky glass pink bird design garden mug white red retrospot small windmill heart hook pink single wire alphabet bag design lunch camphor mushroom portobello wood butterfly clips hair pair bling key letter ring bag drawstring du rose sud star wicker bag paisley picnic pink vintage plastic polka retro tray 12 peg place red rose settings frame picture portrait triple wood blue door french metal sign bag bead bertie charm glass purple floral monster pink deco jewellery small stand frame medium parlour picture crackle drawer glaze green knob holly lantern paper point star blue candles dinner sky amber bead fine necklace tassel bauble christmas reel ribbon sock enamel jug red trim vintage dinosaurs invites party bracelet pearl pink rosebud bag gift large red spot garland honeycomb strawberry chicken heart metal yellow easter flowers pink rabbit alarm bakelike clock red bobbles butterfly handbag pink decoration dove mirrored wall 10 17211 cards dog scottie set black edwardian parasol doc metal old russel sign and birthday card cowboys indians amethyst drop earrings leaf silver boys bucket seaside tin vintage carousel wrap bells jingle vintage wreath card skulls travel wallet flower long necklace pastel silver candle lilac votive christmas merry metal wreath fairy holder soap ceramic jar small storage top easter keepsake tin bathroom beach scales tropical alarm bakelike clock pink 16 cutlery design pantry pc set drawer office six tidy breakfast english full plate decoration hanging hen nest on boxes of4 round set snack woodland pinks ribbons shimmering chambre hook and ball card dog decoration heart painted zinc blue jam jar lid with blue luggage polkadot tag brooch colour lily silver white block joy letters wooden afghan pair slipper sock bag party set skulls sticker chateau french hanger hook metal calm card keep travel wallet bracelet purple sweetheart 10 17093 cards poinsettia set dragonfly helicopter red 10 dolly led lights of set baking chocolate heart milk mould bracelet crystal glass turquoise pink polkadot tidy toy regency roses teapot boxed candle gardenia morris wick base candles for metal 50 biscuit christmas tin box candle chocolate morris wick decoration painted star zinc bowl design dolly mix orange small childrens cooking set toy utensil black crystal earrings vintage blue cover cushion gingham rose box red retrospot tissue cake cover cushion fairy pink all cushions match pads to adult apple apron delight christmas retrospot star wood antique dressing glass pot table billboard mug tea vintage box circus lunch parade choice kings mug helicopter shark yellow gift stars tape bain de hook salle heart of small white wicker 12 doiley lights of set vintage dovecote tuscan villa birthday happy set stamp wood basket brown classic french style english of placemats rose set box ceramic money strawberry pinks ribbons romantic beaded crystal heart pink small cutlery green piece polkadot set purse red retrospot 12 basket box chick egg in of party ribbons set charger heart large lattice zinc bag doctor soft toy and frame lace large linen photo light portable star table doughnut pink pot trinket 3d balls garland multicolour bag design lunch spaceboy assorted cakes fridge magnets clip line photo fringe hammock stripe union with down push rubber teatime 12 colour london love pencils set geisha girl green classic glass jar sweet 12 colour pencils set spaceboy box flower keepsake pink vintage cover cushion frost woven glass heart holder light of set skull stickers wall eucalyptus pinecone wreath aid box design first money potting shed twine bauble hanging holder large light goldie looking mirror and birds frame tree white bead black bracelet chunky strap board chopping garden vegetable bath sponge strawberry ceramic drawer knob red stripe glass heart pot small trinket bathroom bottle decorative flore blue coffee container enamel rim ducks flying of pink set big design flower mug pink yellow cornice mirror hat polkadot rain christmas decoration star white cabinet dolly drawers candle plant pot yellow cinammon lights of set folding shoe tidy bunting spotty beaded blue crystal heart small boy dollcraft jean paul bag charm glass tassle turquoise art bicycle saftey wall alpine hand hi tec warmer 3d cat of sheet stickers a6 english notebook rose size art one only person wall a7 english notebook rose size charlie doorsign lola personal red diamante necklace black candle plate sil squ hearts jazz notebook purse coat fashion paris rack yellow postage felt heart large red woodland lantern moon paper point star kids mac pink rain egg frying pan pink design hand owl warmer 10 16965 card set snowman candle digitalis in scented tin kitchen mint scales container cream dog food vintage black kitchen scales easter garland happy wooden grow potting set shed sow card greeting swallows a4 flowers red tidy wall 20 dolly pack pegs animal bunny farm felt white amber glass necklace pearl shell bell bicycle chrome classic fuschia necklace orange stones wht chick cup egg pink warmer acrylic dispenser tape transparent bag cabin paisley vintage candles opulent set velvet book chrysanthemum pocket assorted bracelet frutti tutti chair kashmiri painted pink book box gingham recipe black cats plate white with curtain pink pole string with box candle morris rose wick fan honeycomb paper pink baroque black clock wall christmas stocking vintage necklace orbit silver antique blue earrings flower mid bag floral garden in set tools draw fairy flower liners summer bowl green regency sugar ball coffee design dog mug holder light mirror mosaic round bowl chunky glass roman small boxes christmas pack pannetone bracelet crystal red tiny chalkboard kitchen organiser bracelet freshwater ivory pearl and art play rest wall work gift of set three vintage wraps clock flower purple sucker with ceramic drawer knob red pen toothpaste tube frame record silver vinyl necklace pendant shell triple turq 36 pencils red retrospot tube boxed candles morris rose bag london love tote balls christmas flock pink blues bright ribbons address book hearts jazz bowl enamel red trim vintage ade box design first money acrylic blue hanging jewel 10 17216 cards of order out set adjust bad debt blue door french metal sign and cake cream green tier tin hanging heart holder memo string aid first pharmacie tin birthday card fancy font 72 doilies green of paper set bear crochet keyring lilac red antique frame white wooden album baroque black new photo box small storage woodland 3d cards dog picture playing fabric mirror silver amber bead bracelet chunky strap 30cmx30cm filler pad polyester apples hanging patchwork quilted bird feeder tuscan villa mod retro tray london love mini rucksack bling key letter ring doormat london love cover cushion paisley pink blue garden giant thermometer christmas ribbons traditional engraved heart vintage candleholder glass large zinc empire gift wrap heart miseltoe wreath blue felt heart large woodland 40 cones in incense tin vanilla felt heart red small woodland carriage french lantern christmas decoration swallow wooden 75 cases four green petit 60 cake cases of pack paisley pink childrens circus cup egg parade bag party retrospot set sticker acrylic drawer edwardian knob red 16 black cutlery of set vintage leaves list magnetic reto shopping jigsaw mini spaceboy coaster etched glass frog jigsaw leap mini drop earrings orbit silver bag brown paisely pink pocket spot bauble christmas silver stand tree ivory letter rack sweetheart wire butterfly decoration garden magic assorted col crystal earrings stud cubic mug pink polkadot green hair heart pair slides bathroom floral set bag bead evening pink vintage coloured glass holder light star blue bowl polkadot birthday cake candle fairy set crystal hldr light pearl pumpkin 6pc disposable plate set wood cottage garden number tile crystal earrings vintage white candle flock gold ivory pillar bea blue lampshade organdy round four hook lovebirds white 16 cutlery design pantry piece set amethyst bead drop earrings antique gold laurel star du glove oven rose sud basket breakfast tea time de eau frame heart nile photo shape bunny decoration sitting candle clear glass pink plate bead black fine necklace tassel black diamante expandable ring antoinette box marie silver trinket black blue polkadot umbrella childrens pink polkadot umbrella flower glitter holder silver votive bowl dog pink bells garland vintage and beads bracelet glass ol painted alarm bakelike clock ivory heart organiser small wall zinc bird design garden mug white hearts holder plant pot white wire bag funky gift medium monkey botanical clock gardens wall cornice family frame photo banquet birthday gift wrap cup heart love red shape black glass wine band butterfly hair candle rococo silver stick 10 colour pen spaceboy cake ceramic design mug spotted babushka large notebook yellow blue butterfl patch pink purse rose bag charlotte design suki folding meter ruler vintage font number tile vintage assorted cup hook monkey suction 12 chalk colour kids set sticks brooch crystal diamante star bird clear holder light love bag cotton modern shopping vintage art mirrored snowflakes wall butterfly lights purple set magnets nativity of set hanging heart holder light pink cordial jug blossom blue clip hair light night rabbit assorted box frutti heart tutti 10 17100 cards set snowdrops snowy economy holiday purse chick egg paper set vintage card holder of stars string box motoring tissue black cluster diamond necklace dish scallop shell soap garden giant ivory thermometer cones incense origami vanilla bag picnic strawberry candle cupid glass in scented danish rose trays trinket and card cat tree in incense lavender tin advent calendar red wooden hanging hearts natural quilted jam jar lid pink with butterfly cover cushion pink 20light beaded garland string white cake lovebird pink plate egg frying ivory pan french jam jar storage style enamel plate red trim vintage daisy journal bunny decoration easter sitting glass hanging holder light ridge aqua bag bead bertie charm glass edwardian natural parasol amber glass necklace strand 25x24x12cm bag gift king the christmas fairy feltcraft 36 doilies of pantry paper set angel decoration dress on stars beaded crystal green heart on stick egg man pan shape star wise ass craft des phone sponge sticker jam large pot rustic strawberry kitchen red scales multicolour plate polkadot check hammock sunset bowl candle plate silver small claire embroidered reel ribbon black clock diner wall green plate regency tea bag doily jumbo vintage artiifcial flower foxglove purple cup egg hen henrietta pink container gerden herb metal fuschia necklace orange stones blue cabinet kitchen vintage mug pink polkadot art bill buffalo wall bucket cream enamel fire amethyst glass necklace pearl shell bottles rack soap white with comb enamel green hair jade candle lace plate white folding hot mirror pink bowl chocolates pink small 10 16960 cards deck halls set the art down pop push rubber blue cutlery piece polkadot set cosy des tea time 11 ceramic pc retrospot set tea box pill retro revolutionary beaded heart large pearl white purse ribbons 12 london of pack tissues 36 colouring doiley pencils set bead cannabis curtain leaf design leaf vintage wrap bag feltcraft floral pink shoulder 36 colour dolly girl pencils set cornice frame photo triple bowl candle in ivory mini rose folding polkadot red umbrella white enamel jug pantry botanical gift lily wrap 10 16963 card christmas set stamps box england gift mug new bag doiley jumbo patterns babushka boxes nesting set glove oven tea time cupcake hook metal sign single box heart metal recipe with box large sewing victorian blue earrings midnight vintage card christmas robin airline bag brown jet set vintage bottle glass milk stopper with doorstop heart retrospot 75 cases four green petit acrylic jewel pink snowflake bead earrings glass green hoop coaster elvis icon lives and cup red retrospot saucer tea bird black candles light set coffee design mug pears bamboo lampshade ribs white frame parlour small confetti in multicolour tube led light night sunjar doormat leaf vintage drop earrings filigree jade art black bracelet crystal dec vint decorative heart large wicker bathroom ducks rubber scales grocery magnets mini of set 12 baking cake cases fairy of set jampot rustic small strawberry candles dinner flock ivory silver 12 bunnies of pack sticky doiley red wrap garden path sketchbook acrylic drawer edwardian green knob blue compact heart mirror christmas retrospot tree wood bunting congratulations hanging heart home sweet jug milk red retrospot small necklace pendant rose shell triple cutlery fondant picnic set blue light triobase ubo cand incense origami sandlewood set birthday card elephant 125g bag marbles swirly and bottle hot sympathy tea water bill buffalo tin treasure basket classic french natural style blue cosy stripe tea candles homemade jam scented bracelet gemstone purple garden rounders set wooden baroque black boxes new classical lamp rose table heart luggage red tag hanging heart holder light red hanging ivory lamp pantry citrus felt flowers garland assorted christmas metal tags book box gymkhanna treasure cup egg ingrid milkmaid 70 plastic retro tray animals bag jumbo woodland home metal sign sweet art forest magic the wall confusing me metal re sign you 10 17081 cards hats set stockings airline bag jet red set vintage candle columbian cube candle opium scented votive cups green paper set spring hanger home peg sweeet candle columbian rectangle flowers stickers cat erasers sleeping jewelled mirror pink tray trinket all basket carry sweetheart garland noel painted zinc design petals vintage wrap 12 colour dolly girl pencils set acapulco green mat recycled 75 cake cases fairy green home stool sweet 10 16956 cards christmas hohoho set boxes gift of pack sweetie donkey game tail vintage decoration hanging metal rabbit black drop earrings orbit silver holder light small stars zinc charm clear crystal phone star christmas hanging snowflake christmas folkart hold light tree 12 colour doiley pencils set bottle dots heart hot pink water cream heart ice pack patches ivory necklace pendant shell triple antique cabinet drawer white wood christmas craft heart stocking mini paint set vintage bottle hot red scarf water white bunnies jigsaw mini bon glass jar doily red snack tray vintage baking chocolate milk mould rose bag charm glass purple tassle font number tile vintage leaf storage tin vintage bag charlotte red retrospot candle medium retrospot black bracelet fire glass polished 60cm feather goose green tree clock purple round sucker with black bracelet glass silver white cutlery kids spaceboy manual ashtray ball brown retro mug pottering hanger hook magic toadstool cloche glass large cakestand regency tier beauty girl notebook vintage and cream flowers pink pony big doughnut fridge magnets knack knick leaves of set tins christmas doormat village balloons rocket enchanted forest placemat red blue doormat earth on peace design empire rosette heart hook ivory single wire cards london love playing diamond napkin of rings set blank card champagne tray garden giant thermometer yellow bracelet green murano twist circus in parade plasters tin all antique candlestick glass bag candy posy cd flowers red tidy wall doormat england new birthday blue bunting happy colour glass grey smokey lantern paper set stars table christmas glitter tree de eau holder jewelled light nile joy large letters wood cake lovebird plate white bath block building word childrens cutlery spaceboy easter flowers pink rabbit blue frying pan polkadot chrysanthemum journal and birds fruit plaque tree wall cards doily playing vintage handbag pink strawberry box diamante gift in pen silver cockerel hook tile up wake beach hut mirror comb enamel glass green hair frying pan polkadot red black candle flower plate bunting paper retrospot egg frying mint pan box soft tool toy bear blue crochet keyring red and gin mug tonic decoration gingham heart cream flannel pink slice spot 10 17070 badges cards set xmas holder light star willie winkie art puddings wall rope skipping traditional wooden beaded heart on pearl stick white combo crystals mini necklace pink blossom cherry decorative flask biscuits box design money cabinet drawer home sweet baroque black butterfly earrings incense love masala potion box display in mug robot 10 17220 cards icons set triangle blue lampshade voile cluster diamond montana necklace blossom cherry luggage tag art london love wall regency strainer tea alarm bakelike clock green lantern paper point star studded enamel flower hair purple tie big blue design flower green mug 16 cutlery ivory of set vintage 50 envelope images romantic and bag charlie charlotte lola cottage garden number tile kitchen pantry thermometer day magnets of pancake set calendar design in season ceramic design plate strawberry red retrospot tape ceramic drawer knob red spot white bear silver teddy chocolate roll spots swiss towel green mint rose towel buddha head medium pink ball honeycomb paper pink can grow in own plant your black champagne glass hanging heart lantern metal blue door french metal sign best set stamp wishes wood 10 17259 cards christmas holly set bag jumbo owls barrier birthday cordon party tape 10 16961 bauble cards filigree set poncho rain breakfast pink tray white folding ivory mirror 12 of pack tissues woodland paper parasol purple box green metal secret top doughnut gloss lip baths holder hot soap paper plates posies set canvas own paint set your gold necklace orbit pendant amber bag bead bertie charm glass beads black drop earrings long amethyst flower garld glass neckl36 christmas ribbons traditional baking chocolate cup mould toffee crochet dog keyring 3d dog of sheet stickers baby dolly gift girl set fanny rest sign stopmetal birthday card cowboy art chrysanthemums flower pink letters peace small wood hanging mini of portraits set and fun heads sporting tails in notebooks of parcel set pantry pin rolling art mirrored skulls wall cups paper posies set art mirrored poppies wall bathroom footprints in sand scales brocade purse ring card motorbike santa amethyst gold necklace pink billboard mug vintage green heart mistletoe wreath basket bunny cream easter egg 60cm christmas pink tree white butterfly gauze lampshade pink camphor large tall toadstool wood botanical candles wildflower card greeting sisters two booze card greeting women pink rose soft towel cutlery green piece polkadot set diet gin metal sign tonic 10 17067 cards children set world biscuits blue bowl light small cream hanging heart holder light apples coffee design mug angel buttons decoration christmas decoration pink stocking necklace pearl rosebud white jug melamine pink ribbed white clock red refectory floral folk set stationery cake garden magic stand tier chocolate cream flannel slice spot cinammon lights of set feather light pen pink blue box design recipe sketchbook christmas decoration heart wooden art dolly girl wall necklace orbit pendant silver apple apron delight blue fabric mirror rose candle citronella flowerpot board chopping pantry box candle in scented set vanilla ceramic hook parlour wall 16 cutlery of red set vintage 16x16cm candle flower incense rose london love set tea towels blue door french metal sign floral modern set stationery calm gardeners keep kneeling pad ass colour glowing tiaras matches retrospot small tube heart ivory small wicker 50 christmas wrap bead black drop earrings confetti heart in tube white block letters noel wooden doormat red retrospot candles christmas decoupage set polkadots reel ribbon folkart green russian wrap dollcraft girl nicole hearts multi stickers chinese large scissor style boxed candles choc morris white diva funky pen bottle hot jack union water 20 napkins paper red retrospot set clock diner ivory wall bling key letter ring chocolate heart lights love beaten metal mirror moroccan bag paisley rose vintage weekend bowls egg mixing set shape tone blossom cabinet cherry square candle glass holder pink set tall blue french kitchen metal sign babushka notebook purple small four holder light petit silver croquet garden set wooden baby bib carousel ponies coaster flowers tile candle christmas decoupage cards jack jubilee playing union double glove oven red retrospot cup egg heidi milkmaid butter dish etched glass jardin lantern lovebird white box dominoes of wooden fruits kitchen print vintage cottage country doorstop green ant boudicca bracelet copper red box candle jewel ocean scent set 20 english napkins pack paper rose drawer nine office tidy chick decoration easter natural 10 16957 bells cards jingle set colour holder light multi silver blue notebook paisley flames lenses pink sunglasses candy cones decoration party tree 60 blue maxwell page photo tone blue hello holder sailor soap choice kings paperweight box lads only tissue bird candle love pink cover cushion floral french blue door french metal sign bag charm glass pink tassle cardholder gingham star revolver ruler wooden measure mini silver tape candle ivory rnd sculpted box georgian trinket acrylic jewel pink snowflake led lights tea feather hot pen pink card dolly girl candle dinner flock pink silver baking piece retrospot set candy hilda rabbit spot chocolate hand over sign the art blue climbing flower hydranga bird design hand warmer hanger hook pantry pin rolling livingroom playhouse poppy drink food sponge stickers bag jumbo strawberry blue clock diner wall daisy plastic retro tray fan honeycomb multicolour bag charm daisies summer cup red retrospot and black necklace orbit silver amazon fee bag doily lunch vintage acrylic drawer edwardian knob pink jampot large rustic strawberry and apple of pears set tea towels blue candle ceramic holder purple apothecary jar measuring small english flower rose scented small alphabet poster wrap cover cushion french paisley antique candle fluted holder bells decoration jingle tree holder light star zinc lantern paper point sequin star 12 easter mini rabbit bling key letter ring baroque tumbler christmas decoration feather pink cake cases cup ivory paper bird cat coffee design mug 24 box cocktail of parasols baroque blue candle candlestick new clock diner mint green plate polkadot cover frame record silver circle curtain pink purple bracelet glass murano red style beaded blue crystal heart on stick newspaper stand apron childrens scotties check hammock sunset cottage garden number tile daisy lampshade paper red herb marker parsley easter egg hunt post start yellow aid emergency first tin planter vintage zinc assorted cake colour fairy flannel bowl chocolates pink small doormat topiary blossom cabinet cherry square ceramic jar large storage top carousel of placemats set blue circles design teddy back crochet purse rose suede with hanging holders jam jar light decoration easter rabbit decorative heart medium wicker chick cream decoration hanging chicks easter garden in tin and blue feltcraft hairband red bird black candle love butterfly egg hanging ivory kitchen organiser wire apples card psychedelic large letters love wood blue candle for on stones wire cake of set sketchbook tins bird magnets mirror set bowl cat pink chandelier flowers holder light 3d asstd design paper stickers decoration silver stars table letter sweetheart tray wire zinc biscuits blue bowl light small lights of set toadstools and green regency saucer teacup jewelled mirror oval pink bag circular in rubbers swirly box candle in jewelled rose set bottles coloured hanging mini beaded chandelier holder light lantern metal white glove oven tea time bag cosmetics du rose sud bling key letter ring bag jumbo pink polkadot blue box harmonica in cover cushion jack union vintage lolly makers rocket spaceboy blue cup polkadot chain kit paper retrospot cups fruit paper salad set orange table tray tv garden giant green thermometer and beads charm green leaves phone cream enamel flower jug grow herbs of own set your enamel french lid pot cocktail of pack parasol straws flowers heart hook small bling key letter ring bag jack shopping union vintage boudoir box square tissue chick decoration easter pink white candle cinnamon scented votive box chain key king pill retro the flower incense origami sandlewood camo of piece set stationery skulls tattoos transfer water children for wheelbarrow owl space blue cover cream cushion stripe gardeners kneeling pad blue compact mirror round a7 cakes fairy notebook size lights orange scented set ceramic christmas of set trees 12 leaf of pack tissues vintage bathroom bottle decorative rose christmas musical tree zinc bitty chain green light doily red vintage wrap jug large milk retrospot card retrospot travel wallet dolly drawing girl magic slate boudicca bracelet large purple cake red retrospot stand font no number tile vintage england new tumbler la palmiera thermometer wall articulated clock pink round suck bells garland glitter star with bell hanging heart with bag big flower pink retro apples red wrap fern green notebook cards gymkhana mini playing bunny metal pink swinging luggage of queen skies tag dolly garland honeycomb dotcom postage baroque fly necklace new red balloon hook pantry whisk embroidered reel ribbon sally a4 blue office tidy wall and regency roses saucer teacup calculator chocolate 72 cake cases of pack retrospot amber bracelet glass silver reds ribbons scandinavian crystal diamante grip hair pack book curious images scrap set bird boxes pack pannetone in incense tin vanilla boxed candle gardenia morris wick blue chenille cover cushion shaggy beaten dish large metal moroccan album family frame picture white 12 cards envelopes message with 60 basket picnic pieces wicker mobile padded pink bag baroque black jumbo white metal out sign way birthday calm keep wrap heart lace mirror rustic with bowl chateau french fruit large hook pantry strainer tea 10 christmas lights reindeer 12 blue cards folkart pack art for stop tea wall drawer rustic seventeen sideboard bells heart jingle vintage metal postcard spring victorian cream rect steel sweetheart table botanical candles of rose set 12 of pack red retrospot tissues 250g bag marbles swirly blue felt flower hanging heart with heart large of white wicker 10 babushka lights of string leaf round storage tin vintage hanging heart holder light white apron childrens scotties curtain elvis wallhanging garden ladder plant white wood card dolly kid vintage frangipani hairclip purple frame fruit green juicy photo 45cm diamond las necklace vegas jam jars making set with bucket girls seaside tin vintage baroque crystal fly necklace new english rose wrap cream cup egg hen henrietta art dog licence wall 10 16954 bauble cards christmas set colour curtain pom beach drawers hut shelf cast garden hook iron trowel card cream heart holder cracked glaze ivory necklace lightbulb moon painted star box caravan square tissue frame mini portrait square beads cover food set sizes with cafe french jar storage style bag charm glass green tassle bag jumbo red retrospot ass col gecko sand small weight bag blue cars lunch bill buffalo cards mini playing blue easter egg hunt post start of placemats polkadot set blue fly swat book recipe stand sweetheart bank cake ceramic cherry money bead bracelet raspberr rose vintage antique pot swirlglass tall trinket felt large toadstool plate regency roses tea and art bird cat wall black cover frame record apron childrens design spaceboy cake design of pantry set tins blue candles dinner sky candlestick cut glass round small chandelier roccoco silver sweetheart tidy wall wire book box island treasure cream heart mistletoe wreath backpack flower for funky teatime card gordon greeting sticky blue cup egg polkadot 00 40 dotcomgiftshop gift voucher easter felt garland pink rabbit coaster danish deluxe rose candle flock pillar pink silver 50 christmas cracker giant bracelet fire glass polished red alphabet blocks box of vintage bead earrings glass hoop montana 10 17086 cards magical set tree 72 cake cases christmas vintage billboard drink me mug vintage book chicks easter eggs picture blue helicopter shark frame photo silver enamel flower green hair tie box candle morris rose wick bag jumbo leaf vintage mop necklace orbit silver easter ladder metal rabbit apron children dolly girl blue candle ceramic green holder fly pink swat cake chocolate large spots towel chunky flowe necklace pastel silver baby circus gift parade set box choice design kings money clock diner red wall blue copper flower midnight necklac 12 circus of pack parade tissues bottle charlie hot lola red water 36 blue flower garland glass neckl caddy coffee glass vintage frame medium parlour cake carrier heart sweet dinner empire jack tray tv union gold necklace orbit camembert of round set tins bag charm green metal with doormat friendship folding mirror red doorstop owl felt flowers orange vase bridge frame landmark london cardholder holly metal wreath art flower large pink rose white bird hanging ivory large red wood box design money pocket bowl candle in mini red rose set bone china gold life mug of tree enamel mug pantry mouse pink shirt toy with cosy giant hour matches tube 3d dog of sheet stickers bowl cat illustrated brown cubic flock mug on pink 36 colouring doily pencils set class cover first passport 17262 cards reindeer set sparkly cap design fun shower summer bowl dairy maid pudding font number tile vintage forest magic wrap christmas tablecloth vintage cupcake hook metal sign single bead notebook vintage cracked doorknob glaze pink chain hearts light red bear gold teddy flu man metal sign decoration heart metal zinc cream folding polkadot umbrella bowl candles flower in pink blue dog flower pattern scottie clock kitchen red retro wall compact green mirror square brocante dish soap white cake doormat fairy glass gold holder light scroll 12 candles fork of set box decoupage heart set valentine 24 flower pegs pink tub boudicca bracelet large red and diet gin metal sign tonic 16 blue cutlery of set sky vintage 34x20cm bag blue check handle art flower hydrangea white bling key letter ring 60 cake cases christmas vintage 10 17107 cards men set wise bracelet carnival clock kitchen magnet mum large skull windmill 36 christmas doilies vintage engraved hanging heart metal 70 alphabet art wall cream round steel sweetheart table kitchen print vegetables vintage 16 cutlery of red set vintage cowboys wrap cottage garden number tile design doiley wrap cookie cutter gingerbread man cosy green large shoes slipper art bicycle safety wall cheese dish etched glass jardin home hook sweet aqua col light necklace teal topaz childrens cup dolly girl candle columbian round bag flower for funky picnic bathroom metal sign paisley pattern stickers classic cookie glass jar chicken decoration metal wobbly cabinet embossed french heart style card gingham rose garden hanger hook magic bag jumbo paisley park candle drawer jewelled ocean scent colander cream enamel bell christmas decoration tree with 36 doilies of paper set teatime art climbing cream flower hydranga christmas horse red rocking earrings pearl pink rosebud ant boudicca bracelet copper lime burst crystal flower ring silver red retrospot umbrella bunting coloured lace paper frame large parlour picture box large skulls storage enamel french holder utensil murano necklace pink twist natural necklace seed spotted white 12 chalk doily set vintage font number tile vintage clock pink stitched wall cover vippassport greens lush ribbons brown cracked glaze necklace 50 bag christmas gift large bag peg red retrospot black diamante hairslide large black bracelet gemstone bonheur hanging heart blue childrens garden gloves coat gumball monochrome rack green rose washbag crate eggs in own paint your album blue pastel photo 50 bag christmas jumbo candle christmas silver spike table and animals art nature wall holder home letter sweet incense masala tranquility kit knitting marshmallow pink scarf paisley set stationery vintage antique laurel silver star 3d cards dog picture playing art canvas freestyle picture box design pantry recipe yellow black cake glass small stand alphabet books bundle exercise of aperitif glass gold blue hook tile bead col fuschia necklace teal foot home stool sweet apple bag design peg burner butterfly oil porcelain cakestand loveheart tier 10 17218 cards graphic set xmas 00 50 dotcomgiftshop gift voucher backpack mini spaceboy birthday card happy stripey teddy 10 17080 baubles cards hanging set gloves red retrospot up washing 40 cases four heart petit set shape bag lunch woodland diamante earrings filigree candles celebration football set birthday card farthing penny coaster lovebird of pistachio set hand red retrospot warmer box cutlery dinosaur lunch with boxed candles choc morris white amber drop earrings gold leaf babushka cushion pin red daisy garden marker carry cash jumbo rex shopper letters nursery painted bath glass jar peacock salts frame record silver vinyl bauble hanging holder light small frappucino kit knitting scarf card london love travel wallet butterfly filigree heart white of perfectly pretty ribbons set blue circles design doll monkey cake holder light mini stand clear glass milkshake drawer fairy flower liners box home sign zinc christmas heart musical zinc bling key letter ring bottle heart hot retrospot water egg flower pink rabbit warmer fruit of pack small straws mug potting shed tea design housework kneeling mat kitchen organiser wire zinc chicken cosy egg felt candle columbian rectangle heart ivory large pearlised assorted bird eggs paper set song cake green round tin vintage card petals retro travel wallet decorative parasol pink vintage assorted bird colour ornament blue bowl candles flower in set english garden rose secateurs bomb bottle hot sex water knack knick of poppies set tins bell glass jar large ball mirror office usb doll feltcraft lola princess beach blackboard design hut bag blue jumbo paisley scandinavian blue childs garden trowel heart holder light felt flowers handbag kit yellow blue ceramic drawer knob stripe apples design mitt oven clock stitched wall white botanique cover cushion jardin le candles doily set vintage black clock square table carriage bag jumbo paisley pink vintage chalkboard natural rectangle slate green necklace pendant shell triple mr robot soft toy can small vintage watering zinc beaker green spot vintage blue bracelet murano twist assorted colours fan silk hand jack union warmer cover crochet flower food pink angel decoration lace padded with in incense origami rose tube easter egg green hunt post start bracelet crystal green tiny 12 coloured of pack pencils baby dress gingham mouse red flowers heart hook large brooch colour lily olive blue easter gingham hanging hen candy sheet shop sticker alarm bakelike clock orange 10 fairy lanterns light of set star 12 doily lights of set vintage bowl des licorice pink small basket cream easter egg felt ant boudicca fuschia ring silver cake design fairy umbrella assorted pens spaceball container food heart love set cover cushion stitched white billboard design fonts wrap art horse pony wall erasers party pencil time blue chalice glass small childhood memories paperweight chick hen house standing bag doily jumbo red vintage cannister design leaf vintage chandelier cinderella leaves list magnetic shopping blue french metal sign toilet charms cutlery napkin of set and blue burner ceramic oil white christmas roll vintage wrap card decoupage greeting heart ladle love mini pink 120cm black christmas tree font number tile vintage curtain feathers lilac black bracelet glass murano style beads bracelet pastel resin blue doormat home sweet cover flower food raffia vine amethyst bead glass hoop necklace crochet dog pink skirt toy with boys door hanger keep out 30cm christmas dusty pink tree card london love 5g balm envelope essential in tin apple bath sponge mop necklace pendant shell boxes coney island of oval set animal farm felt sheep apron red retrospot bracelet pink sweetheart 60cm christmas dusty pink tree black cherry lights carousel wrap bowl medina medium metal stamped fire glass gold neckl polished coasters of polkadot set candle lattice pot silver vanilla box ceramic strawberry trinket apothecary bottle glass perfume bag cotton go lets shopping tote blue container enamel rim tea bag paisley rose vintage wash baroque fly necklace new pink dove garland honeycomb paper white ninja pink rabbit ceramic strawberry tray trinket boom box girls speaker 72 doilies of paper set skull assorted madras mini notebook antique frame white wooden card jack travel union wallet lights of set snowmen dove filigree heart small box candle chocolate morris wick hanging holder lace light 10 candles ivory party polkadot set babushka measuring pink tape baby lipstick pen pink candlepot hammered silver small antique bell gold heart jingle coffee retrospot set sugar tea chicken cup egg natural doorstop jack union vintage carousel coasters green of set decorations heart of set wooden and pink regency saucer teacup bell christmas hanging tree with and card fawn greeting mushroom 12 blue of pack paisley tissues base frosted white lights orange scented set blue candle holder spiral wire 12 eggs hand hanging painted bag birthday gift de jardin of provence set tins cheese dutch of round set tins bag girls party 45cm black jet las necklace vegas candle orange votive birdcage decoration holder tealight cacti candles jewellery small stand boxes of round set skulls snack bird card holder large love black edwardian parasol bag lunch pink polkadot copper hanging lampshade purple bag gift large spot 60 cake cases london love of set frame jewelled photo pink blue boot charm crystal phone cupcake hook metal sign single bucket heart love red shape crystals mini necklace pink white cordial glass jug bells christmas glitter tree with botanical candles vanilla cover cushion peony red 12 balloons coloured party frying pan red retrospot hook psychedelic tile jack luggage pink tag union 12 box daisy in pegs wood and bells garland hearts with 75 black cases four petit bottle hot skull water white house metal sign wrecking bags blue party cabinet drawers hall with cannister dog pink flock frame photo pink christmas dec folkart small star hearts holder plant pot zinc artificial cream delphinium flower bells folkart sleigh zinc ashtray boxed glass bird dark decoration house tree design stripes teddy bunting jack union vintage felt small toadstool bowl cake cakes ceramic hanging bee cover food ladybird raffia bag charms leaves metalic alphabet bag charlotte vintage christmas elegant ribbons cushion feltcraft rabbit decoration rustic star dinosaur eight piece set gift images set wrap yuletide and bunnies panda sheet sticker box money toadstool bag shopper strawberry bag cosmetic paisley rose vintage and calm come doormat in keep cabinet dolly drawers 40 cones in incense lavender tin box oval pink shape trinket cats decoration five hanging hearts stickers bag red retrospot shopping doormat flag union boudicca bracelet large pink cloth table tea time magazine rack sweetheart wire cloth table tea time black clock square table black coasters lovebird of set box skulls small storage blue candles dinner flock silver 36 doilies of paper set spaceboy doiley storage tin enamel flower green ring charms crowns napkin of set de eau jewelled nile photoframe box oval shape silver trinket box dolly girl lunch cream letter rack sweetheart cadet red space card flower meadow travel wallet choker demi glass pink white toybox wrap books bundle note of retro chic petit tray clip pegs photo rainbow string 24 clothes pack pegs retrospot assorted enfants fridge les magnets light purple triobase ubo bottle charlie hot lola pink water cover cushion patch pink yellow butterfly enamel hairclip of pair glamorous mirror pocket bird bottle hot house water bear gingham red teddy bank ceramic chest money pirate lantern paper point snow star clock pink square table 10 17089 card nativity perfect set in metal pottering shed sign the blue ceramic drawer knob spot white 36 cake cases foil heart dinner spaceboy tray tv childrens garden gloves pink decorative hanging shelving unit candle retrospot small christmas dec folkart star zinc cake chocolate large spots towel caravan card greeting vintage decoration hen house 42 ivory neckl pearl shell apron childrens retrospot mirror rococo wall white car design doorstop racing comb daisy hair bazaar incense peach childrens cutlery green polkadot coasters of polkadot set cream egg holder sweetheart doiley knack knick of set tins blue felt flower hanging heart baking choc easter egg milk mould christmas garland stars trees white garland hearts paper pink biscuit cutters set traditional candlestick cutglass large round and buttons notebook stripes bracelet murano twist white flower mug orange cactus candle forked baby bib dogs scottie 20 cookie cutters kids of set invites party woodland christmas tree turquoise bowls colourful mixing set art dolly girl wall 12 cards christmas fun of pack frame fridge magnet photo snowstorm design dolly girl tidy toy botanical candles dinner pear and daisy flower hand pink towel globe inflatable political bathroom blue french metal sign classic frame hanging photo basket picnic small wicker blossom book images scrap set cream gloss ice lip pen a7 cakes fairy notebook size deco jewellery large stand chandelier holder ivory light ghost halloween lights of set holder large popcorn brown cracked earrings glaze clock ivory refectory bird decoration red retrospot blue hair heart midnight pair slide 12 doily of pack tissues vintage books bundle exercise of school bag beach small tahiti book images romantic scrap set butterfly folding hot mirror pink birthday card suki bunny flower painted with wooden baby bib dogs scottie cover cushion french paisley regency sugar tongs baroque fly green necklace new 30cm blackchristmas tree campagne cupboard drawer ma bag picnic red retrospot fire glass green neckl polished fun holiday ludo baroquecandlestick candle new pink handle heart holder light silver collage paper plates set 60 cake cases design of pantry set ceramic drawer knob red spot cream design garden ice parasol english hanging heart rose scented art flower hydrangea pink drawing fair go magic slate the to bracelet charm chunky eye tigris choice giant kings matches tube bunny easter flowers garland of bag blue kids polkadot hearts tape wrapping bell decoration heart with wreath holder light star holder home key sweet bag feltcraft floral red shoulder jack memoboard union vintage bottle chocolate hot water charm crystal horse phone sea cake fairy of placemats set bottle lavender toilette necklace pink sweetie acrylic bangle faceted grey babushka large notebook purple crackle drawer glaze ivory knob bag kids pink polkadot bowl childrens dolly girl calendar metal psychedelic sign retrospot tidy wall 36 doilies dolly girl cover cushion home sweet circus drawing magic parade slate black ducks flying of set 12 ivory peg place rose settings cutlery piece red retrospot set doormat house respectable deluxe doily kit sewing vintage album black photo baby bunting red jam making printed set blue paisley scandinavian wrap heart of small wicker butterfly clips glitter doormat fancy font home sweet ceramic drawer ivory knob ass col frog large sand weight blue hanger netting storage blue can elephant watering and cabinet glass medicine wood charms leaves napkin of set blue egg spoon herb marker mint cover passport vip easter flower hens pink daisy plastic retro tray beads black drop earrings long amber crystal drop earrings chunky cracked glaze ivory necklace assorted dinosaur keyrings bunny easter garland hanging antique bell gold heart 70 plastic retro tray baroque butterfly earrings pink brown colouring pencils tube art one only person wall camouflage led torch box candle in jewelled ocean scent bag gold paper print black diamante necklace chocolatecandle grand bracelet freshwater gold pearl hanging heart holder light zinc boy door hanger moody bling key letter ring and frame lace linen photo small butterfly cover cushion pink childrens red retrospot umbrella can hook pistachio single watering deluxe kit sewing botanique cover cushion jardin la candles doiley set vintage black chest pirate treasure bag doily lunch red vintage decoupage set stacking tins candles plant pot set frangipani necklace white bling key letter ring asstd designs gliders war world antique glass place setting blue door french metal no sign and blue feltcraft hairband pink cards mini playing spaceboy butterfly cushion feltcraft alarm clock travel white font number tile vintage aluminium heart stamped bag chocolate gift small stripes 12 of pack paisley park tissues candleholder flock glass light pink cabinet hooks utilty with butter metal more sign frame heart parisienne photo small gold necklace orbit pearl cabinet campagne key ma art lamp mirrored table wall 10 baubles christmas lights vintage beads necklace pastel resin for one polkadot tea danish decorative plate rose bead black earrings glass hoop holder popcorn small 60 cake cases mushroom of pack blue frame fruit juicy photo cat cover cushion floral green doll feltcraft olivia princess bell glass jar small backpack london love mini dish ivory soap sweetheart base floor lamp shade wood amethyst glass necklace strand flag george of st christmas heart retrospot wood handbag pink riviera 72 cake cases of pack skull bags party pink 36 dinosaur doilies of paper set bubble cover cushion gum woven necklace st tropez spinning tops traditional baking chocolate cup mould toffee garland honeycomb multicolour paper black disco panel partition magnets of pack photo retro coaster la palmiera tile cabinet curio door two glamorous mug butterflies stickers ass floral level print spirit clock square table white childrens cutlery green polkadot box in mug red retrospot small and chair desk school cockle dish shell bag design jumbo spaceboy candles dinner pink rose hearts invites jazz party feeding station tuscan villa blue box paisley tissue and birdhouse jigsaw rabbit cards doiley playing vintage flower kitchen plaque pots small carousel coasters green of set blue bracelet sweetheart box lunch spaceboy and black curtain pink string blue coffee mug polkadot account bank card greeting book box flower gingham green set3 fairy pole standing support hearts mobile vintage bank cake ceramic fairy heart money blue carlo handbag monte blue for hamper picnic savannah paperweight planet save the blue plate polkadot 75 cake cases fairy green block building love word cactus candle round and cakes design flannel rabbits and cake cover glass plate flower mug multicolour spring apron kitchen tea time candle drawer jewelled rose scent cracked earrings glaze ivory flowers set stamp wood fun monster wrap bathroom hello sailor set ant black board finish white wood black necklace orbit pendant silver of pantry set spoons wooden clam shell small christmas hanging silver tree green little monster soft toy 10 lights night owl set blue candle ceramic holder yellow cup egg soldiers curtain pompom mug red retrospot 12 design hearts of pack tissues diamante grip hair montana pack ream tissue white chick decoration hanging yellow chicken decoration wobbly box fabric oval red victorian hearts napkin ring scandinavian painted pink rabbit cat cover cushion floral pink bill book box buffalo treasure candle mirror mosaic plate beaded crystal green heart small holly lantern paper point star card doily thank you amethyst beads drop earrings long bag candy hand spot cadet space white edwardian frame heart photo embroidered rachel reel ribbon art spaceboy wall black earrings lariat silver stone blue childs garden rake bracelet butterfly necklace pink occupied or sign toilet vacant bathroom bottle cats decorative confetti in round tube white owl pink soft toy ivory letter sweetheart tray wire dairy maid mug stripe album days paris photo vintage birthday card party tea decorations folkart heart rose and felt hanging heart wood design heart planters zinc basket easter egg felt pink light setting silver bling key letter ring compact mirror pink round clock kitchen mum bulb candles hyacinth light cream enamel jug measuring blue lampshade plastic rings white and bows cakes gift tape camphor small tall toadstool wood garden metal sign cottage fairy nightlight tale regency spoon tea art london love wall capiz chandelier cover cushion france poste blue tiled tray bag bottle retrospot bowl green polkadot allium artificial flower white box heart love napkin dinner her is metal served sign 20 design napkins of pack pantry pen secret set top blue flower run table butterfly magnets mirror set frog space cake fairy strawberry teapot bag charlotte woodland beads flower fuschia purse with billboard card font mrs robot soft toy candle green holder standing wire lamp plasmatronic beaker london love can garden marker watering holder light tree willie winkie bag doiley lunch pattern enamel mug red trim vintage class first holiday purse clay modelling traditional card doughnuts greeting square cushion padded retrospot seat lantern paper point snow star candle citronella potting shed abstract book circles pocket beaker spaceboy christmas decoration star wooden cottage garden no number tile cream heart miseltoe wreath folding pinkwhite polkadot umbrella baking cases loaf of set snack christmas decoration fluffy pink heart holly shaped wreath lamp retrospot crystal glass necklace strand flower fuschia run table bottle flag hot knitted union water box diamante gift in lilac pen belle cover cushion jardiniere feltcraft mice stripey bunnies drawing magic slate book garden path pocket bell honeycomb large paper white candy cover cushion spot bird holder light love mirror 65cmx65cm filler pad polyester 20 apples napkins of pack red font number tile vintage sombrero holder light saucer silver cream glass jar lid ridged storage 42 glass necklace ruby candle feng pillar shui 12 pencils skull small tube cake regency slice bird black holder light love closed metal open sign cup egg helga milkmaid beaded crystal green heart large box button box candle in jewelled rose scent bunny decoration garden magic diamante necklace purple amber bead chunky glass necklace basket classic french green style container enamel pink tea 200 bendy red straws white gentleman kit repair shirt band daisy hair bling key letter ring cover food raffia strawberry assorted cheese fridge magnets box decoupage heart valentine bake cake drawing magic slate cake lights of set wedding jigsaw piece toadstools beak hanging of ollie owls set 3d christmas stamps stickers finish frame picture white wooden diamante drop earrings purple paisley park snack tray cake ceramic design plate spotted black earrings vintage bauble christmas dec smallfolkart 50 chain christmas kit paper babushka bottle hot water bag feltcraft floral grey shoulder bedside light toadstool antique love metal seat white baking cases of set tea time and beads bracelet glass ivory box in mug retrospot small white glass moroccan tea letter pencil shape sharpener blue garden parasol polkadot dog flower pattern pink scottie garden notebook path assorted colour hook lizard suction billboard design fonts wrap assorted hardman mug cake lovebird pink stand tier ant heart spiral white wire leaves magnetic notepad retro blue mobile padded soft 40x40cm filler pad polyester fern green journal blue childrens cutlery polkadot glass light set silver decorative heart small wicker heart large organiser wall zinc box large storage woodland birdhouse decoration garden magic chicks easter lights of set bells christmas metal postcard with classic frame white bag christmas jumbo vintage pink plate polkadot can dinosaur green watering bag doiley jumbo vintage butterfly gauze lampshade lilac of set skittles soldier classical rose small vase bag shoulder suki children mug spaceboy acrylic icicle jewel pink day wedding wrap disc flying seaside set stamp thank wood you beads candle hanging holder white gingham rose wrap 20 napkins of pack paper skull christmas scandinavian star wooden garden parasol pink polkadot frying pan pink polkadot cherub decoration heart silver bag paisley picnic scandinavian doll knitted rabbit charms hearts napkin of set candy decoration hanging heart bells garland glitter heart with making reel ribbon snowmen lantern metal moroccan white images notebook romantic set 10 17096 cards robin set waterpump chain empire kit paper antique bell heart jingle silver medina metal stamped stool felt folk garland hanging multicol bracelet glass heart of turquoise and bag brass charm copper bow brooch colour diamante green plastic polka retro tray 12 dolly girl of pack tissues bag lunch red spotty bag plate red retrospot tea bird hanging holder light love childs garden pink trowel bracelet fruit necklace salad set daisy painted wooden yellow metal sign washroom balloons heart of set shaped 50 christmas red roll wrap brush pantry up washing and cover lace red rose childrens dolly girl mug can flying pig watering budah holder incense porcelain box chocolate ribbons candle citronella garden pot red retrospot wrap bag design lunch suki clock diner mint wall biscuits charlie lola tins ahoy art treasure wall heart holder light trellistriple egg house painted wood classic design red tea towel baby bunting pink doll feltcraft molly bowls glass lid red retrospot set dec fuschia pointy shoe voile cake lovebird stand tier white birds easter tree yellow boy feltcraft jean kit paul antique hook photo shelf white calculator heart assorted circle coloured mobile box parisienne sewing mug planet save the heart hottie red white woolly candl incense lavender origami set 45x30cm filler pad polyester cupcake hook metal sign single folkart heart napkin rings blue radio retro yellow from growing magic paper sheep wool cover cushion funky monkey blue childs fork garden bag lunch paisley park abstract circle journal a7 english notebook rose size and bowls condiment spoons tray ceramic doorknob ivory 10 17068 cards choir set xmas acapulco mat recycled red apples bag charlotte design colour designs in mug pig two design flannel skulls candlestick cut glass small square bonbons french jar storage style drop metal pants sign your class first luggage tag cacti lights of set 50 cocktail pieces swords baubles folkart kashmir of set cups of pack paper skull camphor field mushroom small wood bottle home sweet card rose travel vintage wallet ivory kitchen scales hanging hearts pretty quilted fern green sketchbook best candle dad letters bedside light toadstool fruit paper plates salad set botanical card greeting rose cut glass holder light octagon alarm bakelike chocolate clock bag christmas gift large vintage bracelet crystal glass jade poncho rain retrospot drawer glass knob star vintage childhood magnets memory of pack antique earrings flower opal white brush pantry scrubbing bag butterfly cosmetics gold with coffee jars sugar tea white baroque candle flock holder pink base lamp shade table white wood craft monsters stencil cover jack pink squarecushion union knack knick leaf of set tins small wicker wreath it leave metal or sign take decoration flower set spring candle coffee pillar scent assorted coffee mugs retro can frog king watering acrylic drawerknob edwardian purple hanger hook magic red toadstool clip frangipani hair white bag blue paisley pocket red spot heart ladle love pink of place santa set settings ashtray bath in rasta spliff bag of silver stones blue door french metal sign design flower mug shop bubbles cream ice bell honeycomb paper white camouflage design teddy bag bead bertie charm glass pink antique hook ivory miniture rose ant boudicca purple ring silver 40cm lariat silver car flag george of st 3d christmas stickers vintage candle flower pot silver small box candle chocolate morris wick bag jumbo strawberry blue cracked doorknob glaze bling key letter ring bag design leaf lunch vintage lighthouse metal printed sign 12 egg house painted wood flowers handbag purple turq 50 curious envelope images acrylic hanging jewel pink edwardian parasol red cherry cutlery picnic set assorted fob frutti notebook tutti art frames mirrored photo wall cake decoration fairy hanging colour glass hanging holder light metal one person please sign a6 cakes fairy notebook size bowl pudding red retrospot large red retrospot windmill candlepot regal silver small aluminium heart assorted incense pack bells garland vintage 36 christmas doilies of set vintage decoration hearts silver table list magnetic pantry shopping birthday bunting happy pink birthday happy its toast brocante coat rack apron cake childrens fairy pink doiley knack knick of set tins abc book box treasure alphabet set stamp tradtional carnival cushion elephant floor blue chair kashmiri painted box square swallow tissue alphabet boys iron on patches card kit make monsoon own your forest happy snack tray chick decoration pink white'"
      ]
     },
     "execution_count": 18,
     "metadata": {},
     "output_type": "execute_result"
    }
   ],
   "source": [
    "all_words = ' '.join([' '.join(sentence) for sentence in default_vect.inverse_transform(X_train_bag)])\n",
    "all_words"
   ]
  },
  {
   "cell_type": "code",
   "execution_count": 19,
   "id": "90ae35cd",
   "metadata": {
    "scrolled": false
   },
   "outputs": [
    {
     "data": {
      "image/png": "[encoded data removed]",
      "text/plain": [
       "<Figure size 640x480 with 1 Axes>"
      ]
     },
     "metadata": {},
     "output_type": "display_data"
    }
   ],
   "source": [
    "# 生成词云\n",
    "import matplotlib.pyplot as plt\n",
    "from wordcloud import WordCloud, ImageColorGenerator  # 引入词云WordCloud\n",
    "\n",
    "# WordCloud()设定词云参数，.generate()将str文本生成词云\n",
    "wordcloud = WordCloud(\n",
    "    font_path=\"C:/Windows/Fonts/simfang.ttf\", \n",
    "    background_color=\"white\",\n",
    "    width=1000,\n",
    "    height=880,\n",
    ").generate(all_words)\n",
    "\n",
    "plt.imshow(wordcloud, interpolation='bilinear')\n",
    "plt.axis(\"off\")\n",
    "plt.show()\n",
    "# wordcloud.to_file(\"cloud1.jpg\") # 保存图片"
   ]
  },
  {
   "cell_type": "markdown",
   "id": "4f1b697c",
   "metadata": {},
   "source": [
    "### 分类算法"
   ]
  },
  {
   "cell_type": "markdown",
   "id": "28914f8b",
   "metadata": {},
   "source": [
    "#### LogisticRegression"
   ]
  },
  {
   "cell_type": "code",
   "execution_count": 20,
   "id": "6f13b8c5",
   "metadata": {},
   "outputs": [],
   "source": [
    "from sklearn.linear_model import LogisticRegression\n",
    "\n",
    "lr = LogisticRegression()\n",
    "lr.fit(X_train_bag, y_train)\n",
    "y_pred = lr.predict(X_test_bag)"
   ]
  },
  {
   "cell_type": "code",
   "execution_count": 21,
   "id": "5f56d860",
   "metadata": {},
   "outputs": [
    {
     "data": {
      "text/plain": [
       "0.8366693354683747"
      ]
     },
     "execution_count": 21,
     "metadata": {},
     "output_type": "execute_result"
    }
   ],
   "source": [
    "from sklearn.metrics import accuracy_score\n",
    "accuracy_score(y_test, y_pred)"
   ]
  },
  {
   "cell_type": "code",
   "execution_count": 22,
   "id": "189c04ce",
   "metadata": {},
   "outputs": [
    {
     "name": "stdout",
     "output_type": "stream",
     "text": [
      "Classification Report:\n",
      "              precision    recall  f1-score   support\n",
      "\n",
      "           0       0.86      0.96      0.90       997\n",
      "           1       0.68      0.36      0.47       252\n",
      "\n",
      "    accuracy                           0.84      1249\n",
      "   macro avg       0.77      0.66      0.69      1249\n",
      "weighted avg       0.82      0.84      0.82      1249\n",
      "\n",
      "AUC-ROC: 0.84\n"
     ]
    }
   ],
   "source": [
    "from sklearn.metrics import classification_report, roc_auc_score\n",
    "\n",
    "y_pred = lr.predict(X_test_bag)\n",
    "print(\"Classification Report:\")\n",
    "print(classification_report(y_test, y_pred))\n",
    "print(f\"AUC-ROC: {roc_auc_score(y_test, lr.predict_proba(X_test_bag)[:, 1]):.2f}\")"
   ]
  },
  {
   "cell_type": "markdown",
   "id": "bc37f059",
   "metadata": {},
   "source": [
    "#### 朴素贝叶斯"
   ]
  },
  {
   "cell_type": "code",
   "execution_count": 23,
   "id": "f466137d",
   "metadata": {},
   "outputs": [
    {
     "name": "stdout",
     "output_type": "stream",
     "text": [
      "Accuracy: 0.825\n",
      "\n",
      "Classification Report:\n",
      "              precision    recall  f1-score   support\n",
      "\n",
      "           0       0.86      0.93      0.89       997\n",
      "           1       0.59      0.42      0.49       252\n",
      "\n",
      "    accuracy                           0.82      1249\n",
      "   macro avg       0.73      0.68      0.69      1249\n",
      "weighted avg       0.81      0.82      0.81      1249\n",
      "\n",
      "AUC-ROC: 0.81\n"
     ]
    }
   ],
   "source": [
    "from sklearn.naive_bayes import MultinomialNB\n",
    "\n",
    "# 训练朴素贝叶斯分类器\n",
    "nb = MultinomialNB()\n",
    "nb.fit(X_train_bag, y_train)\n",
    "\n",
    "# 预测\n",
    "y_pred = nb.predict(X_test_bag)\n",
    "\n",
    "# 计算准确率\n",
    "print(f\"Accuracy: {accuracy_score(y_test, y_pred):.3f}\")\n",
    "\n",
    "# 详细分类报告\n",
    "print(\"\\nClassification Report:\")\n",
    "print(classification_report(y_test, y_pred))\n",
    "print(f\"AUC-ROC: {roc_auc_score(y_test, nb.predict_proba(X_test_bag)[:, 1]):.2f}\")"
   ]
  },
  {
   "cell_type": "markdown",
   "id": "ebef3dd3",
   "metadata": {},
   "source": [
    "#### SVM"
   ]
  },
  {
   "cell_type": "code",
   "execution_count": 24,
   "id": "6c96b6d9",
   "metadata": {},
   "outputs": [
    {
     "name": "stdout",
     "output_type": "stream",
     "text": [
      "Accuracy: 0.835\n",
      "\n",
      "Classification Report:\n",
      "              precision    recall  f1-score   support\n",
      "\n",
      "           0       0.84      0.98      0.90       997\n",
      "           1       0.76      0.27      0.39       252\n",
      "\n",
      "    accuracy                           0.84      1249\n",
      "   macro avg       0.80      0.62      0.65      1249\n",
      "weighted avg       0.82      0.84      0.80      1249\n",
      "\n",
      "AUC-ROC: 0.83\n"
     ]
    }
   ],
   "source": [
    "from sklearn.svm import SVC\n",
    "\n",
    "# 训练SVM分类器\n",
    "svm = SVC(kernel='rbf', probability=True, random_state=0)\n",
    "svm.fit(X_train_bag, y_train)\n",
    "\n",
    "# 预测\n",
    "y_pred = svm.predict(X_test_bag)\n",
    "\n",
    "# 计算准确率\n",
    "print(f\"Accuracy: {accuracy_score(y_test, y_pred):.3f}\")\n",
    "\n",
    "# 详细分类报告\n",
    "print(\"\\nClassification Report:\")\n",
    "print(classification_report(y_test, y_pred))\n",
    "print(f\"AUC-ROC: {roc_auc_score(y_test, svm.predict_proba(X_test_bag)[:, 1]):.2f}\")"
   ]
  },
  {
   "cell_type": "markdown",
   "id": "3d2949ae",
   "metadata": {},
   "source": [
    "#### 决策树"
   ]
  },
  {
   "cell_type": "code",
   "execution_count": 25,
   "id": "60e0fa50",
   "metadata": {},
   "outputs": [
    {
     "name": "stdout",
     "output_type": "stream",
     "text": [
      "Accuracy: 0.802\n",
      "\n",
      "Classification Report:\n",
      "              precision    recall  f1-score   support\n",
      "\n",
      "           0       0.83      0.95      0.88       997\n",
      "           1       0.52      0.21      0.30       252\n",
      "\n",
      "    accuracy                           0.80      1249\n",
      "   macro avg       0.68      0.58      0.59      1249\n",
      "weighted avg       0.77      0.80      0.77      1249\n",
      "\n",
      "AUC-ROC: 0.57\n"
     ]
    }
   ],
   "source": [
    "from sklearn.tree import DecisionTreeClassifier\n",
    "\n",
    "# 训练决策树分类器\n",
    "dt = DecisionTreeClassifier(random_state=0, max_depth=10, min_samples_split=5)\n",
    "dt.fit(X_train_bag, y_train)\n",
    "\n",
    "# 预测\n",
    "y_pred = dt.predict(X_test_bag)\n",
    "\n",
    "# 计算准确率\n",
    "print(f\"Accuracy: {accuracy_score(y_test, y_pred):.3f}\")\n",
    "\n",
    "# 详细分类报告\n",
    "print(\"\\nClassification Report:\")\n",
    "print(classification_report(y_test, y_pred))\n",
    "print(f\"AUC-ROC: {roc_auc_score(y_test, dt.predict_proba(X_test_bag)[:, 1]):.2f}\")"
   ]
  },
  {
   "cell_type": "markdown",
   "id": "2c03f989",
   "metadata": {},
   "source": [
    "#### 随机森林"
   ]
  },
  {
   "cell_type": "code",
   "execution_count": 26,
   "id": "7727e39d",
   "metadata": {},
   "outputs": [
    {
     "name": "stdout",
     "output_type": "stream",
     "text": [
      "Accuracy: 0.799\n",
      "\n",
      "Classification Report:\n",
      "              precision    recall  f1-score   support\n",
      "\n",
      "           0       0.80      1.00      0.89       997\n",
      "           1       1.00      0.00      0.01       252\n",
      "\n",
      "    accuracy                           0.80      1249\n",
      "   macro avg       0.90      0.50      0.45      1249\n",
      "weighted avg       0.84      0.80      0.71      1249\n",
      "\n",
      "AUC-ROC: 0.79\n"
     ]
    }
   ],
   "source": [
    "from sklearn.ensemble import RandomForestClassifier\n",
    "\n",
    "# 训练随机森林分类器\n",
    "rf = RandomForestClassifier(n_estimators=100, random_state=0, max_depth=10)\n",
    "rf.fit(X_train_bag, y_train)\n",
    "\n",
    "# 预测\n",
    "y_pred = rf.predict(X_test_bag)\n",
    "\n",
    "# 计算准确率\n",
    "print(f\"Accuracy: {accuracy_score(y_test, y_pred):.3f}\")\n",
    "\n",
    "# 详细分类报告\n",
    "print(\"\\nClassification Report:\")\n",
    "print(classification_report(y_test, y_pred))\n",
    "print(f\"AUC-ROC: {roc_auc_score(y_test, rf.predict_proba(X_test_bag)[:, 1]):.2f}\")"
   ]
  },
  {
   "cell_type": "markdown",
   "id": "254aa78b",
   "metadata": {},
   "source": [
    "### 特征优化"
   ]
  },
  {
   "cell_type": "code",
   "execution_count": 27,
   "id": "fdfa2b67",
   "metadata": {},
   "outputs": [],
   "source": [
    "from sklearn.model_selection import train_test_split\n",
    "X = good_grouped.Description\n",
    "y = good_grouped.Hot\n",
    "\n",
    "X_train, X_test, y_train, y_test = train_test_split(X, y, random_state=0, train_size=0.7)"
   ]
  },
  {
   "cell_type": "markdown",
   "id": "c4fbf487",
   "metadata": {},
   "source": [
    "#### 文本清洗和选择"
   ]
  },
  {
   "cell_type": "code",
   "execution_count": 28,
   "id": "856bd598",
   "metadata": {},
   "outputs": [],
   "source": [
    "import re\n",
    "from sklearn.feature_extraction.text import CountVectorizer\n",
    "\n",
    "def custom_tokenizer(document):\n",
    "    document = re.sub(r'[^a-zA-Z\\s]', '', document)\n",
    "    return document.split()\n",
    "\n",
    "# 利用自定义分词器来定义一个计数向量器\n",
    "count_vect = CountVectorizer(tokenizer=custom_tokenizer, min_df=2, max_df=0.95, stop_words=\"english\", ngram_range=(1, 2), token_pattern=None).fit(X_train)"
   ]
  },
  {
   "cell_type": "code",
   "execution_count": 29,
   "id": "58100bfa",
   "metadata": {},
   "outputs": [],
   "source": [
    "count_vect = CountVectorizer(min_df=2, max_df=0.5, stop_words=\"english\", ngram_range=(1, 2)).fit(X_train)"
   ]
  },
  {
   "cell_type": "code",
   "execution_count": 30,
   "id": "c08c1ffe",
   "metadata": {},
   "outputs": [],
   "source": [
    "X_train_bag = count_vect.transform(X_train)\n",
    "X_test_bag = count_vect.transform(X_test)"
   ]
  },
  {
   "cell_type": "code",
   "execution_count": 31,
   "id": "69eff81d",
   "metadata": {},
   "outputs": [
    {
     "data": {
      "text/html": [
       "<div>\n",
       "<style scoped>\n",
       "    .dataframe tbody tr th:only-of-type {\n",
       "        vertical-align: middle;\n",
       "    }\n",
       "\n",
       "    .dataframe tbody tr th {\n",
       "        vertical-align: top;\n",
       "    }\n",
       "\n",
       "    .dataframe thead th {\n",
       "        text-align: right;\n",
       "    }\n",
       "</style>\n",
       "<table border=\"1\" class=\"dataframe\">\n",
       "  <thead>\n",
       "    <tr style=\"text-align: right;\">\n",
       "      <th></th>\n",
       "      <th>00</th>\n",
       "      <th>10</th>\n",
       "      <th>10 card</th>\n",
       "      <th>10 cards</th>\n",
       "      <th>12</th>\n",
       "      <th>12 blue</th>\n",
       "      <th>12 colour</th>\n",
       "      <th>12 coloured</th>\n",
       "      <th>12 lights</th>\n",
       "      <th>12 pencils</th>\n",
       "      <th>...</th>\n",
       "      <th>xmas</th>\n",
       "      <th>yellow</th>\n",
       "      <th>yellow flowers</th>\n",
       "      <th>yellow pink</th>\n",
       "      <th>zinc</th>\n",
       "      <th>zinc glass</th>\n",
       "      <th>zinc heart</th>\n",
       "      <th>zinc light</th>\n",
       "      <th>zinc star</th>\n",
       "      <th>zinc wire</th>\n",
       "    </tr>\n",
       "  </thead>\n",
       "  <tbody>\n",
       "    <tr>\n",
       "      <th>0</th>\n",
       "      <td>0</td>\n",
       "      <td>0</td>\n",
       "      <td>0</td>\n",
       "      <td>0</td>\n",
       "      <td>0</td>\n",
       "      <td>0</td>\n",
       "      <td>0</td>\n",
       "      <td>0</td>\n",
       "      <td>0</td>\n",
       "      <td>0</td>\n",
       "      <td>...</td>\n",
       "      <td>0</td>\n",
       "      <td>0</td>\n",
       "      <td>0</td>\n",
       "      <td>0</td>\n",
       "      <td>0</td>\n",
       "      <td>0</td>\n",
       "      <td>0</td>\n",
       "      <td>0</td>\n",
       "      <td>0</td>\n",
       "      <td>0</td>\n",
       "    </tr>\n",
       "    <tr>\n",
       "      <th>1</th>\n",
       "      <td>0</td>\n",
       "      <td>0</td>\n",
       "      <td>0</td>\n",
       "      <td>0</td>\n",
       "      <td>0</td>\n",
       "      <td>0</td>\n",
       "      <td>0</td>\n",
       "      <td>0</td>\n",
       "      <td>0</td>\n",
       "      <td>0</td>\n",
       "      <td>...</td>\n",
       "      <td>0</td>\n",
       "      <td>0</td>\n",
       "      <td>0</td>\n",
       "      <td>0</td>\n",
       "      <td>0</td>\n",
       "      <td>0</td>\n",
       "      <td>0</td>\n",
       "      <td>0</td>\n",
       "      <td>0</td>\n",
       "      <td>0</td>\n",
       "    </tr>\n",
       "    <tr>\n",
       "      <th>2</th>\n",
       "      <td>0</td>\n",
       "      <td>0</td>\n",
       "      <td>0</td>\n",
       "      <td>0</td>\n",
       "      <td>0</td>\n",
       "      <td>0</td>\n",
       "      <td>0</td>\n",
       "      <td>0</td>\n",
       "      <td>0</td>\n",
       "      <td>0</td>\n",
       "      <td>...</td>\n",
       "      <td>0</td>\n",
       "      <td>0</td>\n",
       "      <td>0</td>\n",
       "      <td>0</td>\n",
       "      <td>0</td>\n",
       "      <td>0</td>\n",
       "      <td>0</td>\n",
       "      <td>0</td>\n",
       "      <td>0</td>\n",
       "      <td>0</td>\n",
       "    </tr>\n",
       "    <tr>\n",
       "      <th>3</th>\n",
       "      <td>0</td>\n",
       "      <td>0</td>\n",
       "      <td>0</td>\n",
       "      <td>0</td>\n",
       "      <td>0</td>\n",
       "      <td>0</td>\n",
       "      <td>0</td>\n",
       "      <td>0</td>\n",
       "      <td>0</td>\n",
       "      <td>0</td>\n",
       "      <td>...</td>\n",
       "      <td>0</td>\n",
       "      <td>0</td>\n",
       "      <td>0</td>\n",
       "      <td>0</td>\n",
       "      <td>0</td>\n",
       "      <td>0</td>\n",
       "      <td>0</td>\n",
       "      <td>0</td>\n",
       "      <td>0</td>\n",
       "      <td>0</td>\n",
       "    </tr>\n",
       "    <tr>\n",
       "      <th>4</th>\n",
       "      <td>0</td>\n",
       "      <td>0</td>\n",
       "      <td>0</td>\n",
       "      <td>0</td>\n",
       "      <td>0</td>\n",
       "      <td>0</td>\n",
       "      <td>0</td>\n",
       "      <td>0</td>\n",
       "      <td>0</td>\n",
       "      <td>0</td>\n",
       "      <td>...</td>\n",
       "      <td>0</td>\n",
       "      <td>0</td>\n",
       "      <td>0</td>\n",
       "      <td>0</td>\n",
       "      <td>0</td>\n",
       "      <td>0</td>\n",
       "      <td>0</td>\n",
       "      <td>0</td>\n",
       "      <td>0</td>\n",
       "      <td>0</td>\n",
       "    </tr>\n",
       "    <tr>\n",
       "      <th>...</th>\n",
       "      <td>...</td>\n",
       "      <td>...</td>\n",
       "      <td>...</td>\n",
       "      <td>...</td>\n",
       "      <td>...</td>\n",
       "      <td>...</td>\n",
       "      <td>...</td>\n",
       "      <td>...</td>\n",
       "      <td>...</td>\n",
       "      <td>...</td>\n",
       "      <td>...</td>\n",
       "      <td>...</td>\n",
       "      <td>...</td>\n",
       "      <td>...</td>\n",
       "      <td>...</td>\n",
       "      <td>...</td>\n",
       "      <td>...</td>\n",
       "      <td>...</td>\n",
       "      <td>...</td>\n",
       "      <td>...</td>\n",
       "      <td>...</td>\n",
       "    </tr>\n",
       "    <tr>\n",
       "      <th>2907</th>\n",
       "      <td>0</td>\n",
       "      <td>0</td>\n",
       "      <td>0</td>\n",
       "      <td>0</td>\n",
       "      <td>0</td>\n",
       "      <td>0</td>\n",
       "      <td>0</td>\n",
       "      <td>0</td>\n",
       "      <td>0</td>\n",
       "      <td>0</td>\n",
       "      <td>...</td>\n",
       "      <td>0</td>\n",
       "      <td>0</td>\n",
       "      <td>0</td>\n",
       "      <td>0</td>\n",
       "      <td>0</td>\n",
       "      <td>0</td>\n",
       "      <td>0</td>\n",
       "      <td>0</td>\n",
       "      <td>0</td>\n",
       "      <td>0</td>\n",
       "    </tr>\n",
       "    <tr>\n",
       "      <th>2908</th>\n",
       "      <td>0</td>\n",
       "      <td>0</td>\n",
       "      <td>0</td>\n",
       "      <td>0</td>\n",
       "      <td>0</td>\n",
       "      <td>0</td>\n",
       "      <td>0</td>\n",
       "      <td>0</td>\n",
       "      <td>0</td>\n",
       "      <td>0</td>\n",
       "      <td>...</td>\n",
       "      <td>0</td>\n",
       "      <td>0</td>\n",
       "      <td>0</td>\n",
       "      <td>0</td>\n",
       "      <td>0</td>\n",
       "      <td>0</td>\n",
       "      <td>0</td>\n",
       "      <td>0</td>\n",
       "      <td>0</td>\n",
       "      <td>0</td>\n",
       "    </tr>\n",
       "    <tr>\n",
       "      <th>2909</th>\n",
       "      <td>0</td>\n",
       "      <td>0</td>\n",
       "      <td>0</td>\n",
       "      <td>0</td>\n",
       "      <td>0</td>\n",
       "      <td>0</td>\n",
       "      <td>0</td>\n",
       "      <td>0</td>\n",
       "      <td>0</td>\n",
       "      <td>0</td>\n",
       "      <td>...</td>\n",
       "      <td>0</td>\n",
       "      <td>0</td>\n",
       "      <td>0</td>\n",
       "      <td>0</td>\n",
       "      <td>0</td>\n",
       "      <td>0</td>\n",
       "      <td>0</td>\n",
       "      <td>0</td>\n",
       "      <td>0</td>\n",
       "      <td>0</td>\n",
       "    </tr>\n",
       "    <tr>\n",
       "      <th>2910</th>\n",
       "      <td>0</td>\n",
       "      <td>0</td>\n",
       "      <td>0</td>\n",
       "      <td>0</td>\n",
       "      <td>0</td>\n",
       "      <td>0</td>\n",
       "      <td>0</td>\n",
       "      <td>0</td>\n",
       "      <td>0</td>\n",
       "      <td>0</td>\n",
       "      <td>...</td>\n",
       "      <td>0</td>\n",
       "      <td>0</td>\n",
       "      <td>0</td>\n",
       "      <td>0</td>\n",
       "      <td>0</td>\n",
       "      <td>0</td>\n",
       "      <td>0</td>\n",
       "      <td>0</td>\n",
       "      <td>0</td>\n",
       "      <td>0</td>\n",
       "    </tr>\n",
       "    <tr>\n",
       "      <th>2911</th>\n",
       "      <td>0</td>\n",
       "      <td>0</td>\n",
       "      <td>0</td>\n",
       "      <td>0</td>\n",
       "      <td>0</td>\n",
       "      <td>0</td>\n",
       "      <td>0</td>\n",
       "      <td>0</td>\n",
       "      <td>0</td>\n",
       "      <td>0</td>\n",
       "      <td>...</td>\n",
       "      <td>0</td>\n",
       "      <td>0</td>\n",
       "      <td>0</td>\n",
       "      <td>0</td>\n",
       "      <td>0</td>\n",
       "      <td>0</td>\n",
       "      <td>0</td>\n",
       "      <td>0</td>\n",
       "      <td>0</td>\n",
       "      <td>0</td>\n",
       "    </tr>\n",
       "  </tbody>\n",
       "</table>\n",
       "<p>2912 rows × 2623 columns</p>\n",
       "</div>"
      ],
      "text/plain": [
       "      00  10  10 card  10 cards  12  12 blue  12 colour  12 coloured  \\\n",
       "0      0   0        0         0   0        0          0            0   \n",
       "1      0   0        0         0   0        0          0            0   \n",
       "2      0   0        0         0   0        0          0            0   \n",
       "3      0   0        0         0   0        0          0            0   \n",
       "4      0   0        0         0   0        0          0            0   \n",
       "...   ..  ..      ...       ...  ..      ...        ...          ...   \n",
       "2907   0   0        0         0   0        0          0            0   \n",
       "2908   0   0        0         0   0        0          0            0   \n",
       "2909   0   0        0         0   0        0          0            0   \n",
       "2910   0   0        0         0   0        0          0            0   \n",
       "2911   0   0        0         0   0        0          0            0   \n",
       "\n",
       "      12 lights  12 pencils  ...  xmas  yellow  yellow flowers  yellow pink  \\\n",
       "0             0           0  ...     0       0               0            0   \n",
       "1             0           0  ...     0       0               0            0   \n",
       "2             0           0  ...     0       0               0            0   \n",
       "3             0           0  ...     0       0               0            0   \n",
       "4             0           0  ...     0       0               0            0   \n",
       "...         ...         ...  ...   ...     ...             ...          ...   \n",
       "2907          0           0  ...     0       0               0            0   \n",
       "2908          0           0  ...     0       0               0            0   \n",
       "2909          0           0  ...     0       0               0            0   \n",
       "2910          0           0  ...     0       0               0            0   \n",
       "2911          0           0  ...     0       0               0            0   \n",
       "\n",
       "      zinc  zinc glass  zinc heart  zinc light  zinc star  zinc wire  \n",
       "0        0           0           0           0          0          0  \n",
       "1        0           0           0           0          0          0  \n",
       "2        0           0           0           0          0          0  \n",
       "3        0           0           0           0          0          0  \n",
       "4        0           0           0           0          0          0  \n",
       "...    ...         ...         ...         ...        ...        ...  \n",
       "2907     0           0           0           0          0          0  \n",
       "2908     0           0           0           0          0          0  \n",
       "2909     0           0           0           0          0          0  \n",
       "2910     0           0           0           0          0          0  \n",
       "2911     0           0           0           0          0          0  \n",
       "\n",
       "[2912 rows x 2623 columns]"
      ]
     },
     "execution_count": 31,
     "metadata": {},
     "output_type": "execute_result"
    }
   ],
   "source": [
    "pd.DataFrame(X_train_bag.toarray(), columns=count_vect.get_feature_names_out())"
   ]
  },
  {
   "cell_type": "code",
   "execution_count": 32,
   "id": "e03a239d",
   "metadata": {},
   "outputs": [],
   "source": [
    "lr = LogisticRegression()\n",
    "lr.fit(X_train_bag, y_train)\n",
    "y_pred = lr.predict(X_test_bag)"
   ]
  },
  {
   "cell_type": "code",
   "execution_count": 33,
   "id": "d5ad3a3f",
   "metadata": {},
   "outputs": [
    {
     "data": {
      "text/plain": [
       "0.8390712570056045"
      ]
     },
     "execution_count": 33,
     "metadata": {},
     "output_type": "execute_result"
    }
   ],
   "source": [
    "from sklearn.metrics import accuracy_score\n",
    "accuracy_score(y_test, y_pred)"
   ]
  },
  {
   "cell_type": "code",
   "execution_count": 34,
   "id": "3866eb16",
   "metadata": {},
   "outputs": [
    {
     "data": {
      "image/png": "[encoded data removed]",
      "text/plain": [
       "<Figure size 1500x500 with 1 Axes>"
      ]
     },
     "metadata": {},
     "output_type": "display_data"
    }
   ],
   "source": [
    "import mglearn\n",
    "feature_names = np.array(count_vect.get_feature_names_out())\n",
    "coef = lr.coef_\n",
    "mglearn.tools.visualize_coefficients(coef, feature_names, n_top_features=40)\n",
    "plt.show()"
   ]
  },
  {
   "cell_type": "markdown",
   "id": "ae0c00eb",
   "metadata": {},
   "source": [
    "#### TfidfVectorizer"
   ]
  },
  {
   "cell_type": "code",
   "execution_count": 35,
   "id": "df7bb86a",
   "metadata": {},
   "outputs": [],
   "source": [
    "from sklearn.model_selection import train_test_split\n",
    "X = good_grouped.Description\n",
    "y = good_grouped.Hot\n",
    "\n",
    "X_train, X_test, y_train, y_test = train_test_split(X, y, random_state=0, train_size=0.7)"
   ]
  },
  {
   "cell_type": "code",
   "execution_count": 36,
   "id": "e8e3ec81",
   "metadata": {},
   "outputs": [],
   "source": [
    "from sklearn.feature_extraction.text import TfidfVectorizer\n",
    "\n",
    "tfidf_vect = TfidfVectorizer(\n",
    "    max_features=10000,\n",
    "    stop_words='english',\n",
    "    min_df=2,  # 忽略低频词\n",
    "    max_df=0.95,  # 忽略高频常见词\n",
    "    ngram_range=(1, 2)  # 捕捉词组\n",
    ").fit(X_train)"
   ]
  },
  {
   "cell_type": "code",
   "execution_count": 37,
   "id": "978f26a5",
   "metadata": {},
   "outputs": [],
   "source": [
    "X_train_bag = tfidf_vect.transform(X_train)\n",
    "X_test_bag = tfidf_vect.transform(X_test)"
   ]
  },
  {
   "cell_type": "code",
   "execution_count": 38,
   "id": "e8649e7c",
   "metadata": {},
   "outputs": [],
   "source": [
    "lr = LogisticRegression()\n",
    "lr.fit(X_train_bag, y_train)\n",
    "y_pred = lr.predict(X_test_bag)"
   ]
  },
  {
   "cell_type": "code",
   "execution_count": 39,
   "id": "5c860c81",
   "metadata": {},
   "outputs": [
    {
     "data": {
      "text/plain": [
       "0.8294635708566853"
      ]
     },
     "execution_count": 39,
     "metadata": {},
     "output_type": "execute_result"
    }
   ],
   "source": [
    "from sklearn.metrics import accuracy_score\n",
    "accuracy_score(y_test, y_pred)"
   ]
  },
  {
   "cell_type": "markdown",
   "id": "f3975719",
   "metadata": {},
   "source": [
    "## 文本聚类"
   ]
  },
  {
   "cell_type": "markdown",
   "id": "561cb7c4",
   "metadata": {},
   "source": [
    "### 数据预处理"
   ]
  },
  {
   "cell_type": "code",
   "execution_count": 40,
   "id": "5963beea",
   "metadata": {},
   "outputs": [],
   "source": [
    "X = good_grouped.Description"
   ]
  },
  {
   "cell_type": "code",
   "execution_count": 41,
   "id": "524e1c07",
   "metadata": {},
   "outputs": [],
   "source": [
    "from sklearn.feature_extraction.text import CountVectorizer\n",
    "\n",
    "default_vect = CountVectorizer().fit(X)\n",
    "bag_of_words = default_vect.transform(X)"
   ]
  },
  {
   "cell_type": "markdown",
   "id": "80a9f880",
   "metadata": {},
   "source": [
    "### KMeans聚类"
   ]
  },
  {
   "cell_type": "code",
   "execution_count": 42,
   "id": "5644cf97",
   "metadata": {},
   "outputs": [
    {
     "data": {
      "text/plain": [
       "array([0, 0, 0, ..., 0, 0, 0], shape=(2137,), dtype=int32)"
      ]
     },
     "execution_count": 42,
     "metadata": {},
     "output_type": "execute_result"
    }
   ],
   "source": [
    "from sklearn.cluster import KMeans\n",
    "\n",
    "X = bag_of_words.toarray().T\n",
    "clf = KMeans(n_clusters=5)\n",
    "s = clf.fit(X)\n",
    "cluster_labels = clf.labels_\n",
    "cluster_labels"
   ]
  },
  {
   "cell_type": "code",
   "execution_count": 43,
   "id": "0beb9391",
   "metadata": {},
   "outputs": [
    {
     "data": {
      "text/html": [
       "<div>\n",
       "<style scoped>\n",
       "    .dataframe tbody tr th:only-of-type {\n",
       "        vertical-align: middle;\n",
       "    }\n",
       "\n",
       "    .dataframe tbody tr th {\n",
       "        vertical-align: top;\n",
       "    }\n",
       "\n",
       "    .dataframe thead th {\n",
       "        text-align: right;\n",
       "    }\n",
       "</style>\n",
       "<table border=\"1\" class=\"dataframe\">\n",
       "  <thead>\n",
       "    <tr style=\"text-align: right;\">\n",
       "      <th></th>\n",
       "      <th>words</th>\n",
       "      <th>labels</th>\n",
       "    </tr>\n",
       "  </thead>\n",
       "  <tbody>\n",
       "    <tr>\n",
       "      <th>0</th>\n",
       "      <td>00</td>\n",
       "      <td>0</td>\n",
       "    </tr>\n",
       "    <tr>\n",
       "      <th>1</th>\n",
       "      <td>10</td>\n",
       "      <td>0</td>\n",
       "    </tr>\n",
       "    <tr>\n",
       "      <th>2</th>\n",
       "      <td>100</td>\n",
       "      <td>0</td>\n",
       "    </tr>\n",
       "    <tr>\n",
       "      <th>3</th>\n",
       "      <td>11</td>\n",
       "      <td>0</td>\n",
       "    </tr>\n",
       "    <tr>\n",
       "      <th>4</th>\n",
       "      <td>12</td>\n",
       "      <td>0</td>\n",
       "    </tr>\n",
       "    <tr>\n",
       "      <th>...</th>\n",
       "      <td>...</td>\n",
       "      <td>...</td>\n",
       "    </tr>\n",
       "    <tr>\n",
       "      <th>2132</th>\n",
       "      <td>yellow</td>\n",
       "      <td>0</td>\n",
       "    </tr>\n",
       "    <tr>\n",
       "      <th>2133</th>\n",
       "      <td>you</td>\n",
       "      <td>0</td>\n",
       "    </tr>\n",
       "    <tr>\n",
       "      <th>2134</th>\n",
       "      <td>your</td>\n",
       "      <td>0</td>\n",
       "    </tr>\n",
       "    <tr>\n",
       "      <th>2135</th>\n",
       "      <td>yuletide</td>\n",
       "      <td>0</td>\n",
       "    </tr>\n",
       "    <tr>\n",
       "      <th>2136</th>\n",
       "      <td>zinc</td>\n",
       "      <td>0</td>\n",
       "    </tr>\n",
       "  </tbody>\n",
       "</table>\n",
       "<p>2137 rows × 2 columns</p>\n",
       "</div>"
      ],
      "text/plain": [
       "         words  labels\n",
       "0           00       0\n",
       "1           10       0\n",
       "2          100       0\n",
       "3           11       0\n",
       "4           12       0\n",
       "...        ...     ...\n",
       "2132    yellow       0\n",
       "2133       you       0\n",
       "2134      your       0\n",
       "2135  yuletide       0\n",
       "2136      zinc       0\n",
       "\n",
       "[2137 rows x 2 columns]"
      ]
     },
     "execution_count": 43,
     "metadata": {},
     "output_type": "execute_result"
    }
   ],
   "source": [
    "words = pd.DataFrame() # to DataFrame\n",
    "words['words'] = default_vect.get_feature_names_out()\n",
    "words['labels'] = cluster_labels\n",
    "words"
   ]
  },
  {
   "cell_type": "code",
   "execution_count": 44,
   "id": "64f5dac4",
   "metadata": {},
   "outputs": [
    {
     "data": {
      "text/plain": [
       "labels\n",
       "0    [00, 10, 100, 11, 12, 120cm, 125g, 15, 15c, 15...\n",
       "1                                           [necklace]\n",
       "2                                      [holder, light]\n",
       "3                                       [drawer, knob]\n",
       "4                                                [tea]\n",
       "Name: words, dtype: object"
      ]
     },
     "execution_count": 44,
     "metadata": {},
     "output_type": "execute_result"
    }
   ],
   "source": [
    "words.groupby('labels')['words'].unique()"
   ]
  },
  {
   "cell_type": "markdown",
   "id": "80b70f35",
   "metadata": {},
   "source": [
    "### LDA主题建模"
   ]
  },
  {
   "cell_type": "code",
   "execution_count": 45,
   "id": "72259178",
   "metadata": {},
   "outputs": [],
   "source": [
    "from sklearn.decomposition import LatentDirichletAllocation\n",
    "\n",
    "n_topics = 10  # 根据业务需求调整\n",
    "lda = LatentDirichletAllocation(n_components=n_topics,\n",
    "                                learning_method=\"batch\",\n",
    "                                max_iter=25,\n",
    "                                random_state=0)"
   ]
  },
  {
   "cell_type": "code",
   "execution_count": 46,
   "id": "159eae54",
   "metadata": {},
   "outputs": [],
   "source": [
    "document_topics = lda.fit_transform(bag_of_words)"
   ]
  },
  {
   "cell_type": "code",
   "execution_count": 47,
   "id": "ab04c2b7",
   "metadata": {},
   "outputs": [
    {
     "data": {
      "text/plain": [
       "(10, 2137)"
      ]
     },
     "execution_count": 47,
     "metadata": {},
     "output_type": "execute_result"
    }
   ],
   "source": [
    "lda.components_.shape"
   ]
  },
  {
   "cell_type": "code",
   "execution_count": 48,
   "id": "83a9377d",
   "metadata": {},
   "outputs": [
    {
     "name": "stdout",
     "output_type": "stream",
     "text": [
      "----- 主题关键词分布 -----\n",
      "Topic #0:\n",
      "ring | key | pink | letter | bling | reel | ribbon | bracelet | sweetheart | white\n",
      "Topic #1:\n",
      "cake | of | mug | design | set | tea | fairy | stand | pink | plate\n",
      "Topic #2:\n",
      "red | glass | necklace | retrospot | bracelet | green | silver | charm | heart | bead\n",
      "Topic #3:\n",
      "12 | clock | bottle | girl | dolly | pack | party | hot | wall | water\n",
      "Topic #4:\n",
      "bag | metal | blue | pink | vintage | sign | wrap | paper | paisley | easter\n",
      "Topic #5:\n",
      "earrings | pink | vintage | frame | black | mirror | blue | photo | felt | drop\n",
      "Topic #6:\n",
      "set | of | box | garden | 10 | cutlery | lights | cards | paper | vintage\n",
      "Topic #7:\n",
      "christmas | decoration | heart | hanging | with | love | tree | pink | bird | cushion\n",
      "Topic #8:\n",
      "holder | light | heart | wall | art | ivory | small | large | hanging | candle\n",
      "Topic #9:\n",
      "rose | card | assorted | home | in | hook | vintage | doormat | box | candle\n"
     ]
    }
   ],
   "source": [
    "def print_topics(model, vectorizer, n_words=10):\n",
    "    feature_names = vectorizer.get_feature_names_out()\n",
    "    for topic_idx, topic in enumerate(model.components_):\n",
    "        print(f\"Topic #{topic_idx}:\")\n",
    "        print(\" | \".join([feature_names[i]\n",
    "                        for i in topic.argsort()[:-n_words - 1:-1]]))\n",
    "\n",
    "print(\"----- 主题关键词分布 -----\")\n",
    "print_topics(lda, default_vect)"
   ]
  },
  {
   "cell_type": "code",
   "execution_count": 49,
   "id": "3ee3d496",
   "metadata": {},
   "outputs": [
    {
     "data": {
      "text/html": [
       "<div>\n",
       "<style scoped>\n",
       "    .dataframe tbody tr th:only-of-type {\n",
       "        vertical-align: middle;\n",
       "    }\n",
       "\n",
       "    .dataframe tbody tr th {\n",
       "        vertical-align: top;\n",
       "    }\n",
       "\n",
       "    .dataframe thead th {\n",
       "        text-align: right;\n",
       "    }\n",
       "</style>\n",
       "<table border=\"1\" class=\"dataframe\">\n",
       "  <thead>\n",
       "    <tr style=\"text-align: right;\">\n",
       "      <th></th>\n",
       "      <th>Description</th>\n",
       "      <th>Topic_0</th>\n",
       "      <th>Topic_1</th>\n",
       "      <th>Topic_2</th>\n",
       "      <th>Topic_3</th>\n",
       "      <th>Topic_4</th>\n",
       "      <th>Topic_5</th>\n",
       "      <th>Topic_6</th>\n",
       "      <th>Topic_7</th>\n",
       "      <th>Topic_8</th>\n",
       "      <th>Topic_9</th>\n",
       "      <th>Dominant_Topic</th>\n",
       "    </tr>\n",
       "  </thead>\n",
       "  <tbody>\n",
       "    <tr>\n",
       "      <th>0</th>\n",
       "      <td>INFLATABLE POLITICAL GLOBE</td>\n",
       "      <td>0.025000</td>\n",
       "      <td>0.025003</td>\n",
       "      <td>0.025000</td>\n",
       "      <td>0.025000</td>\n",
       "      <td>0.025000</td>\n",
       "      <td>0.025000</td>\n",
       "      <td>0.025000</td>\n",
       "      <td>0.025000</td>\n",
       "      <td>0.025000</td>\n",
       "      <td>0.774997</td>\n",
       "      <td>Topic_9</td>\n",
       "    </tr>\n",
       "    <tr>\n",
       "      <th>1</th>\n",
       "      <td>GROOVY CACTUS INFLATABLE</td>\n",
       "      <td>0.025000</td>\n",
       "      <td>0.774990</td>\n",
       "      <td>0.025000</td>\n",
       "      <td>0.025000</td>\n",
       "      <td>0.025000</td>\n",
       "      <td>0.025000</td>\n",
       "      <td>0.025007</td>\n",
       "      <td>0.025000</td>\n",
       "      <td>0.025000</td>\n",
       "      <td>0.025003</td>\n",
       "      <td>Topic_1</td>\n",
       "    </tr>\n",
       "    <tr>\n",
       "      <th>2</th>\n",
       "      <td>DOGGY RUBBER</td>\n",
       "      <td>0.033333</td>\n",
       "      <td>0.033354</td>\n",
       "      <td>0.033333</td>\n",
       "      <td>0.033333</td>\n",
       "      <td>0.699979</td>\n",
       "      <td>0.033333</td>\n",
       "      <td>0.033333</td>\n",
       "      <td>0.033333</td>\n",
       "      <td>0.033333</td>\n",
       "      <td>0.033333</td>\n",
       "      <td>Topic_4</td>\n",
       "    </tr>\n",
       "    <tr>\n",
       "      <th>3</th>\n",
       "      <td>HEARTS WRAPPING TAPE</td>\n",
       "      <td>0.025000</td>\n",
       "      <td>0.025000</td>\n",
       "      <td>0.025000</td>\n",
       "      <td>0.025001</td>\n",
       "      <td>0.774973</td>\n",
       "      <td>0.025003</td>\n",
       "      <td>0.025005</td>\n",
       "      <td>0.025018</td>\n",
       "      <td>0.025000</td>\n",
       "      <td>0.025001</td>\n",
       "      <td>Topic_4</td>\n",
       "    </tr>\n",
       "    <tr>\n",
       "      <th>4</th>\n",
       "      <td>SPOTS ON RED BOOKCOVER TAPE</td>\n",
       "      <td>0.016667</td>\n",
       "      <td>0.016667</td>\n",
       "      <td>0.016677</td>\n",
       "      <td>0.576341</td>\n",
       "      <td>0.016674</td>\n",
       "      <td>0.016672</td>\n",
       "      <td>0.016667</td>\n",
       "      <td>0.290298</td>\n",
       "      <td>0.016669</td>\n",
       "      <td>0.016668</td>\n",
       "      <td>Topic_3</td>\n",
       "    </tr>\n",
       "    <tr>\n",
       "      <th>...</th>\n",
       "      <td>...</td>\n",
       "      <td>...</td>\n",
       "      <td>...</td>\n",
       "      <td>...</td>\n",
       "      <td>...</td>\n",
       "      <td>...</td>\n",
       "      <td>...</td>\n",
       "      <td>...</td>\n",
       "      <td>...</td>\n",
       "      <td>...</td>\n",
       "      <td>...</td>\n",
       "      <td>...</td>\n",
       "    </tr>\n",
       "    <tr>\n",
       "      <th>4156</th>\n",
       "      <td>Dotcomgiftshop Gift Voucher £20.00</td>\n",
       "      <td>0.849979</td>\n",
       "      <td>0.016667</td>\n",
       "      <td>0.016667</td>\n",
       "      <td>0.016667</td>\n",
       "      <td>0.016669</td>\n",
       "      <td>0.016667</td>\n",
       "      <td>0.016667</td>\n",
       "      <td>0.016668</td>\n",
       "      <td>0.016667</td>\n",
       "      <td>0.016682</td>\n",
       "      <td>Topic_0</td>\n",
       "    </tr>\n",
       "    <tr>\n",
       "      <th>4157</th>\n",
       "      <td>Dotcomgiftshop Gift Voucher £30.00</td>\n",
       "      <td>0.849994</td>\n",
       "      <td>0.016667</td>\n",
       "      <td>0.016667</td>\n",
       "      <td>0.016667</td>\n",
       "      <td>0.016670</td>\n",
       "      <td>0.016667</td>\n",
       "      <td>0.016667</td>\n",
       "      <td>0.016667</td>\n",
       "      <td>0.016667</td>\n",
       "      <td>0.016668</td>\n",
       "      <td>Topic_0</td>\n",
       "    </tr>\n",
       "    <tr>\n",
       "      <th>4158</th>\n",
       "      <td>Dotcomgiftshop Gift Voucher £40.00</td>\n",
       "      <td>0.651486</td>\n",
       "      <td>0.016667</td>\n",
       "      <td>0.016667</td>\n",
       "      <td>0.016668</td>\n",
       "      <td>0.016670</td>\n",
       "      <td>0.016667</td>\n",
       "      <td>0.016667</td>\n",
       "      <td>0.016667</td>\n",
       "      <td>0.016667</td>\n",
       "      <td>0.215175</td>\n",
       "      <td>Topic_0</td>\n",
       "    </tr>\n",
       "    <tr>\n",
       "      <th>4159</th>\n",
       "      <td>Dotcomgiftshop Gift Voucher £50.00</td>\n",
       "      <td>0.849977</td>\n",
       "      <td>0.016667</td>\n",
       "      <td>0.016668</td>\n",
       "      <td>0.016667</td>\n",
       "      <td>0.016669</td>\n",
       "      <td>0.016667</td>\n",
       "      <td>0.016670</td>\n",
       "      <td>0.016679</td>\n",
       "      <td>0.016667</td>\n",
       "      <td>0.016668</td>\n",
       "      <td>Topic_0</td>\n",
       "    </tr>\n",
       "    <tr>\n",
       "      <th>4160</th>\n",
       "      <td>Manual</td>\n",
       "      <td>0.050000</td>\n",
       "      <td>0.050000</td>\n",
       "      <td>0.050000</td>\n",
       "      <td>0.050000</td>\n",
       "      <td>0.050000</td>\n",
       "      <td>0.050000</td>\n",
       "      <td>0.050000</td>\n",
       "      <td>0.050000</td>\n",
       "      <td>0.050000</td>\n",
       "      <td>0.550000</td>\n",
       "      <td>Topic_9</td>\n",
       "    </tr>\n",
       "  </tbody>\n",
       "</table>\n",
       "<p>4161 rows × 12 columns</p>\n",
       "</div>"
      ],
      "text/plain": [
       "                             Description   Topic_0   Topic_1   Topic_2  \\\n",
       "0            INFLATABLE POLITICAL GLOBE   0.025000  0.025003  0.025000   \n",
       "1               GROOVY CACTUS INFLATABLE  0.025000  0.774990  0.025000   \n",
       "2                           DOGGY RUBBER  0.033333  0.033354  0.033333   \n",
       "3                  HEARTS WRAPPING TAPE   0.025000  0.025000  0.025000   \n",
       "4            SPOTS ON RED BOOKCOVER TAPE  0.016667  0.016667  0.016677   \n",
       "...                                  ...       ...       ...       ...   \n",
       "4156  Dotcomgiftshop Gift Voucher £20.00  0.849979  0.016667  0.016667   \n",
       "4157  Dotcomgiftshop Gift Voucher £30.00  0.849994  0.016667  0.016667   \n",
       "4158  Dotcomgiftshop Gift Voucher £40.00  0.651486  0.016667  0.016667   \n",
       "4159  Dotcomgiftshop Gift Voucher £50.00  0.849977  0.016667  0.016668   \n",
       "4160                              Manual  0.050000  0.050000  0.050000   \n",
       "\n",
       "       Topic_3   Topic_4   Topic_5   Topic_6   Topic_7   Topic_8   Topic_9  \\\n",
       "0     0.025000  0.025000  0.025000  0.025000  0.025000  0.025000  0.774997   \n",
       "1     0.025000  0.025000  0.025000  0.025007  0.025000  0.025000  0.025003   \n",
       "2     0.033333  0.699979  0.033333  0.033333  0.033333  0.033333  0.033333   \n",
       "3     0.025001  0.774973  0.025003  0.025005  0.025018  0.025000  0.025001   \n",
       "4     0.576341  0.016674  0.016672  0.016667  0.290298  0.016669  0.016668   \n",
       "...        ...       ...       ...       ...       ...       ...       ...   \n",
       "4156  0.016667  0.016669  0.016667  0.016667  0.016668  0.016667  0.016682   \n",
       "4157  0.016667  0.016670  0.016667  0.016667  0.016667  0.016667  0.016668   \n",
       "4158  0.016668  0.016670  0.016667  0.016667  0.016667  0.016667  0.215175   \n",
       "4159  0.016667  0.016669  0.016667  0.016670  0.016679  0.016667  0.016668   \n",
       "4160  0.050000  0.050000  0.050000  0.050000  0.050000  0.050000  0.550000   \n",
       "\n",
       "     Dominant_Topic  \n",
       "0           Topic_9  \n",
       "1           Topic_1  \n",
       "2           Topic_4  \n",
       "3           Topic_4  \n",
       "4           Topic_3  \n",
       "...             ...  \n",
       "4156        Topic_0  \n",
       "4157        Topic_0  \n",
       "4158        Topic_0  \n",
       "4159        Topic_0  \n",
       "4160        Topic_9  \n",
       "\n",
       "[4161 rows x 12 columns]"
      ]
     },
     "execution_count": 49,
     "metadata": {},
     "output_type": "execute_result"
    }
   ],
   "source": [
    "topic_names = [\"Topic_\" + str(i) for i in range(n_topics)]\n",
    "doc_topic_df = pd.DataFrame(document_topics, columns=topic_names)\n",
    "doc_topic_df['Dominant_Topic'] = doc_topic_df.idxmax(axis=1)\n",
    "results = pd.concat([good_grouped['Description'], doc_topic_df], axis=1)\n",
    "results"
   ]
  },
  {
   "cell_type": "markdown",
   "id": "31214514",
   "metadata": {},
   "source": [
    "## 课堂练习"
   ]
  }
 ],
 "metadata": {
  "kernelspec": {
   "display_name": "keras",
   "language": "python",
   "name": "python3"
  },
  "language_info": {
   "codemirror_mode": {
    "name": "ipython",
    "version": 3
   },
   "file_extension": ".py",
   "mimetype": "text/x-python",
   "name": "python",
   "nbconvert_exporter": "python",
   "pygments_lexer": "ipython3",
   "version": "3.12.0"
  },
  "toc": {
   "base_numbering": 1,
   "nav_menu": {},
   "number_sections": true,
   "sideBar": true,
   "skip_h1_title": true,
   "title_cell": "Table of Contents",
   "title_sidebar": "Contents",
   "toc_cell": false,
   "toc_position": {
    "height": "calc(100% - 180px)",
    "left": "10px",
    "top": "150px",
    "width": "267.24px"
   },
   "toc_section_display": true,
   "toc_window_display": true
  }
 },
 "nbformat": 4,
 "nbformat_minor": 5
}
