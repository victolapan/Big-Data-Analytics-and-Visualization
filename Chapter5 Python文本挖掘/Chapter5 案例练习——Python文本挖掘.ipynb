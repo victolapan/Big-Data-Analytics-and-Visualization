{
 "cells": [
  {
   "cell_type": "markdown",
   "id": "d27d22c1",
   "metadata": {},
   "source": [
    "# Chapter5 案例练习——Python文本挖掘"
   ]
  },
  {
   "cell_type": "code",
   "execution_count": 1,
   "id": "1a05d855",
   "metadata": {},
   "outputs": [],
   "source": [
    "import pandas as pd\n",
    "import numpy as np\n",
    "import matplotlib.pyplot as plt\n",
    "import seaborn as sns\n",
    "import re\n",
    "%matplotlib inline"
   ]
  },
  {
   "cell_type": "code",
   "execution_count": 2,
   "id": "0c86a36e",
   "metadata": {},
   "outputs": [],
   "source": [
    "import warnings\n",
    "warnings.filterwarnings(\"ignore\")"
   ]
  },
  {
   "cell_type": "markdown",
   "id": "f4935764",
   "metadata": {},
   "source": [
    "## 读取数据"
   ]
  },
  {
   "cell_type": "code",
   "execution_count": 3,
   "id": "4035c27f",
   "metadata": {},
   "outputs": [],
   "source": [
    "dtype = {\n",
    "    \"InvoiceNo\": \"string\",\n",
    "    \"StockCode\": \"string\",\n",
    "    \"Description\": \"string\",\n",
    "    \"Quantity\": \"int32\",\n",
    "    \"UnitPrice\": \"float32\",\n",
    "    \"CustomerID\": \"string\",\n",
    "    \"Country\": \"string\"\n",
    "}\n",
    "\n",
    "filename = '../data/Online Retail Preprocessing.xlsx'\n",
    "sales_success = pd.read_excel(filename, sheet_name='Online Retail Preprocessing', dtype=dtype, engine='calamine')"
   ]
  },
  {
   "cell_type": "code",
   "execution_count": 4,
   "id": "76311644",
   "metadata": {},
   "outputs": [
    {
     "data": {
      "text/plain": [
       "InvoiceNo        string[python]\n",
       "StockCode        string[python]\n",
       "Description      string[python]\n",
       "Quantity                  int32\n",
       "InvoiceDate      datetime64[ns]\n",
       "UnitPrice               float32\n",
       "CustomerID       string[python]\n",
       "Country          string[python]\n",
       "UnitPrice_RMB           float64\n",
       "SumPrice                float64\n",
       "Month                     int64\n",
       "Date             datetime64[ns]\n",
       "Dayofweek                 int64\n",
       "Quarter                   int64\n",
       "Hour                      int64\n",
       "dtype: object"
      ]
     },
     "execution_count": 4,
     "metadata": {},
     "output_type": "execute_result"
    }
   ],
   "source": [
    "sales_success.dtypes"
   ]
  },
  {
   "cell_type": "code",
   "execution_count": 5,
   "id": "032507ed",
   "metadata": {},
   "outputs": [
    {
     "data": {
      "text/html": [
       "<div>\n",
       "<style scoped>\n",
       "    .dataframe tbody tr th:only-of-type {\n",
       "        vertical-align: middle;\n",
       "    }\n",
       "\n",
       "    .dataframe tbody tr th {\n",
       "        vertical-align: top;\n",
       "    }\n",
       "\n",
       "    .dataframe thead th {\n",
       "        text-align: right;\n",
       "    }\n",
       "</style>\n",
       "<table border=\"1\" class=\"dataframe\">\n",
       "  <thead>\n",
       "    <tr style=\"text-align: right;\">\n",
       "      <th></th>\n",
       "      <th>InvoiceNo</th>\n",
       "      <th>StockCode</th>\n",
       "      <th>Description</th>\n",
       "      <th>Quantity</th>\n",
       "      <th>InvoiceDate</th>\n",
       "      <th>UnitPrice</th>\n",
       "      <th>CustomerID</th>\n",
       "      <th>Country</th>\n",
       "      <th>UnitPrice_RMB</th>\n",
       "      <th>SumPrice</th>\n",
       "      <th>Month</th>\n",
       "      <th>Date</th>\n",
       "      <th>Dayofweek</th>\n",
       "      <th>Quarter</th>\n",
       "      <th>Hour</th>\n",
       "    </tr>\n",
       "  </thead>\n",
       "  <tbody>\n",
       "    <tr>\n",
       "      <th>0</th>\n",
       "      <td>536365</td>\n",
       "      <td>85123A</td>\n",
       "      <td>WHITE HANGING HEART T-LIGHT HOLDER</td>\n",
       "      <td>6</td>\n",
       "      <td>2010-12-01 08:26:00</td>\n",
       "      <td>2.55</td>\n",
       "      <td>17850</td>\n",
       "      <td>United Kingdom</td>\n",
       "      <td>23.1030</td>\n",
       "      <td>138.6180</td>\n",
       "      <td>12</td>\n",
       "      <td>2010-12-01</td>\n",
       "      <td>2</td>\n",
       "      <td>4</td>\n",
       "      <td>8</td>\n",
       "    </tr>\n",
       "    <tr>\n",
       "      <th>1</th>\n",
       "      <td>536365</td>\n",
       "      <td>71053</td>\n",
       "      <td>WHITE METAL LANTERN</td>\n",
       "      <td>6</td>\n",
       "      <td>2010-12-01 08:26:00</td>\n",
       "      <td>3.39</td>\n",
       "      <td>17850</td>\n",
       "      <td>United Kingdom</td>\n",
       "      <td>30.7134</td>\n",
       "      <td>184.2804</td>\n",
       "      <td>12</td>\n",
       "      <td>2010-12-01</td>\n",
       "      <td>2</td>\n",
       "      <td>4</td>\n",
       "      <td>8</td>\n",
       "    </tr>\n",
       "    <tr>\n",
       "      <th>2</th>\n",
       "      <td>536365</td>\n",
       "      <td>84406B</td>\n",
       "      <td>CREAM CUPID HEARTS COAT HANGER</td>\n",
       "      <td>8</td>\n",
       "      <td>2010-12-01 08:26:00</td>\n",
       "      <td>2.75</td>\n",
       "      <td>17850</td>\n",
       "      <td>United Kingdom</td>\n",
       "      <td>24.9150</td>\n",
       "      <td>199.3200</td>\n",
       "      <td>12</td>\n",
       "      <td>2010-12-01</td>\n",
       "      <td>2</td>\n",
       "      <td>4</td>\n",
       "      <td>8</td>\n",
       "    </tr>\n",
       "    <tr>\n",
       "      <th>3</th>\n",
       "      <td>536365</td>\n",
       "      <td>84029G</td>\n",
       "      <td>KNITTED UNION FLAG HOT WATER BOTTLE</td>\n",
       "      <td>6</td>\n",
       "      <td>2010-12-01 08:26:00</td>\n",
       "      <td>3.39</td>\n",
       "      <td>17850</td>\n",
       "      <td>United Kingdom</td>\n",
       "      <td>30.7134</td>\n",
       "      <td>184.2804</td>\n",
       "      <td>12</td>\n",
       "      <td>2010-12-01</td>\n",
       "      <td>2</td>\n",
       "      <td>4</td>\n",
       "      <td>8</td>\n",
       "    </tr>\n",
       "    <tr>\n",
       "      <th>4</th>\n",
       "      <td>536365</td>\n",
       "      <td>84029E</td>\n",
       "      <td>RED WOOLLY HOTTIE WHITE HEART.</td>\n",
       "      <td>6</td>\n",
       "      <td>2010-12-01 08:26:00</td>\n",
       "      <td>3.39</td>\n",
       "      <td>17850</td>\n",
       "      <td>United Kingdom</td>\n",
       "      <td>30.7134</td>\n",
       "      <td>184.2804</td>\n",
       "      <td>12</td>\n",
       "      <td>2010-12-01</td>\n",
       "      <td>2</td>\n",
       "      <td>4</td>\n",
       "      <td>8</td>\n",
       "    </tr>\n",
       "  </tbody>\n",
       "</table>\n",
       "</div>"
      ],
      "text/plain": [
       "  InvoiceNo StockCode                          Description  Quantity  \\\n",
       "0    536365    85123A   WHITE HANGING HEART T-LIGHT HOLDER         6   \n",
       "1    536365     71053                  WHITE METAL LANTERN         6   \n",
       "2    536365    84406B       CREAM CUPID HEARTS COAT HANGER         8   \n",
       "3    536365    84029G  KNITTED UNION FLAG HOT WATER BOTTLE         6   \n",
       "4    536365    84029E       RED WOOLLY HOTTIE WHITE HEART.         6   \n",
       "\n",
       "          InvoiceDate  UnitPrice CustomerID         Country  UnitPrice_RMB  \\\n",
       "0 2010-12-01 08:26:00       2.55      17850  United Kingdom        23.1030   \n",
       "1 2010-12-01 08:26:00       3.39      17850  United Kingdom        30.7134   \n",
       "2 2010-12-01 08:26:00       2.75      17850  United Kingdom        24.9150   \n",
       "3 2010-12-01 08:26:00       3.39      17850  United Kingdom        30.7134   \n",
       "4 2010-12-01 08:26:00       3.39      17850  United Kingdom        30.7134   \n",
       "\n",
       "   SumPrice  Month       Date  Dayofweek  Quarter  Hour  \n",
       "0  138.6180     12 2010-12-01          2        4     8  \n",
       "1  184.2804     12 2010-12-01          2        4     8  \n",
       "2  199.3200     12 2010-12-01          2        4     8  \n",
       "3  184.2804     12 2010-12-01          2        4     8  \n",
       "4  184.2804     12 2010-12-01          2        4     8  "
      ]
     },
     "execution_count": 5,
     "metadata": {},
     "output_type": "execute_result"
    }
   ],
   "source": [
    "sales_success.head()"
   ]
  },
  {
   "cell_type": "markdown",
   "id": "5488aa37",
   "metadata": {},
   "source": [
    "## 数据预处理"
   ]
  },
  {
   "cell_type": "markdown",
   "id": "9d03022b",
   "metadata": {},
   "source": [
    "### 分组聚合"
   ]
  },
  {
   "cell_type": "code",
   "execution_count": 6,
   "id": "999d63c7",
   "metadata": {},
   "outputs": [
    {
     "data": {
      "text/html": [
       "<div>\n",
       "<style scoped>\n",
       "    .dataframe tbody tr th:only-of-type {\n",
       "        vertical-align: middle;\n",
       "    }\n",
       "\n",
       "    .dataframe tbody tr th {\n",
       "        vertical-align: top;\n",
       "    }\n",
       "\n",
       "    .dataframe thead th {\n",
       "        text-align: right;\n",
       "    }\n",
       "</style>\n",
       "<table border=\"1\" class=\"dataframe\">\n",
       "  <thead>\n",
       "    <tr style=\"text-align: right;\">\n",
       "      <th></th>\n",
       "      <th>StockCode</th>\n",
       "      <th>Description</th>\n",
       "      <th>SumPrice</th>\n",
       "      <th>Quantity</th>\n",
       "    </tr>\n",
       "  </thead>\n",
       "  <tbody>\n",
       "    <tr>\n",
       "      <th>0</th>\n",
       "      <td>10002</td>\n",
       "      <td>INFLATABLE POLITICAL GLOBE</td>\n",
       "      <td>6884.6034</td>\n",
       "      <td>860</td>\n",
       "    </tr>\n",
       "    <tr>\n",
       "      <th>1</th>\n",
       "      <td>10080</td>\n",
       "      <td>GROOVY CACTUS INFLATABLE</td>\n",
       "      <td>1078.9554</td>\n",
       "      <td>303</td>\n",
       "    </tr>\n",
       "    <tr>\n",
       "      <th>2</th>\n",
       "      <td>10120</td>\n",
       "      <td>DOGGY RUBBER</td>\n",
       "      <td>365.2992</td>\n",
       "      <td>192</td>\n",
       "    </tr>\n",
       "    <tr>\n",
       "      <th>3</th>\n",
       "      <td>10123C</td>\n",
       "      <td>HEARTS WRAPPING TAPE</td>\n",
       "      <td>29.4450</td>\n",
       "      <td>5</td>\n",
       "    </tr>\n",
       "    <tr>\n",
       "      <th>4</th>\n",
       "      <td>10124A</td>\n",
       "      <td>SPOTS ON RED BOOKCOVER TAPE</td>\n",
       "      <td>60.8832</td>\n",
       "      <td>16</td>\n",
       "    </tr>\n",
       "    <tr>\n",
       "      <th>...</th>\n",
       "      <td>...</td>\n",
       "      <td>...</td>\n",
       "      <td>...</td>\n",
       "      <td>...</td>\n",
       "    </tr>\n",
       "    <tr>\n",
       "      <th>4156</th>\n",
       "      <td>gift_0001_20</td>\n",
       "      <td>Dotcomgiftshop Gift Voucher £20.00</td>\n",
       "      <td>1513.4730</td>\n",
       "      <td>10</td>\n",
       "    </tr>\n",
       "    <tr>\n",
       "      <th>4157</th>\n",
       "      <td>gift_0001_30</td>\n",
       "      <td>Dotcomgiftshop Gift Voucher £30.00</td>\n",
       "      <td>1590.3018</td>\n",
       "      <td>7</td>\n",
       "    </tr>\n",
       "    <tr>\n",
       "      <th>4158</th>\n",
       "      <td>gift_0001_40</td>\n",
       "      <td>Dotcomgiftshop Gift Voucher £40.00</td>\n",
       "      <td>912.3420</td>\n",
       "      <td>3</td>\n",
       "    </tr>\n",
       "    <tr>\n",
       "      <th>4159</th>\n",
       "      <td>gift_0001_50</td>\n",
       "      <td>Dotcomgiftshop Gift Voucher £50.00</td>\n",
       "      <td>1518.0936</td>\n",
       "      <td>4</td>\n",
       "    </tr>\n",
       "    <tr>\n",
       "      <th>4160</th>\n",
       "      <td>m</td>\n",
       "      <td>Manual</td>\n",
       "      <td>23.1030</td>\n",
       "      <td>1</td>\n",
       "    </tr>\n",
       "  </tbody>\n",
       "</table>\n",
       "<p>4161 rows × 4 columns</p>\n",
       "</div>"
      ],
      "text/plain": [
       "         StockCode                         Description   SumPrice  Quantity\n",
       "0            10002         INFLATABLE POLITICAL GLOBE   6884.6034       860\n",
       "1            10080            GROOVY CACTUS INFLATABLE  1078.9554       303\n",
       "2            10120                        DOGGY RUBBER   365.2992       192\n",
       "3           10123C               HEARTS WRAPPING TAPE     29.4450         5\n",
       "4           10124A         SPOTS ON RED BOOKCOVER TAPE    60.8832        16\n",
       "...            ...                                 ...        ...       ...\n",
       "4156  gift_0001_20  Dotcomgiftshop Gift Voucher £20.00  1513.4730        10\n",
       "4157  gift_0001_30  Dotcomgiftshop Gift Voucher £30.00  1590.3018         7\n",
       "4158  gift_0001_40  Dotcomgiftshop Gift Voucher £40.00   912.3420         3\n",
       "4159  gift_0001_50  Dotcomgiftshop Gift Voucher £50.00  1518.0936         4\n",
       "4160             m                              Manual    23.1030         1\n",
       "\n",
       "[4161 rows x 4 columns]"
      ]
     },
     "execution_count": 6,
     "metadata": {},
     "output_type": "execute_result"
    }
   ],
   "source": [
    "good_grouped = sales_success.groupby(['StockCode', 'Description'], as_index=False)[['SumPrice','Quantity']].sum()\n",
    "good_grouped"
   ]
  },
  {
   "cell_type": "markdown",
   "id": "c9f4319b",
   "metadata": {},
   "source": [
    "### 生成热门分类变量"
   ]
  },
  {
   "cell_type": "code",
   "execution_count": 7,
   "id": "b9c4eeee",
   "metadata": {},
   "outputs": [
    {
     "data": {
      "text/plain": [
       "np.float64(323.0)"
      ]
     },
     "execution_count": 7,
     "metadata": {},
     "output_type": "execute_result"
    }
   ],
   "source": [
    "good_grouped['Quantity'].median()"
   ]
  },
  {
   "cell_type": "code",
   "execution_count": 8,
   "id": "f12c705d",
   "metadata": {},
   "outputs": [
    {
     "data": {
      "text/plain": [
       "np.float64(1339.2021148762317)"
      ]
     },
     "execution_count": 8,
     "metadata": {},
     "output_type": "execute_result"
    }
   ],
   "source": [
    "good_grouped['Quantity'].mean()"
   ]
  },
  {
   "cell_type": "markdown",
   "id": "e35793ac",
   "metadata": {},
   "source": [
    "以0.8为分位数"
   ]
  },
  {
   "cell_type": "code",
   "execution_count": 9,
   "id": "49a428f6",
   "metadata": {},
   "outputs": [
    {
     "data": {
      "text/plain": [
       "np.float64(1752.0)"
      ]
     },
     "execution_count": 9,
     "metadata": {},
     "output_type": "execute_result"
    }
   ],
   "source": [
    "threshold = good_grouped['Quantity'].quantile(0.8)\n",
    "threshold"
   ]
  },
  {
   "cell_type": "code",
   "execution_count": 10,
   "id": "916af122",
   "metadata": {},
   "outputs": [],
   "source": [
    "from sklearn.preprocessing import Binarizer\n",
    "\n",
    "binarizer = Binarizer(threshold=threshold)\n",
    "good_grouped['Hot'] = binarizer.fit_transform(good_grouped[['Quantity']])"
   ]
  },
  {
   "cell_type": "code",
   "execution_count": 11,
   "id": "9659bc4c",
   "metadata": {},
   "outputs": [
    {
     "data": {
      "text/html": [
       "<div>\n",
       "<style scoped>\n",
       "    .dataframe tbody tr th:only-of-type {\n",
       "        vertical-align: middle;\n",
       "    }\n",
       "\n",
       "    .dataframe tbody tr th {\n",
       "        vertical-align: top;\n",
       "    }\n",
       "\n",
       "    .dataframe thead th {\n",
       "        text-align: right;\n",
       "    }\n",
       "</style>\n",
       "<table border=\"1\" class=\"dataframe\">\n",
       "  <thead>\n",
       "    <tr style=\"text-align: right;\">\n",
       "      <th></th>\n",
       "      <th>StockCode</th>\n",
       "      <th>Description</th>\n",
       "      <th>SumPrice</th>\n",
       "      <th>Quantity</th>\n",
       "      <th>Hot</th>\n",
       "    </tr>\n",
       "  </thead>\n",
       "  <tbody>\n",
       "    <tr>\n",
       "      <th>0</th>\n",
       "      <td>10002</td>\n",
       "      <td>INFLATABLE POLITICAL GLOBE</td>\n",
       "      <td>6884.6034</td>\n",
       "      <td>860</td>\n",
       "      <td>0</td>\n",
       "    </tr>\n",
       "    <tr>\n",
       "      <th>1</th>\n",
       "      <td>10080</td>\n",
       "      <td>GROOVY CACTUS INFLATABLE</td>\n",
       "      <td>1078.9554</td>\n",
       "      <td>303</td>\n",
       "      <td>0</td>\n",
       "    </tr>\n",
       "    <tr>\n",
       "      <th>2</th>\n",
       "      <td>10120</td>\n",
       "      <td>DOGGY RUBBER</td>\n",
       "      <td>365.2992</td>\n",
       "      <td>192</td>\n",
       "      <td>0</td>\n",
       "    </tr>\n",
       "    <tr>\n",
       "      <th>3</th>\n",
       "      <td>10123C</td>\n",
       "      <td>HEARTS WRAPPING TAPE</td>\n",
       "      <td>29.4450</td>\n",
       "      <td>5</td>\n",
       "      <td>0</td>\n",
       "    </tr>\n",
       "    <tr>\n",
       "      <th>4</th>\n",
       "      <td>10124A</td>\n",
       "      <td>SPOTS ON RED BOOKCOVER TAPE</td>\n",
       "      <td>60.8832</td>\n",
       "      <td>16</td>\n",
       "      <td>0</td>\n",
       "    </tr>\n",
       "  </tbody>\n",
       "</table>\n",
       "</div>"
      ],
      "text/plain": [
       "  StockCode                  Description   SumPrice  Quantity  Hot\n",
       "0     10002  INFLATABLE POLITICAL GLOBE   6884.6034       860    0\n",
       "1     10080     GROOVY CACTUS INFLATABLE  1078.9554       303    0\n",
       "2     10120                 DOGGY RUBBER   365.2992       192    0\n",
       "3    10123C        HEARTS WRAPPING TAPE     29.4450         5    0\n",
       "4    10124A  SPOTS ON RED BOOKCOVER TAPE    60.8832        16    0"
      ]
     },
     "execution_count": 11,
     "metadata": {},
     "output_type": "execute_result"
    }
   ],
   "source": [
    "good_grouped.head()"
   ]
  },
  {
   "cell_type": "code",
   "execution_count": 12,
   "id": "f66dad90",
   "metadata": {},
   "outputs": [
    {
     "data": {
      "text/plain": [
       "Hot\n",
       "0    3330\n",
       "1     831\n",
       "Name: count, dtype: int64"
      ]
     },
     "execution_count": 12,
     "metadata": {},
     "output_type": "execute_result"
    }
   ],
   "source": [
    "good_grouped.Hot.value_counts()"
   ]
  },
  {
   "cell_type": "markdown",
   "id": "cd78aa92",
   "metadata": {},
   "source": [
    "### 词袋模型"
   ]
  },
  {
   "cell_type": "code",
   "execution_count": 13,
   "id": "c7e8ebd8",
   "metadata": {},
   "outputs": [],
   "source": [
    "X = good_grouped.Description\n",
    "y = good_grouped.Hot"
   ]
  },
  {
   "cell_type": "code",
   "execution_count": 14,
   "id": "725853cd",
   "metadata": {},
   "outputs": [
    {
     "name": "stdout",
     "output_type": "stream",
     "text": [
      "X:\n",
      "<4161x2137 sparse matrix of type '<class 'numpy.int64'>'\n",
      "\twith 17872 stored elements in Compressed Sparse Row format>\n"
     ]
    }
   ],
   "source": [
    "from sklearn.feature_extraction.text import CountVectorizer\n",
    "\n",
    "count_vect = CountVectorizer()\n",
    "X_matrix = count_vect.fit_transform(X)\n",
    "print(\"X:\\n{}\".format(repr(X_matrix)))"
   ]
  },
  {
   "cell_type": "code",
   "execution_count": 15,
   "id": "09fc6f3b",
   "metadata": {},
   "outputs": [
    {
     "name": "stdout",
     "output_type": "stream",
     "text": [
      "Number of features: 2137\n",
      "First 20 features:\n",
      "['00' '10' '100' '11' '12' '120cm' '125g' '15' '15c' '15cm' '16' '16954'\n",
      " '16955' '16956' '16957' '16960' '16961' '16963' '16965' '16x16cm']\n",
      "Features 20010 to 20030:\n",
      "[]\n",
      "Every 2000th feature:\n",
      "['00' 'toys']\n"
     ]
    }
   ],
   "source": [
    "feature_names = count_vect.get_feature_names_out()\n",
    "print(\"Number of features: {}\".format(len(feature_names)))\n",
    "print(\"First 20 features:\\n{}\".format(feature_names[:20]))\n",
    "print(\"Features 20010 to 20030:\\n{}\".format(feature_names[20010:20030]))\n",
    "print(\"Every 2000th feature:\\n{}\".format(feature_names[::2000]))"
   ]
  },
  {
   "cell_type": "code",
   "execution_count": 16,
   "id": "78739e1b",
   "metadata": {},
   "outputs": [
    {
     "data": {
      "text/html": [
       "<div>\n",
       "<style scoped>\n",
       "    .dataframe tbody tr th:only-of-type {\n",
       "        vertical-align: middle;\n",
       "    }\n",
       "\n",
       "    .dataframe tbody tr th {\n",
       "        vertical-align: top;\n",
       "    }\n",
       "\n",
       "    .dataframe thead th {\n",
       "        text-align: right;\n",
       "    }\n",
       "</style>\n",
       "<table border=\"1\" class=\"dataframe\">\n",
       "  <thead>\n",
       "    <tr style=\"text-align: right;\">\n",
       "      <th></th>\n",
       "      <th>00</th>\n",
       "      <th>10</th>\n",
       "      <th>100</th>\n",
       "      <th>11</th>\n",
       "      <th>12</th>\n",
       "      <th>120cm</th>\n",
       "      <th>125g</th>\n",
       "      <th>15</th>\n",
       "      <th>15c</th>\n",
       "      <th>15cm</th>\n",
       "      <th>...</th>\n",
       "      <th>wraps</th>\n",
       "      <th>wreath</th>\n",
       "      <th>wrecking</th>\n",
       "      <th>writing</th>\n",
       "      <th>xmas</th>\n",
       "      <th>yellow</th>\n",
       "      <th>you</th>\n",
       "      <th>your</th>\n",
       "      <th>yuletide</th>\n",
       "      <th>zinc</th>\n",
       "    </tr>\n",
       "  </thead>\n",
       "  <tbody>\n",
       "    <tr>\n",
       "      <th>0</th>\n",
       "      <td>0</td>\n",
       "      <td>0</td>\n",
       "      <td>0</td>\n",
       "      <td>0</td>\n",
       "      <td>0</td>\n",
       "      <td>0</td>\n",
       "      <td>0</td>\n",
       "      <td>0</td>\n",
       "      <td>0</td>\n",
       "      <td>0</td>\n",
       "      <td>...</td>\n",
       "      <td>0</td>\n",
       "      <td>0</td>\n",
       "      <td>0</td>\n",
       "      <td>0</td>\n",
       "      <td>0</td>\n",
       "      <td>0</td>\n",
       "      <td>0</td>\n",
       "      <td>0</td>\n",
       "      <td>0</td>\n",
       "      <td>0</td>\n",
       "    </tr>\n",
       "    <tr>\n",
       "      <th>1</th>\n",
       "      <td>0</td>\n",
       "      <td>0</td>\n",
       "      <td>0</td>\n",
       "      <td>0</td>\n",
       "      <td>0</td>\n",
       "      <td>0</td>\n",
       "      <td>0</td>\n",
       "      <td>0</td>\n",
       "      <td>0</td>\n",
       "      <td>0</td>\n",
       "      <td>...</td>\n",
       "      <td>0</td>\n",
       "      <td>0</td>\n",
       "      <td>0</td>\n",
       "      <td>0</td>\n",
       "      <td>0</td>\n",
       "      <td>0</td>\n",
       "      <td>0</td>\n",
       "      <td>0</td>\n",
       "      <td>0</td>\n",
       "      <td>0</td>\n",
       "    </tr>\n",
       "    <tr>\n",
       "      <th>2</th>\n",
       "      <td>0</td>\n",
       "      <td>0</td>\n",
       "      <td>0</td>\n",
       "      <td>0</td>\n",
       "      <td>0</td>\n",
       "      <td>0</td>\n",
       "      <td>0</td>\n",
       "      <td>0</td>\n",
       "      <td>0</td>\n",
       "      <td>0</td>\n",
       "      <td>...</td>\n",
       "      <td>0</td>\n",
       "      <td>0</td>\n",
       "      <td>0</td>\n",
       "      <td>0</td>\n",
       "      <td>0</td>\n",
       "      <td>0</td>\n",
       "      <td>0</td>\n",
       "      <td>0</td>\n",
       "      <td>0</td>\n",
       "      <td>0</td>\n",
       "    </tr>\n",
       "    <tr>\n",
       "      <th>3</th>\n",
       "      <td>0</td>\n",
       "      <td>0</td>\n",
       "      <td>0</td>\n",
       "      <td>0</td>\n",
       "      <td>0</td>\n",
       "      <td>0</td>\n",
       "      <td>0</td>\n",
       "      <td>0</td>\n",
       "      <td>0</td>\n",
       "      <td>0</td>\n",
       "      <td>...</td>\n",
       "      <td>0</td>\n",
       "      <td>0</td>\n",
       "      <td>0</td>\n",
       "      <td>0</td>\n",
       "      <td>0</td>\n",
       "      <td>0</td>\n",
       "      <td>0</td>\n",
       "      <td>0</td>\n",
       "      <td>0</td>\n",
       "      <td>0</td>\n",
       "    </tr>\n",
       "    <tr>\n",
       "      <th>4</th>\n",
       "      <td>0</td>\n",
       "      <td>0</td>\n",
       "      <td>0</td>\n",
       "      <td>0</td>\n",
       "      <td>0</td>\n",
       "      <td>0</td>\n",
       "      <td>0</td>\n",
       "      <td>0</td>\n",
       "      <td>0</td>\n",
       "      <td>0</td>\n",
       "      <td>...</td>\n",
       "      <td>0</td>\n",
       "      <td>0</td>\n",
       "      <td>0</td>\n",
       "      <td>0</td>\n",
       "      <td>0</td>\n",
       "      <td>0</td>\n",
       "      <td>0</td>\n",
       "      <td>0</td>\n",
       "      <td>0</td>\n",
       "      <td>0</td>\n",
       "    </tr>\n",
       "    <tr>\n",
       "      <th>...</th>\n",
       "      <td>...</td>\n",
       "      <td>...</td>\n",
       "      <td>...</td>\n",
       "      <td>...</td>\n",
       "      <td>...</td>\n",
       "      <td>...</td>\n",
       "      <td>...</td>\n",
       "      <td>...</td>\n",
       "      <td>...</td>\n",
       "      <td>...</td>\n",
       "      <td>...</td>\n",
       "      <td>...</td>\n",
       "      <td>...</td>\n",
       "      <td>...</td>\n",
       "      <td>...</td>\n",
       "      <td>...</td>\n",
       "      <td>...</td>\n",
       "      <td>...</td>\n",
       "      <td>...</td>\n",
       "      <td>...</td>\n",
       "      <td>...</td>\n",
       "    </tr>\n",
       "    <tr>\n",
       "      <th>4156</th>\n",
       "      <td>1</td>\n",
       "      <td>0</td>\n",
       "      <td>0</td>\n",
       "      <td>0</td>\n",
       "      <td>0</td>\n",
       "      <td>0</td>\n",
       "      <td>0</td>\n",
       "      <td>0</td>\n",
       "      <td>0</td>\n",
       "      <td>0</td>\n",
       "      <td>...</td>\n",
       "      <td>0</td>\n",
       "      <td>0</td>\n",
       "      <td>0</td>\n",
       "      <td>0</td>\n",
       "      <td>0</td>\n",
       "      <td>0</td>\n",
       "      <td>0</td>\n",
       "      <td>0</td>\n",
       "      <td>0</td>\n",
       "      <td>0</td>\n",
       "    </tr>\n",
       "    <tr>\n",
       "      <th>4157</th>\n",
       "      <td>1</td>\n",
       "      <td>0</td>\n",
       "      <td>0</td>\n",
       "      <td>0</td>\n",
       "      <td>0</td>\n",
       "      <td>0</td>\n",
       "      <td>0</td>\n",
       "      <td>0</td>\n",
       "      <td>0</td>\n",
       "      <td>0</td>\n",
       "      <td>...</td>\n",
       "      <td>0</td>\n",
       "      <td>0</td>\n",
       "      <td>0</td>\n",
       "      <td>0</td>\n",
       "      <td>0</td>\n",
       "      <td>0</td>\n",
       "      <td>0</td>\n",
       "      <td>0</td>\n",
       "      <td>0</td>\n",
       "      <td>0</td>\n",
       "    </tr>\n",
       "    <tr>\n",
       "      <th>4158</th>\n",
       "      <td>1</td>\n",
       "      <td>0</td>\n",
       "      <td>0</td>\n",
       "      <td>0</td>\n",
       "      <td>0</td>\n",
       "      <td>0</td>\n",
       "      <td>0</td>\n",
       "      <td>0</td>\n",
       "      <td>0</td>\n",
       "      <td>0</td>\n",
       "      <td>...</td>\n",
       "      <td>0</td>\n",
       "      <td>0</td>\n",
       "      <td>0</td>\n",
       "      <td>0</td>\n",
       "      <td>0</td>\n",
       "      <td>0</td>\n",
       "      <td>0</td>\n",
       "      <td>0</td>\n",
       "      <td>0</td>\n",
       "      <td>0</td>\n",
       "    </tr>\n",
       "    <tr>\n",
       "      <th>4159</th>\n",
       "      <td>1</td>\n",
       "      <td>0</td>\n",
       "      <td>0</td>\n",
       "      <td>0</td>\n",
       "      <td>0</td>\n",
       "      <td>0</td>\n",
       "      <td>0</td>\n",
       "      <td>0</td>\n",
       "      <td>0</td>\n",
       "      <td>0</td>\n",
       "      <td>...</td>\n",
       "      <td>0</td>\n",
       "      <td>0</td>\n",
       "      <td>0</td>\n",
       "      <td>0</td>\n",
       "      <td>0</td>\n",
       "      <td>0</td>\n",
       "      <td>0</td>\n",
       "      <td>0</td>\n",
       "      <td>0</td>\n",
       "      <td>0</td>\n",
       "    </tr>\n",
       "    <tr>\n",
       "      <th>4160</th>\n",
       "      <td>0</td>\n",
       "      <td>0</td>\n",
       "      <td>0</td>\n",
       "      <td>0</td>\n",
       "      <td>0</td>\n",
       "      <td>0</td>\n",
       "      <td>0</td>\n",
       "      <td>0</td>\n",
       "      <td>0</td>\n",
       "      <td>0</td>\n",
       "      <td>...</td>\n",
       "      <td>0</td>\n",
       "      <td>0</td>\n",
       "      <td>0</td>\n",
       "      <td>0</td>\n",
       "      <td>0</td>\n",
       "      <td>0</td>\n",
       "      <td>0</td>\n",
       "      <td>0</td>\n",
       "      <td>0</td>\n",
       "      <td>0</td>\n",
       "    </tr>\n",
       "  </tbody>\n",
       "</table>\n",
       "<p>4161 rows × 2137 columns</p>\n",
       "</div>"
      ],
      "text/plain": [
       "      00  10  100  11  12  120cm  125g  15  15c  15cm  ...  wraps  wreath  \\\n",
       "0      0   0    0   0   0      0     0   0    0     0  ...      0       0   \n",
       "1      0   0    0   0   0      0     0   0    0     0  ...      0       0   \n",
       "2      0   0    0   0   0      0     0   0    0     0  ...      0       0   \n",
       "3      0   0    0   0   0      0     0   0    0     0  ...      0       0   \n",
       "4      0   0    0   0   0      0     0   0    0     0  ...      0       0   \n",
       "...   ..  ..  ...  ..  ..    ...   ...  ..  ...   ...  ...    ...     ...   \n",
       "4156   1   0    0   0   0      0     0   0    0     0  ...      0       0   \n",
       "4157   1   0    0   0   0      0     0   0    0     0  ...      0       0   \n",
       "4158   1   0    0   0   0      0     0   0    0     0  ...      0       0   \n",
       "4159   1   0    0   0   0      0     0   0    0     0  ...      0       0   \n",
       "4160   0   0    0   0   0      0     0   0    0     0  ...      0       0   \n",
       "\n",
       "      wrecking  writing  xmas  yellow  you  your  yuletide  zinc  \n",
       "0            0        0     0       0    0     0         0     0  \n",
       "1            0        0     0       0    0     0         0     0  \n",
       "2            0        0     0       0    0     0         0     0  \n",
       "3            0        0     0       0    0     0         0     0  \n",
       "4            0        0     0       0    0     0         0     0  \n",
       "...        ...      ...   ...     ...  ...   ...       ...   ...  \n",
       "4156         0        0     0       0    0     0         0     0  \n",
       "4157         0        0     0       0    0     0         0     0  \n",
       "4158         0        0     0       0    0     0         0     0  \n",
       "4159         0        0     0       0    0     0         0     0  \n",
       "4160         0        0     0       0    0     0         0     0  \n",
       "\n",
       "[4161 rows x 2137 columns]"
      ]
     },
     "execution_count": 16,
     "metadata": {},
     "output_type": "execute_result"
    }
   ],
   "source": [
    "pd.DataFrame(X_matrix.toarray(), columns=count_vect.get_feature_names_out())"
   ]
  },
  {
   "cell_type": "markdown",
   "id": "727936ab",
   "metadata": {},
   "source": [
    "### 可视化"
   ]
  },
  {
   "cell_type": "code",
   "execution_count": 17,
   "id": "73106305",
   "metadata": {},
   "outputs": [
    {
     "name": "stdout",
     "output_type": "stream",
     "text": [
      "Requirement already satisfied: wordcloud in c:\\users\\victola pan\\appdata\\roaming\\python\\python312\\site-packages (1.9.4)\n",
      "Requirement already satisfied: numpy>=1.6.1 in d:\\programdata\\anaconda3\\envs\\keras\\lib\\site-packages (from wordcloud) (2.2.6)\n",
      "Requirement already satisfied: pillow in d:\\programdata\\anaconda3\\envs\\keras\\lib\\site-packages (from wordcloud) (11.2.1)\n",
      "Requirement already satisfied: matplotlib in d:\\programdata\\anaconda3\\envs\\keras\\lib\\site-packages (from wordcloud) (3.10.3)\n",
      "Requirement already satisfied: contourpy>=1.0.1 in d:\\programdata\\anaconda3\\envs\\keras\\lib\\site-packages (from matplotlib->wordcloud) (1.3.2)\n",
      "Requirement already satisfied: cycler>=0.10 in d:\\programdata\\anaconda3\\envs\\keras\\lib\\site-packages (from matplotlib->wordcloud) (0.12.1)\n",
      "Requirement already satisfied: fonttools>=4.22.0 in d:\\programdata\\anaconda3\\envs\\keras\\lib\\site-packages (from matplotlib->wordcloud) (4.58.0)\n",
      "Requirement already satisfied: kiwisolver>=1.3.1 in d:\\programdata\\anaconda3\\envs\\keras\\lib\\site-packages (from matplotlib->wordcloud) (1.4.8)\n",
      "Requirement already satisfied: packaging>=20.0 in d:\\programdata\\anaconda3\\envs\\keras\\lib\\site-packages (from matplotlib->wordcloud) (24.2)\n",
      "Requirement already satisfied: pyparsing>=2.3.1 in d:\\programdata\\anaconda3\\envs\\keras\\lib\\site-packages (from matplotlib->wordcloud) (3.2.3)\n",
      "Requirement already satisfied: python-dateutil>=2.7 in d:\\programdata\\anaconda3\\envs\\keras\\lib\\site-packages (from matplotlib->wordcloud) (2.9.0.post0)\n",
      "Requirement already satisfied: six>=1.5 in d:\\programdata\\anaconda3\\envs\\keras\\lib\\site-packages (from python-dateutil>=2.7->matplotlib->wordcloud) (1.17.0)\n"
     ]
    }
   ],
   "source": [
    "!pip install wordcloud"
   ]
  },
  {
   "cell_type": "code",
   "execution_count": 18,
   "id": "d019ee71",
   "metadata": {},
   "outputs": [
    {
     "data": {
      "text/plain": [
       "'inflatable political globe inflatable groovy cactus doggy rubber hearts wrapping tape tape spots on red bookcover tape bookcover army camo mini funky design tapes colouring pencils brown tube colouring pencils brown tube design asstd racing car pen fan black frame fan paper pocket traveling fan assorted colours silk fan sandalwood paper pink parasol paper parasol blue paper parasol purple red paper parasol black parasol edwardian parasol edwardian natural pink parasol edwardian black parasol edwardian parasol edwardian natural pink parasol edwardian parasol blue polkadot garden pink parasol polkadot garden design parasol garden ice cream design fairy cake umbrella design fairy cake umbrella small folding scissor pointed edge folding scissor camping knif animal stickers stickers food drink sponge small scissor chinese style scissor chinese style medium scissor chinese style large clear stationery box set mini highlighter pens rubber pop art push down pencils popart wooden asst pen pens teatime case teatime round pencil sharpener pens asst teatime gel rubber push down teatime popart asst pencil sharpener rect blue flowers handbag and orange wrap carousel wrap carousel pink fairy wrap cakes wrap bad hair day pink wrap flock wrap english rose and wrap suki friends the king gift bag the king gift bag 25x24x12cm funky medium gift bag monkey wrap 50 christmas art wrap folk wrap daisy carpet blue wrap russian folkart wrap russian folkart green pink pastel photo album blue pastel photo album black photo album red pink purse with heart pink handbag strawberry red pink handbag heart pencil sharpener letter shape pencil cartoon sharpeners pencil sharpener shape house rattle snake eggs pencil with recycled rabbit eraser pencil kitty erasers erasers sleeping cat pencil erasers party time blue photo maxwell tone 60 page blue hole punch tape transparent acrylic dispenser bag swirly circular rubbers in camo stationery set piece of asstd heavens scent fragrance oils purse brocade ring colours blue pot pouri cushions origami sandlewood incense flower set origami incense vanilla candle set origami incense candle jasmine set origami incense lavender candl set rose origami incense candle set origami incense candle opium set origami sandlewood incense cand tube rose in origami incense origami incense vanilla cones incense namaste swagat incense bazaar peach incense porcelain budah holder incense tranquility masala incense masala love potion fairy incense dreams incense dragons blood assorted incense pack in incense lavender cones 40 tin in incense vanilla cones 40 tin in incense lavender tin in incense vanilla tin assorted incense laquered holders fairy flower drawer liners fairy flower liners summer draw fairy flower liners summer draw fairy incense flower bouquet blue bag in glass gems on blue candle stones wire for small ass col sand gecko weight large ass col sand weight frog asstd rasta key chains rose incense flower candle 16x16cm in tin essential balm 5g envelope blue and white ceramic oil burner pink porcelain holder tall light porcelain holder white tall light porcelain oil burner butterfly porcelain oil burner butterfly blue polkadot passport cover passport cover cherry blossom passport cover first class the of passport cover queen skies passport cover tropical passport cover vip cover vippassport blue polkadot luggage tag cherry blossom luggage tag first class luggage tag of queen skies luggage tag tropical luggage tag red luggage tag retrospot luggage tag economy blue polkadot purse purse first class holiday the purse of queen skies holiday purse tropical holiday red purse retrospot purse economy holiday purse cherry blossom christmas disco ball decoration red heart luggage tag purse vip holiday blue teatime print bowl polkadot green bowl blue polkadot bowl red retrospot bowl pink polkadot bowl black large diamante hairslide red parasol edwardian pink polkadot umbrella childrens red umbrella retrospot childrens umbrella strawberry dream childs red retrospot doormat umbrella dolly mixture children pink floral monster blue floral monster car floral soft toy green monster soft toy little pink monster soft toy little soft toy mousey long legs green cat cover floral cushion pink cat cover floral cushion pink padded mobile blue soft padded mobile soft toy mr robot soft toy robot mrs daisy heart decoration crazy bag jumbo toys bag jumbo woodland animals bag jumbo owls food bag party shopper bag strawberry shopper red bag retrospot shopper bag woodland charlotte bag strawberry charlotte red bag retrospot charlotte red bag retrospot lunch red bag lunch spotty bag woodland lunch black bag lunch skull blue bag lunch cars bag posy candy tape mini gold measure tape mini measure silver tape mini black measure set kensington coffee mini assorted colour cases red mini retrospot cases funky assorted washing up gloves blue polkadot washing up gloves red retrospot washing up gloves pocket blue paisley book pocket green book fern red pocket daisy book pocket book abstract circles pocket book chrysanthemum pocket garden book path blue paisley sketchbook green fern sketchbook daisy sketchbook abstract circles sketchbook chrysanthemum sketchbook garden path sketchbook blue paisley journal green fern journal daisy journal abstract journal circle chrysanthemum journal garden path journal blue paisley notebook green fern notebook daisy notebook chrysanthemum notebook garden path notebook black ear muff headphones gold ear muff headphones ear muff headphones camouflage fuschia retro bar stool blue tiled tray blue tile hook blue large ceramic ball provencal blue small ceramic ball provencal clear glass milkshake pink large glass sundae dish small clear glass sundae dish pink small glass sundae dish flower cover cushion gold gold teddy bear silver teddy bear silver looking mirror looking mirror goldie gold wine goblet glass silver aperitif glass gold aperitif butterfly glitter clips butterfly glitter hanging string frame photo silver frame photo gold red frame flock photo heart love cover cushion french lattice cover cushion paisley french cover floral cushion french cover cushion french lattice cover cushion paisley french cover floral cushion french heart lattice zinc wall planter heart holder light lattice zinc large heart lattice zinc charger small heart lattice zinc charger heart tray lattice zinc oval pink blue purse heart patch pink purse butterfly patch denim pink blue rose purse patch butterfl bag with butterfly gold cosmetics pink bag gold cosmetic star blue rose mirror fabric pink rose mirror fabric silver mirror fabric gold mirror fabric set opulent velvet candles set christmas lights scented box of candles pebble pink set candle holder glass tall small holder light hanging bauble large holder light hanging bauble notebook vintage paris days notebook vintage travelogue pink box flower vintage keepsake box vintage paris days keepsake box vintage travelogue keepsake notebook vintage beauty girl photo album vintage paris days red set glass retrospot lid bowls red set glass spotty lid bowls blue pot candle plant pink pot candle plant pot candle plant yellow set pot candles plant cactus round candle cactus candle forked candle frog ball mirror usb office assorted porcelain holders light sponge watermelon bath sponge strawberry bath sponge bath apple polyester filler pad 60x40cm sponge bath sandwich bag floral grey feltcraft shoulder red bag floral feltcraft shoulder pink bag floral feltcraft shoulder pink blue box felt craft trinket pink cream box felt craft trinket tube small pencil woodland 12 pencils tube small skull 12 red pencils tube small retrospot 12 pencils tube woodland 36 pencils tube 36 skulls red pencils tube retrospot 36 pencils tube posy 36 pencils tube tall woodland 12 pencils tube tall 12 skulls red pencils tube tall retrospot 12 pencils tube tall posy 12 heart calculator blue calculator ruler hearts purse notebook jazz hearts book jazz address rose cover cushion du sud rose du sud oven glove rose bag cosmetics du sud rose du sud washbag rose bag du sud drawstring rose cover cushion du sud glass decoration star etched tree decoration glitter tree snow pear glass antique all candlestick decoration tree swiss chalet house decoration tree dark bird box christmas decoration tree bird frog space space owl pink rabbit ninja black rabbit ninja red space cadet black space cadet white space cadet and bag jumbo toys charlie lola jumbo shopper rex cash carry red set retrospot tea towels set vintage modern cotton napkins red bag retrospot shopping bag vintage modern cotton shopping red retrospot oven glove double red retrospot apron vintage modern cotton apron purse ribbons bag soft toy nurse box soft toy tool bag soft toy doctor party woodland invites party invites dinosaurs party girl invites balloon party invites football party invites spaceman hearts party jazz invites box boom speaker boys box boom speaker girls red vintage mug red teatime vintage mug love vintage mug billboard hate vintage tea mug billboard vintage mug billboard drink vintage mug billboard me paper set strawberry napkins 20 red paper set retrospot napkins 20 paper set napkins 20 fruit salad paper set collage cups red paper set spotty cups paper set cups posies paper set fruit salad cups paper set green cups spring paper set collage plates red paper set spotty plates paper set posies plates paper set fruit salad plates christmas toilet roll and bag charlotte charlie lola cream slice flannel chocolate spot pink cream slice flannel spot assorted fairy cake colour flannel spots cake large chocolate towel spots cake large chocolate towel spots pink cake large towel spots swiss roll chocolate towel spots pink swiss roll towel spots pink swiss roll towel heart lavender fabric scented rose caravan doorstop owl doorstop doorstop blond doll boombox ipod classic red polkadot set party candles 10 pink polkadot set party candles 10 polkadot set party candles 10 ivory blue polkadot set party candles 10 set candles football celebration set of candles girls celebration gold fishing gnome silver fishing gnome gold gnome standing silver gnome standing spring victorian metal postcard assorted metal painted pears black frame cover record heart glass decoration antique pink decoration hanging poodle glass antique place setting decoration tree jingle bells red retrospot oven glove red bag retrospot peg retrospot childrens apron red retrospot washbag girl moody door hanger moody door hanger boy girls door hanger keep out boys door hanger keep out door hanger toxic area door hanger do not touch my stuff metal home sweet sign the cat of metal sign beware with wine metal sign cook incense white sage me metal sign you re confusing metal sign bathroom party metal sign the in metal sign pottering shed metal sign gin tonic diet and metal sign gin tonic diet metal sign no junk mail metal sign please one person paper white dove honeycomb garland paper white honeycomb garland bell hearts paper honeycomb garland 3d paper white honeycomb garland hearts paper pink garland paper large white honeycomb bell paper white honeycomb bell fan paper pink honeycomb paper pink ball honeycomb tube round in white confetti tube in confetti multicolour tube heart in white confetti tube pink heart in confetti paper honeycomb garland multicolour paper tropical honeycomb garland dolly honeycomb garland honeycomb garland daisies garland 3d multicolour balls strawberry honeycomb garland and skull garland crossbones fan pastel colour honeycomb fan honeycomb multicolour paper set of retrospot 72 doilies paper set of skull 72 doilies cake of pack retrospot cases 72 cake of pack skull cases 72 paper cake cases ivory cup set retrospot coffee tea sugar red cake round retrospot tins red tin spotty biscuit set girl balloon badges set badges dogs set badges cute creatures set badges beetles set skull badges pocket woodland mirror pocket mirror glamorous box ceramic trinket sweetheart box strawberry ceramic trinket strawberry pot ceramic trinket red retrospot cup pink polkadot cup blue polkadot cup red retrospot plate pink polkadot plate pink polkadot plate blue polkadot plate polkadot green plate red retrospot bowl big door hanger mum dads room stickers woodland height chart stickers set of skull wall set height chart dinosaur sticker frame stickers set of picture medium box victorian sewing large box victorian sewing small box victorian sewing tin first aid christmas green tree goose feather christmas white tree goose feather green tree goose feather 60cm white tree goose feather 60cm pink tree goose feather 60cm blue vintage tinsel reel cream antique cutlery shelf cream antique cutlery cupboard hook salle de bain wooden zinc door shelf top style heart french embossed cabinet print vintage kitchen puddings print vintage kitchen fruits print vintage kitchen vegetables print vintage kitchen seafood small candle retrospot medium candle retrospot large candle retrospot candle velvet scented lounge chocolate stripey nesting boxes large gift bag chocolate stripes polkadot small gift bag chocolate small gift bag chocolate stripes decoration wall dove mirrored glass etched coaster set daisy mirror magnets set butterfly mirror magnets capiz chandelier set mirror bird magnets heart holder glass light small heart pot glass trinket small glass bowl chunky roman medium candle glass sphere stand blue small glass chalice small green glass chalice large green glass chalice small hanging medina lantern holder glass light silver aged set skulls writing set writing balloons set dinosaurs writing large dish metal moroccan beaten mirror metal moroccan beaten frame white classic gold washbag holder plant classic metal birdcage dish metal moroccan beaten spots pink chocolate nesting boxes heart ivy wreath orange wreath cinammon wreath eucalyptus pinecone mum toast its best love you toast its fairy flower toast its dinosaur toast its toast its happy birthday large relax wood letters large wood letters joy large love wood letters small home wood letters small wood letters peace art wall mirrored stars art photo wall mirrored frames art wall mirrored gents art wall mirrored ladies art wall mirrored splodges art wall mirrored foxy art wall mirrored poppies art wall mirrored table lamp art wall mirrored snowflakes art wall skulls mirrored large wood camphor field mushroom large tall wood camphor toadstool small wood camphor field mushroom small tall wood camphor toadstool wood camphor mushroom portobello wooden garland happy birthday mini wooden garland happy birthday set flower decoration spring of pack 12 sticky bunnies heart decoration hanging ivory decoration hanging ivory egg decoration hanging bird ivory with heart butterfly filigris heart scent lavender french red polkadot bowl pudding blue polkadot bowl pudding red polkadot beaker blue polkadot beaker blue polkadot cup egg red polkadot coffee mug blue polkadot coffee mug red pudding spoon blue pudding spoon red egg spoon blue egg spoon brown cat doorstop check pink spotty doorstop duck green doorstop country cottage red heart doorstop gingham holder light periwinkle dish scallop shell soap small shell clam large shell clam dish shell cockle dish soap starfish box trinket oyster large rose porcelain small rose porcelain large box woodland storage large box skulls storage small box woodland storage small box skulls storage box green flower book gingham set3 red box rose gingham jewellery red box set rose gingham storage of basket toadstools blue decoration birdhouse green decoration birdhouse pink rose 12 place peg settings red rose 12 place peg settings rose 12 ivory place peg settings box daisy in 12 wood pegs box toadstool money pink rabbit painted wooden daisy yellow painted eggs book picture easter chicks eggs book picture easter ducks eggs book picture easter bunny yellow egg easter hunt start post green egg easter hunt start post blue egg easter hunt start post painted letters nursery disco ball mirrored disco ball rotator battery operated pink food flower cover crochet red food flower cover crochet food cover cherry crochet food butterfly cover crochet food cover polka dot raffia food flower cover raffia vine food strawberry cover raffia food cover raffia ladybird bee cream rect sweetheart table steel cream round sweetheart table steel white skull hot water bottle blue hot water bottle fawn grey hot water bottle chick heart retrospot hot water bottle pink heart hot water bottle dots red white hot water bottle scarf set gift of vintage three wraps holder light rotating leaves and wrap skulls crossbones wrap birthday fancy fonts red wrap retrospot blue polkadot wrap pink polkadot wrap wrap toybox skulls greeting card birthday fancy card font birthday card elephant birthday card elephant dolly vintage card kid and birthday card cowboys indians greeting card bank account gin tonic diet greeting card greeting card booze women doormat home sweet fancy font doormat spotty home sweet red retrospot traditional teapot traditional teapot dairy maid dairy maid toastrack red retrospot bowl sugar jam large retrospot milk jug large dairy maid milk jug red small retrospot milk jug red retrospot bowl pudding bowl pudding dairy maid red retrospot dish butter skulls water transfer tattoos small ceramic birdhouse crested tit strawberry ceramic tray trinket box strawberry ceramic money funky set of beakers box with lunch skull cutlery box with strawberry lunch cutlery box with lunch dinosaur cutlery hawaiian grass skirt red heart shape love bucket pink heart shape love bucket bag cotton shopping lets go tote the bag cotton tote save planet design bag woodland cotton tote design bag cotton tote lolita design bag rabbit cotton tote design bag skulls cotton tote tube small retrospot matches tube matches kings choice giant tube matches giant cosy hour tube retrospot matches giant box matches cosy hour cigar box retrospot matches cigar ball jam dr arouzer stress dad cab electronic meter set lavender lights 12 botanical vanilla lights 12 botanical set rose of lights 12 botanical lavender candles botanical dinner candles pear botanical dinner candles botanical dinner lily candles botanical wildflower vanilla candles botanical set rose of candles botanical vintage union jack bunting cover cushion vintage union jack vintage union jack memoboard vintage doorstop union jack vintage apron union jack vintage union jack pennant elephant carnival pouffe vintage pouffe triangular red cushion vintage square floor cushion elephant carnival floor parasol hippy chic decorative pink parasol vintage decorative parasol decorative sunflower mini assorted notebook madras large notebook madras medium notebook madras mini assorted notebook sanskrit assorted notebook tutti frutti assorted notebook tutti frutti fob assorted ball tutti frutti keyring pen assorted tutti frutti assorted mirror tutti frutti assorted box heart tutti frutti assorted large purse tutti frutti assorted small purse tutti frutti assorted tutti frutti bracelet glass hanging etched tealight glass bowl ridged finger holder glass light hanging ridge glass posy ridged vase with glass bottle milk stopper glass dish beurre glass vintage tea caddy glass coffee vintage caddy cream glass lid storage ridged jar holder glass light ridged cake and glass cover plate red drawer ceramic stripe knob blue drawer ceramic stripe knob blue drawer ceramic spot knob red drawer ceramic spot knob red drawer white ceramic spot knob blue drawer white ceramic spot knob stickers butterflies stickers flowers hearts stickers stickers paisley pattern stickers skulls stickers woodland bowl metal medina giant stamped large bowl metal medina stamped medium bowl metal medina stamped small bowl metal medina stamped stool metal medina stamped small candle bowl silver plate pot flower vanilla candle silver silver candlepot jardin pot vanilla candle silver lattice small silver candlepot hammered small silver candlepot regal small pot flower candle silver small silver candlepot trellis mock lobster fridge magnet big magnets fridge doughnut bag swirly 125g marbles bag swirly marbles 250g bag swirly marbles 500g red polkadot umbrella folding white polkadot umbrella folding blackblue polkadot cream umbrella folding polkadot umbrella folding chocolate polkadot umbrella folding pinkwhite red polkadot umbrella folding white candle citronella flowerpot garden pot candle citronella tin vintage girls bucket seaside tin vintage boys bucket seaside tin easter bucket red metal beach spade sticker lovely bonbon sheet cake sticker sheet shop candy sticker sheet shop sweet sticker pudding sheet hearts sticker sheet alphabet and sticker bunnies sheet panda stickers sweeties hearts stickers multi holder glass light star frosted red light toadstool led night red heart holder light hanging door cabinet two curio holder glass light gold scroll red small cosy slipper shoes small green cosy slipper shoes large green cosy slipper shoes large round wicker platter light star table portable light table portable snowflake garden decorative gaolers keys red small retrospot windmill small skull windmill red large retrospot windmill large skull windmill home building block word love building block word bath building block word metal sign lighthouse printed print vintage shells and glass cabinet wood medicine wooden bar stool vintage vintage office cabinet post metal sign open closed rose bathroom bottle decorative bathroom bottle decorative cats bathroom bottle decorative flore box with heart metal recipe box cutlery ma campagne box shoe shine rain poncho polkadot rain hat retrospot rain poncho blue rain kids mac pink rain kids mac vintage snap cards and vintage card heads tails game style green french classic basket brown style french classic basket natural style french classic basket christmas with decoration tree bell christmas heart decoration tree christmas decoration star tree christmas white garland stars trees christmas white decoration star christmas garland stars trees christmas with hanging tree bell christmas with hanging star bell christmas with heart hanging bell with heart hanging bell hearts and with bells garland and with bells garland stars heart holder light holder light star christmas holder light tree christmas glitter tree christmas heart glitter heart decoration glitter christmas glitter star with heart glitter bells garland with glitter star bells garland christmas with glitter tree bells with heart metal painted bell holly with star metal painted bells holly set piece dinosaur eight set piece eight creepy crawlie set snake piece eight assorted dinosaur keyrings assorted creepy crawlies calculator chocolate camouflage led torch red heart oven glove gingham red gingham mummy mouse ribbon red gingham mouse baby dress red cake retrospot stand red retrospot mug mug dairy maid stripe pen pink box gift in diamante pen box gift green in diamante pen box gift in diamante silver pen blue box gift in diamante pen box gift in diamante lilac passport cover union jack flag pink passport cover union jack luggage tag union jack flag pink luggage tag union jack tea mug shed potting mug please one person can only the mug save planet mug glamorous the mug you stand can if heat and mug gin tonic mug kings choice mug pottering mug home sweet assorted of pack sandcastle flags hearts tape gift tape red retrospot tape cute cats tape skulls tape gift stars tape and cakes gift bows set bingo box wooden of dominoes wooden bag in cotton skittles wooden traditional skipping rope wooden cup traditional game catch shed potting seed envelopes set shed potting sow grow shed potting twine candle shed citronella potting rose candle shed potting key fob garage design key fob garage key shed fob key door fob back key door fob front metal sign man flu house metal sign wrecking metal sign butter more tin first aid pharmacie on holiday metal sign chocolate metal sign this way metal out sign way garden metal sign vintage snakes ladders vintage seaside jigsaw puzzles blue box in harmonica red box in harmonica set white retro 12 chalk sticks set white 12 kids chalk sticks set colour 12 kids chalk sticks with union stripe fringe hammock cover cushion union stripe red cream cover cushion stripe blue cream cover cushion stripe blue bag jumbo paisley scandinavian bag jumbo paisley scandinavian pink bag jumbo paisley vintage bag jumbo skulls storage suki bag jumbo storage bag paisley scandinavian picnic pink bag paisley vintage picnic bag skull shoulder suki bag shoulder red bag retrospot picnic bag strawberry picnic design skulls flannel design and cakes flannel rabbits design flannel kittens design flannel strawberries design party time flannel set heart of chopsticks cake set of chopsticks set strawberry of chopsticks and doormat union jack guns roses of pack skull 12 tissues paper set of 36 doilies dinosaur paper set of 36 doilies mushroom set of flower paisley 36 doilies cake 60 of pack cases dinosaur cake 60 of pack cases mushroom pink cake 60 of pack cases paisley red of pack retrospot 12 tissues of pack woodland 12 tissues suki of pack 12 tissues blue of pack paisley 12 tissues pink of pack paisley 12 tissues hearts design of pack 12 tissues pink polkadot of pack 12 tissues paper of pack skull cups paper of pack skull plates paper of pack skull napkins 20 stationery set floral modern stationery set collage bohemian stationery set paisley vintage stationery set folk floral gift dotcomgiftshop voucher 100 00 blue felt egg basket easter birthday card empire birthday ladies card rainy of ring birthday card roses birthday card banquet party tea birthday card birthday card penny farthing birthday card spaceboy greeting card swallows lavender birthday card botanical greeting card botanical lily rose greeting card botanical christmas card robin vintage caravan greeting card robot birthday card wrap gift lavender botanical wrap gift botanical lily wrap rose gift botanical frame record single size christmas card singing angel christmas print card screen christmas of card stack presents wrap gift spaceboy wrapping paper party tea wrap gift empire wrap gift birthday banquet wrap christmas print screen pink wrap rose gift paisley blue wrap paisley scandinavian wrap gift vintage caravan design empire rosette mini cake hanging stand strawbery design strawberry ceramic plate design strawberry ceramic mug hearts cake large hanging stand cake large hanging stand strawbery design with heart love ceramic bowl design with strawberry ceramic bowl pink pot trinket doughnut christmas pot trinket pudding heart pot love trinket pot gold trinket choc truffle black pirate treasure chest brown pirate treasure chest red small box in retrospot mug small box in white retrospot mug red and retrospot tea cup saucer red retrospot storage jar ribbons shimmering pinks christmas ribbons elegant ribbons empire ribbons rustic charm design reel ribbon lace hearts design reel ribbon reel ribbon polkadots reel ribbon flora fauna design reel stripes ribbon paper retrospot chain kit paper empire chain kit paper skulls chain kit paper 50 christmas chain kit paper white bunting lace paper bunting lace coloured paper paisley vintage bunting paper retrospot bunting box empire tissue blue box paisley tissue box tissue motoring red box retrospot tissue box only tissue lads pink box paisley square tissue box square tissue swallow box square tissue boudoir box caravan square tissue box skulls square tissue holder mirror mosaic votive holder light mirror mosaic round holder light mirror mosaic candle mirror plate mosaic candle holder mirror goblet mosaic mirror lamp mosaic hurricane box in plate pizza plate ping microwave english plate full breakfast house bird hot water bottle hot water bottle scottie dog chocolate hot water bottle heart grey hot water bottle and tea hot water bottle sympathy tea metal sign empire metal sign dinner his is served metal sign dinner is served her wooden letters joy block wooden letters peace block wooden letters block welcome wooden letters block noel apron ping microwave set of tea towels ping microwave hot water bottle union jack assorted party cones carnival assorted party cones candy party cones decoration candy party cones decoration candy tree christmas party decoration cone food set heart love container red heart shape love cup pink heart shape love cup red heart love ladle red mini heart love ladle pink heart love ladle mini pink heart love ladle heart love hanger sock design set heart love bathroom set piece retrospot baking set ceramic retrospot tea 11 pc christmas craft tree top angel fairy christmas white craft friends christmas little craft christmas heart craft stocking with craft ivy wreath easter chick hearts butterfly feltcraft craft easter chicks friends flower feltcraft feltcraft stripey mice heart white place setting white star place setting on decoration stars dress angel decoration angel buttons decoration star rustic with heart decoration pearls with decoration padded angel lace hearts decoration hanging rustic heart decoration hanging rustic heart padded garland rustic heart holder hanging string memo of holder string stars card heart diamante mirror wall shaped pink diamante mirror wall rectangle diamante mirror wall oval white antique wood organiser frame album white picture family frame picture wood triple portrait photo white hook antique shelf hook french metal hanger chateau photo cube pink soft toy owl blue soft toy owl glass light hanging victorian set lights owl 10 night set lights owl 10 night retrospot lamp frame photo fridge magnet snowstorm cake small victorian stand filigree cake victorian stand filigree med cake large victorian stand filigree natural tile hanging slate red holder star card christmas green holder tree card black heart holder card cream heart holder card mug local cafe wall ivory diner clock blue wall diner clock red wall diner clock black wall diner clock large heart measuring spoons small heart measuring spoons holder popcorn small holder popcorn large holder popcorn red polkadot frying pan red retrospot frying pan pink polkadot frying pan blue polkadot frying pan pink polkadot milk pan red retrospot milk pan blue polkadot milk pan mug dotcomgiftshop com union flag frying pan set you wood stamp thank set happy birthday wood stamp set best wood stamp wishes set flowers wood stamp white hook four lovebirds candle white plate lace cake white stand two lace tier holder white light lace holder light hanging lace cake white stand lace white decoration hanging lovebird cake white stand tier lovebird pink cake stand tier lovebird cake white plate lovebird pink cake plate lovebird white lantern lovebird heart decoration mirror hanging wooden with bird painted bunny wooden with flower painted bunny with tree can jigsaw watering with tree birdhouse jigsaw piece toadstools jigsaw and rabbit birdhouse jigsaw garden cake stand tier magic wooden garland happy easter hook hanger toadstool magic red hook hanger toadstool magic garden hook hanger magic garden hook hanger magic garden garland magic 8m garden felt garland magic garden decoration bunny magic pink garden decoration chick magic garden white decoration chick magic garden butterfly decoration magic garden decoration birdhouse magic holder decoration birdcage tealight large felt toadstool small felt toadstool animal felt farm chicken animal felt farm sheep animal rabbit felt farm animal felt farm hen blue rabbit felt egg cosy rabbit white felt egg cosy felt egg cosy chicken felt egg ladybird cosy animal white felt bunny farm natural decoration easter chick decoration hanging easter bunny decoration egg easter bunny decoration bunny sitting decoration easter bunny sitting natural cup egg chicken decoration hanging happy easter feltcraft doll rosie feltcraft doll maria feltcraft doll molly feltcraft doll emily rose bag paisley vintage weekend rose bag paisley vintage wash rose bag paisley cosmetic vintage rose bag paisley vintage overnight red pocket blue bag paisley spot brown pocket pink bag spot paisely yellow tree easter birds house 12 painted wood egg house painted wood egg house decoration hen on decoration hanging hen nest on decoration hanging hen nest rabbit decoration metal wobbly rabbit decoration metal wobbly decoration metal chicken wobbly decoration chicken wobbly rabbit decoration hanging metal decoration hanging metal chicken cream decoration hanging chick decoration hanging yellow chick green decoration hanging chick small heart dove filigree large heart dove filigree large heart ivory trellis small heart ivory trellis with light keyring pig sound design ball coffee mug dog design cat coffee bird mug design coffee mug pears design coffee mug apples design blue coffee paisley mug design pink coffee paisley mug of silver tree mug bone china life of gold tree mug bone china life blue tea cosy stripe red tea cosy stripe mug ivory cosy knitted black silver office mug warmer polkadot office mug warmer pink office mug warmer blue office mug choc warmer red white 200 bendy straws skull 200 bendy straws decoration hanging cats five heart decoration hanging five assorted fabric hairclips forties design mobile vintage birds red retrospot decoration bird polkadot green decoration bird pink polkadot bag kids blue polkadot bag kids hearts mobile vintage set round woodland boxes snack of4 set round of skulls boxes snack set round of fruits boxes snack set round of retrospot container set bag party woodland sticker set bag party skulls sticker set bag party retrospot sticker set bag party dinosaur sticker heart decoration zinc painted decoration zinc painted dove decoration zinc painted angel decoration zinc star painted christmas zinc tree painted zinc painted garland noel love zinc painted garland zinc painted home garland red party retrospot dish pizza pink polkadot party dish pizza blue polkadot party dish pizza polkadot green party dish pizza red bag retrospot tea plate design ball bowl dog chasing cat bowl illustrated tea towel dotcomgiftshop box with retrospot lunch cutlery fairy box cakes with lunch cutlery retrospot cushion padded seat design suki bag charlotte pink polkadot bag charlotte tin biscuit kings choice tea kings choice caddy glass kings choice jar english glass jar confectionery daisy glass cotton jar fresh wool glass bath jar peacock salts glass jar marmalade glass jar digestive biscuits house doormat respectable doormat airmail design childrens apron spaceboy bag vintage airline tokyo 78 bag vintage airline world champion red set bag vintage airline jet brown set bag vintage airline jet set bag white vintage airline jet bag retrospot bottle retrospot wall tidy bag retrospot recycling toy spaceboy tidy pink polkadot toy tidy design bag lunch spaceboy design suki bag lunch design suki bag lunch pink polkadot bag lunch design bag jumbo spaceboy pink polkadot bag jumbo the save planet paperweight paperweight childhood memories home sweet paperweight vintage collage paperweight kings choice paperweight paisley vintage paperweight photo of pack retro magnets of pack magnets swallows of pack magnets childhood memory of pack home sweet magnets of pack vintage collage magnets of pack vintage magnets labels design pocket box money design box money kings choice design box first money ade design box first aid money design box money confectionery design box money biscuits design box money housekeeping red jumbo shopper paisley vintage metal sign neighbourhood witch metal sign take it or leave doormat neighbourhood witch white tissue ream design set of 36 doilies spaceboy paper set of 36 doilies spaceboy cake 60 of pack cases spaceboy pen colour 10 spaceboy red pen lipstick pen pink baby lipstick pen fuschia lipstick tube pen toothpaste tier regency cakestand cream enamel bread bin cream enamel colander cream bowl wash enamel cream flower jug enamel cream bucket enamel fire cream jug measuring enamel cream can watering enamel blue elephant can watering pink bunny can watering green dinosaur can watering with balloon 10 balloons pump set heart of balloons shaped party 12 balloons coloured black set of skull balloons art flowers balloon make your own balloons rocket of pack balloon water bomb 35 in mug grow enamel your own basil set flowers of grow your own set of grow your own herbs in plant can grow your own case pencil is life beautiful pink cushion pin babushka blue cushion pin babushka red cushion pin babushka silk pink purse babushka silk blue purse babushka red silk purse babushka tape pink measuring babushka tape blue measuring babushka tape red measuring babushka natural large slate chalkboard natural heart slate chalkboard garden hook cast iron fork garden hook cast iron trowel holder glass embossed tealight art clock savoy deco heart hanging metal lantern hanging star metal lantern fairy light cottage night tale fairy cottage tale nightlight gumball coat rack of string lights 10 babushka small heart of wicker large heart of wicker tray dinner tv air hostess dolly tray girl dinner tv paisley tray vintage dinner tv tray dinner spaceboy tv design skull tray dinner tv tray dinner union jack empire tv garden can watering marker garden birdhouse marker garden daisy marker red design tea towel classic design black tea towel classic design blue tea towel classic red teddy bear gingham set wooden of market crates lamp plasmatronic garden white plant wood ladder natural rectangle slate chalkboard of pack 12 traditional crayons pencils of pack 12 coloured mini set vintage paint set your own paint canvas tin first aid emergency set round of tins camembert set round of tins dutch cheese set of vintage bathroom tins wooden bunting regatta wooden union jack bunting set of tins de jardin provence large basket wicker picnic 60 basket wicker picnic pieces small basket wicker picnic bag paisley vintage cabin bag retrospot vintage cabin design cottage memo board design retrospot memo board heart retrospot doorstop design box retrospot sewing doorstop gingham babushka retrospot doorstop babushka design racing car doorstop design football doorstop blue garden childs spade pink garden childs spade blue garden childs rake pink garden childs rake blue garden childs brush pink garden childs brush blue garden childs trowel pink garden childs trowel blue garden childs fork pink garden childs fork blue garden childrens gloves pink garden childrens gloves for children wheelbarrow pad gardeners kneeling the go slate magic drawing to fair dolly girl slate magic drawing slate magic drawing circus parade frog slate magic drawing leap cake slate magic drawing bake spaceboy slate magic drawing bunnies slate magic drawing slate magic drawing purdey dinosaur slate magic drawing mini the go jigsaw to fair mini dolly girl jigsaw mini jigsaw circus parade mini frog jigsaw leap mini cake jigsaw bake mini jigsaw spaceboy mini bunnies jigsaw mini jigsaw purdey mini dinosaur jigsaw and heads tails sporting fun picture dominoes holiday fun ludo in tin spaceboy plasters in tin skulls plasters in tin woodland animals plasters in tin plasters strongman in tin circus parade plasters in tin paisley vintage plasters pack retrospot pegs clothes 24 seaside flying disc traditional modelling clay colouring set wooden school craft monsters stencil craft happy stencil craft alphabet stencil pink and white feltcraft hairbands pink purple and feltcraft hairband retrospot dolly 20 pegs cushion feltcraft owl butterfly cushion feltcraft rabbit cushion feltcraft red christmas rocking horse christmas green rocking horse wooden christmas decoration star wooden christmas heart decoration christmas metal wreath merry wooden christmas decoration swallow wooden christmas heart scandinavian wooden christmas star scandinavian wooden christmas tree scandinavian gingham advent calendar sack christmas wood stocking scandispot gift of pack boxes sweetie handbag gift of pack boxes gift of pack boxes panettone gift of pack boxes pannetone gift of pack birdy tags pink blue and feltcraft hairband red blue and feltcraft hairband heart holder gingham card star gingham cardholder christmas tree gingham cardholder metal wreath holly cardholder christmas star gingham christmas tree gingham christmas heart gingham heart decoration gingham christmas star chalkboard wish list christmas heart zinc musical heart decoration zinc musical christmas zinc tree musical christmas zinc star musical christmas retrospot star wood christmas retrospot wood angel christmas heart retrospot wood wooden heart retrospot decoration christmas retrospot tree wood set of cutlery napkin charms garden set wooden croquet garden set wooden skittles garden set wooden rounders funky assorted pens jeweled assorted pens spaceball assorted pens funny face bag vintage shopping union jack of pack napkins 20 spaceboy of pack 12 tissues spaceboy of pack 12 tissues circus parade of pack 12 tissues london design set spaceboy baking set retrospot cooking set of skittles soldier traditional spinning tops traditional knitting nancy box of vintage alphabet blocks box of vintage jigsaw blocks ivory kitchen scales red kitchen scales black kitchen scales kitchen scales mint set of retrospot boxes picnic box lunch spaceboy box dolly lunch girl box lunch circus parade red polka dot warmer hand red retrospot warmer hand union jack warmer hand set childs spaceboy breakfast set childs dolly girl breakfast set childs breakfast circus parade retrospot bank piggy set of napkin charms crowns hearts set of napkin charms set of keys napkin charms set of napkin charms instrument set of stars napkin charms set of leaves napkin charms cake ceramic cherry money bank fairy cake heart ceramic money bank cake strawberry ceramic money bank heart love ceramic money bank fairy cake strawberry teapot ceramic money bank pirate chest kit gentleman shirt repair sewing kit travel box button sewing kit deluxe red vintage cabinet kitchen blue vintage cabinet kitchen box love lunch london love doormat london design bag dolly charlotte girl design bag dolly lunch girl design bag dolly jumbo girl design dolly toy girl tidy design blue box sketchbook recipe design box yellow recipe pantry box retrospot recipe pink bunting baby red bunting baby blue french metal sign wc blue french metal sign laundry blue french metal sign bathroom blue garden french metal sign blue french toilet metal sign blue french metal sign kitchen blue french metal door sign blue french metal door sign blue french metal door sign blue french metal door sign blue french metal door sign blue french metal door sign blue french metal door sign blue french metal door sign blue french metal door sign blue french metal door sign blue french metal door sign no christmas doormat village on blue doormat peace earth red christmas doormat merry blue doormat home sweet doormat welcome sunrise doormat home welcome to our in tin sunflower grow or flytrap star wicker small wreath wicker large wreath wicker and green saucer regency teacup pink and saucer regency teacup and roses saucer regency teacup black and white bowl dog pink bowl dog black and cat white bowl pink cat bowl red wrap apples wrap green pears wrap cowboys wrap monster fun wrap dolly girl wrap day wedding wrap love london wrap circus parade dolly girl card love card london birthday card cowboy day card wedding card circus parade and ball card dog and cat tree card gumball coat rack monochrome design cake set of tins pantry cake set of sketchbook tins design set of tins pantry spice set of sketchbook tins herb chocolate clock alarm bakelike green clock alarm bakelike red clock alarm bakelike pink clock alarm bakelike orange clock alarm bakelike ivory clock alarm bakelike stickers christmas 3d stamps stickers christmas vintage 3d stickers christmas 3d traditional set christmas of vintage ribbons and reel ribbon socks mittens reel ribbon making snowmen christmas reel ribbon present reel ribbon village snowy christmas bauble reel ribbon sock pen polkadot funky pen diva card kit make your own playtime card kit make your own flowerpower card kit make your own monsoon poppy playhouse bedroom poppy playhouse livingroom bathroom poppy playhouse kitchen poppy playhouse charlotte feltcraft doll princess feltcraft lola doll princess feltcraft doll princess olivia set nesting boxes babushka small notebook yellow babushka red small notebook babushka purple small notebook babushka large notebook yellow babushka red large notebook babushka purple large notebook babushka set in of notebooks parcel in tray breakfast bed drawer ma campagne chest drawer cupboard ma campagne key cabinet ma campagne wooden glass cabinet rustic doors stand newspaper frame photo cornice frame photo triple cornice frame photo family cornice kitchen organiser chalkboard mirror cornice edwardian clear acrylic drawer knob pink edwardian acrylic drawer knob edwardian green acrylic drawer knob red edwardian acrylic drawer knob purple edwardian acrylic drawerknob tier cakestand loveheart cake sweetheart stand tier sweetheart tier cakestand large glass bell jar large glass cloche small glass bell jar small glass cloche wooden light owls garland pink light garland butterfiles gumball rack magazine set storage wicker baskets set oval wicker baskets lids cream lantern gazebo pink cover union flag squarecushion pink cover union jack squarecushion pink cover cushion union jack coat rack brocante holder light hanging sweetheart glass light antique fluted candle holder antique fluted wire sweetheart rack magazine book sweetheart stand recipe frame photo hanging classic heart of gingham chest drawers pot glass antique table dressing wire bowl fruit sweetheart pot tall trinket antique swirlglass glass bowl antique pedestal chocolate faux fur throw ivory embroidered quilt pink heart hanging candleholder pink heart holder light hanging blue edwardian acrylic drawer knob cake set of lights wedding set of lights toadstools set of lights easter chicks set of lights santa set of lights snowmen set of lights cacti christmas pack boxes panettone christmas pack boxes pannetone pack bird boxes panettone pack bird boxes pannetone party card games card apples psychedelic card santa motorbike suki birthday card christmas card village retro spot birthday card gift bag birthday gift bag apples psychedelic cream heart wall planter shaped natural 20 wood chest drawers garden sweetheart shelf tier with pot plant decorative frieze love white antique metal seat drawer rustic seventeen sideboard with mirror regency shutters wire wall sweetheart tidy with cabinet utilty hooks white dish soap brocante with shelf brocante hooks with cabinet drawers hall design warmer babushka hand hot water bottle am so poorly hot water bottle babushka large hot water bottle babushka red cream cake and tin tier cream cake and green tin tier red cake round tin vintage cake round green tin vintage red tin vintage biscuit green tin vintage biscuit cream food vintage dog container cream food cat vintage container red style diner bread bin style ivory diner bread bin style ivory diner bread bin pink style diner bread bin style diner bread bin mint style diner bread bin mint design fairy set cakes napkins 20 cream bowl vintage dog cream cat bowl vintage cream holder sweetheart egg heart wicker fine assorted bells easter decorations assorted gift easter tags tin keepsake easter tin bouquet easter bunny pink daisy tin easter chicks garden in tin easter chicks box heart love napkin dish soap brocante design owl warmer hand design dog warmer hand scotty design bird warmer hand garden tile cottage number garden tile cottage number garden tile cottage number garden tile cottage number garden tile cottage number garden tile cottage number garden tile cottage number garden tile cottage number garden tile cottage number garden tile cottage number garden tile no cottage number tile vintage font number tile vintage font number tile vintage font number tile vintage font number tile vintage font number tile vintage font number tile vintage font number tile vintage font number tile vintage font number tile vintage font number tile vintage no font number cake stand tier biscuits novelty polkadot for tea one set and of toadstools salt pepper mini cake holder light stand red design apples tablecloth set and of apple tea towels pears design bag apple peg design bag peg apples design oven apples mitt design childrens apron apples dolly children girl apron set love tea towels london set love tea towels london bag love tote london family calendar favourites design paper calendar cut design in calendar season with 12 cards envelopes message design of pack napkins 20 pantry red of pack napkins 20 apples set christmas of vintage napkins 20 paper christmas vintage chain kit paper chain kit london paris yellow coat rack fashion red paris coat rack fashion blue paris coat rack fashion assorted top magnets bottle marker herb thyme marker herb rosemary marker herb parsley marker mint herb basil marker herb marker herb chives assorted magnets fridge diner us assorted magnets fridge les enfants rose magnets fridge la vie en blue garden giant thermometer garden ivory giant thermometer garden green giant thermometer garden yellow giant thermometer and school desk chair heart chocolate milk baking mould heart white chocolate baking mould chocolate cup baking mould toffee chocolate cup baking mould toffee egg easter milk choc baking mould white egg easter choc baking mould rose chocolate milk baking mould rose white chocolate baking mould cakes chocolate cup baking mould chocolate baking mould cupcakes chocolate baking mould cupcake paper set lace cupcake apple apron adult delight apple apron delight fairy christmas feltcraft christmas lights 10 reindeer christmas lights 10 santas christmas lights vintage 10 baubles christmas with metal postcard bells assorted christmas metal tags cream wooden advent calendar red wooden advent calendar decoration children metal naughty dolly girl 36 doilies paper set of dolly girl 36 doilies christmas vintage 36 doilies set christmas of vintage 36 doilies design cake 60 dolly cases girl cake christmas 60 cases vintage cake christmas cases vintage 72 tape birthday banner tape party birthday cordon barrier tape party hen cordon barrier cake cases star 36 foil cake heart cases 36 foil paper set vintage egg chick wrap christmas village set with jam making jars set jam printed making pink with lid jam jar blue with lid jam jar green with lid jam jar set piece spaceboy cookie cutter set traditional cookie cutters set biscuit traditional cutters man cookie cutter gingerbread paper assorted set eggs bird song box rose keepsake cottage candles scented jam homemade coffee mug london bus coffee mug queens guard children mug spaceboy childrens mug spaceboy children mug circus parade childrens dolly girl mug childrens cup egg spaceboy childrens cup egg circus parade childrens dolly girl cup egg pin pantry rolling washing up brush pantry brush pantry scrubbing apple pantry corer brush pantry pastry billboard card font rose gingham card design wrap billboard fonts design wrap billboard fonts wrap rose gingham wrap rose gingham design wrap rose summer cup egg soldiers design set tea towels pantry design cotton apron pantry wooden ruler giraffe wooden ruler revolver set of pantry jelly moulds retrospot card travel wallet suki card travel wallet vintage card travel wallet ticket card union jack travel wallet keep card travel wallet calm retro card travel wallet petals vintage card travel wallet leaf card travel wallet transport skulls card travel wallet rose vintage card travel wallet card travel pantry wallet love card london travel wallet flower card travel wallet meadow set gift baby spaceboy set gift dolly girl baby set gift love baby london set gift baby circus parade glass bottle apothecary perfume glass tonic bottle apothecary glass bottle apothecary elixir glass jug cordial jug cordial glass jar twist bon jar measuring apothecary large jar measuring apothecary small jar measuring apothecary glass storage jar songbird glass storage jar songbird glass jam jar bonne small holder light jam jar bonne holder light jam ridged jar bonne large holder light jam jar bonne drawer glass ball vintage knob drawer glass star vintage knob drawer glass vintage knob hexagon blue doorknob cracked glaze blue drawer knob glaze crackle green doorknob cracked glaze green drawer knob glaze crackle pink doorknob cracked glaze pink drawer knob glaze crackle ivory doorknob cracked glaze drawer ivory knob glaze crackle red drawer ceramic knob black drawer ceramic knob ceramic ivory doorknob drawer ceramic ivory knob holder light silver four petit candle holder silver madeline holder light silver saucer heart holder light silver handle paper star snow lantern point paper star snow lantern point paper star snow lantern point paper star snow lantern point paper star snow lantern point paper 40 star lantern holly point paper star lantern holly point paper star lantern holly point 23 paper star lantern holly point paper star lantern point moon paper star lantern point moon 30 paper star lantern deluxe point paper star lantern point sequin paper star lantern point studded fairy set of light star 10 lanterns red recycled acapulco mat green recycled acapulco mat blue recycled acapulco mat recycled acapulco mat turquoise pink recycled acapulco mat recycled lavender acapulco mat holder light ivory chandelier holder light chandelier crystal flowers holder light chandelier holder light chandelier beaded holder light chandelier gemstone christmas hanging snowflake heart decoration trellis beaded heart vintage embossed heart vintage engraved chandelier cinderella large stand jewellery deco large stand jewellery small stand jewellery deco small stand jewellery heart hanging metal engraved heart aluminium heart stamped aluminium frame edwardian photo frame edwardian photo heart box gold trinket marie antoienett box gold trinket marie antoinette box silver trinket marie antoinette box trinket georgian box heart trinket embossed ceramic hook double parlour ceramic hook wall parlour ice cream sundae lip gloss doughnut lip gloss pen ice cream lip gloss light toadstool bedside light toadstool bedside red box metal top secret army box green metal supplies box green metal top secret hearts paper set lantern table paper set lantern stars table rabbit light night silver bauble antique lamp holder light zinc star holder light zinc star heart holder light zinc heart flower holder light zinc glass jar bon holder glass light vintage metal container herb gerden garden zinc container herb frame large photo white antique frame small photo heart parisienne set tray chic le grand tray chic petit french lantern carriage decoration silver bells table decoration silver stars table hearts decoration silver table heart decoration bell heart decoration jingle bell hanging ivory lamp cafe hanging ivory lamp pantry hearts pot holder zinc plant pot holder zinc plant hearts pot holder wire white plant pot holder wire white plant set of dolly lights 10 led lights tea led of pack lights tea led six key cabinet parisienne box sewing parisienne cabinet curio parisienne board pantry chopping vintage board leaf chopping red apples board chopping garden board chopping vegetable board poppy chopping fields drawer jewellery parisienne large of pack fruit straws small of pack fruit straws parasol of pack straws cocktail 50 party pieces charms 50 pieces cocktail swords set wooden cutlery 18pc disposable set plate wood disposable 6pc girl dollcraft amelie girl kit dollcraft amelie girl feltcraft kit amelie girl dollcraft nicole girl feltcraft kit nicole boy dollcraft jean paul feltcraft boy kit jean paul heart wreath holly shaped heart wreath miseltoe green heart wreath mistletoe cream heart wreath miseltoe heart white wreath miseltoe cream heart wreath mistletoe small heart wall ivory organiser large heart wall ivory organiser large heart zinc wall organiser small heart zinc wall organiser letter wire tray ivory sweetheart letter wire tray zinc sweetheart heart wire hook ivory single pink heart wire hook single heart wire hook ivory triple pink heart wire hook triple wire ivory kitchen organiser wire zinc kitchen organiser small holder light zinc stars large holder light zinc star large holder light zinc stars rose hook antique ivory triple rose hook antique ivory single rose hook antique ivory miniature rose hook antique ivory miniture small wire bowl antique ivory dish ivory sweetheart soap dish zinc sweetheart soap letter wire ivory sweetheart rack letter wire zinc sweetheart rack set of magnets jam jar assorted magnet knickerbockerglory mini set of magnets grocery set of magnets nativity set cat of magnets lucky set day of magnets pancake tea spoon regency cake regency fork tea regency strainer sugar regency tongs cake slice regency large ceramic top storage jar medium ceramic top storage jar small ceramic top storage jar dispenser classic sugar cafe dispenser classic sugar glass classic jar cookie glass classic sweet jar tea plate roses regency green tea plate regency pink tea plate regency teapot roses regency green bowl sugar regency pink milk jug regency box book treasure abc box book treasure island jam magnet clock mum kitchen magnet clock mum kitchen clock wall top bottle dog clock bull toilet sign or occupied vacant kitchen spoon mother rest bottle dog bull opener style french storage jam jar style french storage jar cafe style french storage jar bonbons folding vintage ruler meter folding vintage ruler metre set of candles 12 fork of school bundle exercise books of retro bundle exercise books of retro bundle books note of alphabet bundle exercise books box book treasure buffalo bill box book treasure gymkhana box book treasure gymkhanna shopping leaves list magnetic shopping leaves list magnetic reto retro leaves magnetic notepad vintage leaf magnetic notepad sketchbook shopping list magnetic shopping list vegetable magnetic shopping list pantry magnetic bag jumbo apples bag jumbo pears bag jumbo alphabet bag jumbo vintage leaf bag jumbo doiley patterns bag jumbo vintage doiley bag jumbo vintage doily design bag charlotte apples design bag charlotte alphabet bag charlotte vintage alphabet design bag lunch apple design bag lunch alphabet design bag lunch vintage leaf bag lunch pattern doiley bag lunch vintage doiley bag lunch vintage doily white painted rocking horse hand red painted rocking horse hand with heart decoration bell wreath with heart painted bell wreath with decoration star bell wreath heart gold antique bell heart gold antique jingle bell heart silver antique jingle bell heart gold antique laurel heart silver antique laurel gold star antique laurel silver star antique laurel heart decoration gold reindeer heart decoration silver reindeer christmas gold hanging tree christmas silver hanging tree heart decoration gold cherub heart decoration silver cherub daisy heart white filigree heart white butterfly filigree heart white bird filigree game donkey tail vintage game donkey tail design wrap alphabet wrap vintage doiley wrap vintage doily design wrap doiley design wrap vintage leaf design wrap vintage petals design wrap poppies christmas tin vintage biscuit tin vintage biscuit leaf tin vintage storage leaf tin biscuit doiley tin storage doiley tin vintage storage doiley tin vintage storage doily set of tins leaf knick knack set of tins leaves knick knack set of tins london knick knack set of tins poppies knick knack set of tins doiley knick knack set of tins doiley knick knack set of tins doily knick knack design tin treasure gymkhana tin treasure buffalo bill set of coffee tea sugar tins pantry design vintage leaf cannister round tin vintage storage leaf tin vintage storage leaf cake set of tins regency 50 christmas tin biscuit plate dinner enamel pantry red vintage plate enamel trim bowl enamel pantry red bowl vintage enamel trim mug enamel pantry red vintage mug enamel trim jug enamel pantry red vintage jug enamel trim design set cutlery pc pantry 16 design set piece cutlery pantry 16 childrens dolly girl cutlery dolly girl cutlery kids childrens cutlery circus parade childrens cutlery spaceboy cutlery kids spaceboy set wooden heart of decorations set wooden of decorations sleigh set wooden of tree decorations set wooden of decoration stocking set of place settings santa set christmas of ceramic reindeer set christmas of ceramic trees hearts set of ceramic painted christmas candle silver table spike christmas candle silver table spike holder light tree willie winkie heart holder light willie winkie holder light star willie winkie set of owls hanging ollie beak pink folding butterfly mirror hot pink folding mirror hot red folding butterfly mirror red folding mirror folding butterfly mirror ivory folding mirror ivory doormat vintage leaf design doormat vintage leaves and in doormat keep calm come pink vintage spot beaker blue vintage spot beaker red vintage spot beaker green vintage spot beaker bowl childrens dolly girl bowl childrens spaceboy childrens dolly girl cup childrens space boy cup childrens cup spaceboy fairy cake set of cases 12 baking set of cases baking snack loaf mini set of cases 12 baking loaf set time of cases tea baking set heart shape 40 cases four petit spotty bunting spotty bunting food set with cover beads sizes food set with cover beads of pad tea cup gardeners kneeling pad keep gardeners kneeling calm design kneeling mat housework set cutlery picnic fondant set cherry cutlery picnic set cutlery picnic blueberry design set of 36 doilies pantry paper set of 36 doilies pantry design cake set 60 of cases pantry cake set 60 of cases vintage leaf cake set 60 of love cases london assorted ring bubblegum christmas vintage stocking gift christmas vintage sack christmas vintage bunting christmas vintage tablecloth ivory clock refectory red clock refectory blue clock refectory mini box of vintage crackers mini box 50 of crackers 50 christmas giant cracker small heart of white wicker large heart of white wicker white star wicker large strawberry pot jam rustic large strawberry rustic jampot small strawberry pot jam rustic small strawberry rustic jampot mini hanging coloured bottles mini clear hanging bottle set in milk school bottles crate large heart decorative wicker medium heart decorative wicker small heart decorative wicker large heart ivory wicker medium heart ivory wicker small heart ivory wicker ivory egg frying pan pink egg frying pan egg frying pan mint red egg frying pan blue egg frying pan cake christmas vintage frill pink wall diner clock diner clock mint wall diner clock mint bag christmas jumbo vintage bag 50 christmas jumbo dolly girl beaker beaker spaceboy love beaker london set childrens toy cooking utensil wrap christmas vintage roll wrap vintage roll spot wrap 50 christmas roll red wrap 50 christmas roll gift christmas vintage tags gift 50 christmas tags keep hot water bottle calm love hot water bottle hot water bottle bomb sex stuff hot water bottle set of lights vintage 12 doiley set of lights vintage 12 doily set candles vintage doiley set candles vintage doily pencils set love colour 12 london pencils set colour 12 doiley colouring pencils set 12 doiley colouring pencils set 12 doily pencils set colour 12 spaceboy pencils set dolly colour girl 12 pencils set love colour 36 london pencils set colour 36 doiley colouring pencils set 36 doiley colouring pencils set 36 doily pencils set colour 36 spaceboy pencils set dolly colour girl 36 paper gift bag christmas vintage red paper gift bag spot paper gift bag 50 christmas christmas of pack vintage 12 tissue of pack dolly girl 12 tissues 50 christmas of pack 12 tissues red of pack apple 12 tissues of pack 12 tissues doiley of pack vintage 12 tissues doily of pack vintage 12 tissues leaf cake box christmas of decorations mini woodland backpack mini woodland rucksack mini spaceboy backpack mini spaceboy rucksack mini dolly girl backpack mini dolly girl rucksack mini love london backpack mini love london rucksack spaceboy rocket lolly makers cover cushion home sweet cover cushion poste france cover cushion belle jardiniere butterfly cover cushion cover cushion jardin la botanique cover cushion jardin le botanique stool home sweet foot heart hanging bonheur heart hanging home sweet with home sweet shelf hooks with heart mirror rustic lace peg hanger home sweeet peg hanger home sweet letter holder home sweet home sweet blackboard drawer home sweet cabinet holder key home sweet set of home sweet trays frame small and photo lace linen frame large and photo lace linen and cabinet curio lace linen trellis coat rack heart white mirror antique box coffee vintage decorative box coffee decrotivevintage grinder box coffee vintage grinder box zinc home sign hook home sweet hook chambre hook bathroom lavender bottle toilette home sweet bottle hook tea pantry strainer hook pantry spatula hook balloon pantry whisk hook hanger pin pantry rolling box book gingham recipe tin home sweet storage metal sign your drop pants stool home sweet retro wall ivory kitchen clock red retro wall kitchen clock blue retro wall kitchen clock hearts natural hanging quilted hearts hanging quilted pretty hanging apples quilted patchwork 50 christmas ribbons raffia christmas vintage ribbons raffia large gift bag christmas vintage large gift bag christmas vintage large gift bag 50 christmas large gift bag 50 christmas red large gift bag spot large gift bag spot red heart love warmer hand eggs in your own paint crate hanging painted egg easter hand eggs hanging 12 painted hand day carriage next ice cream bubbles blue egg basket easter bunny pink egg basket easter bunny cream egg basket easter bunny set of easter chicks rainbow mini frame square portrait mini frame heart portrait mini frame oval portrait mini set of hanging portraits mini hanging frames three frame small parlour frame small picture parlour frame medium parlour frame medium picture parlour frame large parlour frame large picture parlour dolly cabinet drawers dolly cabinet drawers wall sweetheart tidy house bird sweetheart wall rococo miror white mirror wall rococo zinc vintage can watering small zinc vintage can watering bird tuscan villa feeder tuscan villa feeding station tuscan villa dovecote bird tuscan villa feeder dovecote zinc planter vintage bird table tuscan villa small holder love bird card large holder love bird card drawer office tidy six drawer office tidy nine red small heart woodland felt blue small heart woodland felt pink small heart woodland felt red large heart woodland felt blue large heart woodland felt pink large heart woodland felt wire egg basket mini woodland lights mushrooms small heart ivory pearlised large heart ivory pearlised holder light butterfly hanging heart holder light trellis triple heart holder light trellistriple wall botanical clock gardens heart antique shelf unit cake heart sweet carrier vintage bells garland vintage bells garland holder love light hanging bird heart vintage jingle bells vintage jingle bells wreath vintage sewing kit travel doily vintage sewing kit deluxe doily set wooden of spoons pantry kitchen pantry thermometer classic bell chrome bicycle classic bell bicycle crome clips classic bicycle set vintage 12 chalk doily assorted ring key baseball boot ring key union jack baseball boot vintage cards doiley playing vintage cards doily playing on carry keep cards calm playing union jack cards playing jubilee love cards london playing mini cards spaceboy playing mini cards buffalo bill playing mini dolly girl cards playing mini cards fair fun playing mini cards gymkhana playing reel ribbon emily embroidered reel ribbon rosie embroidered reel ribbon embroidered susie reel ribbon embroidered sally daisy reel ribbon embroidered reel ribbon embroidered sophie reel ribbon embroidered rebecca reel ribbon embroidered rachel reel ribbon embroidered claire reel ribbon embroidered ruby art and cat wall bird art and cat wall bird art and ball wall dog art and ball wall dog art wall treasure ahoy art wall treasure ahoy art wall horse pony art wall horse pony art wall buffalo bill art wall buffalo bill art wall dog licence art wall dog licence art and animals wall nature art and animals wall nature art wall spaceboy art wall spaceboy art dolly wall girl art dolly wall girl art wall one person only art wall one person only art love wall big art and wall rest work play garden art wall haven art for wall tea stop art for wall tea stop art wall bicycle saftey art wall bicycle safety art wall bicycle saftey art wall village show art wall village show art love wall london art love wall london art heart wall vintage art wall secret loves art wall secret loves art the wall magic forest art the wall magic forest art wall puddings art wall classic puddings art wall alphabet 70 art wall alphabet 70 art wall keep calm art wall keep calm art wall modern mid century red wrap doiley red wrap vintage doily wrap paisley park wrap flower shop wrap magic forest garden wrap bird wrap alphabet poster of pack paisley 12 tissues park kit repair bicycle puncture frame landmark camden town frame landmark oxford street frame landmark notting hill frame garden landmark covent frame landmark street baker frame london landmark bridge woodland bunnies lolly makers style set of ribbons country set party of ribbons set of ribbons pretty perfectly cup egg milkmaid ingrid cup egg milkmaid helga cup egg milkmaid heidi pink cup egg hen henrietta cream cup egg hen henrietta set alphabet stamp tradtional up traditional game sticks pick traditional naughts crosses packing charge paisley tray snack park red tray vintage snack doily red tray gingham snack love tray snack london tray happy snack forest bag jumbo paisley park red bag jumbo vintage doily bag lunch paisley park paper paisley bunting park paper party vintage bunting set 10 cards snowy snowdrops 17100 set 10 cards wise men 17107 set 10 card reindeer kraft 17084 mini set 10 santa snowman 17087 set of days 12 10 cards xmas 17059 set 10 cards hats stockings 17081 set 10 cards rudolphs nose 17097 set 10 cards robin snowy 17099 set christmas 10 cards robin 17095 red set 10 cards riding hood 17214 set 10 cute snowman minicards 17071 set 10 badges cards xmas 17070 set wrap days 12 10 cards 17058 set 10 printed cards graphic 17219 set 10 jingle bells cards 17217 set swirly tree 10 cards xmas 17104 set 10 cards poinsettia 17093 set 10 post cards perfect 17090 set 10 cards david madonna 17074 set christmas 10 card welcome 17112 set 10 card nativity perfect 17089 set cards reindeer sparkly 17262 set tree 10 cards dinky 17076 set 10 cards xmas graphic 17218 set 10 cards triangle icons 17220 set up 10 cards dressing 17077 set hanging 10 cards baubles 17080 set 10 cards robin cheerful 17065 set children 10 cards world 17067 set 10 cards xmas choir 17068 set christmas 10 cards holly 17259 set tree 10 cards wishing 17116 set of 10 out cards order 17216 set 10 cards robin waterpump 17096 set tree 10 cards magical 17086 set 10 cards scottie dog 17211 set christmas bauble 10 cards 16954 set christmas tree 10 cards 16955 set christmas 10 cards hohoho 16956 set 10 jingle bells cards 16957 set the 10 cards deck halls 16960 set bauble 10 cards filigree 16961 set christmas 10 card stamps 16963 set 10 card snowman 16965 mug hen henrietta mug milk maids design flower mug shop red bag lunch vintage doily wrap keep birthday calm wrap keep birthday calm wrap you thank pretty paisley card park you card thank doily you card thank pretty high resolution image paper little craft birdie shape gold open hand shape white open deco hand black set of ducks flying set of ducks coloured flying set of gold ducks flying pink set of ducks flying blue box oval fabric victorian red box oval fabric victorian blue biscuit enamel bin rim flower bowl fruit colourful paper bag print gold box wooden advent calendar in rasta bath spliff ashtray pink set of light bird feather christmas tree turquoise pink christmas tree dusty 30cm tree 30cm blackchristmas pink christmas white tree 30cm pink christmas tree 60cm dusty black christmas tree 60cm christmas white tree 60cm pink christmas white tree 60cm black christmas tree 120cm pink and christmas white tree 120cm pink christmas decoration fluffy black christmas decoration feather pink christmas decoration feather pink flock christmas droplet black flock christmas droplet flock christmas white droplet with string ivory curtain pole pink with string curtain pole black pink and string curtain pink blue string curtain pink box vintage bead jewel pink bag vintage bead evening pink vintage bead shade pink purse vintage bead bag cosmetic vintage bead pink vintage stand bead jewel pink vintage scarf bead notebook vintage bead pink tea container enamel blue tea container enamel rim pink tea container enamel pink coffee container enamel blue coffee container enamel rim pink acrylic snowflake jewel pink acrylic angel jewel pink acrylic snowflake jewel pink acrylic snowflake jewel blue acrylic jewel icicle pink acrylic jewel icicle blue acrylic hanging jewel pink acrylic hanging jewel flock christmas gold balls pink flock christmas balls rabbit decoration easter pink flowers rabbit easter rabbit multicolour easter pink flowers rabbit easter rabbit multicolour egg warmer pink rabbit flower egg warmer pink white decoration chick pink white decoration easter chick pink cup egg chick warmer blue hen knitted peach hen knitted heart flower hanging yellow felt blue heart flower hanging felt blue with heart flower hanging felt pink heart flower hanging felt rabbit easter four decorations hanging garland easter bunny wreath easter bunny heart decoration candy hanging fairy cake decoration hanging pink christmas decoration stocking christmas folkart star decorations small christmas folkart star dec christmas bauble dec smallfolkart christmas folkart zinc star dec christmas folkart heart zinc dec on folkart stars clip folkart heart napkin rings christmas folkart light tree hold art folk holder light star metal art folk heart holder light metal folkart zinc bells sleigh rose folkart heart decorations daisy folkart heart decoration asstd circles mug multicolour polkadot mug big for retro tea one flower mug spring multicolour pink polkadot coffee cup saucer pink polkadot mug orange flower mug assorted coffee retro mugs pink cherry blossom cup saucer mug icon revolutionary black with white plate cats and yellow cup saucer breakfast blue and cup saucer breakfast pink and cup saucer breakfast mini cake cakes with hanging stand design cake ceramic plate spotted design cake ceramic mug spotted cake cakes ceramic hanging stand cake cakes ceramic bowl hanging funky monkey mug mug pet goldfish box in robot mug display in colour mug two pig designs assorted mug hardman polkadot multicolour plate set shape tone bowls egg mixing set bowls colourful mixing and tray bowls spoons condiment on brown blue flock mug cubic on brown pink flock mug cubic pink polkadot mug cubic design orange flower yellow plate design pink flower bowl yellow big design pink flower yellow mug big design blue flower yellow mug big design blue green flower mug big design pink green flower mug big pink candle holder ceramic yellow blue candle holder ceramic yellow blue green candle holder ceramic blue purple candle holder ceramic fairy cake set candle birthday box gift time in tea teapot box set gift time in tea box gift mug new england white bamboo ribs lampshade white bamboo ribs lampshade blue round lampshade organdy bea paper chinese lanterns dragon red paper daisy lampshade pink butterfly lampshade gauze butterfly lilac lampshade gauze blue check lampshade crusoe blue white rings lampshade plastic purple hanging lampshade copper leaf curtain bead cannabis assorted circular mobile ass col mobile circle assorted mobile circle coloured pink purple circle curtain lilac curtain feathers pink curtain feathers colour curtain pom folding shoe tidy polyester filler pad 45x45cm polyester filler pad 65cmx65cm polyester filler pad 45x30cm polyester filler pad 40x40cm polyester filler pad 30cmx30cm pop art green cover cushion mao funky monkey cover cushion curtain elvis wallhanging blue cover cushion chenille shaggy colour chunky knitted throw sunset cover cushion woven bubble gum cover cushion woven berries cover cushion woven frost cover cushion sunset woven cover cushion candy woven garden rose cover cushion woven cover cushion woven bubble gum cover cushion woven berries cover cushion candy woven garden rose cover cushion woven blue wine bottle dressing lt blue wine dark bottle dressing light decoration battery operated set bag gold bead gauze coasters funky small box pop monkey funky small box pop monkey flower fuschia table run blue flower table run purse with flower fuschia beads blue purse flower des fuschia shoe dec voile pointy blue lampshade voile pink padded check pair hangers pink bag green cosmetic embroidery blue bag green cosmetic embroidery assorted colour hook cup suction assorted colour hook suction lizard assorted monkey hook cup suction assorted photo silver clip shapes photo string pegs rainbow clip photo hanging rope ladder clip with clips string metal 50cm ass print floral multi screwdriver ass print floral spirit level garden set bag in floral tools english rose spirit level garden english rose secateurs pop art icon elvis placemat pop art icon elvis placemat time tea towels time oven glove tea time oven glove tea cover retro board longboard ironing party bunting party time tea bunting party time tea bunting time tea apron kitchen time tea table cloth time tea table cloth english rose flower hanging scented english rose heart hanging scented small english rose flower scented time tea basket breakfast time tea cosy des pink fairy cake cover cushion pink fairy cake cover cushion bunting congratulations blue happy birthday bunting pink happy birthday bunting pink happy birthday bunting childrens apron scotties pink fairy cake childrens apron childrens apron scotties pink fairy cake childrens apron carousel baby ponies bib dogs baby scottie bib dogs baby scottie bib design carousel washbag design washbag scotties pink party bags blue party bags doormat cats smiley doormat multicolour stripe doormat topiary doormat union flag black flock doormat black flock doormat english rose doormat fairy cake doormat doormat new england doormat welcome puppies doormat friendship hearts doormat slipper sock pair afghan pen pink feather hot pen black feather coal pen pink light feather pen black feather coal design summer fun shower cap design shower cap stripy sombrero blue bag check handle 34x20cm cup elephant clip suction pink bag flower retro big ice cream bag turq bum pink flowers handbag yellow purple flowers handbag turq blue bag shoulder stripes pocket heart love warmer warmer hand hi tec alpine candle holder white hanging beads small candle holder single flame white metal lantern white metal lantern moroccan fairy standing pole support with silver book antique beads mark with silver book beads mark for candles metal base photo clip line pink glass candleholder pink white keep bin clean bullet black orange squeezer holder light hanging jam jar holders light hanging jam jar holder glass light colour star holder glass light star coloured blue wall office tidy cd red flowers wall tidy cd blue wall office tidy a4 red flowers wall tidy a4 metal square candleholder base candle lilac votive bag of stones silver scent candle coffee pillar round candle columbian round candle columbian round candle columbian candle rectangle columbian candle cube columbian candle rectangle columbian candle cube columbian candle best letters dad cake scent candle lavender candle pillar feng shui purple set butterfly lights purple set butterfly lights set butterfly lights turquoise pink set butterfly lights set butterfly lights turquoise pink clear candle glass plate set of lights halloween ghost set candles 12 taper candle ivory sculpted rnd grand chocolatecandle cream cake vintage stand basket black candle plate silouette black candle plate sil squ garden set rose candle dinner pink flock candle silver pillar flock candle silver ivory pillar flock candle gold ivory pillar purple flock candles dinner pink flock candle silver dinner blue flock silver candles dinner flock silver candles ivory dinner pink rose candles dinner blue candles dinner sky wine candles dinner burgundy pink rose candles dinner blue candles dinner sky box rose in scent candle jewelled box in scent candle jewelled ocean box scent vanilla candle jewelled box rose in scent candle jewelled box scent vanilla candle jewelled rose scent candle drawer jewelled scent candle drawer jewelled ocean box set rose in candle jewelled box set scent candle jewel ocean box set in vanilla candle scented box set rose in candle jewelled box set scent candle jewel ocean box set in vanilla candle scented small glass zinc candleholder large glass zinc candleholder christmas candle wick briar set christmas candles decoupage set christmas of candle decoupage christmas candle decoupage design candles scented cupid in candle glass scented cupid blue daisy mobile pink of string butterflies large circular mobile mirror on tube metal bamboo chime metal painted shell sea windchime asstd col butterfly crystal chime windmill dolphin union flag windsock of flag chair st george blue hanger storage netting assorted rack magazine gebra glass tea moroccan coaster icon elvis lives tumbler baroque tumbler baroque new england tumbler new england tumbler glass colour grey smokey glass colour grey smokey tin retro ashtray revolutionary box the king key retro chain pill box retro revolutionary pill retro tray mod retro tray mod tray corona mexican english rose metal bin waste star painted moon lightbulb design painted rainbow lightbulb blue star silicon bulb blue cube silicon 25w blue light ubo triobase purple light ubo triobase heart shape wireless doorbell set party of lights 10 st george black glass champagne black glass wine retro tray 70 plastic retro tray polka plastic daisy retro tray plastic retro tray polka plastic retro tray elephant plastic daisy retro tray plastic retro tray 70 plastic art monkey lights funk lights chilli black cherry lights pink cherry lights pink flock glass candleholder pink flock glass candleholder pink flock glass light candleholder blue flock glass candleholder white frosted base white frosted base blue with flower clock sucker purple flower clock sucker purple with flower clock sucker blue round with clock sucker purple round with clock sucker blue round with clock sucker pink round clock articulated suck frame cover silver record frame silver record vinyl frame cover silver record frame silver record vinyl tropical bathroom beach scales rubber bathroom ducks scales in sand bathroom scales footprints box heart jewellery buttons frame wooden white picture finish drawer white cabinet wood finish black white wood board finish ant drawer white antique cabinet wood white cabinet wood finish ant frame wooden white antique frame wooden white antique metal sign laundry 15c metal sign washroom metal sign lounge airline metal sign kitchen metal sign bathroom toilet metal sign metal area sign patrolled metal sign hot baths sign rest fanny stopmetal metal sign singing n0 metal sign no singing metal sign old doc russel hook metal sign single cupcake hook metal sign single cupcake hook metal sign single cupcake hook metal sign single cupcake hook metal sign single cupcake hook metal sign single cupcake hook metal sign single cupcake pink scarf kit knitting marshmallow scarf kit knitting frappucino scarf kit knitting midnight glamour paper flowers tree magic paper magic sheep wool growing from car of flag st george red heart white woolly hottie hot water bottle union flag knitted english rose hot water bottle english rose hot water bottle red charlie lola hot water bottle blue charlie lola hot water bottle red charlie lola hot water bottle blue charlie lola hot water bottle pink charlie lola hot water bottle red charlie lola hot water bottle of flag st george pink heart shape egg frying pan ass colour glowing tiaras asstd world designs war gliders set white retro storage cubes blue retro yellow radio pink purple retro radio assorted cat colour metal in dark glow dolphins teddy stripey happy birthday card cake teddy happy birthday card hearts black card cats blank with cat card blank sunglasses tray card champagne blank assorted flower colour leis box in 12 egg basket chick house in family hen nest barn house in chick hen nest house standing chick hen with house standing chick hen on with basket easter bunny back christmas of pack 12 cards fun pack 12 card fun xmas greeting card decoupage art folk pack 12 greeting card and mushroom fawn greeting card blue folkart pack 12 cards greeting card square doughnuts sticky greeting card gordon greeting card two sisters greeting card overcrowded pool design asstd ring bubble gum cherry blossom decorative flask cherry blossom decorative flask pink square roses planters blue tray table tv orange tray table tv pink small christmas tree magic light silver rotating angels hldr christmas silver bauble tree stand curtain pompom wood lamp floor shade base white wood table lamp shade base set of 20 kids cookie cutters set heart of cookie cutters set of butterfly cookie cutters on bird screen canvas branch shape star egg man pan wise purple stand jewellery dress hearts cream hanger coat cupid pink flock cover cushion suede blue flock cover cushion pink blue mirror string disc pink medium buddha head rabbit metal easter ladder set flower rope rabbits skippping pink heart metal chicken heart yellow metal chicken pink in 12 basket chicks hen pink in basket chicks hen pink box in chicks fluffy 15 pen set top secret and notebook stripes buttons black flower candle plate design monkey doll stripes design blue monkey circles doll design camouflage teddy design teddy stripes design blue circles teddy set english rose of placemats fairy cake set of placemats polkadot set of placemats set carousel of placemats fairy cake set of placemats set english rose of placemats fairy cake set of placemats polkadot set of placemats fairy cake set of placemats set english rose of coasters polkadot set of coasters set carousel green of coasters set english rose of coasters polkadot set of coasters set carousel green of coasters set charlie lola coaster tomato set charlie lola coaster carrot paper english rose pack napkins 20 pink party sunglasses pink sunglasses flames lenses pink egg cosy knitted blue egg cosy knitted fairy cake notebook size a5 fairy cake notebook size a5 english rose notebook size a6 fairy cakes notebook size a6 english rose notebook size a7 fairy cakes notebook size a7 english rose notebook size a7 fairy cakes notebook size a7 rabbit doll knitted red blue bear crochet keyring rabbit white crochet keyring red bear crochet keyring lilac crochet keyring dog 3d picture cards dog playing 3d picture cards dog playing stickers of 3d sheet dog stickers cat of 3d sheet stickers of 3d sheet dog stickers cat of 3d sheet pink white jug ribbed melamine pink white tray breakfast blue white tray breakfast on girls alphabet iron patches on pack dog iron patches car pack fire patches engine flower pack butterfly patches ice cream heart pack patches pink dog cannister pink blue heart cat biscuit barrel pink with toy mouse shirt pink with toy crochet skirt dog pink with cat gingham scarf rose purse with crochet back suede rose hanger crochet clothes des red design large bowl tortilla design small orange bowl dolly mix pink small bowl des licorice pink small bowl marshmallows pink small bowl chocolates green light bowl mixed nuts blue small light bowl biscuits design small orange bowl dolly mix pink small bowl des licorice pink small bowl marshmallows pink small bowl chocolates blue small light bowl biscuits brown ball retro ashtray pink ball retro ashtray on boys alphabet iron patches box jewellery new baroque candle holder tall rococo pink flock candlestick new baroque blue flock candlestick new baroque pink flock candle holder baroque silver chandelier roccoco black boxes new baroque blue rose cover cushion gingham pink candle new baroquecandlestick blue candle candlestick new baroque frame and white tree birds and wall tree fruit birds plaque hanging decorative unit shelving flower wall kitchen plaque pots small flower kitchen plaque pots white cover cushion stitched white clock travel alarm white wall clock stitched black wall clock stitched pink wall clock stitched white wall clock stitched black wall clock stitched pink wall clock stitched white table square clock black table square clock pink table square clock white table square clock black table square clock wooden wall grass clock hopper cherry blossom cabinet square cherry blossom cabinet square pink fly swat blue fly swat can watering pig flying king frog can watering small rose vase classical rose table lamp classical rose classical candlestand key cabinet beach hut mirror beach hut shelf beach drawers hut design beach blackboard hut beach treasure hut chests pack dolly 20 pegs box of 24 cocktail parasols frame pink flock photo cherry blossom table clock red table clock peony silver tray mirror trinket jewelled pink tray mirror trinket jewelled frame pink photo jewelled pink mirror oval jewelled box shape silver oval trinket pink box shape oval trinket frame pink photo jewelled ice cream set of skittles art cherry blossom picture canvas art picture canvas freestyle screen birds canvas bird cute screen ceature rabbit cute screen ceature flowers felt garland citrus flowers orange felt vase on flowers crochet sew pink hanging gingham easter hen blue hanging gingham easter hen pink flower easter hens folk hanging felt garland multicol pink cake small glass stand black cake small glass stand black cake medium glass stand bag in glass silver baubles 15 holder glass light colour hanging small glass hanging zinc lantern zinc planter finish pots 15cm candle silver rococo stick red and rose cover lace plant bird enchanted cage hook bird enchanted coathanger check hammock sunset stripe hammock ocean check hammock sunset pink for hawaiian picnic hamper blue for picnic hamper savannah pink for hawaiian picnic hamper pink flower foxglove artiifcial purple flower foxglove artiifcial flower lavender sprig artificial pink large art rose flower white pink medium art rose flower white pink small art rose flower white pink art flower hydrangea art flower white hydrangea flower white artificial anemone purple flower artificial anemone pink flower artificial allium flower white artificial allium cream flower artificial delphinium blue flower artificial delphinium cream art flower climbing hydranga blue art flower climbing hydranga pink flower artificial candystuft flower white artificial candystuft art flower white chrysanthemums pink art flower chrysanthemums set of napkin rings diamond rose cabinet bedside danish rose plate decorative danish frame rose photo danish box round rose sewing danish rose trinket trays danish rose coaster deluxe danish folding rose chair danish umbrella rose stand danish design asstd paper stickers 3d sponge ass craft sticker des phone ice holders lolly jungle popsicles ice moulds lolly jungle popsicles candle zinc willie winkie stick heart decoration zinc metal all carry sweetheart basket set bathroom hello sailor with white soap rack bottles in candle tin scented digitalis set floral bathroom blue holder soap hello sailor fairy holder soap holder soap hot baths pink set tool girly large bag beach tahiti small bag beach tahiti blue handbag monte carlo pink handbag monte carlo pink handbag riviera handbag disco silver blue handbag disco pink handbag disco black photo album new baroque blue girl geisha green girl geisha funky teatime flower for backpack funky teatime flower for backpack funky bag flower for picnic blue first aid kit travel green mirror square compact blue mirror square compact green heart mirror compact blue heart mirror compact pink round mirror compact round green mirror compact blue round mirror compact assorted colour bird ornament holder wire white egg blue candle holder wire spiral green candle holder wire standing heart wire white ant spiral heart wire white ant spiral flowers handbag yellow felt kit pink butterfly cover cushion pink cover fly bobbles pink butterfly cover cushion pink cover cushion patch yellow pink cover cushion paisley pink rose washbag rose green washbag pink rose soft towel rose green towel mint pink and daisy flower towel hand blue flowers towel hand pale with white butterfly towel hand blue with flower cover cushion pink flower fabric pony pink cream flowers and pony pink butterfly washbag pink handbag butterfly bobbles up sign calendar wake cockerel metal sign calendar psychedelic wall la thermometer palmiera wall psychedelic thermometer up tile coaster wake cockerel tile coaster la palmiera flowers tile coaster tile coaster psychedelic up tile hook wake cockerel tile hook la palmiera flowers tile hook tile hook psychedelic asstd flowers fruit magnets fridge pink flower pattern scottie dog blue flower pattern scottie dog set folkart of baubles kashmir holder light silver colour multi glass light silver antique glass silver etched antique tea glass silver antique tea engraved holder light silver hanging assorted holder light colour set of coaster lovebird pistachio black set of lovebird coasters clear holder love light bird black holder love light bird holder love light mirror bird pink painted chair kashmiri blue painted chair kashmiri set rose of vintage cutlery 16 set of vintage ivory cutlery 16 set of vintage cutlery 16 pistachio red set of vintage cutlery 16 black set of vintage cutlery 16 blue set of vintage cutlery 16 sky set rose of vintage cutlery 16 red set of vintage cutlery 16 black set of vintage cutlery 16 blue set of vintage cutlery 16 sky assorted box of colour teaspoons heart holder light zinc single heart holder light hanging zinc heart holder light zinc single heart holder light hanging zinc small flowers heart hook large flowers heart hook design heart zinc planters heart mirror shaped mirror shaped rectangular flower holder wire light heart holder light hanging jar green cover cushion peony red cover cushion peony red cover cushion oriental paper set green of 72 doilies paper set teatime of 36 doilies paper pink set heart of 72 doilies fairy cake green cases 75 fairy cake green cases 75 fairy cake and 60 gold silver cases fairy cake teatime 60 cases fairy cake cases 72 sweetheart green cases four petit 75 black cases four petit 75 green cases four petit 75 polkadot green childrens cutlery polkadot set green piece cutlery red retrospot childrens cutlery red set piece retrospot cutlery blue polkadot set piece cutlery blue polkadot childrens cutlery pink polkadot childrens cutlery pink polkadot set piece cutlery polkadot green childrens cutlery polkadot set green piece cutlery red retrospot childrens cutlery red set piece retrospot cutlery blue polkadot set piece cutlery blue polkadot childrens cutlery pink polkadot childrens cutlery pink polkadot set piece cutlery set round boxes nursery des set of oval boxes island coney black blue polkadot umbrella red umbrella retrospot black blue polkadot umbrella red umbrella retrospot set of vintage 12 postcard set of vintage kit notelets 50 envelope romantic images 50 envelope blossom images 50 envelope images curious paper boxes images yuletide set notebook romantic images set blossom notebook images set notebook images curious pink round heart mirror de jewelled eau nile photoframe de jewelled eau nile photoframe pink small jewelled photoframe frame photo heart shape de eau nile frame pink photo heart shape holder light de jewelled eau nile large french platter chateau large bowl french fruit chateau small french chateau fruitbowl french oval platter chateau set book romantic images scrap set blossom book images scrap set book images curious scrap set wrap gift romantic images set wrap gift blossom images set wrap gift images curious set wrap gift images yuletide candles gardenia morris boxed white candles choc morris boxed rose candles morris boxed candles gardenia morris boxed white candles choc morris boxed candle wick gardenia morris boxed box candle chocolate wick morris box rose candle wick morris candle wick gardenia morris boxed box candle chocolate wick morris box rose candle wick morris candle wick gardenia morris boxed box candle chocolate wick morris rose candle wick morris boxed candle wick gardenia morris boxed box candle chocolate wick morris heart love lights chocolate red mini set rose in candle bowl mini rose in candle bowl ivory mini black rose in candle bowl red mini set rose in candle bowl pink in flower bowl candles blue set in flower bowl candles pink in flower bowl candles christmas green string tree 20light white string garland beaded 20light christmas glass ball lights 20 15cm christmas ribbons traditional ribbons lush greens ribbons pinks romantic ribbons bright blues ribbons scandinavian reds ribbons boom baby box ribbons chocolate black ribbons urban christmas ribbons traditional ribbons lush greens ribbons pinks romantic ribbons bright blues ribbons scandinavian reds box ribbons chocolate french enamel candleholder pot french lid enamel holder french enamel utensil french water enamel basin heart white decoration jewelled light crystal hldr pearl pumpkin cream letter sweetheart rack mini cream sweetheart chest cream wall sweetheart cabinet blue charlie lola personal doorsign red charlie lola personal doorsign charlie lola sign extremely busy charlie lola door my sign room hearts ring scandinavian napkin christmas top holly stocking heart decoration candy spot cover cushion candy spot bag candy spot hand candy spot bunny candy tea spot cosy candy spot egg warmer hare rabbit candy spot egg warmer luggage three canvas tags rabbit candy spot hilda red bag retrospot jumbo black bag white jumbo baroque bag strawberry jumbo bag strawberry jumbo light silver setting set glass light silver holder glass light cut hexagon holder glass light cut octagon pink holder light boudoir flower holder silver glitter votive black forest placemat enchanted ivory forest placemat enchanted red forest placemat enchanted black forest placemat enchanted ivory forest placemat enchanted red forest placemat enchanted black disco partition panel black holder light candelabra heart holder light hook can single watering pistachio cream heart holder light hanging heart holder white light hanging heart holder white light hanging frame blue photo fruit juicy frame green photo fruit juicy small round glass candlestick cut large round candlestick cutglass small glass candlestick square cut small green heart crystal beaded blue small heart crystal beaded pink small heart crystal beaded large heart white beaded pearl large green heart crystal beaded blue large heart crystal beaded pink large heart crystal beaded on heart white beaded stick pearl on green heart crystal beaded stick on blue heart crystal beaded stick on pink heart crystal beaded stick charlie lola tins biscuits and charlie lola tins table and charlie lola tins figures charlie lola tins biscuits and charlie lola tins table and charlie lola tins figures yellow dragonfly helicopter blue dragonfly helicopter red dragonfly helicopter yellow helicopter shark blue helicopter shark red helicopter shark glass etched jardin fruitbowl glass dish etched butter jardin glass dish etched jardin cheese large glass etched bell jar jardin small glass etched bell jar jardin metal sign ladies gentlemen the chocolate sign hand over black coffee tea sugar jars white coffee tea sugar jars design garden white bird mug design black garden bird mug design garden white bird mug acrylic lamp geometric white wall clock baroque black wall clock baroque black frame photo grand baroque black clock carriage baroque candle love bird ivory black candle love bird candle love bird de eau nil pink candle love bird set light candles bird ivory black set light candles bird set lights bird de eau nil pink set light candles bird light candles bulb hyacinth set frog light candles prince candles cacti light candles cacti set sewing susan 21 needle flowers of sewing basket kit victorian sewing kit green light chain bitty pink light chain bitty green light chain bitty hearts red light chain hearts pink light chain blue charlie lola bin wastepaper charlie lola flora bin wastepaper box heart decoupage valentine box set heart decoupage valentine box set heart decoupage valentine pink sock horse puppet pink kit sock horse puppet frog sock puppet flowers of garland easter bunny garland egg bunny mini rabbit 12 easter green metal bunny swinging pink metal bunny swinging butterfly hanging egg large flower hanging spring egg small flower hanging spring egg heart hanging basket mini set in of 12 bunnies bucket assorted in animals bucket farmyard red large hanging bird ivory wood red small hanging bird ivory wood box egg bunny and heart hanging felt wood and butterfly hanging felt wood and flower hanging felt wood pink rabbit felt garland easter cream felt egg basket easter pink felt egg basket easter funky set bag in flower felt 12 peg groovy cat magnets mini garden decoration painted mini garden zinc decorations pink flower pegs 24 tub assorted magnets fridge cheese assorted cakes magnets fridge assorted silk case colour glasses ring key stand bling set of for 3d kids cards kit candle opium scented votive candle scented votive cinnamon candle scented votive strawbry candle jasmine votive orange candle votive set of lights cinammon set orange lights scented set of lights cinammon set orange lights scented polkadot set tins stacking set of tins babushka stacking set tins decoupage stacking flower copper ant raspberry necklac blue flower copper midnight necklac green flower copper olive necklace flower antique raspberry earrings blue flower antique mid earrings flower white antique earrings opal green flower antique olive earrings ring flower silver crystal burst hair rose heart colour pair slides blue hair heart pair midnight slide hair heart crystal pair slides hair green heart pair slides hair green enamel jade comb blue glass silver bracelet midnight black glass white silver bracelet glass silver bracelet amber blue crystal drop midnight earrings black crystal drop earrings green crystal drop earrings purple crystal drop earrings crystal drop earrings amber blue crystal drop midnight necklace black crystal drop necklace blue vintage midnight earrings black vintage earrings green vintage earrings purple vintage earrings silver necklace orbit silver necklace orbit mop gold pearl necklace orbit gold necklace orbit black and silver necklace orbit black silver necklace orbit silver necklace orbit pendant gold necklace orbit pendant black silver necklace orbit pendant silver drop earrings orbit gold drop earrings orbit black silver drop earrings orbit silver bracelet orbit gold bracelet orbit black silver bracelet orbit diamante chain filigree multi cut necklace laser strand black edwardian jet drop earrings diamante filigree earrings red new baroque fly necklace green new baroque fly necklace pink new baroque fly necklace new baroque fly necklace montana crystal new baroque fly necklace black butterfly baroque earrings red butterfly baroque earrings pink butterfly baroque earrings butterfly baroque earrings montana butterfly crystal baroque earrings black glass bead necklace hoop glass bead necklace montana hoop green glass bead necklace hoop glass bead necklace hoop amethyst black glass bead earrings hoop glass bead earrings montana hoop green glass bead earrings hoop glass bead earrings hoop amethyst large new baroque necklace blk whit black small new baroque necklace natural white seed spotted necklace red seed necklace kukui coconut brown seed necklace kukui coconut and wood necklace bili nut heart ivory shell necklace heart ivory shell earrings glass white silver shell necklace green shell pearl 42 neckl ivory shell pearl 42 neckl red flower garland necklace green flower glass 36 garland neckl blue flower glass 36 garland neckl black flower glass 36 garland neckl flower glass amethyst garld neckl36 flower glass garld neckl36 turquois red bracelet crystal tiny green bracelet crystal tiny blue bracelet crystal tiny and glass painted bracelet to beads and glass painted bracelet beads ol and glass ivory bracelet beads red glass bracelet fire polished glass bracelet fire polished montan black glass bracelet fire polished green glass bracelet fire polished red style glass bracelet murano black style glass bracelet murano style glass gold bracelet murano and cherry pearl quartz braclet gold bracelet pearl freshwater ivory bracelet pearl freshwater and bag charm copper brass bag with white metal charm bag green with metal charm bag gold ivory metal charm ivory cracked glaze necklace red cracked glaze necklace brown cracked glaze necklace ivory cracked glaze earrings red cracked glaze earrings brown cracked glaze earrings ivory chunky cracked glaze necklace assorted box in ring diamante clear crystal display earrings stud assorted col crystal earrings stud hair pack diamante crystal grip black hair pack diamante grip dia hair pack diamante montana grip hair pack diamante grip peridot hair pack diamante ruby grip hair rose pack diamante lt grip glass gold fire neckl polished glass fire neckl polished bronze green glass fire neckl polished carnival bracelet art white deco crystal necklac vint black art crystal dec necklace vint white vintage crystal earrings black vintage crystal earrings white vintage bracelet crystal black art bracelet crystal dec vint pink vintage victorian earrings brown vintage victorian earrings glass ruby necklace 42 glass ruby necklace cluster glass bracelet ruby cluster glass ruby earrings cluster chandelier drop ruby earrings vintage enamel crystal earrings black diamond necklace cluster diamond necklace montana cluster diamond earrings montana cluster black diamond earrings cluster pink glass white demi choker vintage enamel crystal necklace colour lily amethyst brooch white silver colour lily brooch colour lily olive brooch green diamante colour brooch bow red diamante colour brooch bow black diamante colour brooch bow charm crystal phone czech cross pink charm crystal phone guitar charm crystal phone stiletto frog charm crystal phone charm horse crystal sea phone pink skull charm crystal phone blue charm crystal boot phone clear star charm crystal phone set fruit salad bracelet necklace blue set blossom bracelet necklace pink butterfly bracelet necklace blue set bracelet necklace hibiscus pink set daisy bracelet necklace white necklace frangipani hair white clip frangipani purple necklace frangipani purple frangipani hairclip blue hair blossom clip pink hair dolly clips bag summer daisies charm bag summer butterflies charm bag fruit salad charm pink bag daisy charm bag leaves charms metalic pink bracelet twist murano blue bracelet twist murano green bracelet twist murano white bracelet twist murano pink glass bracelet crystal glass bracelet crystal jade glass bracelet turquoise crystal pink heart of glass bracelet heart of glass bracelet turquoise green heart of glass bracelet heart of glass white bracelet pink twist necklace murano blue twist necklace murano green twist necklace murano pink bag glass charm bead bertie bag glass charm bead bertie aqua glass charm turquoise bead bertie purple bag glass charm bead bertie bag glass charm bead amber bertie pink mobile charm phone bertie mobile charm phone amber bertie pink charm hand beads phone pink and leaves charm beads phone blue and leaves charm beads phone and green leaves charm beads phone purple and leaves beads phone char pink bag glass charm tassle bag glass charm turquoise tassle bag green glass charm tassle bag glass charm amber tassle purple bag glass charm tassle red bag glass charm tassle white crystal earrings stone crystal turq earrings stone green crystal earrings stone red crystal earrings stone pink gold necklace amethyst col light necklace aqua topaz teal col fuschia bead necklace teal rose bead old necklace combo orange stones fuschia necklace wht orange stones fuschia necklace pink pale necklace amethyst stone mini pink necklace combo crystals mini pink white necklace crystals pink sweetie necklace green shell triple necklace pendant ivory shell triple necklace pendant shell triple turq necklace pendant rose shell triple necklace pendant orange shell triple necklac pendant green shell necklace pendant shell necklace mop pendant pastel flower silver bracelet with flower silver drop earrings with flower silver earrings hoop pastel silver fine necklace flowe pastel silver chunky necklace flowe pastel flower long silver necklace pink silver shell necklace flowr natural silver shell necklace silver shell necklace pendant nat blue green shell necklace pendant blue shell necklace pendant nat pastel cut beads necklace lazer pastel beads necklace resin pastel bracelet beads resin riviera necklace st necklace tropez necklace cote azure purple large bracelet boudicca red large bracelet boudicca red large bracelet turq boudicca pink large bracelet boudicca red bracelet copper ant boudicca bracelet copper turq ant boudicca bracelet copper ant boudicca lime pink bracelet copper ant boudicca ring silver turquoise ant boudicca green ring silver ant boudicca lime ring silver fuschia ant boudicca purple ring silver ant boudicca pink pearl necklace rosebud white pearl necklace rosebud pink bracelet pearl rosebud white bracelet pearl rosebud pink pearl earrings rosebud white pearl earrings rosebud pink ring white rosebud set heart love jewellery beaded hair daisies comb hair daisy comb hair daisy band hair butterfly clips pair hair butterfly band glass white chunky bracelet charm pink glass chunky bracelet charm blue glass chunky bracelet charm chunky bracelet charm tigris eye diamante classic jet necklace black diamante necklace diamante necklace purple diamante necklace green diamante necklace diamante classic jet earrings black diamante drop earrings diamon diamante crystal drop earrings purple diamante drop earrings green diamante drop earrings glass chunky bead necklace amber purple glass chunky bead necklace fine bead necklace amber tassel purple fine bead necklace tassel black fine bead necklace tassel black white necklace tassel purple necklace amethyst tassel glass shell pearl necklace amber glass shell pearl necklace amethyst black glass shell pearl necklace drop bead earrings amber drop bead earrings amethyst black drop bead earrings long beads drop earrings amber long beads drop earrings amethyst black long beads drop earrings black long beads drop earrings chunky bracelet bead amber strap chunky bracelet bead amethyst str black chunky bracelet bead strap black chunky bracelet bead strap ring diamante amber expandable ring diamante amethyst expandable black ring diamante expandable ring diamante crystal expandable floral leaf hoop amethyst earring floral leaf crystal hoop earring blue drop bead earrings cluster green drop bead earrings cluster flower leaf drop earrings silver charm leaf necklace strand silver leaf crystal drop earrings gold leaf drop earrings amber silver leaf drop earrings amethyst silver lariat 40cm filigree drop earrings jade black silver earrings stone lariat purple bracelet gemstone black bracelet gemstone purple gemstone necklace 45cm black gemstone necklace 45cm black heart glass bracelet charms rose vintage bracelet bead raspberr black rose vintage bracelet bead black glass necklace strand glass necklace strand amethyst glass crystal necklace strand glass necklace amber strand purple sweetheart bracelet black sweetheart bracelet blue sweetheart bracelet pink sweetheart bracelet green sweetheart bracelet purple ring flower enamel black ring flower enamel red ring flower enamel green ring flower enamel purple hair flower enamel tie hair flower white enamel tie hair green flower enamel tie pink hair flower enamel tie of butterfly enamel pair hairclip large diamante hairslide mint large diamante hairslide crystal diamante gold star brooch diamante star crystal brooch pink of flower pair slide cluster purple hair glass enamel comb hair green glass enamel comb pink hair glass enamel comb acrylic grey faceted bangle clear acrylic faceted bangle red acrylic faceted bangle purple acrylic faceted bangle diamond necklace 45cm las vegas black jet necklace 45cm las vegas black round bracelet jet las vegas purple round bracelet las vegas letter ring key bling letter ring key bling letter ring key bling letter ring key bling letter ring key bling letter ring key bling letter ring key bling letter ring key bling letter ring key bling letter ring key bling letter ring key bling letter ring key bling letter ring key bling letter ring key bling letter ring key bling letter ring key bling letter ring key bling letter ring key bling letter ring key bling letter ring key bling letter ring key bling letter ring key bling letter ring key bling letter ring key bling amazon fee bad adjust debt bank charges carriage glass ashtray boxed bag shoulder haynes camper dogs la ooh collar camouflage dog collar light led night sunjar bag party boys bag party girls dotcom postage manual cushions all to pads match postage samples gift 10 dotcomgiftshop voucher 00 gift 20 dotcomgiftshop voucher 00 gift dotcomgiftshop voucher 00 30 gift 40 dotcomgiftshop voucher 00 gift 50 dotcomgiftshop voucher 00 manual'"
      ]
     },
     "execution_count": 18,
     "metadata": {},
     "output_type": "execute_result"
    }
   ],
   "source": [
    "all_words = ' '.join([' '.join(sentence) for sentence in count_vect.inverse_transform(X_matrix)])\n",
    "all_words"
   ]
  },
  {
   "cell_type": "code",
   "execution_count": 19,
   "id": "93b9b133",
   "metadata": {},
   "outputs": [
    {
     "data": {
      "image/png": "[encoded data removed]",
      "text/plain": [
       "<Figure size 640x480 with 1 Axes>"
      ]
     },
     "metadata": {},
     "output_type": "display_data"
    }
   ],
   "source": [
    "# 生成词云\n",
    "import matplotlib.pyplot as plt\n",
    "from wordcloud import WordCloud, ImageColorGenerator  # 引入词云WordCloud\n",
    "\n",
    "# WordCloud()设定词云参数，.generate()将str文本生成词云\n",
    "wordcloud = WordCloud(\n",
    "    font_path=\"C:/Windows/Fonts/simfang.ttf\", \n",
    "    background_color=\"white\",\n",
    "    width=1000,\n",
    "    height=880,\n",
    ").generate(all_words)\n",
    "\n",
    "plt.imshow(wordcloud, interpolation='bilinear')\n",
    "plt.axis(\"off\")\n",
    "plt.show()\n",
    "# wordcloud.to_file(\"cloud1.jpg\") # 保存图片"
   ]
  },
  {
   "cell_type": "markdown",
   "id": "da623189",
   "metadata": {},
   "source": [
    "## 文本分类"
   ]
  },
  {
   "cell_type": "markdown",
   "id": "b4c066b9",
   "metadata": {},
   "source": [
    "### 训练集-测试集划分"
   ]
  },
  {
   "cell_type": "code",
   "execution_count": 20,
   "id": "fcfcf864",
   "metadata": {},
   "outputs": [],
   "source": [
    "from sklearn.model_selection import train_test_split\n",
    "\n",
    "X = good_grouped.Description\n",
    "y = good_grouped.Hot\n",
    "X_train, X_test, y_train, y_test = train_test_split(X, y, random_state=0, train_size=0.7)"
   ]
  },
  {
   "cell_type": "code",
   "execution_count": 21,
   "id": "ca940679",
   "metadata": {},
   "outputs": [
    {
     "name": "stdout",
     "output_type": "stream",
     "text": [
      "X_train:\n",
      "<2912x1846 sparse matrix of type '<class 'numpy.int64'>'\n",
      "\twith 12489 stored elements in Compressed Sparse Row format>\n"
     ]
    }
   ],
   "source": [
    "from sklearn.feature_extraction.text import CountVectorizer\n",
    "\n",
    "count_vect = CountVectorizer()\n",
    "X_train_matrix = count_vect.fit_transform(X_train)\n",
    "X_test_matrix = count_vect.transform(X_test)\n",
    "print(\"X_train:\\n{}\".format(repr(X_train_matrix)))"
   ]
  },
  {
   "cell_type": "code",
   "execution_count": 22,
   "id": "b6948676",
   "metadata": {},
   "outputs": [
    {
     "name": "stdout",
     "output_type": "stream",
     "text": [
      "Number of features: 1846\n",
      "First 20 features:\n",
      "['00' '10' '11' '12' '120cm' '125g' '15cm' '16' '16954' '16956' '16957'\n",
      " '16960' '16961' '16963' '16965' '16x16cm' '17067' '17068' '17070' '17074']\n",
      "Features 20010 to 20030:\n",
      "[]\n",
      "Every 2000th feature:\n",
      "['00']\n"
     ]
    }
   ],
   "source": [
    "feature_names = count_vect.get_feature_names_out()\n",
    "print(\"Number of features: {}\".format(len(feature_names)))\n",
    "print(\"First 20 features:\\n{}\".format(feature_names[:20]))\n",
    "print(\"Features 20010 to 20030:\\n{}\".format(feature_names[20010:20030]))\n",
    "print(\"Every 2000th feature:\\n{}\".format(feature_names[::2000]))"
   ]
  },
  {
   "cell_type": "code",
   "execution_count": 23,
   "id": "e146afc8",
   "metadata": {},
   "outputs": [
    {
     "data": {
      "text/html": [
       "<div>\n",
       "<style scoped>\n",
       "    .dataframe tbody tr th:only-of-type {\n",
       "        vertical-align: middle;\n",
       "    }\n",
       "\n",
       "    .dataframe tbody tr th {\n",
       "        vertical-align: top;\n",
       "    }\n",
       "\n",
       "    .dataframe thead th {\n",
       "        text-align: right;\n",
       "    }\n",
       "</style>\n",
       "<table border=\"1\" class=\"dataframe\">\n",
       "  <thead>\n",
       "    <tr style=\"text-align: right;\">\n",
       "      <th></th>\n",
       "      <th>00</th>\n",
       "      <th>10</th>\n",
       "      <th>11</th>\n",
       "      <th>12</th>\n",
       "      <th>120cm</th>\n",
       "      <th>125g</th>\n",
       "      <th>15cm</th>\n",
       "      <th>16</th>\n",
       "      <th>16954</th>\n",
       "      <th>16956</th>\n",
       "      <th>...</th>\n",
       "      <th>wraps</th>\n",
       "      <th>wreath</th>\n",
       "      <th>wrecking</th>\n",
       "      <th>writing</th>\n",
       "      <th>xmas</th>\n",
       "      <th>yellow</th>\n",
       "      <th>you</th>\n",
       "      <th>your</th>\n",
       "      <th>yuletide</th>\n",
       "      <th>zinc</th>\n",
       "    </tr>\n",
       "  </thead>\n",
       "  <tbody>\n",
       "    <tr>\n",
       "      <th>0</th>\n",
       "      <td>0</td>\n",
       "      <td>0</td>\n",
       "      <td>0</td>\n",
       "      <td>0</td>\n",
       "      <td>0</td>\n",
       "      <td>0</td>\n",
       "      <td>0</td>\n",
       "      <td>0</td>\n",
       "      <td>0</td>\n",
       "      <td>0</td>\n",
       "      <td>...</td>\n",
       "      <td>0</td>\n",
       "      <td>0</td>\n",
       "      <td>0</td>\n",
       "      <td>0</td>\n",
       "      <td>0</td>\n",
       "      <td>0</td>\n",
       "      <td>0</td>\n",
       "      <td>0</td>\n",
       "      <td>0</td>\n",
       "      <td>0</td>\n",
       "    </tr>\n",
       "    <tr>\n",
       "      <th>1</th>\n",
       "      <td>0</td>\n",
       "      <td>0</td>\n",
       "      <td>0</td>\n",
       "      <td>0</td>\n",
       "      <td>0</td>\n",
       "      <td>0</td>\n",
       "      <td>0</td>\n",
       "      <td>0</td>\n",
       "      <td>0</td>\n",
       "      <td>0</td>\n",
       "      <td>...</td>\n",
       "      <td>0</td>\n",
       "      <td>0</td>\n",
       "      <td>0</td>\n",
       "      <td>0</td>\n",
       "      <td>0</td>\n",
       "      <td>0</td>\n",
       "      <td>0</td>\n",
       "      <td>0</td>\n",
       "      <td>0</td>\n",
       "      <td>0</td>\n",
       "    </tr>\n",
       "    <tr>\n",
       "      <th>2</th>\n",
       "      <td>0</td>\n",
       "      <td>0</td>\n",
       "      <td>0</td>\n",
       "      <td>0</td>\n",
       "      <td>0</td>\n",
       "      <td>0</td>\n",
       "      <td>0</td>\n",
       "      <td>0</td>\n",
       "      <td>0</td>\n",
       "      <td>0</td>\n",
       "      <td>...</td>\n",
       "      <td>0</td>\n",
       "      <td>0</td>\n",
       "      <td>0</td>\n",
       "      <td>0</td>\n",
       "      <td>0</td>\n",
       "      <td>0</td>\n",
       "      <td>0</td>\n",
       "      <td>0</td>\n",
       "      <td>0</td>\n",
       "      <td>0</td>\n",
       "    </tr>\n",
       "    <tr>\n",
       "      <th>3</th>\n",
       "      <td>0</td>\n",
       "      <td>0</td>\n",
       "      <td>0</td>\n",
       "      <td>0</td>\n",
       "      <td>0</td>\n",
       "      <td>0</td>\n",
       "      <td>0</td>\n",
       "      <td>0</td>\n",
       "      <td>0</td>\n",
       "      <td>0</td>\n",
       "      <td>...</td>\n",
       "      <td>0</td>\n",
       "      <td>0</td>\n",
       "      <td>0</td>\n",
       "      <td>0</td>\n",
       "      <td>0</td>\n",
       "      <td>0</td>\n",
       "      <td>0</td>\n",
       "      <td>0</td>\n",
       "      <td>0</td>\n",
       "      <td>0</td>\n",
       "    </tr>\n",
       "    <tr>\n",
       "      <th>4</th>\n",
       "      <td>0</td>\n",
       "      <td>0</td>\n",
       "      <td>0</td>\n",
       "      <td>0</td>\n",
       "      <td>0</td>\n",
       "      <td>0</td>\n",
       "      <td>0</td>\n",
       "      <td>0</td>\n",
       "      <td>0</td>\n",
       "      <td>0</td>\n",
       "      <td>...</td>\n",
       "      <td>0</td>\n",
       "      <td>0</td>\n",
       "      <td>0</td>\n",
       "      <td>0</td>\n",
       "      <td>0</td>\n",
       "      <td>0</td>\n",
       "      <td>0</td>\n",
       "      <td>0</td>\n",
       "      <td>0</td>\n",
       "      <td>0</td>\n",
       "    </tr>\n",
       "    <tr>\n",
       "      <th>...</th>\n",
       "      <td>...</td>\n",
       "      <td>...</td>\n",
       "      <td>...</td>\n",
       "      <td>...</td>\n",
       "      <td>...</td>\n",
       "      <td>...</td>\n",
       "      <td>...</td>\n",
       "      <td>...</td>\n",
       "      <td>...</td>\n",
       "      <td>...</td>\n",
       "      <td>...</td>\n",
       "      <td>...</td>\n",
       "      <td>...</td>\n",
       "      <td>...</td>\n",
       "      <td>...</td>\n",
       "      <td>...</td>\n",
       "      <td>...</td>\n",
       "      <td>...</td>\n",
       "      <td>...</td>\n",
       "      <td>...</td>\n",
       "      <td>...</td>\n",
       "    </tr>\n",
       "    <tr>\n",
       "      <th>2907</th>\n",
       "      <td>0</td>\n",
       "      <td>0</td>\n",
       "      <td>0</td>\n",
       "      <td>0</td>\n",
       "      <td>0</td>\n",
       "      <td>0</td>\n",
       "      <td>0</td>\n",
       "      <td>0</td>\n",
       "      <td>0</td>\n",
       "      <td>0</td>\n",
       "      <td>...</td>\n",
       "      <td>0</td>\n",
       "      <td>0</td>\n",
       "      <td>0</td>\n",
       "      <td>0</td>\n",
       "      <td>0</td>\n",
       "      <td>0</td>\n",
       "      <td>0</td>\n",
       "      <td>0</td>\n",
       "      <td>0</td>\n",
       "      <td>0</td>\n",
       "    </tr>\n",
       "    <tr>\n",
       "      <th>2908</th>\n",
       "      <td>0</td>\n",
       "      <td>0</td>\n",
       "      <td>0</td>\n",
       "      <td>0</td>\n",
       "      <td>0</td>\n",
       "      <td>0</td>\n",
       "      <td>0</td>\n",
       "      <td>0</td>\n",
       "      <td>0</td>\n",
       "      <td>0</td>\n",
       "      <td>...</td>\n",
       "      <td>0</td>\n",
       "      <td>0</td>\n",
       "      <td>0</td>\n",
       "      <td>0</td>\n",
       "      <td>0</td>\n",
       "      <td>0</td>\n",
       "      <td>0</td>\n",
       "      <td>0</td>\n",
       "      <td>0</td>\n",
       "      <td>0</td>\n",
       "    </tr>\n",
       "    <tr>\n",
       "      <th>2909</th>\n",
       "      <td>0</td>\n",
       "      <td>0</td>\n",
       "      <td>0</td>\n",
       "      <td>0</td>\n",
       "      <td>0</td>\n",
       "      <td>0</td>\n",
       "      <td>0</td>\n",
       "      <td>0</td>\n",
       "      <td>0</td>\n",
       "      <td>0</td>\n",
       "      <td>...</td>\n",
       "      <td>0</td>\n",
       "      <td>0</td>\n",
       "      <td>0</td>\n",
       "      <td>0</td>\n",
       "      <td>0</td>\n",
       "      <td>0</td>\n",
       "      <td>0</td>\n",
       "      <td>1</td>\n",
       "      <td>0</td>\n",
       "      <td>0</td>\n",
       "    </tr>\n",
       "    <tr>\n",
       "      <th>2910</th>\n",
       "      <td>0</td>\n",
       "      <td>0</td>\n",
       "      <td>0</td>\n",
       "      <td>0</td>\n",
       "      <td>0</td>\n",
       "      <td>0</td>\n",
       "      <td>0</td>\n",
       "      <td>0</td>\n",
       "      <td>0</td>\n",
       "      <td>0</td>\n",
       "      <td>...</td>\n",
       "      <td>0</td>\n",
       "      <td>0</td>\n",
       "      <td>0</td>\n",
       "      <td>0</td>\n",
       "      <td>0</td>\n",
       "      <td>0</td>\n",
       "      <td>0</td>\n",
       "      <td>0</td>\n",
       "      <td>0</td>\n",
       "      <td>0</td>\n",
       "    </tr>\n",
       "    <tr>\n",
       "      <th>2911</th>\n",
       "      <td>0</td>\n",
       "      <td>0</td>\n",
       "      <td>0</td>\n",
       "      <td>0</td>\n",
       "      <td>0</td>\n",
       "      <td>0</td>\n",
       "      <td>0</td>\n",
       "      <td>0</td>\n",
       "      <td>0</td>\n",
       "      <td>0</td>\n",
       "      <td>...</td>\n",
       "      <td>0</td>\n",
       "      <td>0</td>\n",
       "      <td>0</td>\n",
       "      <td>0</td>\n",
       "      <td>0</td>\n",
       "      <td>0</td>\n",
       "      <td>0</td>\n",
       "      <td>0</td>\n",
       "      <td>0</td>\n",
       "      <td>0</td>\n",
       "    </tr>\n",
       "  </tbody>\n",
       "</table>\n",
       "<p>2912 rows × 1846 columns</p>\n",
       "</div>"
      ],
      "text/plain": [
       "      00  10  11  12  120cm  125g  15cm  16  16954  16956  ...  wraps  wreath  \\\n",
       "0      0   0   0   0      0     0     0   0      0      0  ...      0       0   \n",
       "1      0   0   0   0      0     0     0   0      0      0  ...      0       0   \n",
       "2      0   0   0   0      0     0     0   0      0      0  ...      0       0   \n",
       "3      0   0   0   0      0     0     0   0      0      0  ...      0       0   \n",
       "4      0   0   0   0      0     0     0   0      0      0  ...      0       0   \n",
       "...   ..  ..  ..  ..    ...   ...   ...  ..    ...    ...  ...    ...     ...   \n",
       "2907   0   0   0   0      0     0     0   0      0      0  ...      0       0   \n",
       "2908   0   0   0   0      0     0     0   0      0      0  ...      0       0   \n",
       "2909   0   0   0   0      0     0     0   0      0      0  ...      0       0   \n",
       "2910   0   0   0   0      0     0     0   0      0      0  ...      0       0   \n",
       "2911   0   0   0   0      0     0     0   0      0      0  ...      0       0   \n",
       "\n",
       "      wrecking  writing  xmas  yellow  you  your  yuletide  zinc  \n",
       "0            0        0     0       0    0     0         0     0  \n",
       "1            0        0     0       0    0     0         0     0  \n",
       "2            0        0     0       0    0     0         0     0  \n",
       "3            0        0     0       0    0     0         0     0  \n",
       "4            0        0     0       0    0     0         0     0  \n",
       "...        ...      ...   ...     ...  ...   ...       ...   ...  \n",
       "2907         0        0     0       0    0     0         0     0  \n",
       "2908         0        0     0       0    0     0         0     0  \n",
       "2909         0        0     0       0    0     1         0     0  \n",
       "2910         0        0     0       0    0     0         0     0  \n",
       "2911         0        0     0       0    0     0         0     0  \n",
       "\n",
       "[2912 rows x 1846 columns]"
      ]
     },
     "execution_count": 23,
     "metadata": {},
     "output_type": "execute_result"
    }
   ],
   "source": [
    "pd.DataFrame(X_train_matrix.toarray(), columns=count_vect.get_feature_names_out())"
   ]
  },
  {
   "cell_type": "markdown",
   "id": "4f1b697c",
   "metadata": {},
   "source": [
    "### 分类算法"
   ]
  },
  {
   "cell_type": "markdown",
   "id": "28914f8b",
   "metadata": {},
   "source": [
    "#### LogisticRegression"
   ]
  },
  {
   "cell_type": "code",
   "execution_count": 24,
   "id": "6f13b8c5",
   "metadata": {},
   "outputs": [],
   "source": [
    "from sklearn.linear_model import LogisticRegression\n",
    "\n",
    "lr = LogisticRegression()\n",
    "lr.fit(X_train_matrix, y_train)\n",
    "y_pred = lr.predict(X_test_matrix)"
   ]
  },
  {
   "cell_type": "code",
   "execution_count": 25,
   "id": "5f56d860",
   "metadata": {},
   "outputs": [
    {
     "data": {
      "text/plain": [
       "0.8366693354683747"
      ]
     },
     "execution_count": 25,
     "metadata": {},
     "output_type": "execute_result"
    }
   ],
   "source": [
    "from sklearn.metrics import accuracy_score\n",
    "accuracy_score(y_test, y_pred)"
   ]
  },
  {
   "cell_type": "code",
   "execution_count": 26,
   "id": "189c04ce",
   "metadata": {},
   "outputs": [
    {
     "name": "stdout",
     "output_type": "stream",
     "text": [
      "Classification Report:\n",
      "              precision    recall  f1-score   support\n",
      "\n",
      "           0       0.86      0.96      0.90       997\n",
      "           1       0.68      0.36      0.47       252\n",
      "\n",
      "    accuracy                           0.84      1249\n",
      "   macro avg       0.77      0.66      0.69      1249\n",
      "weighted avg       0.82      0.84      0.82      1249\n",
      "\n",
      "AUC-ROC: 0.84\n"
     ]
    }
   ],
   "source": [
    "from sklearn.metrics import classification_report, roc_auc_score\n",
    "\n",
    "y_pred = lr.predict(X_test_matrix)\n",
    "print(\"Classification Report:\")\n",
    "print(classification_report(y_test, y_pred))\n",
    "print(f\"AUC-ROC: {roc_auc_score(y_test, lr.predict_proba(X_test_matrix)[:, 1]):.2f}\")"
   ]
  },
  {
   "cell_type": "markdown",
   "id": "bc37f059",
   "metadata": {},
   "source": [
    "#### 朴素贝叶斯"
   ]
  },
  {
   "cell_type": "code",
   "execution_count": 27,
   "id": "f466137d",
   "metadata": {},
   "outputs": [],
   "source": [
    "from sklearn.naive_bayes import MultinomialNB\n",
    "\n",
    "# 训练朴素贝叶斯分类器\n",
    "nb = MultinomialNB()\n",
    "nb.fit(X_train_matrix, y_train)\n",
    "\n",
    "y_pred = nb.predict(X_test_matrix)"
   ]
  },
  {
   "cell_type": "code",
   "execution_count": 28,
   "id": "8309b7d1",
   "metadata": {},
   "outputs": [
    {
     "name": "stdout",
     "output_type": "stream",
     "text": [
      "Accuracy: 0.825\n",
      "\n",
      "Classification Report:\n",
      "              precision    recall  f1-score   support\n",
      "\n",
      "           0       0.86      0.93      0.89       997\n",
      "           1       0.59      0.42      0.49       252\n",
      "\n",
      "    accuracy                           0.82      1249\n",
      "   macro avg       0.73      0.68      0.69      1249\n",
      "weighted avg       0.81      0.82      0.81      1249\n",
      "\n",
      "AUC-ROC: 0.81\n"
     ]
    }
   ],
   "source": [
    "# 计算准确率\n",
    "print(f\"Accuracy: {accuracy_score(y_test, y_pred):.3f}\")\n",
    "\n",
    "# 详细分类报告\n",
    "print(\"\\nClassification Report:\")\n",
    "print(classification_report(y_test, y_pred))\n",
    "print(f\"AUC-ROC: {roc_auc_score(y_test, nb.predict_proba(X_test_matrix)[:, 1]):.2f}\")"
   ]
  },
  {
   "cell_type": "markdown",
   "id": "ebef3dd3",
   "metadata": {},
   "source": [
    "#### SVM"
   ]
  },
  {
   "cell_type": "code",
   "execution_count": 29,
   "id": "6c96b6d9",
   "metadata": {},
   "outputs": [],
   "source": [
    "from sklearn.svm import SVC\n",
    "\n",
    "# 训练SVM分类器\n",
    "svm = SVC(kernel='rbf', probability=True, random_state=0)\n",
    "svm.fit(X_train_matrix, y_train)\n",
    "\n",
    "# 预测\n",
    "y_pred = svm.predict(X_test_matrix)"
   ]
  },
  {
   "cell_type": "code",
   "execution_count": 30,
   "id": "ecad25fb",
   "metadata": {},
   "outputs": [
    {
     "name": "stdout",
     "output_type": "stream",
     "text": [
      "Accuracy: 0.835\n",
      "\n",
      "Classification Report:\n",
      "              precision    recall  f1-score   support\n",
      "\n",
      "           0       0.84      0.98      0.90       997\n",
      "           1       0.76      0.27      0.39       252\n",
      "\n",
      "    accuracy                           0.84      1249\n",
      "   macro avg       0.80      0.62      0.65      1249\n",
      "weighted avg       0.82      0.84      0.80      1249\n",
      "\n",
      "AUC-ROC: 0.83\n"
     ]
    }
   ],
   "source": [
    "# 计算准确率\n",
    "print(f\"Accuracy: {accuracy_score(y_test, y_pred):.3f}\")\n",
    "\n",
    "# 详细分类报告\n",
    "print(\"\\nClassification Report:\")\n",
    "print(classification_report(y_test, y_pred))\n",
    "print(f\"AUC-ROC: {roc_auc_score(y_test, svm.predict_proba(X_test_matrix)[:, 1]):.2f}\")"
   ]
  },
  {
   "cell_type": "markdown",
   "id": "3d2949ae",
   "metadata": {},
   "source": [
    "#### 决策树"
   ]
  },
  {
   "cell_type": "code",
   "execution_count": 31,
   "id": "60e0fa50",
   "metadata": {},
   "outputs": [],
   "source": [
    "from sklearn.tree import DecisionTreeClassifier\n",
    "\n",
    "# 训练决策树分类器\n",
    "dt = DecisionTreeClassifier(random_state=0, max_depth=10, min_samples_split=5)\n",
    "dt.fit(X_train_matrix, y_train)\n",
    "\n",
    "y_pred = dt.predict(X_test_matrix)"
   ]
  },
  {
   "cell_type": "code",
   "execution_count": 32,
   "id": "356344fb",
   "metadata": {},
   "outputs": [
    {
     "name": "stdout",
     "output_type": "stream",
     "text": [
      "Accuracy: 0.802\n",
      "\n",
      "Classification Report:\n",
      "              precision    recall  f1-score   support\n",
      "\n",
      "           0       0.83      0.95      0.88       997\n",
      "           1       0.52      0.21      0.30       252\n",
      "\n",
      "    accuracy                           0.80      1249\n",
      "   macro avg       0.68      0.58      0.59      1249\n",
      "weighted avg       0.77      0.80      0.77      1249\n",
      "\n",
      "AUC-ROC: 0.57\n"
     ]
    }
   ],
   "source": [
    "# 计算准确率\n",
    "print(f\"Accuracy: {accuracy_score(y_test, y_pred):.3f}\")\n",
    "\n",
    "# 详细分类报告\n",
    "print(\"\\nClassification Report:\")\n",
    "print(classification_report(y_test, y_pred))\n",
    "print(f\"AUC-ROC: {roc_auc_score(y_test, dt.predict_proba(X_test_matrix)[:, 1]):.2f}\")"
   ]
  },
  {
   "cell_type": "markdown",
   "id": "2c03f989",
   "metadata": {},
   "source": [
    "#### 随机森林"
   ]
  },
  {
   "cell_type": "code",
   "execution_count": 33,
   "id": "7727e39d",
   "metadata": {},
   "outputs": [],
   "source": [
    "from sklearn.ensemble import RandomForestClassifier\n",
    "\n",
    "# 训练随机森林分类器\n",
    "rf = RandomForestClassifier(n_estimators=100, random_state=0, max_depth=10)\n",
    "rf.fit(X_train_matrix, y_train)\n",
    "\n",
    "# 预测\n",
    "y_pred = rf.predict(X_test_matrix)"
   ]
  },
  {
   "cell_type": "code",
   "execution_count": 34,
   "id": "e3039fa4",
   "metadata": {},
   "outputs": [
    {
     "name": "stdout",
     "output_type": "stream",
     "text": [
      "Accuracy: 0.799\n",
      "\n",
      "Classification Report:\n",
      "              precision    recall  f1-score   support\n",
      "\n",
      "           0       0.80      1.00      0.89       997\n",
      "           1       1.00      0.00      0.01       252\n",
      "\n",
      "    accuracy                           0.80      1249\n",
      "   macro avg       0.90      0.50      0.45      1249\n",
      "weighted avg       0.84      0.80      0.71      1249\n",
      "\n",
      "AUC-ROC: 0.79\n"
     ]
    }
   ],
   "source": [
    "# 计算准确率\n",
    "print(f\"Accuracy: {accuracy_score(y_test, y_pred):.3f}\")\n",
    "\n",
    "# 详细分类报告\n",
    "print(\"\\nClassification Report:\")\n",
    "print(classification_report(y_test, y_pred))\n",
    "print(f\"AUC-ROC: {roc_auc_score(y_test, rf.predict_proba(X_test_matrix)[:, 1]):.2f}\")"
   ]
  },
  {
   "cell_type": "markdown",
   "id": "254aa78b",
   "metadata": {},
   "source": [
    "### 特征工程优化"
   ]
  },
  {
   "cell_type": "code",
   "execution_count": 35,
   "id": "fdfa2b67",
   "metadata": {},
   "outputs": [],
   "source": [
    "from sklearn.model_selection import train_test_split\n",
    "X = good_grouped.Description\n",
    "y = good_grouped.Hot\n",
    "\n",
    "X_train, X_test, y_train, y_test = train_test_split(X, y, random_state=0, train_size=0.7)"
   ]
  },
  {
   "cell_type": "markdown",
   "id": "c4fbf487",
   "metadata": {},
   "source": [
    "#### 文本清洗和选择"
   ]
  },
  {
   "cell_type": "code",
   "execution_count": 36,
   "id": "856bd598",
   "metadata": {},
   "outputs": [],
   "source": [
    "from sklearn.feature_extraction.text import CountVectorizer\n",
    "\n",
    "def custom_tokenizer(document):\n",
    "    document = re.sub(r'[^a-zA-Z\\s]', '', document)\n",
    "    return document.split()\n",
    "\n",
    "count_vect = CountVectorizer(tokenizer=custom_tokenizer, min_df=2, max_df=0.95, stop_words=\"english\", ngram_range=(1, 2), token_pattern=None)"
   ]
  },
  {
   "cell_type": "code",
   "execution_count": 37,
   "id": "58100bfa",
   "metadata": {},
   "outputs": [],
   "source": [
    "count_vect = CountVectorizer(min_df=2, max_df=0.95, stop_words=\"english\", ngram_range=(1, 2))"
   ]
  },
  {
   "cell_type": "code",
   "execution_count": 38,
   "id": "c08c1ffe",
   "metadata": {},
   "outputs": [],
   "source": [
    "X_train_matrix = count_vect.fit_transform(X_train)\n",
    "X_test_matrix = count_vect.transform(X_test)"
   ]
  },
  {
   "cell_type": "code",
   "execution_count": 39,
   "id": "69eff81d",
   "metadata": {},
   "outputs": [
    {
     "data": {
      "text/html": [
       "<div>\n",
       "<style scoped>\n",
       "    .dataframe tbody tr th:only-of-type {\n",
       "        vertical-align: middle;\n",
       "    }\n",
       "\n",
       "    .dataframe tbody tr th {\n",
       "        vertical-align: top;\n",
       "    }\n",
       "\n",
       "    .dataframe thead th {\n",
       "        text-align: right;\n",
       "    }\n",
       "</style>\n",
       "<table border=\"1\" class=\"dataframe\">\n",
       "  <thead>\n",
       "    <tr style=\"text-align: right;\">\n",
       "      <th></th>\n",
       "      <th>00</th>\n",
       "      <th>10</th>\n",
       "      <th>10 card</th>\n",
       "      <th>10 cards</th>\n",
       "      <th>12</th>\n",
       "      <th>12 blue</th>\n",
       "      <th>12 colour</th>\n",
       "      <th>12 coloured</th>\n",
       "      <th>12 lights</th>\n",
       "      <th>12 pencils</th>\n",
       "      <th>...</th>\n",
       "      <th>xmas</th>\n",
       "      <th>yellow</th>\n",
       "      <th>yellow flowers</th>\n",
       "      <th>yellow pink</th>\n",
       "      <th>zinc</th>\n",
       "      <th>zinc glass</th>\n",
       "      <th>zinc heart</th>\n",
       "      <th>zinc light</th>\n",
       "      <th>zinc star</th>\n",
       "      <th>zinc wire</th>\n",
       "    </tr>\n",
       "  </thead>\n",
       "  <tbody>\n",
       "    <tr>\n",
       "      <th>0</th>\n",
       "      <td>0</td>\n",
       "      <td>0</td>\n",
       "      <td>0</td>\n",
       "      <td>0</td>\n",
       "      <td>0</td>\n",
       "      <td>0</td>\n",
       "      <td>0</td>\n",
       "      <td>0</td>\n",
       "      <td>0</td>\n",
       "      <td>0</td>\n",
       "      <td>...</td>\n",
       "      <td>0</td>\n",
       "      <td>0</td>\n",
       "      <td>0</td>\n",
       "      <td>0</td>\n",
       "      <td>0</td>\n",
       "      <td>0</td>\n",
       "      <td>0</td>\n",
       "      <td>0</td>\n",
       "      <td>0</td>\n",
       "      <td>0</td>\n",
       "    </tr>\n",
       "    <tr>\n",
       "      <th>1</th>\n",
       "      <td>0</td>\n",
       "      <td>0</td>\n",
       "      <td>0</td>\n",
       "      <td>0</td>\n",
       "      <td>0</td>\n",
       "      <td>0</td>\n",
       "      <td>0</td>\n",
       "      <td>0</td>\n",
       "      <td>0</td>\n",
       "      <td>0</td>\n",
       "      <td>...</td>\n",
       "      <td>0</td>\n",
       "      <td>0</td>\n",
       "      <td>0</td>\n",
       "      <td>0</td>\n",
       "      <td>0</td>\n",
       "      <td>0</td>\n",
       "      <td>0</td>\n",
       "      <td>0</td>\n",
       "      <td>0</td>\n",
       "      <td>0</td>\n",
       "    </tr>\n",
       "    <tr>\n",
       "      <th>2</th>\n",
       "      <td>0</td>\n",
       "      <td>0</td>\n",
       "      <td>0</td>\n",
       "      <td>0</td>\n",
       "      <td>0</td>\n",
       "      <td>0</td>\n",
       "      <td>0</td>\n",
       "      <td>0</td>\n",
       "      <td>0</td>\n",
       "      <td>0</td>\n",
       "      <td>...</td>\n",
       "      <td>0</td>\n",
       "      <td>0</td>\n",
       "      <td>0</td>\n",
       "      <td>0</td>\n",
       "      <td>0</td>\n",
       "      <td>0</td>\n",
       "      <td>0</td>\n",
       "      <td>0</td>\n",
       "      <td>0</td>\n",
       "      <td>0</td>\n",
       "    </tr>\n",
       "    <tr>\n",
       "      <th>3</th>\n",
       "      <td>0</td>\n",
       "      <td>0</td>\n",
       "      <td>0</td>\n",
       "      <td>0</td>\n",
       "      <td>0</td>\n",
       "      <td>0</td>\n",
       "      <td>0</td>\n",
       "      <td>0</td>\n",
       "      <td>0</td>\n",
       "      <td>0</td>\n",
       "      <td>...</td>\n",
       "      <td>0</td>\n",
       "      <td>0</td>\n",
       "      <td>0</td>\n",
       "      <td>0</td>\n",
       "      <td>0</td>\n",
       "      <td>0</td>\n",
       "      <td>0</td>\n",
       "      <td>0</td>\n",
       "      <td>0</td>\n",
       "      <td>0</td>\n",
       "    </tr>\n",
       "    <tr>\n",
       "      <th>4</th>\n",
       "      <td>0</td>\n",
       "      <td>0</td>\n",
       "      <td>0</td>\n",
       "      <td>0</td>\n",
       "      <td>0</td>\n",
       "      <td>0</td>\n",
       "      <td>0</td>\n",
       "      <td>0</td>\n",
       "      <td>0</td>\n",
       "      <td>0</td>\n",
       "      <td>...</td>\n",
       "      <td>0</td>\n",
       "      <td>0</td>\n",
       "      <td>0</td>\n",
       "      <td>0</td>\n",
       "      <td>0</td>\n",
       "      <td>0</td>\n",
       "      <td>0</td>\n",
       "      <td>0</td>\n",
       "      <td>0</td>\n",
       "      <td>0</td>\n",
       "    </tr>\n",
       "    <tr>\n",
       "      <th>...</th>\n",
       "      <td>...</td>\n",
       "      <td>...</td>\n",
       "      <td>...</td>\n",
       "      <td>...</td>\n",
       "      <td>...</td>\n",
       "      <td>...</td>\n",
       "      <td>...</td>\n",
       "      <td>...</td>\n",
       "      <td>...</td>\n",
       "      <td>...</td>\n",
       "      <td>...</td>\n",
       "      <td>...</td>\n",
       "      <td>...</td>\n",
       "      <td>...</td>\n",
       "      <td>...</td>\n",
       "      <td>...</td>\n",
       "      <td>...</td>\n",
       "      <td>...</td>\n",
       "      <td>...</td>\n",
       "      <td>...</td>\n",
       "      <td>...</td>\n",
       "    </tr>\n",
       "    <tr>\n",
       "      <th>2907</th>\n",
       "      <td>0</td>\n",
       "      <td>0</td>\n",
       "      <td>0</td>\n",
       "      <td>0</td>\n",
       "      <td>0</td>\n",
       "      <td>0</td>\n",
       "      <td>0</td>\n",
       "      <td>0</td>\n",
       "      <td>0</td>\n",
       "      <td>0</td>\n",
       "      <td>...</td>\n",
       "      <td>0</td>\n",
       "      <td>0</td>\n",
       "      <td>0</td>\n",
       "      <td>0</td>\n",
       "      <td>0</td>\n",
       "      <td>0</td>\n",
       "      <td>0</td>\n",
       "      <td>0</td>\n",
       "      <td>0</td>\n",
       "      <td>0</td>\n",
       "    </tr>\n",
       "    <tr>\n",
       "      <th>2908</th>\n",
       "      <td>0</td>\n",
       "      <td>0</td>\n",
       "      <td>0</td>\n",
       "      <td>0</td>\n",
       "      <td>0</td>\n",
       "      <td>0</td>\n",
       "      <td>0</td>\n",
       "      <td>0</td>\n",
       "      <td>0</td>\n",
       "      <td>0</td>\n",
       "      <td>...</td>\n",
       "      <td>0</td>\n",
       "      <td>0</td>\n",
       "      <td>0</td>\n",
       "      <td>0</td>\n",
       "      <td>0</td>\n",
       "      <td>0</td>\n",
       "      <td>0</td>\n",
       "      <td>0</td>\n",
       "      <td>0</td>\n",
       "      <td>0</td>\n",
       "    </tr>\n",
       "    <tr>\n",
       "      <th>2909</th>\n",
       "      <td>0</td>\n",
       "      <td>0</td>\n",
       "      <td>0</td>\n",
       "      <td>0</td>\n",
       "      <td>0</td>\n",
       "      <td>0</td>\n",
       "      <td>0</td>\n",
       "      <td>0</td>\n",
       "      <td>0</td>\n",
       "      <td>0</td>\n",
       "      <td>...</td>\n",
       "      <td>0</td>\n",
       "      <td>0</td>\n",
       "      <td>0</td>\n",
       "      <td>0</td>\n",
       "      <td>0</td>\n",
       "      <td>0</td>\n",
       "      <td>0</td>\n",
       "      <td>0</td>\n",
       "      <td>0</td>\n",
       "      <td>0</td>\n",
       "    </tr>\n",
       "    <tr>\n",
       "      <th>2910</th>\n",
       "      <td>0</td>\n",
       "      <td>0</td>\n",
       "      <td>0</td>\n",
       "      <td>0</td>\n",
       "      <td>0</td>\n",
       "      <td>0</td>\n",
       "      <td>0</td>\n",
       "      <td>0</td>\n",
       "      <td>0</td>\n",
       "      <td>0</td>\n",
       "      <td>...</td>\n",
       "      <td>0</td>\n",
       "      <td>0</td>\n",
       "      <td>0</td>\n",
       "      <td>0</td>\n",
       "      <td>0</td>\n",
       "      <td>0</td>\n",
       "      <td>0</td>\n",
       "      <td>0</td>\n",
       "      <td>0</td>\n",
       "      <td>0</td>\n",
       "    </tr>\n",
       "    <tr>\n",
       "      <th>2911</th>\n",
       "      <td>0</td>\n",
       "      <td>0</td>\n",
       "      <td>0</td>\n",
       "      <td>0</td>\n",
       "      <td>0</td>\n",
       "      <td>0</td>\n",
       "      <td>0</td>\n",
       "      <td>0</td>\n",
       "      <td>0</td>\n",
       "      <td>0</td>\n",
       "      <td>...</td>\n",
       "      <td>0</td>\n",
       "      <td>0</td>\n",
       "      <td>0</td>\n",
       "      <td>0</td>\n",
       "      <td>0</td>\n",
       "      <td>0</td>\n",
       "      <td>0</td>\n",
       "      <td>0</td>\n",
       "      <td>0</td>\n",
       "      <td>0</td>\n",
       "    </tr>\n",
       "  </tbody>\n",
       "</table>\n",
       "<p>2912 rows × 2623 columns</p>\n",
       "</div>"
      ],
      "text/plain": [
       "      00  10  10 card  10 cards  12  12 blue  12 colour  12 coloured  \\\n",
       "0      0   0        0         0   0        0          0            0   \n",
       "1      0   0        0         0   0        0          0            0   \n",
       "2      0   0        0         0   0        0          0            0   \n",
       "3      0   0        0         0   0        0          0            0   \n",
       "4      0   0        0         0   0        0          0            0   \n",
       "...   ..  ..      ...       ...  ..      ...        ...          ...   \n",
       "2907   0   0        0         0   0        0          0            0   \n",
       "2908   0   0        0         0   0        0          0            0   \n",
       "2909   0   0        0         0   0        0          0            0   \n",
       "2910   0   0        0         0   0        0          0            0   \n",
       "2911   0   0        0         0   0        0          0            0   \n",
       "\n",
       "      12 lights  12 pencils  ...  xmas  yellow  yellow flowers  yellow pink  \\\n",
       "0             0           0  ...     0       0               0            0   \n",
       "1             0           0  ...     0       0               0            0   \n",
       "2             0           0  ...     0       0               0            0   \n",
       "3             0           0  ...     0       0               0            0   \n",
       "4             0           0  ...     0       0               0            0   \n",
       "...         ...         ...  ...   ...     ...             ...          ...   \n",
       "2907          0           0  ...     0       0               0            0   \n",
       "2908          0           0  ...     0       0               0            0   \n",
       "2909          0           0  ...     0       0               0            0   \n",
       "2910          0           0  ...     0       0               0            0   \n",
       "2911          0           0  ...     0       0               0            0   \n",
       "\n",
       "      zinc  zinc glass  zinc heart  zinc light  zinc star  zinc wire  \n",
       "0        0           0           0           0          0          0  \n",
       "1        0           0           0           0          0          0  \n",
       "2        0           0           0           0          0          0  \n",
       "3        0           0           0           0          0          0  \n",
       "4        0           0           0           0          0          0  \n",
       "...    ...         ...         ...         ...        ...        ...  \n",
       "2907     0           0           0           0          0          0  \n",
       "2908     0           0           0           0          0          0  \n",
       "2909     0           0           0           0          0          0  \n",
       "2910     0           0           0           0          0          0  \n",
       "2911     0           0           0           0          0          0  \n",
       "\n",
       "[2912 rows x 2623 columns]"
      ]
     },
     "execution_count": 39,
     "metadata": {},
     "output_type": "execute_result"
    }
   ],
   "source": [
    "pd.DataFrame(X_train_matrix.toarray(), columns=count_vect.get_feature_names_out())"
   ]
  },
  {
   "cell_type": "code",
   "execution_count": 40,
   "id": "e03a239d",
   "metadata": {},
   "outputs": [],
   "source": [
    "lr = LogisticRegression()\n",
    "lr.fit(X_train_matrix, y_train)\n",
    "y_pred = lr.predict(X_test_matrix)"
   ]
  },
  {
   "cell_type": "code",
   "execution_count": 41,
   "id": "d5ad3a3f",
   "metadata": {},
   "outputs": [
    {
     "data": {
      "text/plain": [
       "0.8390712570056045"
      ]
     },
     "execution_count": 41,
     "metadata": {},
     "output_type": "execute_result"
    }
   ],
   "source": [
    "from sklearn.metrics import accuracy_score\n",
    "accuracy_score(y_test, y_pred)"
   ]
  },
  {
   "cell_type": "code",
   "execution_count": 42,
   "id": "3866eb16",
   "metadata": {},
   "outputs": [
    {
     "data": {
      "image/png": "[encoded data removed]",
      "text/plain": [
       "<Figure size 1500x500 with 1 Axes>"
      ]
     },
     "metadata": {},
     "output_type": "display_data"
    }
   ],
   "source": [
    "import mglearn\n",
    "feature_names = np.array(count_vect.get_feature_names_out())\n",
    "coef = lr.coef_\n",
    "mglearn.tools.visualize_coefficients(coef, feature_names, n_top_features=40)\n",
    "plt.show()"
   ]
  },
  {
   "cell_type": "markdown",
   "id": "ae0c00eb",
   "metadata": {},
   "source": [
    "#### TfidfVectorizer"
   ]
  },
  {
   "cell_type": "code",
   "execution_count": 43,
   "id": "df7bb86a",
   "metadata": {},
   "outputs": [],
   "source": [
    "from sklearn.model_selection import train_test_split\n",
    "X = good_grouped.Description\n",
    "y = good_grouped.Hot\n",
    "\n",
    "X_train, X_test, y_train, y_test = train_test_split(X, y, random_state=0, train_size=0.7)"
   ]
  },
  {
   "cell_type": "code",
   "execution_count": 44,
   "id": "e8e3ec81",
   "metadata": {},
   "outputs": [],
   "source": [
    "from sklearn.feature_extraction.text import TfidfVectorizer\n",
    "\n",
    "tfidf_vect = TfidfVectorizer(min_df=2, max_df=0.95, stop_words=\"english\", ngram_range=(1, 3))"
   ]
  },
  {
   "cell_type": "code",
   "execution_count": 45,
   "id": "978f26a5",
   "metadata": {},
   "outputs": [],
   "source": [
    "X_train_matrix = tfidf_vect.fit_transform(X_train)\n",
    "X_test_matrix = tfidf_vect.transform(X_test)"
   ]
  },
  {
   "cell_type": "code",
   "execution_count": 46,
   "id": "e8649e7c",
   "metadata": {},
   "outputs": [],
   "source": [
    "lr = LogisticRegression()\n",
    "lr.fit(X_train_matrix, y_train)\n",
    "y_pred = lr.predict(X_test_matrix)"
   ]
  },
  {
   "cell_type": "code",
   "execution_count": 47,
   "id": "5c860c81",
   "metadata": {},
   "outputs": [
    {
     "data": {
      "text/plain": [
       "0.8286629303442754"
      ]
     },
     "execution_count": 47,
     "metadata": {},
     "output_type": "execute_result"
    }
   ],
   "source": [
    "from sklearn.metrics import accuracy_score\n",
    "accuracy_score(y_test, y_pred)"
   ]
  },
  {
   "cell_type": "markdown",
   "id": "f3975719",
   "metadata": {},
   "source": [
    "## 文本聚类"
   ]
  },
  {
   "cell_type": "markdown",
   "id": "80a9f880",
   "metadata": {},
   "source": [
    "### KMeans聚类"
   ]
  },
  {
   "cell_type": "markdown",
   "id": "561cb7c4",
   "metadata": {},
   "source": [
    "#### 数据预处理"
   ]
  },
  {
   "cell_type": "code",
   "execution_count": 48,
   "id": "5963beea",
   "metadata": {},
   "outputs": [],
   "source": [
    "X = good_grouped.Description"
   ]
  },
  {
   "cell_type": "code",
   "execution_count": 49,
   "id": "524e1c07",
   "metadata": {},
   "outputs": [],
   "source": [
    "from sklearn.feature_extraction.text import TfidfVectorizer\n",
    "\n",
    "tfidf_vect = TfidfVectorizer()\n",
    "tfidf_matrix = tfidf_vect.fit_transform(X)"
   ]
  },
  {
   "cell_type": "markdown",
   "id": "fec602a7",
   "metadata": {},
   "source": [
    "#### 聚类建模"
   ]
  },
  {
   "cell_type": "code",
   "execution_count": 50,
   "id": "5644cf97",
   "metadata": {},
   "outputs": [
    {
     "data": {
      "text/plain": [
       "array([0, 0, 0, ..., 0, 0, 0], shape=(4161,), dtype=int32)"
      ]
     },
     "execution_count": 50,
     "metadata": {},
     "output_type": "execute_result"
    }
   ],
   "source": [
    "from sklearn.cluster import KMeans\n",
    "\n",
    "clf = KMeans(n_clusters=5)\n",
    "clf.fit(tfidf_matrix)\n",
    "cluster_labels = clf.labels_\n",
    "cluster_labels"
   ]
  },
  {
   "cell_type": "code",
   "execution_count": 51,
   "id": "12a047a6",
   "metadata": {},
   "outputs": [
    {
     "data": {
      "text/html": [
       "<div>\n",
       "<style scoped>\n",
       "    .dataframe tbody tr th:only-of-type {\n",
       "        vertical-align: middle;\n",
       "    }\n",
       "\n",
       "    .dataframe tbody tr th {\n",
       "        vertical-align: top;\n",
       "    }\n",
       "\n",
       "    .dataframe thead th {\n",
       "        text-align: right;\n",
       "    }\n",
       "</style>\n",
       "<table border=\"1\" class=\"dataframe\">\n",
       "  <thead>\n",
       "    <tr style=\"text-align: right;\">\n",
       "      <th></th>\n",
       "      <th>StockCode</th>\n",
       "      <th>Description</th>\n",
       "      <th>SumPrice</th>\n",
       "      <th>Quantity</th>\n",
       "      <th>Hot</th>\n",
       "      <th>cluster_labels</th>\n",
       "    </tr>\n",
       "  </thead>\n",
       "  <tbody>\n",
       "    <tr>\n",
       "      <th>0</th>\n",
       "      <td>10002</td>\n",
       "      <td>INFLATABLE POLITICAL GLOBE</td>\n",
       "      <td>6884.6034</td>\n",
       "      <td>860</td>\n",
       "      <td>0</td>\n",
       "      <td>0</td>\n",
       "    </tr>\n",
       "    <tr>\n",
       "      <th>1</th>\n",
       "      <td>10080</td>\n",
       "      <td>GROOVY CACTUS INFLATABLE</td>\n",
       "      <td>1078.9554</td>\n",
       "      <td>303</td>\n",
       "      <td>0</td>\n",
       "      <td>0</td>\n",
       "    </tr>\n",
       "    <tr>\n",
       "      <th>2</th>\n",
       "      <td>10120</td>\n",
       "      <td>DOGGY RUBBER</td>\n",
       "      <td>365.2992</td>\n",
       "      <td>192</td>\n",
       "      <td>0</td>\n",
       "      <td>0</td>\n",
       "    </tr>\n",
       "    <tr>\n",
       "      <th>3</th>\n",
       "      <td>10123C</td>\n",
       "      <td>HEARTS WRAPPING TAPE</td>\n",
       "      <td>29.4450</td>\n",
       "      <td>5</td>\n",
       "      <td>0</td>\n",
       "      <td>0</td>\n",
       "    </tr>\n",
       "    <tr>\n",
       "      <th>4</th>\n",
       "      <td>10124A</td>\n",
       "      <td>SPOTS ON RED BOOKCOVER TAPE</td>\n",
       "      <td>60.8832</td>\n",
       "      <td>16</td>\n",
       "      <td>0</td>\n",
       "      <td>1</td>\n",
       "    </tr>\n",
       "    <tr>\n",
       "      <th>...</th>\n",
       "      <td>...</td>\n",
       "      <td>...</td>\n",
       "      <td>...</td>\n",
       "      <td>...</td>\n",
       "      <td>...</td>\n",
       "      <td>...</td>\n",
       "    </tr>\n",
       "    <tr>\n",
       "      <th>4156</th>\n",
       "      <td>gift_0001_20</td>\n",
       "      <td>Dotcomgiftshop Gift Voucher £20.00</td>\n",
       "      <td>1513.4730</td>\n",
       "      <td>10</td>\n",
       "      <td>0</td>\n",
       "      <td>0</td>\n",
       "    </tr>\n",
       "    <tr>\n",
       "      <th>4157</th>\n",
       "      <td>gift_0001_30</td>\n",
       "      <td>Dotcomgiftshop Gift Voucher £30.00</td>\n",
       "      <td>1590.3018</td>\n",
       "      <td>7</td>\n",
       "      <td>0</td>\n",
       "      <td>0</td>\n",
       "    </tr>\n",
       "    <tr>\n",
       "      <th>4158</th>\n",
       "      <td>gift_0001_40</td>\n",
       "      <td>Dotcomgiftshop Gift Voucher £40.00</td>\n",
       "      <td>912.3420</td>\n",
       "      <td>3</td>\n",
       "      <td>0</td>\n",
       "      <td>0</td>\n",
       "    </tr>\n",
       "    <tr>\n",
       "      <th>4159</th>\n",
       "      <td>gift_0001_50</td>\n",
       "      <td>Dotcomgiftshop Gift Voucher £50.00</td>\n",
       "      <td>1518.0936</td>\n",
       "      <td>4</td>\n",
       "      <td>0</td>\n",
       "      <td>0</td>\n",
       "    </tr>\n",
       "    <tr>\n",
       "      <th>4160</th>\n",
       "      <td>m</td>\n",
       "      <td>Manual</td>\n",
       "      <td>23.1030</td>\n",
       "      <td>1</td>\n",
       "      <td>0</td>\n",
       "      <td>0</td>\n",
       "    </tr>\n",
       "  </tbody>\n",
       "</table>\n",
       "<p>4161 rows × 6 columns</p>\n",
       "</div>"
      ],
      "text/plain": [
       "         StockCode                         Description   SumPrice  Quantity  \\\n",
       "0            10002         INFLATABLE POLITICAL GLOBE   6884.6034       860   \n",
       "1            10080            GROOVY CACTUS INFLATABLE  1078.9554       303   \n",
       "2            10120                        DOGGY RUBBER   365.2992       192   \n",
       "3           10123C               HEARTS WRAPPING TAPE     29.4450         5   \n",
       "4           10124A         SPOTS ON RED BOOKCOVER TAPE    60.8832        16   \n",
       "...            ...                                 ...        ...       ...   \n",
       "4156  gift_0001_20  Dotcomgiftshop Gift Voucher £20.00  1513.4730        10   \n",
       "4157  gift_0001_30  Dotcomgiftshop Gift Voucher £30.00  1590.3018         7   \n",
       "4158  gift_0001_40  Dotcomgiftshop Gift Voucher £40.00   912.3420         3   \n",
       "4159  gift_0001_50  Dotcomgiftshop Gift Voucher £50.00  1518.0936         4   \n",
       "4160             m                              Manual    23.1030         1   \n",
       "\n",
       "      Hot  cluster_labels  \n",
       "0       0               0  \n",
       "1       0               0  \n",
       "2       0               0  \n",
       "3       0               0  \n",
       "4       0               1  \n",
       "...   ...             ...  \n",
       "4156    0               0  \n",
       "4157    0               0  \n",
       "4158    0               0  \n",
       "4159    0               0  \n",
       "4160    0               0  \n",
       "\n",
       "[4161 rows x 6 columns]"
      ]
     },
     "execution_count": 51,
     "metadata": {},
     "output_type": "execute_result"
    }
   ],
   "source": [
    "good_grouped['cluster_labels'] = cluster_labels\n",
    "good_grouped"
   ]
  },
  {
   "cell_type": "code",
   "execution_count": 52,
   "id": "9d23d33e",
   "metadata": {},
   "outputs": [
    {
     "data": {
      "text/plain": [
       "cluster_labels\n",
       "0    2776\n",
       "1     234\n",
       "2     291\n",
       "3     446\n",
       "4     414\n",
       "Name: Description, dtype: int64"
      ]
     },
     "execution_count": 52,
     "metadata": {},
     "output_type": "execute_result"
    }
   ],
   "source": [
    "good_grouped.groupby('cluster_labels').Description.count()"
   ]
  },
  {
   "cell_type": "code",
   "execution_count": 53,
   "id": "a7862252",
   "metadata": {},
   "outputs": [
    {
     "data": {
      "text/html": [
       "<div>\n",
       "<style scoped>\n",
       "    .dataframe tbody tr th:only-of-type {\n",
       "        vertical-align: middle;\n",
       "    }\n",
       "\n",
       "    .dataframe tbody tr th {\n",
       "        vertical-align: top;\n",
       "    }\n",
       "\n",
       "    .dataframe thead th {\n",
       "        text-align: right;\n",
       "    }\n",
       "</style>\n",
       "<table border=\"1\" class=\"dataframe\">\n",
       "  <thead>\n",
       "    <tr style=\"text-align: right;\">\n",
       "      <th></th>\n",
       "      <th>StockCode</th>\n",
       "      <th>Description</th>\n",
       "      <th>SumPrice</th>\n",
       "      <th>Quantity</th>\n",
       "      <th>Hot</th>\n",
       "      <th>cluster_labels</th>\n",
       "    </tr>\n",
       "  </thead>\n",
       "  <tbody>\n",
       "    <tr>\n",
       "      <th>0</th>\n",
       "      <td>10002</td>\n",
       "      <td>INFLATABLE POLITICAL GLOBE</td>\n",
       "      <td>6884.6034</td>\n",
       "      <td>860</td>\n",
       "      <td>0</td>\n",
       "      <td>0</td>\n",
       "    </tr>\n",
       "    <tr>\n",
       "      <th>1</th>\n",
       "      <td>10080</td>\n",
       "      <td>GROOVY CACTUS INFLATABLE</td>\n",
       "      <td>1078.9554</td>\n",
       "      <td>303</td>\n",
       "      <td>0</td>\n",
       "      <td>0</td>\n",
       "    </tr>\n",
       "    <tr>\n",
       "      <th>2</th>\n",
       "      <td>10120</td>\n",
       "      <td>DOGGY RUBBER</td>\n",
       "      <td>365.2992</td>\n",
       "      <td>192</td>\n",
       "      <td>0</td>\n",
       "      <td>0</td>\n",
       "    </tr>\n",
       "    <tr>\n",
       "      <th>3</th>\n",
       "      <td>10123C</td>\n",
       "      <td>HEARTS WRAPPING TAPE</td>\n",
       "      <td>29.4450</td>\n",
       "      <td>5</td>\n",
       "      <td>0</td>\n",
       "      <td>0</td>\n",
       "    </tr>\n",
       "    <tr>\n",
       "      <th>5</th>\n",
       "      <td>10124G</td>\n",
       "      <td>ARMY CAMO BOOKCOVER TAPE</td>\n",
       "      <td>64.6884</td>\n",
       "      <td>17</td>\n",
       "      <td>0</td>\n",
       "      <td>0</td>\n",
       "    </tr>\n",
       "    <tr>\n",
       "      <th>...</th>\n",
       "      <td>...</td>\n",
       "      <td>...</td>\n",
       "      <td>...</td>\n",
       "      <td>...</td>\n",
       "      <td>...</td>\n",
       "      <td>...</td>\n",
       "    </tr>\n",
       "    <tr>\n",
       "      <th>4156</th>\n",
       "      <td>gift_0001_20</td>\n",
       "      <td>Dotcomgiftshop Gift Voucher £20.00</td>\n",
       "      <td>1513.4730</td>\n",
       "      <td>10</td>\n",
       "      <td>0</td>\n",
       "      <td>0</td>\n",
       "    </tr>\n",
       "    <tr>\n",
       "      <th>4157</th>\n",
       "      <td>gift_0001_30</td>\n",
       "      <td>Dotcomgiftshop Gift Voucher £30.00</td>\n",
       "      <td>1590.3018</td>\n",
       "      <td>7</td>\n",
       "      <td>0</td>\n",
       "      <td>0</td>\n",
       "    </tr>\n",
       "    <tr>\n",
       "      <th>4158</th>\n",
       "      <td>gift_0001_40</td>\n",
       "      <td>Dotcomgiftshop Gift Voucher £40.00</td>\n",
       "      <td>912.3420</td>\n",
       "      <td>3</td>\n",
       "      <td>0</td>\n",
       "      <td>0</td>\n",
       "    </tr>\n",
       "    <tr>\n",
       "      <th>4159</th>\n",
       "      <td>gift_0001_50</td>\n",
       "      <td>Dotcomgiftshop Gift Voucher £50.00</td>\n",
       "      <td>1518.0936</td>\n",
       "      <td>4</td>\n",
       "      <td>0</td>\n",
       "      <td>0</td>\n",
       "    </tr>\n",
       "    <tr>\n",
       "      <th>4160</th>\n",
       "      <td>m</td>\n",
       "      <td>Manual</td>\n",
       "      <td>23.1030</td>\n",
       "      <td>1</td>\n",
       "      <td>0</td>\n",
       "      <td>0</td>\n",
       "    </tr>\n",
       "  </tbody>\n",
       "</table>\n",
       "<p>2776 rows × 6 columns</p>\n",
       "</div>"
      ],
      "text/plain": [
       "         StockCode                         Description   SumPrice  Quantity  \\\n",
       "0            10002         INFLATABLE POLITICAL GLOBE   6884.6034       860   \n",
       "1            10080            GROOVY CACTUS INFLATABLE  1078.9554       303   \n",
       "2            10120                        DOGGY RUBBER   365.2992       192   \n",
       "3           10123C               HEARTS WRAPPING TAPE     29.4450         5   \n",
       "5           10124G            ARMY CAMO BOOKCOVER TAPE    64.6884        17   \n",
       "...            ...                                 ...        ...       ...   \n",
       "4156  gift_0001_20  Dotcomgiftshop Gift Voucher £20.00  1513.4730        10   \n",
       "4157  gift_0001_30  Dotcomgiftshop Gift Voucher £30.00  1590.3018         7   \n",
       "4158  gift_0001_40  Dotcomgiftshop Gift Voucher £40.00   912.3420         3   \n",
       "4159  gift_0001_50  Dotcomgiftshop Gift Voucher £50.00  1518.0936         4   \n",
       "4160             m                              Manual    23.1030         1   \n",
       "\n",
       "      Hot  cluster_labels  \n",
       "0       0               0  \n",
       "1       0               0  \n",
       "2       0               0  \n",
       "3       0               0  \n",
       "5       0               0  \n",
       "...   ...             ...  \n",
       "4156    0               0  \n",
       "4157    0               0  \n",
       "4158    0               0  \n",
       "4159    0               0  \n",
       "4160    0               0  \n",
       "\n",
       "[2776 rows x 6 columns]"
      ]
     },
     "execution_count": 53,
     "metadata": {},
     "output_type": "execute_result"
    }
   ],
   "source": [
    "good_grouped[good_grouped['cluster_labels'] == 0]"
   ]
  },
  {
   "cell_type": "markdown",
   "id": "55cd1609",
   "metadata": {},
   "source": [
    "## 信息检索"
   ]
  },
  {
   "cell_type": "markdown",
   "id": "69d869a2",
   "metadata": {},
   "source": [
    "### 相似度查找"
   ]
  },
  {
   "cell_type": "markdown",
   "id": "4bb68342",
   "metadata": {},
   "source": [
    "#### 数据预处理"
   ]
  },
  {
   "cell_type": "code",
   "execution_count": 54,
   "id": "835f28c8",
   "metadata": {},
   "outputs": [],
   "source": [
    "X = good_grouped.Description"
   ]
  },
  {
   "cell_type": "code",
   "execution_count": 55,
   "id": "dafeb8ee",
   "metadata": {},
   "outputs": [],
   "source": [
    "from sklearn.feature_extraction.text import TfidfVectorizer\n",
    "\n",
    "tfidf_vect = TfidfVectorizer()\n",
    "tfidf_matrix = tfidf_vect.fit_transform(X)"
   ]
  },
  {
   "cell_type": "markdown",
   "id": "6780fec0",
   "metadata": {},
   "source": [
    "#### 相似度计算"
   ]
  },
  {
   "cell_type": "code",
   "execution_count": 56,
   "id": "1d4d38af",
   "metadata": {},
   "outputs": [
    {
     "data": {
      "text/plain": [
       "array([[0., 0., 0., ..., 0., 0., 0.]], shape=(1, 2137))"
      ]
     },
     "execution_count": 56,
     "metadata": {},
     "output_type": "execute_result"
    }
   ],
   "source": [
    "query_descritpion = 'SILVER MINI TAPE MEASURE'\n",
    "query_document = pd.Series(query_descritpion)\n",
    "query_tfidf_vector = tfidf_vect.transform(query_document)\n",
    "query_tfidf_vector.toarray()"
   ]
  },
  {
   "cell_type": "code",
   "execution_count": 57,
   "id": "73d03104",
   "metadata": {},
   "outputs": [],
   "source": [
    "# 计算相似度\n",
    "from sklearn.metrics.pairwise import cosine_similarity\n",
    "\n",
    "cosine_similarities = cosine_similarity(query_tfidf_vector, tfidf_matrix)"
   ]
  },
  {
   "cell_type": "code",
   "execution_count": 58,
   "id": "d943b073",
   "metadata": {},
   "outputs": [
    {
     "data": {
      "text/plain": [
       "array([0., 0., 0., ..., 0., 0., 0.], shape=(4161,))"
      ]
     },
     "execution_count": 58,
     "metadata": {},
     "output_type": "execute_result"
    }
   ],
   "source": [
    "similarity_scores = cosine_similarities[0]\n",
    "similarity_scores"
   ]
  },
  {
   "cell_type": "markdown",
   "id": "7106c3ed",
   "metadata": {},
   "source": [
    "找到最相似的文档"
   ]
  },
  {
   "cell_type": "code",
   "execution_count": 59,
   "id": "4380b105",
   "metadata": {},
   "outputs": [
    {
     "data": {
      "text/plain": [
       "[(186, np.float64(1.0000000000000002)),\n",
       " (187, np.float64(0.8579243663233392)),\n",
       " (185, np.float64(0.832004716357922)),\n",
       " (881, np.float64(0.36765205778658056)),\n",
       " (883, np.float64(0.3643759939799675)),\n",
       " (880, np.float64(0.3223271067695699)),\n",
       " (884, np.float64(0.30705698630158806)),\n",
       " (1369, np.float64(0.27524120229657323)),\n",
       " (1370, np.float64(0.2726922198260805)),\n",
       " (3, np.float64(0.27262066217203695))]"
      ]
     },
     "execution_count": 59,
     "metadata": {},
     "output_type": "execute_result"
    }
   ],
   "source": [
    "doc_scores = []\n",
    "similarity_scores = cosine_similarities[0]\n",
    "for i, score in enumerate(similarity_scores):\n",
    "    doc_scores.append((i, score))\n",
    "sorted_doc_scores = sorted(doc_scores, key=lambda x: x[1], reverse=True)\n",
    "sorted_doc_scores[:10]"
   ]
  },
  {
   "cell_type": "code",
   "execution_count": 60,
   "id": "a36c7324",
   "metadata": {},
   "outputs": [
    {
     "name": "stdout",
     "output_type": "stream",
     "text": [
      "Query Document: 'SILVER MINI TAPE MEASURE'\n",
      "Most similar documents:\n",
      "- Document 187: - StockCode: 20734 - Description: 'SILVER MINI TAPE MEASURE ' (Similarity: 1.0000)\n",
      "- Document 188: - StockCode: 20735 - Description: 'BLACK MINI TAPE MEASURE ' (Similarity: 0.8579)\n",
      "- Document 186: - StockCode: 20733 - Description: 'GOLD MINI TAPE MEASURE ' (Similarity: 0.8320)\n",
      "- Document 882: - StockCode: 21880 - Description: 'RED RETROSPOT TAPE' (Similarity: 0.3677)\n",
      "- Document 884: - StockCode: 21882 - Description: 'SKULLS TAPE' (Similarity: 0.3644)\n"
     ]
    }
   ],
   "source": [
    "print(f\"Query Document: '{query_document.iloc[0]}'\")\n",
    "print(\"Most similar documents:\")\n",
    "for index, score in sorted_doc_scores[:5]: # 显示最相似的前5个\n",
    "    print(f\"- Document {index+1}: - StockCode: {good_grouped.iloc[index][0]} - Description: '{good_grouped.iloc[index][1]}' (Similarity: {score:.4f})\")"
   ]
  },
  {
   "cell_type": "markdown",
   "id": "9b456c63",
   "metadata": {},
   "source": [
    "## 主题建模"
   ]
  },
  {
   "cell_type": "code",
   "execution_count": 61,
   "id": "16fcabd9",
   "metadata": {},
   "outputs": [],
   "source": [
    "from sklearn.feature_extraction.text import TfidfVectorizer\n",
    "\n",
    "tfidf_vect = TfidfVectorizer(stop_words='english', use_idf=True, smooth_idf=True)\n",
    "tfidf_matrix = tfidf_vect.fit_transform(X)"
   ]
  },
  {
   "cell_type": "code",
   "execution_count": 62,
   "id": "0ba1baf3",
   "metadata": {},
   "outputs": [
    {
     "data": {
      "text/plain": [
       "(4161, 2077)"
      ]
     },
     "execution_count": 62,
     "metadata": {},
     "output_type": "execute_result"
    }
   ],
   "source": [
    "tfidf_matrix.shape"
   ]
  },
  {
   "cell_type": "markdown",
   "id": "14b74e49",
   "metadata": {},
   "source": [
    "### 潜在语义分析（LSA）"
   ]
  },
  {
   "cell_type": "code",
   "execution_count": 63,
   "id": "947a01a6",
   "metadata": {},
   "outputs": [],
   "source": [
    "from sklearn.decomposition import TruncatedSVD\n",
    "\n",
    "svd_model = TruncatedSVD(n_components=100,\n",
    "                         algorithm='randomized',\n",
    "                         n_iter=10)\n",
    "\n",
    "svd_matrix = svd_model.fit_transform(tfidf_matrix)"
   ]
  },
  {
   "cell_type": "markdown",
   "id": "7d486876",
   "metadata": {},
   "source": [
    "$U_k * \\Sigma_k$：文档-主题矩阵在降维后的新空间中的表示"
   ]
  },
  {
   "cell_type": "code",
   "execution_count": 64,
   "id": "f42d4f90",
   "metadata": {},
   "outputs": [
    {
     "data": {
      "text/plain": [
       "array([[ 4.09245874e-06, -2.27826775e-06,  4.04400677e-07, ...,\n",
       "         3.16866775e-04, -4.52352925e-05,  1.44837490e-05],\n",
       "       [ 7.13743548e-04, -2.92709932e-04,  4.39212989e-05, ...,\n",
       "         7.35898580e-03, -1.37192536e-03,  4.26863215e-04],\n",
       "       [ 1.81424805e-04, -7.50476528e-05,  1.35531502e-04, ...,\n",
       "        -8.93416862e-04,  1.90083601e-03,  1.66408014e-04],\n",
       "       ...,\n",
       "       [ 2.05555474e-02, -2.70596619e-02, -1.47988080e-02, ...,\n",
       "         1.00432993e-02,  2.13678805e-02,  2.31283558e-02],\n",
       "       [ 2.71710991e-02, -3.45716643e-02, -2.24177524e-02, ...,\n",
       "        -5.42697374e-03,  2.61416341e-02,  1.56534901e-02],\n",
       "       [-1.77615280e-17, -5.13746255e-16,  8.32274819e-15, ...,\n",
       "        -3.80446646e-08,  3.93052670e-09,  2.54086721e-08]],\n",
       "      shape=(4161, 100))"
      ]
     },
     "execution_count": 64,
     "metadata": {},
     "output_type": "execute_result"
    }
   ],
   "source": [
    "svd_matrix"
   ]
  },
  {
   "cell_type": "code",
   "execution_count": 65,
   "id": "3e7d2f8d",
   "metadata": {},
   "outputs": [
    {
     "data": {
      "text/plain": [
       "(4161, 100)"
      ]
     },
     "execution_count": 65,
     "metadata": {},
     "output_type": "execute_result"
    }
   ],
   "source": [
    "svd_matrix.shape"
   ]
  },
  {
   "cell_type": "markdown",
   "id": "626c3c38",
   "metadata": {},
   "source": [
    "$V_k^T$：主题-单词矩阵在降维后的新空间中的表示"
   ]
  },
  {
   "cell_type": "code",
   "execution_count": 66,
   "id": "6d9ed8fd",
   "metadata": {},
   "outputs": [
    {
     "name": "stdout",
     "output_type": "stream",
     "text": [
      "\n",
      "成分矩阵 (svd.components_):\n",
      "[[ 1.20886760e-03  3.82017939e-02  1.72763166e-04 ...  2.39253465e-02\n",
      "   1.53821108e-03  8.15449855e-02]\n",
      " [-2.22940293e-03 -5.57139814e-02 -3.23958027e-04 ...  6.54149138e-03\n",
      "  -2.84174518e-03  1.12491507e-01]\n",
      " [-1.61740789e-03 -6.19759059e-02 -1.89686674e-04 ...  2.20303540e-02\n",
      "  -2.45540006e-03 -7.13175611e-02]\n",
      " ...\n",
      " [ 4.02704032e-03  1.53497630e-02  6.67264876e-04 ... -6.35641461e-04\n",
      "   8.59412041e-04  1.14582554e-02]\n",
      " [ 7.15549980e-03  2.22380892e-02  9.92784070e-04 ... -2.08609892e-02\n",
      "   3.15015854e-04 -1.42126590e-01]\n",
      " [ 8.07548371e-03  3.26503008e-02  1.26964229e-03 ... -9.60234406e-05\n",
      "   5.10522845e-03 -2.20554579e-02]]\n"
     ]
    }
   ],
   "source": [
    "print(\"\\n成分矩阵 (svd.components_):\")\n",
    "print(svd_model.components_)"
   ]
  },
  {
   "cell_type": "code",
   "execution_count": 67,
   "id": "ffd74ee4",
   "metadata": {},
   "outputs": [
    {
     "data": {
      "text/plain": [
       "(100, 2077)"
      ]
     },
     "execution_count": 67,
     "metadata": {},
     "output_type": "execute_result"
    }
   ],
   "source": [
    "svd_model.components_.shape"
   ]
  },
  {
   "cell_type": "code",
   "execution_count": 68,
   "id": "6e4fb452",
   "metadata": {},
   "outputs": [
    {
     "name": "stdout",
     "output_type": "stream",
     "text": [
      "[0.00540088 0.01005809 0.0087258  0.00826737 0.00790602 0.00765834\n",
      " 0.00765915 0.0070599  0.00667306 0.0064649  0.00647016 0.00629027\n",
      " 0.00614429 0.00610302 0.00572803 0.0055623  0.00543954 0.00532406\n",
      " 0.00525432 0.00501016 0.00491334 0.00489789 0.00478868 0.00472318\n",
      " 0.00468314 0.00459283 0.00453698 0.00447762 0.00445329 0.00443926\n",
      " 0.00435828 0.00423934 0.0041953  0.00417639 0.0041501  0.00407291\n",
      " 0.00397994 0.00388217 0.00385833 0.00382137 0.00374667 0.00372918\n",
      " 0.00367362 0.0036336  0.0035383  0.003474   0.00339956 0.00339929\n",
      " 0.00333705 0.0032962  0.00326453 0.00321241 0.00319984 0.00315006\n",
      " 0.00310078 0.00303798 0.0029777  0.00293953 0.00293896 0.00292368\n",
      " 0.00289421 0.00286219 0.00285068 0.00280136 0.00278673 0.00274812\n",
      " 0.00273341 0.00270368 0.00268705 0.00266963 0.00264037 0.0025794\n",
      " 0.00257921 0.00254824 0.0025229  0.00251712 0.00249938 0.00248832\n",
      " 0.0024644  0.00244821 0.00243211 0.00242533 0.00240904 0.00239797\n",
      " 0.0023457  0.00233339 0.0023072  0.00228534 0.00227006 0.0022528\n",
      " 0.00221213 0.00219923 0.00217849 0.0021728  0.00214132 0.00211842\n",
      " 0.00211254 0.00208346 0.00207256 0.00204389]\n"
     ]
    }
   ],
   "source": [
    "print(svd_model.explained_variance_)"
   ]
  },
  {
   "cell_type": "code",
   "execution_count": 69,
   "id": "0ef1c2e3",
   "metadata": {},
   "outputs": [
    {
     "data": {
      "text/plain": [
       "array([7.6110558 , 6.55266604, 6.03756861, 5.86880513, 5.74160389,\n",
       "       5.66424023, 5.65738102, 5.45271882, 5.28129473, 5.2261393 ,\n",
       "       5.19614157, 5.12357831, 5.06306559, 5.0555264 , 4.89302456,\n",
       "       4.81858894, 4.76500695, 4.70674078, 4.67640322, 4.56709308,\n",
       "       4.52720662, 4.51670236, 4.48175221, 4.44189163, 4.41735175,\n",
       "       4.38072612, 4.34542219, 4.32016978, 4.30675859, 4.29863516,\n",
       "       4.27866852, 4.20316059, 4.18245281, 4.16941335, 4.16010122,\n",
       "       4.12860391, 4.06947705, 4.02127862, 4.0072772 , 3.99055982,\n",
       "       3.9507357 , 3.9397053 , 3.91608698, 3.88846757, 3.83707803,\n",
       "       3.80473433, 3.76971859, 3.76253527, 3.72733438, 3.70517261,\n",
       "       3.68563342, 3.65627043, 3.65211595, 3.62090072, 3.59492806,\n",
       "       3.55566213, 3.52039514, 3.50316868, 3.49742132, 3.48827669,\n",
       "       3.47209348, 3.45474823, 3.44432752, 3.41411359, 3.40563596,\n",
       "       3.38263272, 3.37247812, 3.35630094, 3.34441364, 3.3351815 ,\n",
       "       3.31514445, 3.28295263, 3.27628435, 3.25686816, 3.24155167,\n",
       "       3.23728206, 3.2246535 , 3.22055115, 3.20293336, 3.1938709 ,\n",
       "       3.18458031, 3.17723691, 3.165709  , 3.1577421 , 3.123551  ,\n",
       "       3.11706863, 3.10162516, 3.08325309, 3.07137277, 3.06011871,\n",
       "       3.03262634, 3.02429619, 3.00990523, 3.00719335, 2.98444056,\n",
       "       2.96514143, 2.96232275, 2.94180192, 2.93634172, 2.91642379])"
      ]
     },
     "execution_count": 69,
     "metadata": {},
     "output_type": "execute_result"
    }
   ],
   "source": [
    "svd_model.singular_values_"
   ]
  },
  {
   "cell_type": "markdown",
   "id": "80b70f35",
   "metadata": {},
   "source": [
    "### LDA主题建模"
   ]
  },
  {
   "cell_type": "markdown",
   "id": "7ca4787e",
   "metadata": {},
   "source": [
    "#### 数据预处理"
   ]
  },
  {
   "cell_type": "code",
   "execution_count": 70,
   "id": "2e2d7925",
   "metadata": {},
   "outputs": [],
   "source": [
    "X = good_grouped.Description"
   ]
  },
  {
   "cell_type": "code",
   "execution_count": 71,
   "id": "573b71ce",
   "metadata": {},
   "outputs": [],
   "source": [
    "from sklearn.feature_extraction.text import CountVectorizer\n",
    "\n",
    "count_vect = CountVectorizer()\n",
    "X_matrix = count_vect.fit_transform(X)"
   ]
  },
  {
   "cell_type": "markdown",
   "id": "1ebcdf45",
   "metadata": {},
   "source": [
    "#### 建模"
   ]
  },
  {
   "cell_type": "code",
   "execution_count": 72,
   "id": "72259178",
   "metadata": {},
   "outputs": [],
   "source": [
    "from sklearn.decomposition import LatentDirichletAllocation\n",
    "\n",
    "n_topics = 10  # 主题数，根据需求调整\n",
    "lda = LatentDirichletAllocation(n_components=n_topics,\n",
    "                                learning_method=\"batch\",\n",
    "                                max_iter=25,\n",
    "                                random_state=0)"
   ]
  },
  {
   "cell_type": "code",
   "execution_count": 73,
   "id": "159eae54",
   "metadata": {},
   "outputs": [],
   "source": [
    "document_topics = lda.fit_transform(X_matrix)"
   ]
  },
  {
   "cell_type": "code",
   "execution_count": 74,
   "id": "ab04c2b7",
   "metadata": {},
   "outputs": [
    {
     "data": {
      "text/plain": [
       "(10, 2137)"
      ]
     },
     "execution_count": 74,
     "metadata": {},
     "output_type": "execute_result"
    }
   ],
   "source": [
    "lda.components_.shape"
   ]
  },
  {
   "cell_type": "code",
   "execution_count": 75,
   "id": "83a9377d",
   "metadata": {},
   "outputs": [
    {
     "name": "stdout",
     "output_type": "stream",
     "text": [
      "----- 主题关键词分布 -----\n",
      "Topic #0:\n",
      "ring | key | pink | letter | bling | reel | ribbon | bracelet | sweetheart | white\n",
      "Topic #1:\n",
      "cake | of | mug | design | set | tea | fairy | stand | pink | plate\n",
      "Topic #2:\n",
      "red | glass | necklace | retrospot | bracelet | green | silver | charm | heart | bead\n",
      "Topic #3:\n",
      "12 | clock | bottle | girl | dolly | pack | party | hot | wall | water\n",
      "Topic #4:\n",
      "bag | metal | blue | pink | vintage | sign | wrap | paper | paisley | easter\n",
      "Topic #5:\n",
      "earrings | pink | vintage | frame | black | mirror | blue | photo | felt | drop\n",
      "Topic #6:\n",
      "set | of | box | garden | 10 | cutlery | lights | cards | paper | vintage\n",
      "Topic #7:\n",
      "christmas | decoration | heart | hanging | with | love | tree | pink | bird | cushion\n",
      "Topic #8:\n",
      "holder | light | heart | wall | art | ivory | small | large | hanging | candle\n",
      "Topic #9:\n",
      "rose | card | assorted | home | in | hook | vintage | doormat | box | candle\n"
     ]
    }
   ],
   "source": [
    "def print_topics(model, vectorizer, n_words=10):\n",
    "    feature_names = vectorizer.get_feature_names_out()\n",
    "    for topic_idx, topic in enumerate(model.components_):\n",
    "        print(f\"Topic #{topic_idx}:\")\n",
    "        print(\" | \".join([feature_names[i]\n",
    "                        for i in topic.argsort()[:-n_words - 1:-1]]))\n",
    "\n",
    "print(\"----- 主题关键词分布 -----\")\n",
    "print_topics(lda, count_vect)"
   ]
  },
  {
   "cell_type": "code",
   "execution_count": 76,
   "id": "3ee3d496",
   "metadata": {},
   "outputs": [
    {
     "data": {
      "text/html": [
       "<div>\n",
       "<style scoped>\n",
       "    .dataframe tbody tr th:only-of-type {\n",
       "        vertical-align: middle;\n",
       "    }\n",
       "\n",
       "    .dataframe tbody tr th {\n",
       "        vertical-align: top;\n",
       "    }\n",
       "\n",
       "    .dataframe thead th {\n",
       "        text-align: right;\n",
       "    }\n",
       "</style>\n",
       "<table border=\"1\" class=\"dataframe\">\n",
       "  <thead>\n",
       "    <tr style=\"text-align: right;\">\n",
       "      <th></th>\n",
       "      <th>Description</th>\n",
       "      <th>Topic_0</th>\n",
       "      <th>Topic_1</th>\n",
       "      <th>Topic_2</th>\n",
       "      <th>Topic_3</th>\n",
       "      <th>Topic_4</th>\n",
       "      <th>Topic_5</th>\n",
       "      <th>Topic_6</th>\n",
       "      <th>Topic_7</th>\n",
       "      <th>Topic_8</th>\n",
       "      <th>Topic_9</th>\n",
       "      <th>Dominant_Topic</th>\n",
       "    </tr>\n",
       "  </thead>\n",
       "  <tbody>\n",
       "    <tr>\n",
       "      <th>0</th>\n",
       "      <td>INFLATABLE POLITICAL GLOBE</td>\n",
       "      <td>0.025000</td>\n",
       "      <td>0.025003</td>\n",
       "      <td>0.025000</td>\n",
       "      <td>0.025000</td>\n",
       "      <td>0.025000</td>\n",
       "      <td>0.025000</td>\n",
       "      <td>0.025000</td>\n",
       "      <td>0.025000</td>\n",
       "      <td>0.025000</td>\n",
       "      <td>0.774997</td>\n",
       "      <td>Topic_9</td>\n",
       "    </tr>\n",
       "    <tr>\n",
       "      <th>1</th>\n",
       "      <td>GROOVY CACTUS INFLATABLE</td>\n",
       "      <td>0.025000</td>\n",
       "      <td>0.774990</td>\n",
       "      <td>0.025000</td>\n",
       "      <td>0.025000</td>\n",
       "      <td>0.025000</td>\n",
       "      <td>0.025000</td>\n",
       "      <td>0.025007</td>\n",
       "      <td>0.025000</td>\n",
       "      <td>0.025000</td>\n",
       "      <td>0.025003</td>\n",
       "      <td>Topic_1</td>\n",
       "    </tr>\n",
       "    <tr>\n",
       "      <th>2</th>\n",
       "      <td>DOGGY RUBBER</td>\n",
       "      <td>0.033333</td>\n",
       "      <td>0.033354</td>\n",
       "      <td>0.033333</td>\n",
       "      <td>0.033333</td>\n",
       "      <td>0.699979</td>\n",
       "      <td>0.033333</td>\n",
       "      <td>0.033333</td>\n",
       "      <td>0.033333</td>\n",
       "      <td>0.033333</td>\n",
       "      <td>0.033333</td>\n",
       "      <td>Topic_4</td>\n",
       "    </tr>\n",
       "    <tr>\n",
       "      <th>3</th>\n",
       "      <td>HEARTS WRAPPING TAPE</td>\n",
       "      <td>0.025000</td>\n",
       "      <td>0.025000</td>\n",
       "      <td>0.025000</td>\n",
       "      <td>0.025001</td>\n",
       "      <td>0.774973</td>\n",
       "      <td>0.025003</td>\n",
       "      <td>0.025005</td>\n",
       "      <td>0.025018</td>\n",
       "      <td>0.025000</td>\n",
       "      <td>0.025001</td>\n",
       "      <td>Topic_4</td>\n",
       "    </tr>\n",
       "    <tr>\n",
       "      <th>4</th>\n",
       "      <td>SPOTS ON RED BOOKCOVER TAPE</td>\n",
       "      <td>0.016667</td>\n",
       "      <td>0.016667</td>\n",
       "      <td>0.016677</td>\n",
       "      <td>0.576341</td>\n",
       "      <td>0.016674</td>\n",
       "      <td>0.016672</td>\n",
       "      <td>0.016667</td>\n",
       "      <td>0.290298</td>\n",
       "      <td>0.016669</td>\n",
       "      <td>0.016668</td>\n",
       "      <td>Topic_3</td>\n",
       "    </tr>\n",
       "    <tr>\n",
       "      <th>...</th>\n",
       "      <td>...</td>\n",
       "      <td>...</td>\n",
       "      <td>...</td>\n",
       "      <td>...</td>\n",
       "      <td>...</td>\n",
       "      <td>...</td>\n",
       "      <td>...</td>\n",
       "      <td>...</td>\n",
       "      <td>...</td>\n",
       "      <td>...</td>\n",
       "      <td>...</td>\n",
       "      <td>...</td>\n",
       "    </tr>\n",
       "    <tr>\n",
       "      <th>4156</th>\n",
       "      <td>Dotcomgiftshop Gift Voucher £20.00</td>\n",
       "      <td>0.849979</td>\n",
       "      <td>0.016667</td>\n",
       "      <td>0.016667</td>\n",
       "      <td>0.016667</td>\n",
       "      <td>0.016669</td>\n",
       "      <td>0.016667</td>\n",
       "      <td>0.016667</td>\n",
       "      <td>0.016668</td>\n",
       "      <td>0.016667</td>\n",
       "      <td>0.016682</td>\n",
       "      <td>Topic_0</td>\n",
       "    </tr>\n",
       "    <tr>\n",
       "      <th>4157</th>\n",
       "      <td>Dotcomgiftshop Gift Voucher £30.00</td>\n",
       "      <td>0.849994</td>\n",
       "      <td>0.016667</td>\n",
       "      <td>0.016667</td>\n",
       "      <td>0.016667</td>\n",
       "      <td>0.016670</td>\n",
       "      <td>0.016667</td>\n",
       "      <td>0.016667</td>\n",
       "      <td>0.016667</td>\n",
       "      <td>0.016667</td>\n",
       "      <td>0.016668</td>\n",
       "      <td>Topic_0</td>\n",
       "    </tr>\n",
       "    <tr>\n",
       "      <th>4158</th>\n",
       "      <td>Dotcomgiftshop Gift Voucher £40.00</td>\n",
       "      <td>0.651486</td>\n",
       "      <td>0.016667</td>\n",
       "      <td>0.016667</td>\n",
       "      <td>0.016668</td>\n",
       "      <td>0.016670</td>\n",
       "      <td>0.016667</td>\n",
       "      <td>0.016667</td>\n",
       "      <td>0.016667</td>\n",
       "      <td>0.016667</td>\n",
       "      <td>0.215175</td>\n",
       "      <td>Topic_0</td>\n",
       "    </tr>\n",
       "    <tr>\n",
       "      <th>4159</th>\n",
       "      <td>Dotcomgiftshop Gift Voucher £50.00</td>\n",
       "      <td>0.849977</td>\n",
       "      <td>0.016667</td>\n",
       "      <td>0.016668</td>\n",
       "      <td>0.016667</td>\n",
       "      <td>0.016669</td>\n",
       "      <td>0.016667</td>\n",
       "      <td>0.016670</td>\n",
       "      <td>0.016679</td>\n",
       "      <td>0.016667</td>\n",
       "      <td>0.016668</td>\n",
       "      <td>Topic_0</td>\n",
       "    </tr>\n",
       "    <tr>\n",
       "      <th>4160</th>\n",
       "      <td>Manual</td>\n",
       "      <td>0.050000</td>\n",
       "      <td>0.050000</td>\n",
       "      <td>0.050000</td>\n",
       "      <td>0.050000</td>\n",
       "      <td>0.050000</td>\n",
       "      <td>0.050000</td>\n",
       "      <td>0.050000</td>\n",
       "      <td>0.050000</td>\n",
       "      <td>0.050000</td>\n",
       "      <td>0.550000</td>\n",
       "      <td>Topic_9</td>\n",
       "    </tr>\n",
       "  </tbody>\n",
       "</table>\n",
       "<p>4161 rows × 12 columns</p>\n",
       "</div>"
      ],
      "text/plain": [
       "                             Description   Topic_0   Topic_1   Topic_2  \\\n",
       "0            INFLATABLE POLITICAL GLOBE   0.025000  0.025003  0.025000   \n",
       "1               GROOVY CACTUS INFLATABLE  0.025000  0.774990  0.025000   \n",
       "2                           DOGGY RUBBER  0.033333  0.033354  0.033333   \n",
       "3                  HEARTS WRAPPING TAPE   0.025000  0.025000  0.025000   \n",
       "4            SPOTS ON RED BOOKCOVER TAPE  0.016667  0.016667  0.016677   \n",
       "...                                  ...       ...       ...       ...   \n",
       "4156  Dotcomgiftshop Gift Voucher £20.00  0.849979  0.016667  0.016667   \n",
       "4157  Dotcomgiftshop Gift Voucher £30.00  0.849994  0.016667  0.016667   \n",
       "4158  Dotcomgiftshop Gift Voucher £40.00  0.651486  0.016667  0.016667   \n",
       "4159  Dotcomgiftshop Gift Voucher £50.00  0.849977  0.016667  0.016668   \n",
       "4160                              Manual  0.050000  0.050000  0.050000   \n",
       "\n",
       "       Topic_3   Topic_4   Topic_5   Topic_6   Topic_7   Topic_8   Topic_9  \\\n",
       "0     0.025000  0.025000  0.025000  0.025000  0.025000  0.025000  0.774997   \n",
       "1     0.025000  0.025000  0.025000  0.025007  0.025000  0.025000  0.025003   \n",
       "2     0.033333  0.699979  0.033333  0.033333  0.033333  0.033333  0.033333   \n",
       "3     0.025001  0.774973  0.025003  0.025005  0.025018  0.025000  0.025001   \n",
       "4     0.576341  0.016674  0.016672  0.016667  0.290298  0.016669  0.016668   \n",
       "...        ...       ...       ...       ...       ...       ...       ...   \n",
       "4156  0.016667  0.016669  0.016667  0.016667  0.016668  0.016667  0.016682   \n",
       "4157  0.016667  0.016670  0.016667  0.016667  0.016667  0.016667  0.016668   \n",
       "4158  0.016668  0.016670  0.016667  0.016667  0.016667  0.016667  0.215175   \n",
       "4159  0.016667  0.016669  0.016667  0.016670  0.016679  0.016667  0.016668   \n",
       "4160  0.050000  0.050000  0.050000  0.050000  0.050000  0.050000  0.550000   \n",
       "\n",
       "     Dominant_Topic  \n",
       "0           Topic_9  \n",
       "1           Topic_1  \n",
       "2           Topic_4  \n",
       "3           Topic_4  \n",
       "4           Topic_3  \n",
       "...             ...  \n",
       "4156        Topic_0  \n",
       "4157        Topic_0  \n",
       "4158        Topic_0  \n",
       "4159        Topic_0  \n",
       "4160        Topic_9  \n",
       "\n",
       "[4161 rows x 12 columns]"
      ]
     },
     "execution_count": 76,
     "metadata": {},
     "output_type": "execute_result"
    }
   ],
   "source": [
    "topic_names = [\"Topic_\" + str(i) for i in range(n_topics)]\n",
    "doc_topic_df = pd.DataFrame(document_topics, columns=topic_names)\n",
    "doc_topic_df['Dominant_Topic'] = doc_topic_df.idxmax(axis=1)\n",
    "results = pd.concat([good_grouped['Description'], doc_topic_df], axis=1)\n",
    "results"
   ]
  },
  {
   "cell_type": "markdown",
   "id": "31214514",
   "metadata": {},
   "source": [
    "## 课堂练习"
   ]
  }
 ],
 "metadata": {
  "kernelspec": {
   "display_name": "keras",
   "language": "python",
   "name": "python3"
  },
  "language_info": {
   "codemirror_mode": {
    "name": "ipython",
    "version": 3
   },
   "file_extension": ".py",
   "mimetype": "text/x-python",
   "name": "python",
   "nbconvert_exporter": "python",
   "pygments_lexer": "ipython3",
   "version": "3.12.0"
  },
  "toc": {
   "base_numbering": 1,
   "nav_menu": {},
   "number_sections": true,
   "sideBar": true,
   "skip_h1_title": true,
   "title_cell": "Table of Contents",
   "title_sidebar": "Contents",
   "toc_cell": false,
   "toc_position": {
    "height": "calc(100% - 180px)",
    "left": "10px",
    "top": "150px",
    "width": "267.24px"
   },
   "toc_section_display": true,
   "toc_window_display": true
  }
 },
 "nbformat": 4,
 "nbformat_minor": 5
}
