{
 "cells": [
  {
   "cell_type": "markdown",
   "metadata": {},
   "source": [
    "# Chapter5 课堂示例——Python文本挖掘"
   ]
  },
  {
   "cell_type": "code",
   "execution_count": 1,
   "metadata": {},
   "outputs": [],
   "source": [
    "import pandas as pd"
   ]
  },
  {
   "cell_type": "code",
   "execution_count": 2,
   "metadata": {},
   "outputs": [],
   "source": [
    "import warnings\n",
    "warnings.filterwarnings(\"ignore\")"
   ]
  },
  {
   "cell_type": "markdown",
   "metadata": {},
   "source": [
    "## 安装包"
   ]
  },
  {
   "cell_type": "markdown",
   "metadata": {},
   "source": [
    "### nltk包组件安装"
   ]
  },
  {
   "cell_type": "code",
   "execution_count": 3,
   "metadata": {},
   "outputs": [
    {
     "name": "stdout",
     "output_type": "stream",
     "text": [
      "Requirement already satisfied: nltk in c:\\users\\victola pan\\appdata\\roaming\\python\\python312\\site-packages (3.9.1)\n",
      "Requirement already satisfied: click in d:\\programdata\\anaconda3\\envs\\keras\\lib\\site-packages (from nltk) (8.1.8)\n",
      "Requirement already satisfied: joblib in c:\\users\\victola pan\\appdata\\roaming\\python\\python312\\site-packages (from nltk) (1.5.1)\n",
      "Requirement already satisfied: regex>=2021.8.3 in d:\\programdata\\anaconda3\\envs\\keras\\lib\\site-packages (from nltk) (2024.11.6)\n",
      "Requirement already satisfied: tqdm in d:\\programdata\\anaconda3\\envs\\keras\\lib\\site-packages (from nltk) (4.67.1)\n",
      "Requirement already satisfied: colorama in d:\\programdata\\anaconda3\\envs\\keras\\lib\\site-packages (from click->nltk) (0.4.6)\n"
     ]
    }
   ],
   "source": [
    "!pip install nltk"
   ]
  },
  {
   "cell_type": "code",
   "execution_count": 4,
   "metadata": {},
   "outputs": [],
   "source": [
    "# nltk安装组件\n",
    "# nltk.download()"
   ]
  },
  {
   "cell_type": "code",
   "execution_count": 5,
   "metadata": {},
   "outputs": [],
   "source": [
    "import nltk\n",
    "# 设置nltk数据路径\n",
    "# nltk.data.path.append(r\"E:/nltk_data/nltk_data/\")"
   ]
  },
  {
   "cell_type": "markdown",
   "metadata": {},
   "source": [
    "### 其他包"
   ]
  },
  {
   "cell_type": "code",
   "execution_count": 6,
   "metadata": {},
   "outputs": [],
   "source": [
    "## 安装包\n",
    "# !pip install gensim # 安装gensim包"
   ]
  },
  {
   "cell_type": "code",
   "execution_count": 7,
   "metadata": {},
   "outputs": [
    {
     "name": "stderr",
     "output_type": "stream",
     "text": [
      "ERROR: Invalid requirement: '#安装词云': Expected package name at the start of dependency specifier\n",
      "    #安装词云\n",
      "    ^\n"
     ]
    }
   ],
   "source": [
    "!pip install wordcloud #安装词云"
   ]
  },
  {
   "cell_type": "code",
   "execution_count": 8,
   "metadata": {},
   "outputs": [
    {
     "name": "stdout",
     "output_type": "stream",
     "text": [
      "Requirement already satisfied: jieba in c:\\users\\victola pan\\appdata\\roaming\\python\\python312\\site-packages (0.42.1)\n"
     ]
    }
   ],
   "source": [
    "!pip install jieba"
   ]
  },
  {
   "cell_type": "code",
   "execution_count": 9,
   "metadata": {
    "scrolled": true
   },
   "outputs": [
    {
     "name": "stdout",
     "output_type": "stream",
     "text": [
      "Requirement already satisfied: zhon in c:\\users\\victola pan\\appdata\\roaming\\python\\python312\\site-packages (2.1.1)\n"
     ]
    }
   ],
   "source": [
    "!pip install zhon"
   ]
  },
  {
   "cell_type": "code",
   "execution_count": 10,
   "metadata": {},
   "outputs": [
    {
     "name": "stdout",
     "output_type": "stream",
     "text": [
      "Requirement already satisfied: mglearn in c:\\users\\victola pan\\appdata\\roaming\\python\\python312\\site-packages (0.2.0)\n",
      "Requirement already satisfied: numpy in d:\\programdata\\anaconda3\\envs\\keras\\lib\\site-packages (from mglearn) (2.2.6)\n",
      "Requirement already satisfied: matplotlib in d:\\programdata\\anaconda3\\envs\\keras\\lib\\site-packages (from mglearn) (3.10.3)\n",
      "Requirement already satisfied: scikit-learn in d:\\programdata\\anaconda3\\envs\\keras\\lib\\site-packages (from mglearn) (1.6.1)\n",
      "Requirement already satisfied: pandas in d:\\programdata\\anaconda3\\envs\\keras\\lib\\site-packages (from mglearn) (2.2.3)\n",
      "Requirement already satisfied: pillow in d:\\programdata\\anaconda3\\envs\\keras\\lib\\site-packages (from mglearn) (11.2.1)\n",
      "Requirement already satisfied: cycler in d:\\programdata\\anaconda3\\envs\\keras\\lib\\site-packages (from mglearn) (0.12.1)\n",
      "Requirement already satisfied: imageio in d:\\programdata\\anaconda3\\envs\\keras\\lib\\site-packages (from mglearn) (2.37.0)\n",
      "Requirement already satisfied: joblib in c:\\users\\victola pan\\appdata\\roaming\\python\\python312\\site-packages (from mglearn) (1.5.1)\n",
      "Requirement already satisfied: contourpy>=1.0.1 in d:\\programdata\\anaconda3\\envs\\keras\\lib\\site-packages (from matplotlib->mglearn) (1.3.2)\n",
      "Requirement already satisfied: fonttools>=4.22.0 in d:\\programdata\\anaconda3\\envs\\keras\\lib\\site-packages (from matplotlib->mglearn) (4.58.0)\n",
      "Requirement already satisfied: kiwisolver>=1.3.1 in d:\\programdata\\anaconda3\\envs\\keras\\lib\\site-packages (from matplotlib->mglearn) (1.4.8)\n",
      "Requirement already satisfied: packaging>=20.0 in d:\\programdata\\anaconda3\\envs\\keras\\lib\\site-packages (from matplotlib->mglearn) (24.2)\n",
      "Requirement already satisfied: pyparsing>=2.3.1 in d:\\programdata\\anaconda3\\envs\\keras\\lib\\site-packages (from matplotlib->mglearn) (3.2.3)\n",
      "Requirement already satisfied: python-dateutil>=2.7 in d:\\programdata\\anaconda3\\envs\\keras\\lib\\site-packages (from matplotlib->mglearn) (2.9.0.post0)\n",
      "Requirement already satisfied: six>=1.5 in d:\\programdata\\anaconda3\\envs\\keras\\lib\\site-packages (from python-dateutil>=2.7->matplotlib->mglearn) (1.17.0)\n",
      "Requirement already satisfied: pytz>=2020.1 in d:\\programdata\\anaconda3\\envs\\keras\\lib\\site-packages (from pandas->mglearn) (2025.2)\n",
      "Requirement already satisfied: tzdata>=2022.7 in d:\\programdata\\anaconda3\\envs\\keras\\lib\\site-packages (from pandas->mglearn) (2025.2)\n",
      "Requirement already satisfied: scipy>=1.6.0 in d:\\programdata\\anaconda3\\envs\\keras\\lib\\site-packages (from scikit-learn->mglearn) (1.13.1)\n",
      "Requirement already satisfied: threadpoolctl>=3.1.0 in d:\\programdata\\anaconda3\\envs\\keras\\lib\\site-packages (from scikit-learn->mglearn) (3.6.0)\n"
     ]
    }
   ],
   "source": [
    "!pip install mglearn"
   ]
  },
  {
   "cell_type": "markdown",
   "metadata": {},
   "source": [
    "## 英文文本"
   ]
  },
  {
   "cell_type": "code",
   "execution_count": 11,
   "metadata": {},
   "outputs": [],
   "source": [
    "corpus_en = ['I come to China to travel.',\n",
    "             'This is a car polupar in China.',\n",
    "             'I love tea and Apple.',\n",
    "             'The work is to write some papers in science.']"
   ]
  },
  {
   "cell_type": "markdown",
   "metadata": {},
   "source": [
    "### 词袋模型（Bag of Words, BOW）"
   ]
  },
  {
   "cell_type": "markdown",
   "metadata": {},
   "source": [
    "该模型基于词频，将文本转换成向量，而不考虑词序。"
   ]
  },
  {
   "cell_type": "markdown",
   "metadata": {},
   "source": [
    "#### 分词（Tokenization）"
   ]
  },
  {
   "cell_type": "markdown",
   "metadata": {},
   "source": [
    "**什么是Tokenization？**\n",
    "+ 文本是不能成段送入模型中进行分析的，我们通常会把文本切成有独立含义的字、词或者短语，这个过程叫做tokenization，这通常是大家解决自然语言处理问题的第一步。\n",
    "\n",
    "**NLTK如何做Tokenization？**\n",
    "+ NLTK中提供了2种不同方式的tokenization，sentence tokenization 和 word tokenization，前者把文本进行“断句”，后者对文本进行“分词”。"
   ]
  },
  {
   "cell_type": "code",
   "execution_count": 12,
   "metadata": {},
   "outputs": [
    {
     "name": "stderr",
     "output_type": "stream",
     "text": [
      "[nltk_data] Downloading package punkt_tab to E:\\nltk_data...\n",
      "[nltk_data]   Package punkt_tab is already up-to-date!\n"
     ]
    },
    {
     "data": {
      "text/plain": [
       "True"
      ]
     },
     "execution_count": 12,
     "metadata": {},
     "output_type": "execute_result"
    }
   ],
   "source": [
    "nltk.download('punkt_tab')"
   ]
  },
  {
   "cell_type": "code",
   "execution_count": 13,
   "metadata": {},
   "outputs": [
    {
     "data": {
      "text/plain": [
       "['I', 'love', 'him', '.']"
      ]
     },
     "execution_count": 13,
     "metadata": {},
     "output_type": "execute_result"
    }
   ],
   "source": [
    "from nltk.tokenize import word_tokenize\n",
    "\n",
    "s = 'I love him.'\n",
    "word_tokenize(s)"
   ]
  },
  {
   "cell_type": "markdown",
   "metadata": {},
   "source": [
    "#### 单词转为特征向量"
   ]
  },
  {
   "cell_type": "markdown",
   "metadata": {},
   "source": [
    " vectorization(向量化) 是转化文本集合为数值向量的普遍方法。这种特殊思想，包括令牌化，统计频数和归一化，被称为 Bag of Words(词袋子) 或 “Bag of n-grams” 模型。文本被词出现频率描述，完全忽略词的相对位置信息。"
   ]
  },
  {
   "cell_type": "code",
   "execution_count": 14,
   "metadata": {},
   "outputs": [
    {
     "data": {
      "text/html": [
       "<style>#sk-container-id-1 {\n",
       "  /* Definition of color scheme common for light and dark mode */\n",
       "  --sklearn-color-text: #000;\n",
       "  --sklearn-color-text-muted: #666;\n",
       "  --sklearn-color-line: gray;\n",
       "  /* Definition of color scheme for unfitted estimators */\n",
       "  --sklearn-color-unfitted-level-0: #fff5e6;\n",
       "  --sklearn-color-unfitted-level-1: #f6e4d2;\n",
       "  --sklearn-color-unfitted-level-2: #ffe0b3;\n",
       "  --sklearn-color-unfitted-level-3: chocolate;\n",
       "  /* Definition of color scheme for fitted estimators */\n",
       "  --sklearn-color-fitted-level-0: #f0f8ff;\n",
       "  --sklearn-color-fitted-level-1: #d4ebff;\n",
       "  --sklearn-color-fitted-level-2: #b3dbfd;\n",
       "  --sklearn-color-fitted-level-3: cornflowerblue;\n",
       "\n",
       "  /* Specific color for light theme */\n",
       "  --sklearn-color-text-on-default-background: var(--sg-text-color, var(--theme-code-foreground, var(--jp-content-font-color1, black)));\n",
       "  --sklearn-color-background: var(--sg-background-color, var(--theme-background, var(--jp-layout-color0, white)));\n",
       "  --sklearn-color-border-box: var(--sg-text-color, var(--theme-code-foreground, var(--jp-content-font-color1, black)));\n",
       "  --sklearn-color-icon: #696969;\n",
       "\n",
       "  @media (prefers-color-scheme: dark) {\n",
       "    /* Redefinition of color scheme for dark theme */\n",
       "    --sklearn-color-text-on-default-background: var(--sg-text-color, var(--theme-code-foreground, var(--jp-content-font-color1, white)));\n",
       "    --sklearn-color-background: var(--sg-background-color, var(--theme-background, var(--jp-layout-color0, #111)));\n",
       "    --sklearn-color-border-box: var(--sg-text-color, var(--theme-code-foreground, var(--jp-content-font-color1, white)));\n",
       "    --sklearn-color-icon: #878787;\n",
       "  }\n",
       "}\n",
       "\n",
       "#sk-container-id-1 {\n",
       "  color: var(--sklearn-color-text);\n",
       "}\n",
       "\n",
       "#sk-container-id-1 pre {\n",
       "  padding: 0;\n",
       "}\n",
       "\n",
       "#sk-container-id-1 input.sk-hidden--visually {\n",
       "  border: 0;\n",
       "  clip: rect(1px 1px 1px 1px);\n",
       "  clip: rect(1px, 1px, 1px, 1px);\n",
       "  height: 1px;\n",
       "  margin: -1px;\n",
       "  overflow: hidden;\n",
       "  padding: 0;\n",
       "  position: absolute;\n",
       "  width: 1px;\n",
       "}\n",
       "\n",
       "#sk-container-id-1 div.sk-dashed-wrapped {\n",
       "  border: 1px dashed var(--sklearn-color-line);\n",
       "  margin: 0 0.4em 0.5em 0.4em;\n",
       "  box-sizing: border-box;\n",
       "  padding-bottom: 0.4em;\n",
       "  background-color: var(--sklearn-color-background);\n",
       "}\n",
       "\n",
       "#sk-container-id-1 div.sk-container {\n",
       "  /* jupyter's `normalize.less` sets `[hidden] { display: none; }`\n",
       "     but bootstrap.min.css set `[hidden] { display: none !important; }`\n",
       "     so we also need the `!important` here to be able to override the\n",
       "     default hidden behavior on the sphinx rendered scikit-learn.org.\n",
       "     See: https://github.com/scikit-learn/scikit-learn/issues/21755 */\n",
       "  display: inline-block !important;\n",
       "  position: relative;\n",
       "}\n",
       "\n",
       "#sk-container-id-1 div.sk-text-repr-fallback {\n",
       "  display: none;\n",
       "}\n",
       "\n",
       "div.sk-parallel-item,\n",
       "div.sk-serial,\n",
       "div.sk-item {\n",
       "  /* draw centered vertical line to link estimators */\n",
       "  background-image: linear-gradient(var(--sklearn-color-text-on-default-background), var(--sklearn-color-text-on-default-background));\n",
       "  background-size: 2px 100%;\n",
       "  background-repeat: no-repeat;\n",
       "  background-position: center center;\n",
       "}\n",
       "\n",
       "/* Parallel-specific style estimator block */\n",
       "\n",
       "#sk-container-id-1 div.sk-parallel-item::after {\n",
       "  content: \"\";\n",
       "  width: 100%;\n",
       "  border-bottom: 2px solid var(--sklearn-color-text-on-default-background);\n",
       "  flex-grow: 1;\n",
       "}\n",
       "\n",
       "#sk-container-id-1 div.sk-parallel {\n",
       "  display: flex;\n",
       "  align-items: stretch;\n",
       "  justify-content: center;\n",
       "  background-color: var(--sklearn-color-background);\n",
       "  position: relative;\n",
       "}\n",
       "\n",
       "#sk-container-id-1 div.sk-parallel-item {\n",
       "  display: flex;\n",
       "  flex-direction: column;\n",
       "}\n",
       "\n",
       "#sk-container-id-1 div.sk-parallel-item:first-child::after {\n",
       "  align-self: flex-end;\n",
       "  width: 50%;\n",
       "}\n",
       "\n",
       "#sk-container-id-1 div.sk-parallel-item:last-child::after {\n",
       "  align-self: flex-start;\n",
       "  width: 50%;\n",
       "}\n",
       "\n",
       "#sk-container-id-1 div.sk-parallel-item:only-child::after {\n",
       "  width: 0;\n",
       "}\n",
       "\n",
       "/* Serial-specific style estimator block */\n",
       "\n",
       "#sk-container-id-1 div.sk-serial {\n",
       "  display: flex;\n",
       "  flex-direction: column;\n",
       "  align-items: center;\n",
       "  background-color: var(--sklearn-color-background);\n",
       "  padding-right: 1em;\n",
       "  padding-left: 1em;\n",
       "}\n",
       "\n",
       "\n",
       "/* Toggleable style: style used for estimator/Pipeline/ColumnTransformer box that is\n",
       "clickable and can be expanded/collapsed.\n",
       "- Pipeline and ColumnTransformer use this feature and define the default style\n",
       "- Estimators will overwrite some part of the style using the `sk-estimator` class\n",
       "*/\n",
       "\n",
       "/* Pipeline and ColumnTransformer style (default) */\n",
       "\n",
       "#sk-container-id-1 div.sk-toggleable {\n",
       "  /* Default theme specific background. It is overwritten whether we have a\n",
       "  specific estimator or a Pipeline/ColumnTransformer */\n",
       "  background-color: var(--sklearn-color-background);\n",
       "}\n",
       "\n",
       "/* Toggleable label */\n",
       "#sk-container-id-1 label.sk-toggleable__label {\n",
       "  cursor: pointer;\n",
       "  display: flex;\n",
       "  width: 100%;\n",
       "  margin-bottom: 0;\n",
       "  padding: 0.5em;\n",
       "  box-sizing: border-box;\n",
       "  text-align: center;\n",
       "  align-items: start;\n",
       "  justify-content: space-between;\n",
       "  gap: 0.5em;\n",
       "}\n",
       "\n",
       "#sk-container-id-1 label.sk-toggleable__label .caption {\n",
       "  font-size: 0.6rem;\n",
       "  font-weight: lighter;\n",
       "  color: var(--sklearn-color-text-muted);\n",
       "}\n",
       "\n",
       "#sk-container-id-1 label.sk-toggleable__label-arrow:before {\n",
       "  /* Arrow on the left of the label */\n",
       "  content: \"▸\";\n",
       "  float: left;\n",
       "  margin-right: 0.25em;\n",
       "  color: var(--sklearn-color-icon);\n",
       "}\n",
       "\n",
       "#sk-container-id-1 label.sk-toggleable__label-arrow:hover:before {\n",
       "  color: var(--sklearn-color-text);\n",
       "}\n",
       "\n",
       "/* Toggleable content - dropdown */\n",
       "\n",
       "#sk-container-id-1 div.sk-toggleable__content {\n",
       "  max-height: 0;\n",
       "  max-width: 0;\n",
       "  overflow: hidden;\n",
       "  text-align: left;\n",
       "  /* unfitted */\n",
       "  background-color: var(--sklearn-color-unfitted-level-0);\n",
       "}\n",
       "\n",
       "#sk-container-id-1 div.sk-toggleable__content.fitted {\n",
       "  /* fitted */\n",
       "  background-color: var(--sklearn-color-fitted-level-0);\n",
       "}\n",
       "\n",
       "#sk-container-id-1 div.sk-toggleable__content pre {\n",
       "  margin: 0.2em;\n",
       "  border-radius: 0.25em;\n",
       "  color: var(--sklearn-color-text);\n",
       "  /* unfitted */\n",
       "  background-color: var(--sklearn-color-unfitted-level-0);\n",
       "}\n",
       "\n",
       "#sk-container-id-1 div.sk-toggleable__content.fitted pre {\n",
       "  /* unfitted */\n",
       "  background-color: var(--sklearn-color-fitted-level-0);\n",
       "}\n",
       "\n",
       "#sk-container-id-1 input.sk-toggleable__control:checked~div.sk-toggleable__content {\n",
       "  /* Expand drop-down */\n",
       "  max-height: 200px;\n",
       "  max-width: 100%;\n",
       "  overflow: auto;\n",
       "}\n",
       "\n",
       "#sk-container-id-1 input.sk-toggleable__control:checked~label.sk-toggleable__label-arrow:before {\n",
       "  content: \"▾\";\n",
       "}\n",
       "\n",
       "/* Pipeline/ColumnTransformer-specific style */\n",
       "\n",
       "#sk-container-id-1 div.sk-label input.sk-toggleable__control:checked~label.sk-toggleable__label {\n",
       "  color: var(--sklearn-color-text);\n",
       "  background-color: var(--sklearn-color-unfitted-level-2);\n",
       "}\n",
       "\n",
       "#sk-container-id-1 div.sk-label.fitted input.sk-toggleable__control:checked~label.sk-toggleable__label {\n",
       "  background-color: var(--sklearn-color-fitted-level-2);\n",
       "}\n",
       "\n",
       "/* Estimator-specific style */\n",
       "\n",
       "/* Colorize estimator box */\n",
       "#sk-container-id-1 div.sk-estimator input.sk-toggleable__control:checked~label.sk-toggleable__label {\n",
       "  /* unfitted */\n",
       "  background-color: var(--sklearn-color-unfitted-level-2);\n",
       "}\n",
       "\n",
       "#sk-container-id-1 div.sk-estimator.fitted input.sk-toggleable__control:checked~label.sk-toggleable__label {\n",
       "  /* fitted */\n",
       "  background-color: var(--sklearn-color-fitted-level-2);\n",
       "}\n",
       "\n",
       "#sk-container-id-1 div.sk-label label.sk-toggleable__label,\n",
       "#sk-container-id-1 div.sk-label label {\n",
       "  /* The background is the default theme color */\n",
       "  color: var(--sklearn-color-text-on-default-background);\n",
       "}\n",
       "\n",
       "/* On hover, darken the color of the background */\n",
       "#sk-container-id-1 div.sk-label:hover label.sk-toggleable__label {\n",
       "  color: var(--sklearn-color-text);\n",
       "  background-color: var(--sklearn-color-unfitted-level-2);\n",
       "}\n",
       "\n",
       "/* Label box, darken color on hover, fitted */\n",
       "#sk-container-id-1 div.sk-label.fitted:hover label.sk-toggleable__label.fitted {\n",
       "  color: var(--sklearn-color-text);\n",
       "  background-color: var(--sklearn-color-fitted-level-2);\n",
       "}\n",
       "\n",
       "/* Estimator label */\n",
       "\n",
       "#sk-container-id-1 div.sk-label label {\n",
       "  font-family: monospace;\n",
       "  font-weight: bold;\n",
       "  display: inline-block;\n",
       "  line-height: 1.2em;\n",
       "}\n",
       "\n",
       "#sk-container-id-1 div.sk-label-container {\n",
       "  text-align: center;\n",
       "}\n",
       "\n",
       "/* Estimator-specific */\n",
       "#sk-container-id-1 div.sk-estimator {\n",
       "  font-family: monospace;\n",
       "  border: 1px dotted var(--sklearn-color-border-box);\n",
       "  border-radius: 0.25em;\n",
       "  box-sizing: border-box;\n",
       "  margin-bottom: 0.5em;\n",
       "  /* unfitted */\n",
       "  background-color: var(--sklearn-color-unfitted-level-0);\n",
       "}\n",
       "\n",
       "#sk-container-id-1 div.sk-estimator.fitted {\n",
       "  /* fitted */\n",
       "  background-color: var(--sklearn-color-fitted-level-0);\n",
       "}\n",
       "\n",
       "/* on hover */\n",
       "#sk-container-id-1 div.sk-estimator:hover {\n",
       "  /* unfitted */\n",
       "  background-color: var(--sklearn-color-unfitted-level-2);\n",
       "}\n",
       "\n",
       "#sk-container-id-1 div.sk-estimator.fitted:hover {\n",
       "  /* fitted */\n",
       "  background-color: var(--sklearn-color-fitted-level-2);\n",
       "}\n",
       "\n",
       "/* Specification for estimator info (e.g. \"i\" and \"?\") */\n",
       "\n",
       "/* Common style for \"i\" and \"?\" */\n",
       "\n",
       ".sk-estimator-doc-link,\n",
       "a:link.sk-estimator-doc-link,\n",
       "a:visited.sk-estimator-doc-link {\n",
       "  float: right;\n",
       "  font-size: smaller;\n",
       "  line-height: 1em;\n",
       "  font-family: monospace;\n",
       "  background-color: var(--sklearn-color-background);\n",
       "  border-radius: 1em;\n",
       "  height: 1em;\n",
       "  width: 1em;\n",
       "  text-decoration: none !important;\n",
       "  margin-left: 0.5em;\n",
       "  text-align: center;\n",
       "  /* unfitted */\n",
       "  border: var(--sklearn-color-unfitted-level-1) 1pt solid;\n",
       "  color: var(--sklearn-color-unfitted-level-1);\n",
       "}\n",
       "\n",
       ".sk-estimator-doc-link.fitted,\n",
       "a:link.sk-estimator-doc-link.fitted,\n",
       "a:visited.sk-estimator-doc-link.fitted {\n",
       "  /* fitted */\n",
       "  border: var(--sklearn-color-fitted-level-1) 1pt solid;\n",
       "  color: var(--sklearn-color-fitted-level-1);\n",
       "}\n",
       "\n",
       "/* On hover */\n",
       "div.sk-estimator:hover .sk-estimator-doc-link:hover,\n",
       ".sk-estimator-doc-link:hover,\n",
       "div.sk-label-container:hover .sk-estimator-doc-link:hover,\n",
       ".sk-estimator-doc-link:hover {\n",
       "  /* unfitted */\n",
       "  background-color: var(--sklearn-color-unfitted-level-3);\n",
       "  color: var(--sklearn-color-background);\n",
       "  text-decoration: none;\n",
       "}\n",
       "\n",
       "div.sk-estimator.fitted:hover .sk-estimator-doc-link.fitted:hover,\n",
       ".sk-estimator-doc-link.fitted:hover,\n",
       "div.sk-label-container:hover .sk-estimator-doc-link.fitted:hover,\n",
       ".sk-estimator-doc-link.fitted:hover {\n",
       "  /* fitted */\n",
       "  background-color: var(--sklearn-color-fitted-level-3);\n",
       "  color: var(--sklearn-color-background);\n",
       "  text-decoration: none;\n",
       "}\n",
       "\n",
       "/* Span, style for the box shown on hovering the info icon */\n",
       ".sk-estimator-doc-link span {\n",
       "  display: none;\n",
       "  z-index: 9999;\n",
       "  position: relative;\n",
       "  font-weight: normal;\n",
       "  right: .2ex;\n",
       "  padding: .5ex;\n",
       "  margin: .5ex;\n",
       "  width: min-content;\n",
       "  min-width: 20ex;\n",
       "  max-width: 50ex;\n",
       "  color: var(--sklearn-color-text);\n",
       "  box-shadow: 2pt 2pt 4pt #999;\n",
       "  /* unfitted */\n",
       "  background: var(--sklearn-color-unfitted-level-0);\n",
       "  border: .5pt solid var(--sklearn-color-unfitted-level-3);\n",
       "}\n",
       "\n",
       ".sk-estimator-doc-link.fitted span {\n",
       "  /* fitted */\n",
       "  background: var(--sklearn-color-fitted-level-0);\n",
       "  border: var(--sklearn-color-fitted-level-3);\n",
       "}\n",
       "\n",
       ".sk-estimator-doc-link:hover span {\n",
       "  display: block;\n",
       "}\n",
       "\n",
       "/* \"?\"-specific style due to the `<a>` HTML tag */\n",
       "\n",
       "#sk-container-id-1 a.estimator_doc_link {\n",
       "  float: right;\n",
       "  font-size: 1rem;\n",
       "  line-height: 1em;\n",
       "  font-family: monospace;\n",
       "  background-color: var(--sklearn-color-background);\n",
       "  border-radius: 1rem;\n",
       "  height: 1rem;\n",
       "  width: 1rem;\n",
       "  text-decoration: none;\n",
       "  /* unfitted */\n",
       "  color: var(--sklearn-color-unfitted-level-1);\n",
       "  border: var(--sklearn-color-unfitted-level-1) 1pt solid;\n",
       "}\n",
       "\n",
       "#sk-container-id-1 a.estimator_doc_link.fitted {\n",
       "  /* fitted */\n",
       "  border: var(--sklearn-color-fitted-level-1) 1pt solid;\n",
       "  color: var(--sklearn-color-fitted-level-1);\n",
       "}\n",
       "\n",
       "/* On hover */\n",
       "#sk-container-id-1 a.estimator_doc_link:hover {\n",
       "  /* unfitted */\n",
       "  background-color: var(--sklearn-color-unfitted-level-3);\n",
       "  color: var(--sklearn-color-background);\n",
       "  text-decoration: none;\n",
       "}\n",
       "\n",
       "#sk-container-id-1 a.estimator_doc_link.fitted:hover {\n",
       "  /* fitted */\n",
       "  background-color: var(--sklearn-color-fitted-level-3);\n",
       "}\n",
       "</style><div id=\"sk-container-id-1\" class=\"sk-top-container\"><div class=\"sk-text-repr-fallback\"><pre>CountVectorizer()</pre><b>In a Jupyter environment, please rerun this cell to show the HTML representation or trust the notebook. <br />On GitHub, the HTML representation is unable to render, please try loading this page with nbviewer.org.</b></div><div class=\"sk-container\" hidden><div class=\"sk-item\"><div class=\"sk-estimator fitted sk-toggleable\"><input class=\"sk-toggleable__control sk-hidden--visually\" id=\"sk-estimator-id-1\" type=\"checkbox\" checked><label for=\"sk-estimator-id-1\" class=\"sk-toggleable__label fitted sk-toggleable__label-arrow\"><div><div>CountVectorizer</div></div><div><a class=\"sk-estimator-doc-link fitted\" rel=\"noreferrer\" target=\"_blank\" href=\"https://scikit-learn.org/1.6/modules/generated/sklearn.feature_extraction.text.CountVectorizer.html\">?<span>Documentation for CountVectorizer</span></a><span class=\"sk-estimator-doc-link fitted\">i<span>Fitted</span></span></div></label><div class=\"sk-toggleable__content fitted\"><pre>CountVectorizer()</pre></div> </div></div></div></div>"
      ],
      "text/plain": [
       "CountVectorizer()"
      ]
     },
     "execution_count": 14,
     "metadata": {},
     "output_type": "execute_result"
    }
   ],
   "source": [
    "from sklearn.feature_extraction.text import CountVectorizer\n",
    "vect = CountVectorizer()\n",
    "vect.fit(corpus_en)"
   ]
  },
  {
   "cell_type": "code",
   "execution_count": 15,
   "metadata": {},
   "outputs": [
    {
     "name": "stdout",
     "output_type": "stream",
     "text": [
      "feature_names size: 19\n",
      "['and' 'apple' 'car' 'china' 'come' 'in' 'is' 'love' 'papers' 'polupar'\n",
      " 'science' 'some' 'tea' 'the' 'this' 'to' 'travel' 'work' 'write']\n"
     ]
    }
   ],
   "source": [
    "print(\"feature_names size: {}\".format(len(vect.get_feature_names_out())))\n",
    "print(vect.get_feature_names_out())"
   ]
  },
  {
   "cell_type": "code",
   "execution_count": 16,
   "metadata": {},
   "outputs": [
    {
     "name": "stdout",
     "output_type": "stream",
     "text": [
      "Vocabulary size: 19\n",
      "Vocabulary content:\n",
      " {'come': 4, 'to': 15, 'china': 3, 'travel': 16, 'this': 14, 'is': 6, 'car': 2, 'polupar': 9, 'in': 5, 'love': 7, 'tea': 12, 'and': 0, 'apple': 1, 'the': 13, 'work': 17, 'write': 18, 'some': 11, 'papers': 8, 'science': 10}\n"
     ]
    }
   ],
   "source": [
    "print(\"Vocabulary size: {}\".format(len(vect.vocabulary_)))\n",
    "print(\"Vocabulary content:\\n {}\".format(vect.vocabulary_))"
   ]
  },
  {
   "cell_type": "code",
   "execution_count": 17,
   "metadata": {},
   "outputs": [
    {
     "name": "stdout",
     "output_type": "stream",
     "text": [
      "bag_of_words: <4x19 sparse matrix of type '<class 'numpy.int64'>'\n",
      "\twith 23 stored elements in Compressed Sparse Row format>\n"
     ]
    }
   ],
   "source": [
    "bag_of_words = vect.transform(corpus_en)\n",
    "print(\"bag_of_words: {}\".format(repr(bag_of_words)))"
   ]
  },
  {
   "cell_type": "code",
   "execution_count": 18,
   "metadata": {},
   "outputs": [
    {
     "name": "stdout",
     "output_type": "stream",
     "text": [
      "Dense representation of bag_of_words:\n",
      "[[0 0 0 1 1 0 0 0 0 0 0 0 0 0 0 2 1 0 0]\n",
      " [0 0 1 1 0 1 1 0 0 1 0 0 0 0 1 0 0 0 0]\n",
      " [1 1 0 0 0 0 0 1 0 0 0 0 1 0 0 0 0 0 0]\n",
      " [0 0 0 0 0 1 1 0 1 0 1 1 0 1 0 1 0 1 1]]\n"
     ]
    }
   ],
   "source": [
    "print(\"Dense representation of bag_of_words:\\n{}\".format(bag_of_words.toarray()))"
   ]
  },
  {
   "cell_type": "code",
   "execution_count": 19,
   "metadata": {},
   "outputs": [],
   "source": [
    "# 简洁用法\n",
    "from sklearn.feature_extraction.text import CountVectorizer\n",
    "vect = CountVectorizer()\n",
    "bag_of_words = vect.fit_transform(corpus_en)"
   ]
  },
  {
   "cell_type": "code",
   "execution_count": 20,
   "metadata": {
    "scrolled": false
   },
   "outputs": [
    {
     "data": {
      "text/html": [
       "<div>\n",
       "<style scoped>\n",
       "    .dataframe tbody tr th:only-of-type {\n",
       "        vertical-align: middle;\n",
       "    }\n",
       "\n",
       "    .dataframe tbody tr th {\n",
       "        vertical-align: top;\n",
       "    }\n",
       "\n",
       "    .dataframe thead th {\n",
       "        text-align: right;\n",
       "    }\n",
       "</style>\n",
       "<table border=\"1\" class=\"dataframe\">\n",
       "  <thead>\n",
       "    <tr style=\"text-align: right;\">\n",
       "      <th></th>\n",
       "      <th>and</th>\n",
       "      <th>apple</th>\n",
       "      <th>car</th>\n",
       "      <th>china</th>\n",
       "      <th>come</th>\n",
       "      <th>in</th>\n",
       "      <th>is</th>\n",
       "      <th>love</th>\n",
       "      <th>papers</th>\n",
       "      <th>polupar</th>\n",
       "      <th>science</th>\n",
       "      <th>some</th>\n",
       "      <th>tea</th>\n",
       "      <th>the</th>\n",
       "      <th>this</th>\n",
       "      <th>to</th>\n",
       "      <th>travel</th>\n",
       "      <th>work</th>\n",
       "      <th>write</th>\n",
       "    </tr>\n",
       "  </thead>\n",
       "  <tbody>\n",
       "    <tr>\n",
       "      <th>0</th>\n",
       "      <td>0</td>\n",
       "      <td>0</td>\n",
       "      <td>0</td>\n",
       "      <td>1</td>\n",
       "      <td>1</td>\n",
       "      <td>0</td>\n",
       "      <td>0</td>\n",
       "      <td>0</td>\n",
       "      <td>0</td>\n",
       "      <td>0</td>\n",
       "      <td>0</td>\n",
       "      <td>0</td>\n",
       "      <td>0</td>\n",
       "      <td>0</td>\n",
       "      <td>0</td>\n",
       "      <td>2</td>\n",
       "      <td>1</td>\n",
       "      <td>0</td>\n",
       "      <td>0</td>\n",
       "    </tr>\n",
       "    <tr>\n",
       "      <th>1</th>\n",
       "      <td>0</td>\n",
       "      <td>0</td>\n",
       "      <td>1</td>\n",
       "      <td>1</td>\n",
       "      <td>0</td>\n",
       "      <td>1</td>\n",
       "      <td>1</td>\n",
       "      <td>0</td>\n",
       "      <td>0</td>\n",
       "      <td>1</td>\n",
       "      <td>0</td>\n",
       "      <td>0</td>\n",
       "      <td>0</td>\n",
       "      <td>0</td>\n",
       "      <td>1</td>\n",
       "      <td>0</td>\n",
       "      <td>0</td>\n",
       "      <td>0</td>\n",
       "      <td>0</td>\n",
       "    </tr>\n",
       "    <tr>\n",
       "      <th>2</th>\n",
       "      <td>1</td>\n",
       "      <td>1</td>\n",
       "      <td>0</td>\n",
       "      <td>0</td>\n",
       "      <td>0</td>\n",
       "      <td>0</td>\n",
       "      <td>0</td>\n",
       "      <td>1</td>\n",
       "      <td>0</td>\n",
       "      <td>0</td>\n",
       "      <td>0</td>\n",
       "      <td>0</td>\n",
       "      <td>1</td>\n",
       "      <td>0</td>\n",
       "      <td>0</td>\n",
       "      <td>0</td>\n",
       "      <td>0</td>\n",
       "      <td>0</td>\n",
       "      <td>0</td>\n",
       "    </tr>\n",
       "    <tr>\n",
       "      <th>3</th>\n",
       "      <td>0</td>\n",
       "      <td>0</td>\n",
       "      <td>0</td>\n",
       "      <td>0</td>\n",
       "      <td>0</td>\n",
       "      <td>1</td>\n",
       "      <td>1</td>\n",
       "      <td>0</td>\n",
       "      <td>1</td>\n",
       "      <td>0</td>\n",
       "      <td>1</td>\n",
       "      <td>1</td>\n",
       "      <td>0</td>\n",
       "      <td>1</td>\n",
       "      <td>0</td>\n",
       "      <td>1</td>\n",
       "      <td>0</td>\n",
       "      <td>1</td>\n",
       "      <td>1</td>\n",
       "    </tr>\n",
       "  </tbody>\n",
       "</table>\n",
       "</div>"
      ],
      "text/plain": [
       "   and  apple  car  china  come  in  is  love  papers  polupar  science  some  \\\n",
       "0    0      0    0      1     1   0   0     0       0        0        0     0   \n",
       "1    0      0    1      1     0   1   1     0       0        1        0     0   \n",
       "2    1      1    0      0     0   0   0     1       0        0        0     0   \n",
       "3    0      0    0      0     0   1   1     0       1        0        1     1   \n",
       "\n",
       "   tea  the  this  to  travel  work  write  \n",
       "0    0    0     0   2       1     0      0  \n",
       "1    0    0     1   0       0     0      0  \n",
       "2    1    0     0   0       0     0      0  \n",
       "3    0    1     0   1       0     1      1  "
      ]
     },
     "execution_count": 20,
     "metadata": {},
     "output_type": "execute_result"
    }
   ],
   "source": [
    "pd.DataFrame(bag_of_words.toarray(), columns=vect.get_feature_names_out())"
   ]
  },
  {
   "cell_type": "markdown",
   "metadata": {},
   "source": [
    "#### ngram语言模型"
   ]
  },
  {
   "cell_type": "markdown",
   "metadata": {},
   "source": [
    "+ N-gram模型是一种语言模型（Language Model），语言模型是一个基于概率的判别模型，它的输入是一句话（单词的顺序序列），输出是这句话的概率，即这些单词的联合概率（joint probability）。\n",
    "+ N-gram本身也指一个由N个单词组成的集合，各单词具有先后顺序，且不要求单词之间互不相同。\n",
    "+ 常用的有 Bi-gram (N=2) 和 Tri-gram (N=3)，一般已经够用了。\n",
    "+ \n",
    "+ 例如,\"I love deep learning\"，可以分解的 Bi-gram 和 Tri-gram ：\n",
    "+ Bi-gram : {I, love}, {love, deep}, {love, deep}, {deep, learning}\n",
    "+ Tri-gram : {I, love, deep}, {love, deep, learning}\n",
    "+ \n",
    "+ sklearn库中的CountVectorizer 有一个参数ngram_range，如果赋值为(2,2)则为Bigram，当然使用语言模型会大大增加我们字典的大小。"
   ]
  },
  {
   "cell_type": "code",
   "execution_count": 21,
   "metadata": {},
   "outputs": [],
   "source": [
    "from sklearn.feature_extraction.text import CountVectorizer\n",
    "vect = CountVectorizer(ngram_range=(2, 2))\n",
    "bag_of_words = vect.fit_transform(corpus_en)"
   ]
  },
  {
   "cell_type": "code",
   "execution_count": 22,
   "metadata": {},
   "outputs": [
    {
     "data": {
      "text/html": [
       "<div>\n",
       "<style scoped>\n",
       "    .dataframe tbody tr th:only-of-type {\n",
       "        vertical-align: middle;\n",
       "    }\n",
       "\n",
       "    .dataframe tbody tr th {\n",
       "        vertical-align: top;\n",
       "    }\n",
       "\n",
       "    .dataframe thead th {\n",
       "        text-align: right;\n",
       "    }\n",
       "</style>\n",
       "<table border=\"1\" class=\"dataframe\">\n",
       "  <thead>\n",
       "    <tr style=\"text-align: right;\">\n",
       "      <th></th>\n",
       "      <th>and apple</th>\n",
       "      <th>car polupar</th>\n",
       "      <th>china to</th>\n",
       "      <th>come to</th>\n",
       "      <th>in china</th>\n",
       "      <th>in science</th>\n",
       "      <th>is car</th>\n",
       "      <th>is to</th>\n",
       "      <th>love tea</th>\n",
       "      <th>papers in</th>\n",
       "      <th>polupar in</th>\n",
       "      <th>some papers</th>\n",
       "      <th>tea and</th>\n",
       "      <th>the work</th>\n",
       "      <th>this is</th>\n",
       "      <th>to china</th>\n",
       "      <th>to travel</th>\n",
       "      <th>to write</th>\n",
       "      <th>work is</th>\n",
       "      <th>write some</th>\n",
       "    </tr>\n",
       "  </thead>\n",
       "  <tbody>\n",
       "    <tr>\n",
       "      <th>0</th>\n",
       "      <td>0</td>\n",
       "      <td>0</td>\n",
       "      <td>1</td>\n",
       "      <td>1</td>\n",
       "      <td>0</td>\n",
       "      <td>0</td>\n",
       "      <td>0</td>\n",
       "      <td>0</td>\n",
       "      <td>0</td>\n",
       "      <td>0</td>\n",
       "      <td>0</td>\n",
       "      <td>0</td>\n",
       "      <td>0</td>\n",
       "      <td>0</td>\n",
       "      <td>0</td>\n",
       "      <td>1</td>\n",
       "      <td>1</td>\n",
       "      <td>0</td>\n",
       "      <td>0</td>\n",
       "      <td>0</td>\n",
       "    </tr>\n",
       "    <tr>\n",
       "      <th>1</th>\n",
       "      <td>0</td>\n",
       "      <td>1</td>\n",
       "      <td>0</td>\n",
       "      <td>0</td>\n",
       "      <td>1</td>\n",
       "      <td>0</td>\n",
       "      <td>1</td>\n",
       "      <td>0</td>\n",
       "      <td>0</td>\n",
       "      <td>0</td>\n",
       "      <td>1</td>\n",
       "      <td>0</td>\n",
       "      <td>0</td>\n",
       "      <td>0</td>\n",
       "      <td>1</td>\n",
       "      <td>0</td>\n",
       "      <td>0</td>\n",
       "      <td>0</td>\n",
       "      <td>0</td>\n",
       "      <td>0</td>\n",
       "    </tr>\n",
       "    <tr>\n",
       "      <th>2</th>\n",
       "      <td>1</td>\n",
       "      <td>0</td>\n",
       "      <td>0</td>\n",
       "      <td>0</td>\n",
       "      <td>0</td>\n",
       "      <td>0</td>\n",
       "      <td>0</td>\n",
       "      <td>0</td>\n",
       "      <td>1</td>\n",
       "      <td>0</td>\n",
       "      <td>0</td>\n",
       "      <td>0</td>\n",
       "      <td>1</td>\n",
       "      <td>0</td>\n",
       "      <td>0</td>\n",
       "      <td>0</td>\n",
       "      <td>0</td>\n",
       "      <td>0</td>\n",
       "      <td>0</td>\n",
       "      <td>0</td>\n",
       "    </tr>\n",
       "    <tr>\n",
       "      <th>3</th>\n",
       "      <td>0</td>\n",
       "      <td>0</td>\n",
       "      <td>0</td>\n",
       "      <td>0</td>\n",
       "      <td>0</td>\n",
       "      <td>1</td>\n",
       "      <td>0</td>\n",
       "      <td>1</td>\n",
       "      <td>0</td>\n",
       "      <td>1</td>\n",
       "      <td>0</td>\n",
       "      <td>1</td>\n",
       "      <td>0</td>\n",
       "      <td>1</td>\n",
       "      <td>0</td>\n",
       "      <td>0</td>\n",
       "      <td>0</td>\n",
       "      <td>1</td>\n",
       "      <td>1</td>\n",
       "      <td>1</td>\n",
       "    </tr>\n",
       "  </tbody>\n",
       "</table>\n",
       "</div>"
      ],
      "text/plain": [
       "   and apple  car polupar  china to  come to  in china  in science  is car  \\\n",
       "0          0            0         1        1         0           0       0   \n",
       "1          0            1         0        0         1           0       1   \n",
       "2          1            0         0        0         0           0       0   \n",
       "3          0            0         0        0         0           1       0   \n",
       "\n",
       "   is to  love tea  papers in  polupar in  some papers  tea and  the work  \\\n",
       "0      0         0          0           0            0        0         0   \n",
       "1      0         0          0           1            0        0         0   \n",
       "2      0         1          0           0            0        1         0   \n",
       "3      1         0          1           0            1        0         1   \n",
       "\n",
       "   this is  to china  to travel  to write  work is  write some  \n",
       "0        0         1          1         0        0           0  \n",
       "1        1         0          0         0        0           0  \n",
       "2        0         0          0         0        0           0  \n",
       "3        0         0          0         1        1           1  "
      ]
     },
     "execution_count": 22,
     "metadata": {},
     "output_type": "execute_result"
    }
   ],
   "source": [
    "pd.DataFrame(bag_of_words.toarray(), columns=vect.get_feature_names_out())"
   ]
  },
  {
   "cell_type": "code",
   "execution_count": 23,
   "metadata": {},
   "outputs": [],
   "source": [
    "from sklearn.feature_extraction.text import CountVectorizer\n",
    "vect = CountVectorizer(ngram_range=(1, 2))\n",
    "bag_of_words = vect.fit_transform(corpus_en)"
   ]
  },
  {
   "cell_type": "code",
   "execution_count": 24,
   "metadata": {},
   "outputs": [
    {
     "data": {
      "text/html": [
       "<div>\n",
       "<style scoped>\n",
       "    .dataframe tbody tr th:only-of-type {\n",
       "        vertical-align: middle;\n",
       "    }\n",
       "\n",
       "    .dataframe tbody tr th {\n",
       "        vertical-align: top;\n",
       "    }\n",
       "\n",
       "    .dataframe thead th {\n",
       "        text-align: right;\n",
       "    }\n",
       "</style>\n",
       "<table border=\"1\" class=\"dataframe\">\n",
       "  <thead>\n",
       "    <tr style=\"text-align: right;\">\n",
       "      <th></th>\n",
       "      <th>and</th>\n",
       "      <th>and apple</th>\n",
       "      <th>apple</th>\n",
       "      <th>car</th>\n",
       "      <th>car polupar</th>\n",
       "      <th>china</th>\n",
       "      <th>china to</th>\n",
       "      <th>come</th>\n",
       "      <th>come to</th>\n",
       "      <th>in</th>\n",
       "      <th>...</th>\n",
       "      <th>this is</th>\n",
       "      <th>to</th>\n",
       "      <th>to china</th>\n",
       "      <th>to travel</th>\n",
       "      <th>to write</th>\n",
       "      <th>travel</th>\n",
       "      <th>work</th>\n",
       "      <th>work is</th>\n",
       "      <th>write</th>\n",
       "      <th>write some</th>\n",
       "    </tr>\n",
       "  </thead>\n",
       "  <tbody>\n",
       "    <tr>\n",
       "      <th>0</th>\n",
       "      <td>0</td>\n",
       "      <td>0</td>\n",
       "      <td>0</td>\n",
       "      <td>0</td>\n",
       "      <td>0</td>\n",
       "      <td>1</td>\n",
       "      <td>1</td>\n",
       "      <td>1</td>\n",
       "      <td>1</td>\n",
       "      <td>0</td>\n",
       "      <td>...</td>\n",
       "      <td>0</td>\n",
       "      <td>2</td>\n",
       "      <td>1</td>\n",
       "      <td>1</td>\n",
       "      <td>0</td>\n",
       "      <td>1</td>\n",
       "      <td>0</td>\n",
       "      <td>0</td>\n",
       "      <td>0</td>\n",
       "      <td>0</td>\n",
       "    </tr>\n",
       "    <tr>\n",
       "      <th>1</th>\n",
       "      <td>0</td>\n",
       "      <td>0</td>\n",
       "      <td>0</td>\n",
       "      <td>1</td>\n",
       "      <td>1</td>\n",
       "      <td>1</td>\n",
       "      <td>0</td>\n",
       "      <td>0</td>\n",
       "      <td>0</td>\n",
       "      <td>1</td>\n",
       "      <td>...</td>\n",
       "      <td>1</td>\n",
       "      <td>0</td>\n",
       "      <td>0</td>\n",
       "      <td>0</td>\n",
       "      <td>0</td>\n",
       "      <td>0</td>\n",
       "      <td>0</td>\n",
       "      <td>0</td>\n",
       "      <td>0</td>\n",
       "      <td>0</td>\n",
       "    </tr>\n",
       "    <tr>\n",
       "      <th>2</th>\n",
       "      <td>1</td>\n",
       "      <td>1</td>\n",
       "      <td>1</td>\n",
       "      <td>0</td>\n",
       "      <td>0</td>\n",
       "      <td>0</td>\n",
       "      <td>0</td>\n",
       "      <td>0</td>\n",
       "      <td>0</td>\n",
       "      <td>0</td>\n",
       "      <td>...</td>\n",
       "      <td>0</td>\n",
       "      <td>0</td>\n",
       "      <td>0</td>\n",
       "      <td>0</td>\n",
       "      <td>0</td>\n",
       "      <td>0</td>\n",
       "      <td>0</td>\n",
       "      <td>0</td>\n",
       "      <td>0</td>\n",
       "      <td>0</td>\n",
       "    </tr>\n",
       "    <tr>\n",
       "      <th>3</th>\n",
       "      <td>0</td>\n",
       "      <td>0</td>\n",
       "      <td>0</td>\n",
       "      <td>0</td>\n",
       "      <td>0</td>\n",
       "      <td>0</td>\n",
       "      <td>0</td>\n",
       "      <td>0</td>\n",
       "      <td>0</td>\n",
       "      <td>1</td>\n",
       "      <td>...</td>\n",
       "      <td>0</td>\n",
       "      <td>1</td>\n",
       "      <td>0</td>\n",
       "      <td>0</td>\n",
       "      <td>1</td>\n",
       "      <td>0</td>\n",
       "      <td>1</td>\n",
       "      <td>1</td>\n",
       "      <td>1</td>\n",
       "      <td>1</td>\n",
       "    </tr>\n",
       "  </tbody>\n",
       "</table>\n",
       "<p>4 rows × 39 columns</p>\n",
       "</div>"
      ],
      "text/plain": [
       "   and  and apple  apple  car  car polupar  china  china to  come  come to  \\\n",
       "0    0          0      0    0            0      1         1     1        1   \n",
       "1    0          0      0    1            1      1         0     0        0   \n",
       "2    1          1      1    0            0      0         0     0        0   \n",
       "3    0          0      0    0            0      0         0     0        0   \n",
       "\n",
       "   in  ...  this is  to  to china  to travel  to write  travel  work  work is  \\\n",
       "0   0  ...        0   2         1          1         0       1     0        0   \n",
       "1   1  ...        1   0         0          0         0       0     0        0   \n",
       "2   0  ...        0   0         0          0         0       0     0        0   \n",
       "3   1  ...        0   1         0          0         1       0     1        1   \n",
       "\n",
       "   write  write some  \n",
       "0      0           0  \n",
       "1      0           0  \n",
       "2      0           0  \n",
       "3      1           1  \n",
       "\n",
       "[4 rows x 39 columns]"
      ]
     },
     "execution_count": 24,
     "metadata": {},
     "output_type": "execute_result"
    }
   ],
   "source": [
    "pd.DataFrame(bag_of_words.toarray(), columns=vect.get_feature_names_out())"
   ]
  },
  {
   "cell_type": "markdown",
   "metadata": {},
   "source": [
    "### 文本统计和可视化"
   ]
  },
  {
   "cell_type": "markdown",
   "metadata": {},
   "source": [
    "#### 词频统计"
   ]
  },
  {
   "cell_type": "code",
   "execution_count": 25,
   "metadata": {},
   "outputs": [],
   "source": [
    "from sklearn.feature_extraction.text import CountVectorizer\n",
    "vect = CountVectorizer()\n",
    "bag_of_words = vect.fit_transform(corpus_en)"
   ]
  },
  {
   "cell_type": "code",
   "execution_count": 26,
   "metadata": {},
   "outputs": [
    {
     "data": {
      "text/plain": [
       "array([1, 1, 1, 2, 1, 2, 2, 1, 1, 1, 1, 1, 1, 1, 1, 3, 1, 1, 1])"
      ]
     },
     "execution_count": 26,
     "metadata": {},
     "output_type": "execute_result"
    }
   ],
   "source": [
    "bag_of_words.toarray().sum(axis=0)"
   ]
  },
  {
   "cell_type": "code",
   "execution_count": 27,
   "metadata": {},
   "outputs": [
    {
     "data": {
      "text/plain": [
       "and        1\n",
       "apple      1\n",
       "car        1\n",
       "china      2\n",
       "come       1\n",
       "in         2\n",
       "is         2\n",
       "love       1\n",
       "papers     1\n",
       "polupar    1\n",
       "science    1\n",
       "some       1\n",
       "tea        1\n",
       "the        1\n",
       "this       1\n",
       "to         3\n",
       "travel     1\n",
       "work       1\n",
       "write      1\n",
       "dtype: int64"
      ]
     },
     "execution_count": 27,
     "metadata": {},
     "output_type": "execute_result"
    }
   ],
   "source": [
    "pd.Series(bag_of_words.toarray().sum(axis=0), index=vect.get_feature_names_out())"
   ]
  },
  {
   "cell_type": "markdown",
   "metadata": {},
   "source": [
    "#### 词云图"
   ]
  },
  {
   "cell_type": "code",
   "execution_count": 28,
   "metadata": {},
   "outputs": [
    {
     "data": {
      "text/plain": [
       "'come to china travel china this is car polupar in love tea and apple to is in the work write some papers science'"
      ]
     },
     "execution_count": 28,
     "metadata": {},
     "output_type": "execute_result"
    }
   ],
   "source": [
    "clean_all_words_en = ' '.join([' '.join(sentence) for sentence in vect.inverse_transform(bag_of_words)])\n",
    "clean_all_words_en"
   ]
  },
  {
   "cell_type": "code",
   "execution_count": 29,
   "metadata": {},
   "outputs": [
    {
     "data": {
      "text/plain": [
       "(np.float64(-0.5), np.float64(999.5), np.float64(879.5), np.float64(-0.5))"
      ]
     },
     "execution_count": 29,
     "metadata": {},
     "output_type": "execute_result"
    },
    {
     "data": {
      "image/png": "[encoded data removed]",
      "text/plain": [
       "<Figure size 640x480 with 1 Axes>"
      ]
     },
     "metadata": {},
     "output_type": "display_data"
    }
   ],
   "source": [
    "# 生成词云\n",
    "import matplotlib.pyplot as plt\n",
    "from wordcloud import WordCloud, ImageColorGenerator  # 引入词云WordCloud\n",
    "\n",
    "# WordCloud()设定词云参数，.generate()将str文本生成词云\n",
    "wordcloud = WordCloud(\n",
    "    font_path=\"C:/Windows/Fonts/simfang.ttf\", \n",
    "    background_color=\"white\",\n",
    "    width=1000,\n",
    "    height=880,\n",
    ").generate(clean_all_words_en)\n",
    "\n",
    "plt.imshow(wordcloud, interpolation='bilinear')\n",
    "plt.axis(\"off\")\n",
    "\n",
    "# wordcloud.to_file(\"cloud1.jpg\") # 保存图片"
   ]
  },
  {
   "cell_type": "code",
   "execution_count": 30,
   "metadata": {},
   "outputs": [
    {
     "data": {
      "text/plain": [
       "(np.float64(-0.5), np.float64(639.5), np.float64(1328.5), np.float64(-0.5))"
      ]
     },
     "execution_count": 30,
     "metadata": {},
     "output_type": "execute_result"
    },
    {
     "data": {
      "image/png": "[encoded data removed]",
      "text/plain": [
       "<Figure size 640x480 with 1 Axes>"
      ]
     },
     "metadata": {},
     "output_type": "display_data"
    }
   ],
   "source": [
    "# 设置图云背景\n",
    "from wordcloud import WordCloud, ImageColorGenerator  # 引入词云WordCloud\n",
    "from PIL import Image\n",
    "import numpy as np\n",
    "\n",
    "# 文件路径需要加引号\n",
    "path_img = './background/conan.jpg'\n",
    "\n",
    "# 创建图片，这是为了替换WordCloud默认的长方形输出形状\n",
    "background_image = np.array(Image.open(path_img))\n",
    "\n",
    "wordcloud = WordCloud(\n",
    "    font_path=\"C:/Windows/Fonts/simfang.ttf\", # 设定文字的类型为中文黑体\n",
    "    background_color=\"white\", # 设定图片背景为白色。默认为黑色。\n",
    "    width=100,\n",
    "    height=88,\n",
    "    scale=1, # 设定图片像素密度为15.默认之为1。\n",
    "    mask = background_image # 设定词云形状是background_image。\n",
    ").generate(clean_all_words_en) # 注意是clean_all_words\n",
    "\n",
    "image_colors = ImageColorGenerator(background_image) # 提取图片的色彩分布\n",
    "plt.imshow(wordcloud.recolor(color_func = image_colors), interpolation=\"bilinear\") # 替换默认的字体颜色\n",
    "\n",
    "plt.axis(\"off\") # 关闭坐标轴显示\n",
    "\n",
    "# wordcloud.to_file(\"./output/cloud.jpg\") # 保存图片"
   ]
  },
  {
   "cell_type": "markdown",
   "metadata": {},
   "source": [
    "### 文本清洗"
   ]
  },
  {
   "cell_type": "code",
   "execution_count": 31,
   "metadata": {},
   "outputs": [
    {
     "name": "stdout",
     "output_type": "stream",
     "text": [
      "Hello! How are you? :) I'm great! :D But feeling sad sometimes :(\n",
      "Hello How are you :) Im great :D But feeling sad sometimes :(\n"
     ]
    }
   ],
   "source": [
    "import re\n",
    "import string\n",
    "\n",
    "def preprocessor(text):\n",
    "    # 删除HTML标签\n",
    "    text = re.sub('<[^>]*>', '', text)\n",
    "    # 定义常见的表情符号模式\n",
    "    emoticon_pattern = r'(?::|;|=)(?:-)?(?:\\)|\\(|D|P|d|p|O|o|S|s|\\||\\\\|/|\\*|\\+|\\^)'\n",
    "    # 找到所有表情符号并用占位符替换\n",
    "    emoticons = re.findall(emoticon_pattern, text)\n",
    "    for i, emoticon in enumerate(emoticons):\n",
    "        text = text.replace(emoticon, f' EMOTICON{i} ', 1)\n",
    "    # 移除标点符号（除了已被占位符保护的表情）\n",
    "    translator = str.maketrans('', '', string.punctuation)\n",
    "    text = text.translate(translator)\n",
    "    # 恢复表情符号\n",
    "    for i, emoticon in enumerate(emoticons):\n",
    "        text = text.replace(f'EMOTICON{i}', emoticon)\n",
    "    # 清理多余空格\n",
    "    text = ' '.join(text.split())\n",
    "    \n",
    "    return text\n",
    "\n",
    "# 测试示例\n",
    "test_text = \"Hello! How are you? :) I'm great! :D But feeling sad sometimes :(\"\n",
    "cleaned_text = preprocessor(test_text)\n",
    "print(f\"{test_text}\")\n",
    "print(f\"{cleaned_text}\")"
   ]
  },
  {
   "cell_type": "markdown",
   "metadata": {},
   "source": [
    "#### 大小写转化"
   ]
  },
  {
   "cell_type": "code",
   "execution_count": 32,
   "metadata": {},
   "outputs": [
    {
     "name": "stdout",
     "output_type": "stream",
     "text": [
      "bag_of_words: <4x19 sparse matrix of type '<class 'numpy.int64'>'\n",
      "\twith 23 stored elements in Compressed Sparse Row format>\n"
     ]
    }
   ],
   "source": [
    "from sklearn.feature_extraction.text import CountVectorizer\n",
    "vect = CountVectorizer(lowercase=False)\n",
    "bag_of_words = vect.fit_transform(corpus_en)\n",
    "print(\"bag_of_words: {}\".format(repr(bag_of_words)))"
   ]
  },
  {
   "cell_type": "code",
   "execution_count": 33,
   "metadata": {},
   "outputs": [
    {
     "data": {
      "text/html": [
       "<div>\n",
       "<style scoped>\n",
       "    .dataframe tbody tr th:only-of-type {\n",
       "        vertical-align: middle;\n",
       "    }\n",
       "\n",
       "    .dataframe tbody tr th {\n",
       "        vertical-align: top;\n",
       "    }\n",
       "\n",
       "    .dataframe thead th {\n",
       "        text-align: right;\n",
       "    }\n",
       "</style>\n",
       "<table border=\"1\" class=\"dataframe\">\n",
       "  <thead>\n",
       "    <tr style=\"text-align: right;\">\n",
       "      <th></th>\n",
       "      <th>Apple</th>\n",
       "      <th>China</th>\n",
       "      <th>The</th>\n",
       "      <th>This</th>\n",
       "      <th>and</th>\n",
       "      <th>car</th>\n",
       "      <th>come</th>\n",
       "      <th>in</th>\n",
       "      <th>is</th>\n",
       "      <th>love</th>\n",
       "      <th>papers</th>\n",
       "      <th>polupar</th>\n",
       "      <th>science</th>\n",
       "      <th>some</th>\n",
       "      <th>tea</th>\n",
       "      <th>to</th>\n",
       "      <th>travel</th>\n",
       "      <th>work</th>\n",
       "      <th>write</th>\n",
       "    </tr>\n",
       "  </thead>\n",
       "  <tbody>\n",
       "    <tr>\n",
       "      <th>0</th>\n",
       "      <td>0</td>\n",
       "      <td>1</td>\n",
       "      <td>0</td>\n",
       "      <td>0</td>\n",
       "      <td>0</td>\n",
       "      <td>0</td>\n",
       "      <td>1</td>\n",
       "      <td>0</td>\n",
       "      <td>0</td>\n",
       "      <td>0</td>\n",
       "      <td>0</td>\n",
       "      <td>0</td>\n",
       "      <td>0</td>\n",
       "      <td>0</td>\n",
       "      <td>0</td>\n",
       "      <td>2</td>\n",
       "      <td>1</td>\n",
       "      <td>0</td>\n",
       "      <td>0</td>\n",
       "    </tr>\n",
       "    <tr>\n",
       "      <th>1</th>\n",
       "      <td>0</td>\n",
       "      <td>1</td>\n",
       "      <td>0</td>\n",
       "      <td>1</td>\n",
       "      <td>0</td>\n",
       "      <td>1</td>\n",
       "      <td>0</td>\n",
       "      <td>1</td>\n",
       "      <td>1</td>\n",
       "      <td>0</td>\n",
       "      <td>0</td>\n",
       "      <td>1</td>\n",
       "      <td>0</td>\n",
       "      <td>0</td>\n",
       "      <td>0</td>\n",
       "      <td>0</td>\n",
       "      <td>0</td>\n",
       "      <td>0</td>\n",
       "      <td>0</td>\n",
       "    </tr>\n",
       "    <tr>\n",
       "      <th>2</th>\n",
       "      <td>1</td>\n",
       "      <td>0</td>\n",
       "      <td>0</td>\n",
       "      <td>0</td>\n",
       "      <td>1</td>\n",
       "      <td>0</td>\n",
       "      <td>0</td>\n",
       "      <td>0</td>\n",
       "      <td>0</td>\n",
       "      <td>1</td>\n",
       "      <td>0</td>\n",
       "      <td>0</td>\n",
       "      <td>0</td>\n",
       "      <td>0</td>\n",
       "      <td>1</td>\n",
       "      <td>0</td>\n",
       "      <td>0</td>\n",
       "      <td>0</td>\n",
       "      <td>0</td>\n",
       "    </tr>\n",
       "    <tr>\n",
       "      <th>3</th>\n",
       "      <td>0</td>\n",
       "      <td>0</td>\n",
       "      <td>1</td>\n",
       "      <td>0</td>\n",
       "      <td>0</td>\n",
       "      <td>0</td>\n",
       "      <td>0</td>\n",
       "      <td>1</td>\n",
       "      <td>1</td>\n",
       "      <td>0</td>\n",
       "      <td>1</td>\n",
       "      <td>0</td>\n",
       "      <td>1</td>\n",
       "      <td>1</td>\n",
       "      <td>0</td>\n",
       "      <td>1</td>\n",
       "      <td>0</td>\n",
       "      <td>1</td>\n",
       "      <td>1</td>\n",
       "    </tr>\n",
       "  </tbody>\n",
       "</table>\n",
       "</div>"
      ],
      "text/plain": [
       "   Apple  China  The  This  and  car  come  in  is  love  papers  polupar  \\\n",
       "0      0      1    0     0    0    0     1   0   0     0       0        0   \n",
       "1      0      1    0     1    0    1     0   1   1     0       0        1   \n",
       "2      1      0    0     0    1    0     0   0   0     1       0        0   \n",
       "3      0      0    1     0    0    0     0   1   1     0       1        0   \n",
       "\n",
       "   science  some  tea  to  travel  work  write  \n",
       "0        0     0    0   2       1     0      0  \n",
       "1        0     0    0   0       0     0      0  \n",
       "2        0     0    1   0       0     0      0  \n",
       "3        1     1    0   1       0     1      1  "
      ]
     },
     "execution_count": 33,
     "metadata": {},
     "output_type": "execute_result"
    }
   ],
   "source": [
    "pd.DataFrame(bag_of_words.toarray(), columns=vect.get_feature_names_out())"
   ]
  },
  {
   "cell_type": "markdown",
   "metadata": {},
   "source": [
    "#### 词干提取（Stemming）"
   ]
  },
  {
   "cell_type": "markdown",
   "metadata": {},
   "source": [
    "**什么是词干提取？**\n",
    "+ 词干提取是指基于简单的规则，去掉词语的后缀，比如 “ing”, “ly”, “s”等。\n",
    "\n",
    "**NLTK如何实现词干提取？**\n",
    "+ 词干提取：PorterStemmer，LancasterStemmer和SnowballStemmer"
   ]
  },
  {
   "cell_type": "code",
   "execution_count": 34,
   "metadata": {},
   "outputs": [
    {
     "data": {
      "text/plain": [
       "'countri'"
      ]
     },
     "execution_count": 34,
     "metadata": {},
     "output_type": "execute_result"
    }
   ],
   "source": [
    "from nltk.stem import SnowballStemmer\n",
    "stemmer = SnowballStemmer(\"english\") # Choose a language\n",
    "stemmer.stem(\"countries\") # Stem a word"
   ]
  },
  {
   "cell_type": "markdown",
   "metadata": {},
   "source": [
    "##### 采用词干提取清理数据"
   ]
  },
  {
   "cell_type": "code",
   "execution_count": 35,
   "metadata": {},
   "outputs": [],
   "source": [
    "from nltk.tokenize import word_tokenize\n",
    "from nltk import pos_tag\n",
    "from nltk.stem import SnowballStemmer\n",
    "\n",
    "def custom_tokenizer(document):\n",
    "    stemmer = SnowballStemmer(\"english\")\n",
    "    docs = pos_tag(word_tokenize(document))\n",
    "    return [stemmer.stem(token[0]) for token in docs]\n",
    "\n",
    "# 利用自定义分词器来定义一个计数向量器\n",
    "stemmer_vect = CountVectorizer(tokenizer=custom_tokenizer, min_df=2, token_pattern=None)"
   ]
  },
  {
   "cell_type": "code",
   "execution_count": 36,
   "metadata": {},
   "outputs": [
    {
     "data": {
      "text/html": [
       "<div>\n",
       "<style scoped>\n",
       "    .dataframe tbody tr th:only-of-type {\n",
       "        vertical-align: middle;\n",
       "    }\n",
       "\n",
       "    .dataframe tbody tr th {\n",
       "        vertical-align: top;\n",
       "    }\n",
       "\n",
       "    .dataframe thead th {\n",
       "        text-align: right;\n",
       "    }\n",
       "</style>\n",
       "<table border=\"1\" class=\"dataframe\">\n",
       "  <thead>\n",
       "    <tr style=\"text-align: right;\">\n",
       "      <th></th>\n",
       "      <th>.</th>\n",
       "      <th>china</th>\n",
       "      <th>i</th>\n",
       "      <th>in</th>\n",
       "      <th>is</th>\n",
       "      <th>to</th>\n",
       "    </tr>\n",
       "  </thead>\n",
       "  <tbody>\n",
       "    <tr>\n",
       "      <th>0</th>\n",
       "      <td>1</td>\n",
       "      <td>1</td>\n",
       "      <td>1</td>\n",
       "      <td>0</td>\n",
       "      <td>0</td>\n",
       "      <td>2</td>\n",
       "    </tr>\n",
       "    <tr>\n",
       "      <th>1</th>\n",
       "      <td>1</td>\n",
       "      <td>1</td>\n",
       "      <td>0</td>\n",
       "      <td>1</td>\n",
       "      <td>1</td>\n",
       "      <td>0</td>\n",
       "    </tr>\n",
       "    <tr>\n",
       "      <th>2</th>\n",
       "      <td>1</td>\n",
       "      <td>0</td>\n",
       "      <td>1</td>\n",
       "      <td>0</td>\n",
       "      <td>0</td>\n",
       "      <td>0</td>\n",
       "    </tr>\n",
       "    <tr>\n",
       "      <th>3</th>\n",
       "      <td>1</td>\n",
       "      <td>0</td>\n",
       "      <td>0</td>\n",
       "      <td>1</td>\n",
       "      <td>1</td>\n",
       "      <td>1</td>\n",
       "    </tr>\n",
       "  </tbody>\n",
       "</table>\n",
       "</div>"
      ],
      "text/plain": [
       "   .  china  i  in  is  to\n",
       "0  1      1  1   0   0   2\n",
       "1  1      1  0   1   1   0\n",
       "2  1      0  1   0   0   0\n",
       "3  1      0  0   1   1   1"
      ]
     },
     "execution_count": 36,
     "metadata": {},
     "output_type": "execute_result"
    }
   ],
   "source": [
    "bag_of_words = stemmer_vect.fit_transform(corpus_en)\n",
    "pd.DataFrame(bag_of_words.toarray(), columns=stemmer_vect.get_feature_names_out())"
   ]
  },
  {
   "cell_type": "markdown",
   "metadata": {},
   "source": [
    "#### 词形还原（Lemmatization）"
   ]
  },
  {
   "cell_type": "markdown",
   "metadata": {},
   "source": [
    "**什么是词形还原？**\n",
    "+ 词形还原与词干提取类似，但比词干提取更加有效，因为它把词语转换为它的词根，而不仅仅是去掉后缀。它利用了整个词表，进行形态学分析以得到词根。因此，比起词干提取，我们更倾向于词形还原，不过在NLTK中，词干提取的速度比较快。\n",
    "\n",
    "**NLTK如何实现词形还原？**"
   ]
  },
  {
   "cell_type": "code",
   "execution_count": 37,
   "metadata": {},
   "outputs": [
    {
     "data": {
      "text/plain": [
       "'country'"
      ]
     },
     "execution_count": 37,
     "metadata": {},
     "output_type": "execute_result"
    }
   ],
   "source": [
    "from nltk.stem import WordNetLemmatizer\n",
    "wnl = WordNetLemmatizer()\n",
    "\n",
    "wnl.lemmatize('countries')"
   ]
  },
  {
   "cell_type": "code",
   "execution_count": 38,
   "metadata": {},
   "outputs": [
    {
     "data": {
      "text/plain": [
       "'worked'"
      ]
     },
     "execution_count": 38,
     "metadata": {},
     "output_type": "execute_result"
    }
   ],
   "source": [
    "wnl.lemmatize('worked') # worked有很多词性"
   ]
  },
  {
   "cell_type": "code",
   "execution_count": 39,
   "metadata": {
    "scrolled": true
   },
   "outputs": [
    {
     "data": {
      "text/plain": [
       "'work'"
      ]
     },
     "execution_count": 39,
     "metadata": {},
     "output_type": "execute_result"
    }
   ],
   "source": [
    "wnl.lemmatize('worked', pos='v') # 需要指定词性"
   ]
  },
  {
   "cell_type": "markdown",
   "metadata": {},
   "source": [
    "##### 采用词性还原清理数据"
   ]
  },
  {
   "cell_type": "code",
   "execution_count": 40,
   "metadata": {},
   "outputs": [
    {
     "name": "stderr",
     "output_type": "stream",
     "text": [
      "[nltk_data] Downloading package averaged_perceptron_tagger_eng to\n",
      "[nltk_data]     E:\\nltk_data...\n",
      "[nltk_data]   Package averaged_perceptron_tagger_eng is already up-to-\n",
      "[nltk_data]       date!\n"
     ]
    },
    {
     "data": {
      "text/plain": [
       "True"
      ]
     },
     "execution_count": 40,
     "metadata": {},
     "output_type": "execute_result"
    }
   ],
   "source": [
    "nltk.download('averaged_perceptron_tagger_eng')"
   ]
  },
  {
   "cell_type": "code",
   "execution_count": 41,
   "metadata": {},
   "outputs": [],
   "source": [
    "from nltk import pos_tag\n",
    "from nltk.stem import WordNetLemmatizer\n",
    "\n",
    "def custom_tokenizer(document):\n",
    "    wnl = WordNetLemmatizer()\n",
    "    docs = pos_tag(word_tokenize(document))\n",
    "    return [wnl.lemmatize(token[0]) for token in docs]\n",
    "\n",
    "# 利用自定义分词器来定义一个计数向量器\n",
    "lemma_vect = CountVectorizer(tokenizer=custom_tokenizer, min_df=2)"
   ]
  },
  {
   "cell_type": "code",
   "execution_count": 42,
   "metadata": {},
   "outputs": [
    {
     "name": "stdout",
     "output_type": "stream",
     "text": [
      "bag_of_words: <4x6 sparse matrix of type '<class 'numpy.int64'>'\n",
      "\twith 14 stored elements in Compressed Sparse Row format>\n"
     ]
    },
    {
     "data": {
      "text/html": [
       "<div>\n",
       "<style scoped>\n",
       "    .dataframe tbody tr th:only-of-type {\n",
       "        vertical-align: middle;\n",
       "    }\n",
       "\n",
       "    .dataframe tbody tr th {\n",
       "        vertical-align: top;\n",
       "    }\n",
       "\n",
       "    .dataframe thead th {\n",
       "        text-align: right;\n",
       "    }\n",
       "</style>\n",
       "<table border=\"1\" class=\"dataframe\">\n",
       "  <thead>\n",
       "    <tr style=\"text-align: right;\">\n",
       "      <th></th>\n",
       "      <th>.</th>\n",
       "      <th>china</th>\n",
       "      <th>i</th>\n",
       "      <th>in</th>\n",
       "      <th>is</th>\n",
       "      <th>to</th>\n",
       "    </tr>\n",
       "  </thead>\n",
       "  <tbody>\n",
       "    <tr>\n",
       "      <th>0</th>\n",
       "      <td>1</td>\n",
       "      <td>1</td>\n",
       "      <td>1</td>\n",
       "      <td>0</td>\n",
       "      <td>0</td>\n",
       "      <td>2</td>\n",
       "    </tr>\n",
       "    <tr>\n",
       "      <th>1</th>\n",
       "      <td>1</td>\n",
       "      <td>1</td>\n",
       "      <td>0</td>\n",
       "      <td>1</td>\n",
       "      <td>1</td>\n",
       "      <td>0</td>\n",
       "    </tr>\n",
       "    <tr>\n",
       "      <th>2</th>\n",
       "      <td>1</td>\n",
       "      <td>0</td>\n",
       "      <td>1</td>\n",
       "      <td>0</td>\n",
       "      <td>0</td>\n",
       "      <td>0</td>\n",
       "    </tr>\n",
       "    <tr>\n",
       "      <th>3</th>\n",
       "      <td>1</td>\n",
       "      <td>0</td>\n",
       "      <td>0</td>\n",
       "      <td>1</td>\n",
       "      <td>1</td>\n",
       "      <td>1</td>\n",
       "    </tr>\n",
       "  </tbody>\n",
       "</table>\n",
       "</div>"
      ],
      "text/plain": [
       "   .  china  i  in  is  to\n",
       "0  1      1  1   0   0   2\n",
       "1  1      1  0   1   1   0\n",
       "2  1      0  1   0   0   0\n",
       "3  1      0  0   1   1   1"
      ]
     },
     "execution_count": 42,
     "metadata": {},
     "output_type": "execute_result"
    }
   ],
   "source": [
    "bag_of_words = lemma_vect.fit_transform(corpus_en)\n",
    "print(\"bag_of_words: {}\".format(repr(bag_of_words)))\n",
    "pd.DataFrame(bag_of_words.toarray(), columns=lemma_vect.get_feature_names_out())"
   ]
  },
  {
   "cell_type": "markdown",
   "metadata": {},
   "source": [
    "### 文本选择"
   ]
  },
  {
   "cell_type": "markdown",
   "metadata": {},
   "source": [
    "#### 停用词（Stopwords）"
   ]
  },
  {
   "cell_type": "markdown",
   "metadata": {},
   "source": [
    "**什么是停用词？**\n",
    "+ 在自然语言处理的很多任务中，我们处理的主体“文本”中有一些功能词经常出现，然而对于最后的任务目标并没有帮助，甚至会对统计方法带来一些干扰，我们把这类词叫做停用词，通常我们会用一个停用词表把它们过滤出来。比如英语当中的定冠词/不定冠词(a,an,the等)。\n",
    "\n",
    "**NLTK如何去除停用词？**"
   ]
  },
  {
   "cell_type": "code",
   "execution_count": 43,
   "metadata": {},
   "outputs": [
    {
     "name": "stderr",
     "output_type": "stream",
     "text": [
      "[nltk_data] Downloading package stopwords to E:\\nltk_data...\n",
      "[nltk_data]   Package stopwords is already up-to-date!\n"
     ]
    },
    {
     "data": {
      "text/plain": [
       "True"
      ]
     },
     "execution_count": 43,
     "metadata": {},
     "output_type": "execute_result"
    }
   ],
   "source": [
    "nltk.download('stopwords')"
   ]
  },
  {
   "cell_type": "code",
   "execution_count": 44,
   "metadata": {},
   "outputs": [
    {
     "name": "stdout",
     "output_type": "stream",
     "text": [
      "Number of stop words: 318\n",
      "Every 10th stopword:\n",
      "['again', 'others', 'the', 'fifteen', 'wherever', 'not', 'done', 'someone', 'three', 'together', 'beside', 'yourselves', 'part', 'being', 'detail', 'we', 'to', 'already', 'four', 'mostly', 'above', 'seemed', 'from', 'whereupon', 'been', 'onto', 'nine', 'back', 'across', 'what', 'yours', 'every']\n"
     ]
    }
   ],
   "source": [
    "from sklearn.feature_extraction.text import ENGLISH_STOP_WORDS\n",
    "print(\"Number of stop words: {}\".format(len(ENGLISH_STOP_WORDS)))\n",
    "print(\"Every 10th stopword:\\n{}\".format(list(ENGLISH_STOP_WORDS)[::10]))"
   ]
  },
  {
   "cell_type": "code",
   "execution_count": 45,
   "metadata": {},
   "outputs": [
    {
     "name": "stdout",
     "output_type": "stream",
     "text": [
      "Number of stop words: 198\n",
      "Every 10th stopword:\n",
      "['a', 'and', 'before', 'd', \"don't\", \"hadn't\", \"he'll\", 'i', 'it', 'ma', 'needn', 'once', 're', 'shouldn', 'the', \"they'll\", 'up', 'were', 'whom', \"you'd\"]\n"
     ]
    }
   ],
   "source": [
    "from nltk.corpus import stopwords\n",
    "\n",
    "# 获取停用词表\n",
    "stopword = stopwords.words('english')\n",
    "print(\"Number of stop words: {}\".format(len(stopword)))\n",
    "print(\"Every 10th stopword:\\n{}\".format(list(stopword)[::10]))"
   ]
  },
  {
   "cell_type": "code",
   "execution_count": 46,
   "metadata": {},
   "outputs": [],
   "source": [
    "# 指定stop_words=\"english\"将使用内置列表。\n",
    "# 也可以扩展这个列表并传入我们自己的列表。\n",
    "from sklearn.feature_extraction.text import CountVectorizer\n",
    "vect = CountVectorizer(stop_words=\"english\")\n",
    "bag_of_words = vect.fit_transform(corpus_en)"
   ]
  },
  {
   "cell_type": "code",
   "execution_count": 47,
   "metadata": {},
   "outputs": [
    {
     "data": {
      "text/html": [
       "<div>\n",
       "<style scoped>\n",
       "    .dataframe tbody tr th:only-of-type {\n",
       "        vertical-align: middle;\n",
       "    }\n",
       "\n",
       "    .dataframe tbody tr th {\n",
       "        vertical-align: top;\n",
       "    }\n",
       "\n",
       "    .dataframe thead th {\n",
       "        text-align: right;\n",
       "    }\n",
       "</style>\n",
       "<table border=\"1\" class=\"dataframe\">\n",
       "  <thead>\n",
       "    <tr style=\"text-align: right;\">\n",
       "      <th></th>\n",
       "      <th>apple</th>\n",
       "      <th>car</th>\n",
       "      <th>china</th>\n",
       "      <th>come</th>\n",
       "      <th>love</th>\n",
       "      <th>papers</th>\n",
       "      <th>polupar</th>\n",
       "      <th>science</th>\n",
       "      <th>tea</th>\n",
       "      <th>travel</th>\n",
       "      <th>work</th>\n",
       "      <th>write</th>\n",
       "    </tr>\n",
       "  </thead>\n",
       "  <tbody>\n",
       "    <tr>\n",
       "      <th>0</th>\n",
       "      <td>0</td>\n",
       "      <td>0</td>\n",
       "      <td>1</td>\n",
       "      <td>1</td>\n",
       "      <td>0</td>\n",
       "      <td>0</td>\n",
       "      <td>0</td>\n",
       "      <td>0</td>\n",
       "      <td>0</td>\n",
       "      <td>1</td>\n",
       "      <td>0</td>\n",
       "      <td>0</td>\n",
       "    </tr>\n",
       "    <tr>\n",
       "      <th>1</th>\n",
       "      <td>0</td>\n",
       "      <td>1</td>\n",
       "      <td>1</td>\n",
       "      <td>0</td>\n",
       "      <td>0</td>\n",
       "      <td>0</td>\n",
       "      <td>1</td>\n",
       "      <td>0</td>\n",
       "      <td>0</td>\n",
       "      <td>0</td>\n",
       "      <td>0</td>\n",
       "      <td>0</td>\n",
       "    </tr>\n",
       "    <tr>\n",
       "      <th>2</th>\n",
       "      <td>1</td>\n",
       "      <td>0</td>\n",
       "      <td>0</td>\n",
       "      <td>0</td>\n",
       "      <td>1</td>\n",
       "      <td>0</td>\n",
       "      <td>0</td>\n",
       "      <td>0</td>\n",
       "      <td>1</td>\n",
       "      <td>0</td>\n",
       "      <td>0</td>\n",
       "      <td>0</td>\n",
       "    </tr>\n",
       "    <tr>\n",
       "      <th>3</th>\n",
       "      <td>0</td>\n",
       "      <td>0</td>\n",
       "      <td>0</td>\n",
       "      <td>0</td>\n",
       "      <td>0</td>\n",
       "      <td>1</td>\n",
       "      <td>0</td>\n",
       "      <td>1</td>\n",
       "      <td>0</td>\n",
       "      <td>0</td>\n",
       "      <td>1</td>\n",
       "      <td>1</td>\n",
       "    </tr>\n",
       "  </tbody>\n",
       "</table>\n",
       "</div>"
      ],
      "text/plain": [
       "   apple  car  china  come  love  papers  polupar  science  tea  travel  work  \\\n",
       "0      0    0      1     1     0       0        0        0    0       1     0   \n",
       "1      0    1      1     0     0       0        1        0    0       0     0   \n",
       "2      1    0      0     0     1       0        0        0    1       0     0   \n",
       "3      0    0      0     0     0       1        0        1    0       0     1   \n",
       "\n",
       "   write  \n",
       "0      0  \n",
       "1      0  \n",
       "2      0  \n",
       "3      1  "
      ]
     },
     "execution_count": 47,
     "metadata": {},
     "output_type": "execute_result"
    }
   ],
   "source": [
    "pd.DataFrame(bag_of_words.toarray(), columns=vect.get_feature_names_out())"
   ]
  },
  {
   "cell_type": "markdown",
   "metadata": {},
   "source": [
    "**提示**\n",
    "+ 如果我们想要修改 NLTK 的停用词列表，可以去我们一开始提到的下载的资源中去修改。具体位置是在 nltk_data --> corpora --> stopwords 文件夹中，进入这个文件夹后，我们会发现很多种语言的停用词列表，然后按照自己的需要进行修改即可。"
   ]
  },
  {
   "cell_type": "markdown",
   "metadata": {},
   "source": [
    "#### 低频词和高频词"
   ]
  },
  {
   "cell_type": "code",
   "execution_count": 48,
   "metadata": {},
   "outputs": [
    {
     "name": "stdout",
     "output_type": "stream",
     "text": [
      "X_train with stop words:\n",
      "<4x4 sparse matrix of type '<class 'numpy.int64'>'\n",
      "\twith 8 stored elements in Compressed Sparse Row format>\n"
     ]
    }
   ],
   "source": [
    "vect = CountVectorizer(min_df=2, max_df=4)\n",
    "bag_of_words = vect.fit_transform(corpus_en)\n",
    "print(\"X_train with stop words:\\n{}\".format(repr(bag_of_words)))"
   ]
  },
  {
   "cell_type": "code",
   "execution_count": 49,
   "metadata": {},
   "outputs": [
    {
     "data": {
      "text/html": [
       "<div>\n",
       "<style scoped>\n",
       "    .dataframe tbody tr th:only-of-type {\n",
       "        vertical-align: middle;\n",
       "    }\n",
       "\n",
       "    .dataframe tbody tr th {\n",
       "        vertical-align: top;\n",
       "    }\n",
       "\n",
       "    .dataframe thead th {\n",
       "        text-align: right;\n",
       "    }\n",
       "</style>\n",
       "<table border=\"1\" class=\"dataframe\">\n",
       "  <thead>\n",
       "    <tr style=\"text-align: right;\">\n",
       "      <th></th>\n",
       "      <th>china</th>\n",
       "      <th>in</th>\n",
       "      <th>is</th>\n",
       "      <th>to</th>\n",
       "    </tr>\n",
       "  </thead>\n",
       "  <tbody>\n",
       "    <tr>\n",
       "      <th>0</th>\n",
       "      <td>1</td>\n",
       "      <td>0</td>\n",
       "      <td>0</td>\n",
       "      <td>2</td>\n",
       "    </tr>\n",
       "    <tr>\n",
       "      <th>1</th>\n",
       "      <td>1</td>\n",
       "      <td>1</td>\n",
       "      <td>1</td>\n",
       "      <td>0</td>\n",
       "    </tr>\n",
       "    <tr>\n",
       "      <th>2</th>\n",
       "      <td>0</td>\n",
       "      <td>0</td>\n",
       "      <td>0</td>\n",
       "      <td>0</td>\n",
       "    </tr>\n",
       "    <tr>\n",
       "      <th>3</th>\n",
       "      <td>0</td>\n",
       "      <td>1</td>\n",
       "      <td>1</td>\n",
       "      <td>1</td>\n",
       "    </tr>\n",
       "  </tbody>\n",
       "</table>\n",
       "</div>"
      ],
      "text/plain": [
       "   china  in  is  to\n",
       "0      1   0   0   2\n",
       "1      1   1   1   0\n",
       "2      0   0   0   0\n",
       "3      0   1   1   1"
      ]
     },
     "execution_count": 49,
     "metadata": {},
     "output_type": "execute_result"
    }
   ],
   "source": [
    "pd.DataFrame(bag_of_words.toarray(), columns=vect.get_feature_names_out())"
   ]
  },
  {
   "cell_type": "markdown",
   "metadata": {},
   "source": [
    "#### 词性标注（Part-of-speech Tagging）"
   ]
  },
  {
   "cell_type": "markdown",
   "metadata": {},
   "source": [
    "**什么是词性标注？**\n",
    "+ 词性（part-of-speech）是词汇基本的语法属性，通常也称为词性。\n",
    "+ 词性标注（part-of-speech tagging）,又称为词类标注或者简称标注，是指为分词结果中的每个单词标注一个正确的词性的程序，也即确定每个词是名词、动词、形容词或者其他词性的过程。\n",
    "\n",
    "**NLTK如何做词性标注？**"
   ]
  },
  {
   "cell_type": "code",
   "execution_count": 50,
   "metadata": {},
   "outputs": [
    {
     "data": {
      "text/plain": [
       "[('I', 'PRP'), ('love', 'VBP'), ('him', 'PRP'), ('.', '.')]"
      ]
     },
     "execution_count": 50,
     "metadata": {},
     "output_type": "execute_result"
    }
   ],
   "source": [
    "from nltk import pos_tag\n",
    "from nltk.tokenize import word_tokenize\n",
    "\n",
    "s = 'I love him.'\n",
    "pos_tag(word_tokenize(s))"
   ]
  },
  {
   "cell_type": "markdown",
   "metadata": {},
   "source": [
    "#### 利用词性标注选择文本"
   ]
  },
  {
   "cell_type": "code",
   "execution_count": 51,
   "metadata": {},
   "outputs": [],
   "source": [
    "pos_tag_list = ['PRP', 'VBP', 'JJ', 'RB\t']\n",
    "\n",
    "def custom_tokenizer(document):\n",
    "    docs = pos_tag(word_tokenize(document))\n",
    "    return [token[0] for token in docs if token[1] in pos_tag_list]\n",
    "\n",
    "# 利用自定义分词器来定义一个计数向量器\n",
    "pos_tag_vect = CountVectorizer(tokenizer=custom_tokenizer, min_df=1, token_pattern=None)"
   ]
  },
  {
   "cell_type": "code",
   "execution_count": 52,
   "metadata": {},
   "outputs": [
    {
     "data": {
      "text/html": [
       "<div>\n",
       "<style scoped>\n",
       "    .dataframe tbody tr th:only-of-type {\n",
       "        vertical-align: middle;\n",
       "    }\n",
       "\n",
       "    .dataframe tbody tr th {\n",
       "        vertical-align: top;\n",
       "    }\n",
       "\n",
       "    .dataframe thead th {\n",
       "        text-align: right;\n",
       "    }\n",
       "</style>\n",
       "<table border=\"1\" class=\"dataframe\">\n",
       "  <thead>\n",
       "    <tr style=\"text-align: right;\">\n",
       "      <th></th>\n",
       "      <th>come</th>\n",
       "      <th>i</th>\n",
       "      <th>love</th>\n",
       "    </tr>\n",
       "  </thead>\n",
       "  <tbody>\n",
       "    <tr>\n",
       "      <th>0</th>\n",
       "      <td>1</td>\n",
       "      <td>1</td>\n",
       "      <td>0</td>\n",
       "    </tr>\n",
       "    <tr>\n",
       "      <th>1</th>\n",
       "      <td>0</td>\n",
       "      <td>0</td>\n",
       "      <td>0</td>\n",
       "    </tr>\n",
       "    <tr>\n",
       "      <th>2</th>\n",
       "      <td>0</td>\n",
       "      <td>0</td>\n",
       "      <td>1</td>\n",
       "    </tr>\n",
       "    <tr>\n",
       "      <th>3</th>\n",
       "      <td>0</td>\n",
       "      <td>0</td>\n",
       "      <td>0</td>\n",
       "    </tr>\n",
       "  </tbody>\n",
       "</table>\n",
       "</div>"
      ],
      "text/plain": [
       "   come  i  love\n",
       "0     1  1     0\n",
       "1     0  0     0\n",
       "2     0  0     1\n",
       "3     0  0     0"
      ]
     },
     "execution_count": 52,
     "metadata": {},
     "output_type": "execute_result"
    }
   ],
   "source": [
    "bag_of_words = pos_tag_vect.fit_transform(corpus_en)\n",
    "pd.DataFrame(bag_of_words.toarray(), columns=pos_tag_vect.get_feature_names_out())"
   ]
  },
  {
   "cell_type": "markdown",
   "metadata": {},
   "source": [
    "|标注|含义|释义|例子|\n",
    "|:---:|:---:|:---:|:---:|\n",
    "|CC|Coordinating conjunction|连词|and, or,but, if, while,although|\n",
    "|CD|Cardinal number|数词|twenty-four, fourth, 1991,14:24|\n",
    "|DT|Determiner|限定词|the, a, some, most,every, no|\n",
    "|EX|Existential there|存在量词|there, there’s|\n",
    "|FW|Foreign word|外来词|dolce, ersatz, esprit, quo,maitre|\n",
    "|IN|Preposition or subordinating conjunction|介词连词|on, of,at, with,by,into, under|\n",
    "|JJ|Adjective|形容词|new,good, high, special, big, local|\n",
    "|JJR|Adjective, comparative|比较级词语|bleaker braver breezier briefer brighter brisker|\n",
    "|JJS|Adjective, superlative|最高级词语|calmest cheapest choicest classiest cleanest clearest|\n",
    "|LS|List item marker|标记|A A. B B. C C. D E F First G H I J K|\n",
    "|MD|Modal|情态动词|can cannot could couldn’t|\n",
    "|NN|Noun, singular or mass|名词|year,home, costs, time, education|\n",
    "|NNS|Noun, plural|名词复数|undergraduates scotches|\n",
    "|NNP|Proper noun, singular|专有名词|Alison,Africa,April,Washington|\n",
    "|NNPS|Proper noun, plural|专有名词复数|Americans Americas Amharas Amityvilles|\n",
    "|PDT|Predeterminer|前限定词|all both half many|\n",
    "|POS|Possessive ending|所有格标记|’ ‘s|\n",
    "|PRP|Personal pronoun|人称代词|hers herself him himself hisself|\n",
    "|PRP\\$|Possessive pronoun|所有格|her his mine my our ours|\n",
    "|RB|Adverb|副词|occasionally unabatingly maddeningly|\n",
    "|RBR|Adverb, comparative|副词比较级|further gloomier grander|\n",
    "|RBS|Adverb, superlative|副词最高级|best biggest bluntest earliest|\n",
    "|RP|Particle|虚词|aboard about across along apart|\n",
    "|SYM|Symbol|符号|% & ’ ” ”. ) )|\n",
    "|TO|to|词to|to|\n",
    "|UH|Interjection|感叹词|Goodbye Goody Gosh Wow|\n",
    "|VB|Verb, base form|动词|ask assemble assess|\n",
    "|VBD|Verb, past tense|动词过去式|dipped pleaded swiped|\n",
    "|VBG|Verb, gerund or present participle|动词现在分词|telegraphing stirring focusing|\n",
    "|VBN|Verb, past participle|动词过去分词|multihulled dilapidated aerosolized|\n",
    "|VBP|Verb, non-3rd person singular present|动词现在式非第三人称时态|predominate wrap resort sue|\n",
    "|VBZ|Verb, 3rd person singular present|动词现在式第三人称时态|bases reconstructs marks|\n",
    "|WDT|Wh-determiner|Wh限定词|who,which,when,what,where,how|\n",
    "|WP|Wh-pronoun|WH代词|that what whatever|\n",
    "|WP$|Possessive wh-pronoun|WH代词所有格|whose|\n",
    "|WRB|Wh-adverb|WH副词| |"
   ]
  },
  {
   "cell_type": "markdown",
   "metadata": {},
   "source": [
    "### TF-IDF数据缩放"
   ]
  },
  {
   "cell_type": "code",
   "execution_count": 53,
   "metadata": {},
   "outputs": [],
   "source": [
    "from sklearn.feature_extraction.text import TfidfVectorizer\n",
    "vect = TfidfVectorizer(use_idf=True, norm='l2', smooth_idf=True)\n",
    "bag_of_words = vect.fit_transform(corpus_en)"
   ]
  },
  {
   "cell_type": "code",
   "execution_count": 54,
   "metadata": {},
   "outputs": [
    {
     "data": {
      "text/html": [
       "<div>\n",
       "<style scoped>\n",
       "    .dataframe tbody tr th:only-of-type {\n",
       "        vertical-align: middle;\n",
       "    }\n",
       "\n",
       "    .dataframe tbody tr th {\n",
       "        vertical-align: top;\n",
       "    }\n",
       "\n",
       "    .dataframe thead th {\n",
       "        text-align: right;\n",
       "    }\n",
       "</style>\n",
       "<table border=\"1\" class=\"dataframe\">\n",
       "  <thead>\n",
       "    <tr style=\"text-align: right;\">\n",
       "      <th></th>\n",
       "      <th>and</th>\n",
       "      <th>apple</th>\n",
       "      <th>car</th>\n",
       "      <th>china</th>\n",
       "      <th>come</th>\n",
       "      <th>in</th>\n",
       "      <th>is</th>\n",
       "      <th>love</th>\n",
       "      <th>papers</th>\n",
       "      <th>polupar</th>\n",
       "      <th>science</th>\n",
       "      <th>some</th>\n",
       "      <th>tea</th>\n",
       "      <th>the</th>\n",
       "      <th>this</th>\n",
       "      <th>to</th>\n",
       "      <th>travel</th>\n",
       "      <th>work</th>\n",
       "      <th>write</th>\n",
       "    </tr>\n",
       "  </thead>\n",
       "  <tbody>\n",
       "    <tr>\n",
       "      <th>0</th>\n",
       "      <td>0.0</td>\n",
       "      <td>0.0</td>\n",
       "      <td>0.000000</td>\n",
       "      <td>0.348842</td>\n",
       "      <td>0.442462</td>\n",
       "      <td>0.000000</td>\n",
       "      <td>0.000000</td>\n",
       "      <td>0.0</td>\n",
       "      <td>0.00000</td>\n",
       "      <td>0.000000</td>\n",
       "      <td>0.00000</td>\n",
       "      <td>0.00000</td>\n",
       "      <td>0.0</td>\n",
       "      <td>0.00000</td>\n",
       "      <td>0.000000</td>\n",
       "      <td>0.697684</td>\n",
       "      <td>0.442462</td>\n",
       "      <td>0.00000</td>\n",
       "      <td>0.00000</td>\n",
       "    </tr>\n",
       "    <tr>\n",
       "      <th>1</th>\n",
       "      <td>0.0</td>\n",
       "      <td>0.0</td>\n",
       "      <td>0.453386</td>\n",
       "      <td>0.357455</td>\n",
       "      <td>0.000000</td>\n",
       "      <td>0.357455</td>\n",
       "      <td>0.357455</td>\n",
       "      <td>0.0</td>\n",
       "      <td>0.00000</td>\n",
       "      <td>0.453386</td>\n",
       "      <td>0.00000</td>\n",
       "      <td>0.00000</td>\n",
       "      <td>0.0</td>\n",
       "      <td>0.00000</td>\n",
       "      <td>0.453386</td>\n",
       "      <td>0.000000</td>\n",
       "      <td>0.000000</td>\n",
       "      <td>0.00000</td>\n",
       "      <td>0.00000</td>\n",
       "    </tr>\n",
       "    <tr>\n",
       "      <th>2</th>\n",
       "      <td>0.5</td>\n",
       "      <td>0.5</td>\n",
       "      <td>0.000000</td>\n",
       "      <td>0.000000</td>\n",
       "      <td>0.000000</td>\n",
       "      <td>0.000000</td>\n",
       "      <td>0.000000</td>\n",
       "      <td>0.5</td>\n",
       "      <td>0.00000</td>\n",
       "      <td>0.000000</td>\n",
       "      <td>0.00000</td>\n",
       "      <td>0.00000</td>\n",
       "      <td>0.5</td>\n",
       "      <td>0.00000</td>\n",
       "      <td>0.000000</td>\n",
       "      <td>0.000000</td>\n",
       "      <td>0.000000</td>\n",
       "      <td>0.00000</td>\n",
       "      <td>0.00000</td>\n",
       "    </tr>\n",
       "    <tr>\n",
       "      <th>3</th>\n",
       "      <td>0.0</td>\n",
       "      <td>0.0</td>\n",
       "      <td>0.000000</td>\n",
       "      <td>0.000000</td>\n",
       "      <td>0.000000</td>\n",
       "      <td>0.281132</td>\n",
       "      <td>0.281132</td>\n",
       "      <td>0.0</td>\n",
       "      <td>0.35658</td>\n",
       "      <td>0.000000</td>\n",
       "      <td>0.35658</td>\n",
       "      <td>0.35658</td>\n",
       "      <td>0.0</td>\n",
       "      <td>0.35658</td>\n",
       "      <td>0.000000</td>\n",
       "      <td>0.281132</td>\n",
       "      <td>0.000000</td>\n",
       "      <td>0.35658</td>\n",
       "      <td>0.35658</td>\n",
       "    </tr>\n",
       "  </tbody>\n",
       "</table>\n",
       "</div>"
      ],
      "text/plain": [
       "   and  apple       car     china      come        in        is  love  \\\n",
       "0  0.0    0.0  0.000000  0.348842  0.442462  0.000000  0.000000   0.0   \n",
       "1  0.0    0.0  0.453386  0.357455  0.000000  0.357455  0.357455   0.0   \n",
       "2  0.5    0.5  0.000000  0.000000  0.000000  0.000000  0.000000   0.5   \n",
       "3  0.0    0.0  0.000000  0.000000  0.000000  0.281132  0.281132   0.0   \n",
       "\n",
       "    papers   polupar  science     some  tea      the      this        to  \\\n",
       "0  0.00000  0.000000  0.00000  0.00000  0.0  0.00000  0.000000  0.697684   \n",
       "1  0.00000  0.453386  0.00000  0.00000  0.0  0.00000  0.453386  0.000000   \n",
       "2  0.00000  0.000000  0.00000  0.00000  0.5  0.00000  0.000000  0.000000   \n",
       "3  0.35658  0.000000  0.35658  0.35658  0.0  0.35658  0.000000  0.281132   \n",
       "\n",
       "     travel     work    write  \n",
       "0  0.442462  0.00000  0.00000  \n",
       "1  0.000000  0.00000  0.00000  \n",
       "2  0.000000  0.00000  0.00000  \n",
       "3  0.000000  0.35658  0.35658  "
      ]
     },
     "execution_count": 54,
     "metadata": {},
     "output_type": "execute_result"
    }
   ],
   "source": [
    "pd.DataFrame(bag_of_words.toarray(), columns=vect.get_feature_names_out())"
   ]
  },
  {
   "cell_type": "markdown",
   "metadata": {},
   "source": [
    "### 文本挖掘"
   ]
  },
  {
   "cell_type": "markdown",
   "metadata": {},
   "source": [
    "#### 关键词抽取"
   ]
  },
  {
   "cell_type": "code",
   "execution_count": 55,
   "metadata": {},
   "outputs": [
    {
     "name": "stdout",
     "output_type": "stream",
     "text": [
      "Requirement already satisfied: pytextrank in d:\\programdata\\anaconda3\\envs\\keras\\lib\\site-packages (3.3.0)\n",
      "Requirement already satisfied: GitPython>=3.1 in d:\\programdata\\anaconda3\\envs\\keras\\lib\\site-packages (from pytextrank) (3.1.44)\n",
      "Requirement already satisfied: graphviz>=0.13 in d:\\programdata\\anaconda3\\envs\\keras\\lib\\site-packages (from pytextrank) (0.20.3)\n",
      "Requirement already satisfied: icecream>=2.1 in d:\\programdata\\anaconda3\\envs\\keras\\lib\\site-packages (from pytextrank) (2.1.4)\n",
      "Requirement already satisfied: networkx>=2.6 in d:\\programdata\\anaconda3\\envs\\keras\\lib\\site-packages (from networkx[default]>=2.6->pytextrank) (3.4.2)\n",
      "Requirement already satisfied: pygments>=2.7.4 in d:\\programdata\\anaconda3\\envs\\keras\\lib\\site-packages (from pytextrank) (2.19.1)\n",
      "Requirement already satisfied: scipy>=1.7 in d:\\programdata\\anaconda3\\envs\\keras\\lib\\site-packages (from pytextrank) (1.13.1)\n",
      "Requirement already satisfied: spacy>=3.0 in d:\\programdata\\anaconda3\\envs\\keras\\lib\\site-packages (from pytextrank) (3.8.7)\n",
      "Requirement already satisfied: gitdb<5,>=4.0.1 in d:\\programdata\\anaconda3\\envs\\keras\\lib\\site-packages (from GitPython>=3.1->pytextrank) (4.0.12)\n",
      "Requirement already satisfied: smmap<6,>=3.0.1 in d:\\programdata\\anaconda3\\envs\\keras\\lib\\site-packages (from gitdb<5,>=4.0.1->GitPython>=3.1->pytextrank) (5.0.2)\n",
      "Requirement already satisfied: colorama>=0.3.9 in d:\\programdata\\anaconda3\\envs\\keras\\lib\\site-packages (from icecream>=2.1->pytextrank) (0.4.6)\n",
      "Requirement already satisfied: executing>=2.1.0 in d:\\programdata\\anaconda3\\envs\\keras\\lib\\site-packages (from icecream>=2.1->pytextrank) (2.2.0)\n",
      "Requirement already satisfied: asttokens>=2.0.1 in d:\\programdata\\anaconda3\\envs\\keras\\lib\\site-packages (from icecream>=2.1->pytextrank) (3.0.0)\n",
      "Requirement already satisfied: numpy>=1.24 in d:\\programdata\\anaconda3\\envs\\keras\\lib\\site-packages (from networkx[default]>=2.6->pytextrank) (2.2.6)\n",
      "Requirement already satisfied: matplotlib>=3.7 in d:\\programdata\\anaconda3\\envs\\keras\\lib\\site-packages (from networkx[default]>=2.6->pytextrank) (3.10.3)\n",
      "Requirement already satisfied: pandas>=2.0 in d:\\programdata\\anaconda3\\envs\\keras\\lib\\site-packages (from networkx[default]>=2.6->pytextrank) (2.2.3)\n",
      "Requirement already satisfied: contourpy>=1.0.1 in d:\\programdata\\anaconda3\\envs\\keras\\lib\\site-packages (from matplotlib>=3.7->networkx[default]>=2.6->pytextrank) (1.3.2)\n",
      "Requirement already satisfied: cycler>=0.10 in d:\\programdata\\anaconda3\\envs\\keras\\lib\\site-packages (from matplotlib>=3.7->networkx[default]>=2.6->pytextrank) (0.12.1)\n",
      "Requirement already satisfied: fonttools>=4.22.0 in d:\\programdata\\anaconda3\\envs\\keras\\lib\\site-packages (from matplotlib>=3.7->networkx[default]>=2.6->pytextrank) (4.58.0)\n",
      "Requirement already satisfied: kiwisolver>=1.3.1 in d:\\programdata\\anaconda3\\envs\\keras\\lib\\site-packages (from matplotlib>=3.7->networkx[default]>=2.6->pytextrank) (1.4.8)\n",
      "Requirement already satisfied: packaging>=20.0 in d:\\programdata\\anaconda3\\envs\\keras\\lib\\site-packages (from matplotlib>=3.7->networkx[default]>=2.6->pytextrank) (24.2)\n",
      "Requirement already satisfied: pillow>=8 in d:\\programdata\\anaconda3\\envs\\keras\\lib\\site-packages (from matplotlib>=3.7->networkx[default]>=2.6->pytextrank) (11.2.1)\n",
      "Requirement already satisfied: pyparsing>=2.3.1 in d:\\programdata\\anaconda3\\envs\\keras\\lib\\site-packages (from matplotlib>=3.7->networkx[default]>=2.6->pytextrank) (3.2.3)\n",
      "Requirement already satisfied: python-dateutil>=2.7 in d:\\programdata\\anaconda3\\envs\\keras\\lib\\site-packages (from matplotlib>=3.7->networkx[default]>=2.6->pytextrank) (2.9.0.post0)\n",
      "Requirement already satisfied: pytz>=2020.1 in d:\\programdata\\anaconda3\\envs\\keras\\lib\\site-packages (from pandas>=2.0->networkx[default]>=2.6->pytextrank) (2025.2)\n",
      "Requirement already satisfied: tzdata>=2022.7 in d:\\programdata\\anaconda3\\envs\\keras\\lib\\site-packages (from pandas>=2.0->networkx[default]>=2.6->pytextrank) (2025.2)\n",
      "Requirement already satisfied: six>=1.5 in d:\\programdata\\anaconda3\\envs\\keras\\lib\\site-packages (from python-dateutil>=2.7->matplotlib>=3.7->networkx[default]>=2.6->pytextrank) (1.17.0)\n",
      "Requirement already satisfied: spacy-legacy<3.1.0,>=3.0.11 in d:\\programdata\\anaconda3\\envs\\keras\\lib\\site-packages (from spacy>=3.0->pytextrank) (3.0.12)\n",
      "Requirement already satisfied: spacy-loggers<2.0.0,>=1.0.0 in d:\\programdata\\anaconda3\\envs\\keras\\lib\\site-packages (from spacy>=3.0->pytextrank) (1.0.5)\n",
      "Requirement already satisfied: murmurhash<1.1.0,>=0.28.0 in d:\\programdata\\anaconda3\\envs\\keras\\lib\\site-packages (from spacy>=3.0->pytextrank) (1.0.13)\n",
      "Requirement already satisfied: cymem<2.1.0,>=2.0.2 in d:\\programdata\\anaconda3\\envs\\keras\\lib\\site-packages (from spacy>=3.0->pytextrank) (2.0.11)\n",
      "Requirement already satisfied: preshed<3.1.0,>=3.0.2 in d:\\programdata\\anaconda3\\envs\\keras\\lib\\site-packages (from spacy>=3.0->pytextrank) (3.0.9)\n",
      "Requirement already satisfied: thinc<8.4.0,>=8.3.4 in d:\\programdata\\anaconda3\\envs\\keras\\lib\\site-packages (from spacy>=3.0->pytextrank) (8.3.6)\n",
      "Requirement already satisfied: wasabi<1.2.0,>=0.9.1 in d:\\programdata\\anaconda3\\envs\\keras\\lib\\site-packages (from spacy>=3.0->pytextrank) (1.1.3)\n",
      "Requirement already satisfied: srsly<3.0.0,>=2.4.3 in d:\\programdata\\anaconda3\\envs\\keras\\lib\\site-packages (from spacy>=3.0->pytextrank) (2.5.1)\n",
      "Requirement already satisfied: catalogue<2.1.0,>=2.0.6 in d:\\programdata\\anaconda3\\envs\\keras\\lib\\site-packages (from spacy>=3.0->pytextrank) (2.0.10)\n",
      "Requirement already satisfied: weasel<0.5.0,>=0.1.0 in d:\\programdata\\anaconda3\\envs\\keras\\lib\\site-packages (from spacy>=3.0->pytextrank) (0.4.1)\n",
      "Requirement already satisfied: typer<1.0.0,>=0.3.0 in d:\\programdata\\anaconda3\\envs\\keras\\lib\\site-packages (from spacy>=3.0->pytextrank) (0.15.4)\n",
      "Requirement already satisfied: tqdm<5.0.0,>=4.38.0 in d:\\programdata\\anaconda3\\envs\\keras\\lib\\site-packages (from spacy>=3.0->pytextrank) (4.67.1)\n",
      "Requirement already satisfied: requests<3.0.0,>=2.13.0 in d:\\programdata\\anaconda3\\envs\\keras\\lib\\site-packages (from spacy>=3.0->pytextrank) (2.32.3)\n",
      "Requirement already satisfied: pydantic!=1.8,!=1.8.1,<3.0.0,>=1.7.4 in d:\\programdata\\anaconda3\\envs\\keras\\lib\\site-packages (from spacy>=3.0->pytextrank) (2.11.5)\n",
      "Requirement already satisfied: jinja2 in d:\\programdata\\anaconda3\\envs\\keras\\lib\\site-packages (from spacy>=3.0->pytextrank) (3.1.6)\n",
      "Requirement already satisfied: setuptools in d:\\programdata\\anaconda3\\envs\\keras\\lib\\site-packages (from spacy>=3.0->pytextrank) (78.1.1)\n",
      "Requirement already satisfied: langcodes<4.0.0,>=3.2.0 in d:\\programdata\\anaconda3\\envs\\keras\\lib\\site-packages (from spacy>=3.0->pytextrank) (3.5.0)\n",
      "Requirement already satisfied: language-data>=1.2 in d:\\programdata\\anaconda3\\envs\\keras\\lib\\site-packages (from langcodes<4.0.0,>=3.2.0->spacy>=3.0->pytextrank) (1.3.0)\n",
      "Requirement already satisfied: annotated-types>=0.6.0 in d:\\programdata\\anaconda3\\envs\\keras\\lib\\site-packages (from pydantic!=1.8,!=1.8.1,<3.0.0,>=1.7.4->spacy>=3.0->pytextrank) (0.7.0)\n",
      "Requirement already satisfied: pydantic-core==2.33.2 in d:\\programdata\\anaconda3\\envs\\keras\\lib\\site-packages (from pydantic!=1.8,!=1.8.1,<3.0.0,>=1.7.4->spacy>=3.0->pytextrank) (2.33.2)\n",
      "Requirement already satisfied: typing-extensions>=4.12.2 in d:\\programdata\\anaconda3\\envs\\keras\\lib\\site-packages (from pydantic!=1.8,!=1.8.1,<3.0.0,>=1.7.4->spacy>=3.0->pytextrank) (4.13.2)\n",
      "Requirement already satisfied: typing-inspection>=0.4.0 in d:\\programdata\\anaconda3\\envs\\keras\\lib\\site-packages (from pydantic!=1.8,!=1.8.1,<3.0.0,>=1.7.4->spacy>=3.0->pytextrank) (0.4.1)\n",
      "Requirement already satisfied: charset-normalizer<4,>=2 in d:\\programdata\\anaconda3\\envs\\keras\\lib\\site-packages (from requests<3.0.0,>=2.13.0->spacy>=3.0->pytextrank) (3.4.2)\n",
      "Requirement already satisfied: idna<4,>=2.5 in d:\\programdata\\anaconda3\\envs\\keras\\lib\\site-packages (from requests<3.0.0,>=2.13.0->spacy>=3.0->pytextrank) (3.10)\n",
      "Requirement already satisfied: urllib3<3,>=1.21.1 in d:\\programdata\\anaconda3\\envs\\keras\\lib\\site-packages (from requests<3.0.0,>=2.13.0->spacy>=3.0->pytextrank) (2.4.0)\n",
      "Requirement already satisfied: certifi>=2017.4.17 in d:\\programdata\\anaconda3\\envs\\keras\\lib\\site-packages (from requests<3.0.0,>=2.13.0->spacy>=3.0->pytextrank) (2025.4.26)\n",
      "Requirement already satisfied: blis<1.4.0,>=1.3.0 in d:\\programdata\\anaconda3\\envs\\keras\\lib\\site-packages (from thinc<8.4.0,>=8.3.4->spacy>=3.0->pytextrank) (1.3.0)\n",
      "Requirement already satisfied: confection<1.0.0,>=0.0.1 in d:\\programdata\\anaconda3\\envs\\keras\\lib\\site-packages (from thinc<8.4.0,>=8.3.4->spacy>=3.0->pytextrank) (0.1.5)\n",
      "Requirement already satisfied: click<8.2,>=8.0.0 in d:\\programdata\\anaconda3\\envs\\keras\\lib\\site-packages (from typer<1.0.0,>=0.3.0->spacy>=3.0->pytextrank) (8.1.8)\n",
      "Requirement already satisfied: shellingham>=1.3.0 in d:\\programdata\\anaconda3\\envs\\keras\\lib\\site-packages (from typer<1.0.0,>=0.3.0->spacy>=3.0->pytextrank) (1.5.4)\n",
      "Requirement already satisfied: rich>=10.11.0 in d:\\programdata\\anaconda3\\envs\\keras\\lib\\site-packages (from typer<1.0.0,>=0.3.0->spacy>=3.0->pytextrank) (14.0.0)\n",
      "Requirement already satisfied: cloudpathlib<1.0.0,>=0.7.0 in d:\\programdata\\anaconda3\\envs\\keras\\lib\\site-packages (from weasel<0.5.0,>=0.1.0->spacy>=3.0->pytextrank) (0.21.1)\n",
      "Requirement already satisfied: smart-open<8.0.0,>=5.2.1 in d:\\programdata\\anaconda3\\envs\\keras\\lib\\site-packages (from weasel<0.5.0,>=0.1.0->spacy>=3.0->pytextrank) (7.1.0)\n",
      "Requirement already satisfied: wrapt in d:\\programdata\\anaconda3\\envs\\keras\\lib\\site-packages (from smart-open<8.0.0,>=5.2.1->weasel<0.5.0,>=0.1.0->spacy>=3.0->pytextrank) (1.17.2)\n",
      "Requirement already satisfied: marisa-trie>=1.1.0 in d:\\programdata\\anaconda3\\envs\\keras\\lib\\site-packages (from language-data>=1.2->langcodes<4.0.0,>=3.2.0->spacy>=3.0->pytextrank) (1.2.1)\n",
      "Requirement already satisfied: markdown-it-py>=2.2.0 in d:\\programdata\\anaconda3\\envs\\keras\\lib\\site-packages (from rich>=10.11.0->typer<1.0.0,>=0.3.0->spacy>=3.0->pytextrank) (3.0.0)\n",
      "Requirement already satisfied: mdurl~=0.1 in d:\\programdata\\anaconda3\\envs\\keras\\lib\\site-packages (from markdown-it-py>=2.2.0->rich>=10.11.0->typer<1.0.0,>=0.3.0->spacy>=3.0->pytextrank) (0.1.2)\n",
      "Requirement already satisfied: MarkupSafe>=2.0 in d:\\programdata\\anaconda3\\envs\\keras\\lib\\site-packages (from jinja2->spacy>=3.0->pytextrank) (3.0.2)\n",
      "Note: you may need to restart the kernel to use updated packages.\n"
     ]
    }
   ],
   "source": [
    "pip install pytextrank"
   ]
  },
  {
   "cell_type": "code",
   "execution_count": 56,
   "metadata": {},
   "outputs": [
    {
     "name": "stdout",
     "output_type": "stream",
     "text": [
      "Requirement already satisfied: spacy in d:\\programdata\\anaconda3\\envs\\keras\\lib\\site-packages (3.8.7)\n",
      "Requirement already satisfied: spacy-legacy<3.1.0,>=3.0.11 in d:\\programdata\\anaconda3\\envs\\keras\\lib\\site-packages (from spacy) (3.0.12)\n",
      "Requirement already satisfied: spacy-loggers<2.0.0,>=1.0.0 in d:\\programdata\\anaconda3\\envs\\keras\\lib\\site-packages (from spacy) (1.0.5)\n",
      "Requirement already satisfied: murmurhash<1.1.0,>=0.28.0 in d:\\programdata\\anaconda3\\envs\\keras\\lib\\site-packages (from spacy) (1.0.13)\n",
      "Requirement already satisfied: cymem<2.1.0,>=2.0.2 in d:\\programdata\\anaconda3\\envs\\keras\\lib\\site-packages (from spacy) (2.0.11)\n",
      "Requirement already satisfied: preshed<3.1.0,>=3.0.2 in d:\\programdata\\anaconda3\\envs\\keras\\lib\\site-packages (from spacy) (3.0.9)\n",
      "Requirement already satisfied: thinc<8.4.0,>=8.3.4 in d:\\programdata\\anaconda3\\envs\\keras\\lib\\site-packages (from spacy) (8.3.6)\n",
      "Requirement already satisfied: wasabi<1.2.0,>=0.9.1 in d:\\programdata\\anaconda3\\envs\\keras\\lib\\site-packages (from spacy) (1.1.3)\n",
      "Requirement already satisfied: srsly<3.0.0,>=2.4.3 in d:\\programdata\\anaconda3\\envs\\keras\\lib\\site-packages (from spacy) (2.5.1)\n",
      "Requirement already satisfied: catalogue<2.1.0,>=2.0.6 in d:\\programdata\\anaconda3\\envs\\keras\\lib\\site-packages (from spacy) (2.0.10)\n",
      "Requirement already satisfied: weasel<0.5.0,>=0.1.0 in d:\\programdata\\anaconda3\\envs\\keras\\lib\\site-packages (from spacy) (0.4.1)\n",
      "Requirement already satisfied: typer<1.0.0,>=0.3.0 in d:\\programdata\\anaconda3\\envs\\keras\\lib\\site-packages (from spacy) (0.15.4)\n",
      "Requirement already satisfied: tqdm<5.0.0,>=4.38.0 in d:\\programdata\\anaconda3\\envs\\keras\\lib\\site-packages (from spacy) (4.67.1)\n",
      "Requirement already satisfied: numpy>=1.19.0 in d:\\programdata\\anaconda3\\envs\\keras\\lib\\site-packages (from spacy) (2.2.6)\n",
      "Requirement already satisfied: requests<3.0.0,>=2.13.0 in d:\\programdata\\anaconda3\\envs\\keras\\lib\\site-packages (from spacy) (2.32.3)\n",
      "Requirement already satisfied: pydantic!=1.8,!=1.8.1,<3.0.0,>=1.7.4 in d:\\programdata\\anaconda3\\envs\\keras\\lib\\site-packages (from spacy) (2.11.5)\n",
      "Requirement already satisfied: jinja2 in d:\\programdata\\anaconda3\\envs\\keras\\lib\\site-packages (from spacy) (3.1.6)\n",
      "Requirement already satisfied: setuptools in d:\\programdata\\anaconda3\\envs\\keras\\lib\\site-packages (from spacy) (78.1.1)\n",
      "Requirement already satisfied: packaging>=20.0 in d:\\programdata\\anaconda3\\envs\\keras\\lib\\site-packages (from spacy) (24.2)\n",
      "Requirement already satisfied: langcodes<4.0.0,>=3.2.0 in d:\\programdata\\anaconda3\\envs\\keras\\lib\\site-packages (from spacy) (3.5.0)\n",
      "Requirement already satisfied: language-data>=1.2 in d:\\programdata\\anaconda3\\envs\\keras\\lib\\site-packages (from langcodes<4.0.0,>=3.2.0->spacy) (1.3.0)\n",
      "Requirement already satisfied: annotated-types>=0.6.0 in d:\\programdata\\anaconda3\\envs\\keras\\lib\\site-packages (from pydantic!=1.8,!=1.8.1,<3.0.0,>=1.7.4->spacy) (0.7.0)\n",
      "Requirement already satisfied: pydantic-core==2.33.2 in d:\\programdata\\anaconda3\\envs\\keras\\lib\\site-packages (from pydantic!=1.8,!=1.8.1,<3.0.0,>=1.7.4->spacy) (2.33.2)\n",
      "Requirement already satisfied: typing-extensions>=4.12.2 in d:\\programdata\\anaconda3\\envs\\keras\\lib\\site-packages (from pydantic!=1.8,!=1.8.1,<3.0.0,>=1.7.4->spacy) (4.13.2)\n",
      "Requirement already satisfied: typing-inspection>=0.4.0 in d:\\programdata\\anaconda3\\envs\\keras\\lib\\site-packages (from pydantic!=1.8,!=1.8.1,<3.0.0,>=1.7.4->spacy) (0.4.1)\n",
      "Requirement already satisfied: charset-normalizer<4,>=2 in d:\\programdata\\anaconda3\\envs\\keras\\lib\\site-packages (from requests<3.0.0,>=2.13.0->spacy) (3.4.2)\n",
      "Requirement already satisfied: idna<4,>=2.5 in d:\\programdata\\anaconda3\\envs\\keras\\lib\\site-packages (from requests<3.0.0,>=2.13.0->spacy) (3.10)\n",
      "Requirement already satisfied: urllib3<3,>=1.21.1 in d:\\programdata\\anaconda3\\envs\\keras\\lib\\site-packages (from requests<3.0.0,>=2.13.0->spacy) (2.4.0)\n",
      "Requirement already satisfied: certifi>=2017.4.17 in d:\\programdata\\anaconda3\\envs\\keras\\lib\\site-packages (from requests<3.0.0,>=2.13.0->spacy) (2025.4.26)\n",
      "Requirement already satisfied: blis<1.4.0,>=1.3.0 in d:\\programdata\\anaconda3\\envs\\keras\\lib\\site-packages (from thinc<8.4.0,>=8.3.4->spacy) (1.3.0)\n",
      "Requirement already satisfied: confection<1.0.0,>=0.0.1 in d:\\programdata\\anaconda3\\envs\\keras\\lib\\site-packages (from thinc<8.4.0,>=8.3.4->spacy) (0.1.5)\n",
      "Requirement already satisfied: colorama in d:\\programdata\\anaconda3\\envs\\keras\\lib\\site-packages (from tqdm<5.0.0,>=4.38.0->spacy) (0.4.6)\n",
      "Requirement already satisfied: click<8.2,>=8.0.0 in d:\\programdata\\anaconda3\\envs\\keras\\lib\\site-packages (from typer<1.0.0,>=0.3.0->spacy) (8.1.8)\n",
      "Requirement already satisfied: shellingham>=1.3.0 in d:\\programdata\\anaconda3\\envs\\keras\\lib\\site-packages (from typer<1.0.0,>=0.3.0->spacy) (1.5.4)\n",
      "Requirement already satisfied: rich>=10.11.0 in d:\\programdata\\anaconda3\\envs\\keras\\lib\\site-packages (from typer<1.0.0,>=0.3.0->spacy) (14.0.0)\n",
      "Requirement already satisfied: cloudpathlib<1.0.0,>=0.7.0 in d:\\programdata\\anaconda3\\envs\\keras\\lib\\site-packages (from weasel<0.5.0,>=0.1.0->spacy) (0.21.1)\n",
      "Requirement already satisfied: smart-open<8.0.0,>=5.2.1 in d:\\programdata\\anaconda3\\envs\\keras\\lib\\site-packages (from weasel<0.5.0,>=0.1.0->spacy) (7.1.0)\n",
      "Requirement already satisfied: wrapt in d:\\programdata\\anaconda3\\envs\\keras\\lib\\site-packages (from smart-open<8.0.0,>=5.2.1->weasel<0.5.0,>=0.1.0->spacy) (1.17.2)\n",
      "Requirement already satisfied: marisa-trie>=1.1.0 in d:\\programdata\\anaconda3\\envs\\keras\\lib\\site-packages (from language-data>=1.2->langcodes<4.0.0,>=3.2.0->spacy) (1.2.1)\n",
      "Requirement already satisfied: markdown-it-py>=2.2.0 in d:\\programdata\\anaconda3\\envs\\keras\\lib\\site-packages (from rich>=10.11.0->typer<1.0.0,>=0.3.0->spacy) (3.0.0)\n",
      "Requirement already satisfied: pygments<3.0.0,>=2.13.0 in d:\\programdata\\anaconda3\\envs\\keras\\lib\\site-packages (from rich>=10.11.0->typer<1.0.0,>=0.3.0->spacy) (2.19.1)\n",
      "Requirement already satisfied: mdurl~=0.1 in d:\\programdata\\anaconda3\\envs\\keras\\lib\\site-packages (from markdown-it-py>=2.2.0->rich>=10.11.0->typer<1.0.0,>=0.3.0->spacy) (0.1.2)\n",
      "Requirement already satisfied: MarkupSafe>=2.0 in d:\\programdata\\anaconda3\\envs\\keras\\lib\\site-packages (from jinja2->spacy) (3.0.2)\n",
      "Note: you may need to restart the kernel to use updated packages.\n"
     ]
    }
   ],
   "source": [
    "pip install spacy"
   ]
  },
  {
   "cell_type": "code",
   "execution_count": 57,
   "metadata": {},
   "outputs": [
    {
     "name": "stdout",
     "output_type": "stream",
     "text": [
      "Collecting en-core-web-sm==3.8.0\n",
      "  Downloading https://github.com/explosion/spacy-models/releases/download/en_core_web_sm-3.8.0/en_core_web_sm-3.8.0-py3-none-any.whl (12.8 MB)\n",
      "     ---------------------------------------- 0.0/12.8 MB ? eta -:--:--\n",
      "     ---------------------------------------- 0.0/12.8 MB ? eta -:--:--\n",
      "     ---------------------------------------- 0.0/12.8 MB ? eta -:--:--\n",
      "      --------------------------------------- 0.3/12.8 MB ? eta -:--:--\n",
      "     - -------------------------------------- 0.5/12.8 MB 1.4 MB/s eta 0:00:09\n",
      "     ---- ----------------------------------- 1.3/12.8 MB 2.2 MB/s eta 0:00:06\n",
      "     -------- ------------------------------- 2.6/12.8 MB 3.0 MB/s eta 0:00:04\n",
      "     ------------- -------------------------- 4.2/12.8 MB 3.8 MB/s eta 0:00:03\n",
      "     ---------------------- ----------------- 7.1/12.8 MB 5.5 MB/s eta 0:00:02\n",
      "     ------------------------- -------------- 8.1/12.8 MB 5.9 MB/s eta 0:00:01\n",
      "     --------------------------- ------------ 8.9/12.8 MB 5.0 MB/s eta 0:00:01\n",
      "     ------------------------------- -------- 10.2/12.8 MB 4.9 MB/s eta 0:00:01\n",
      "     ------------------------------------ --- 11.5/12.8 MB 4.9 MB/s eta 0:00:01\n",
      "     -------------------------------------- - 12.3/12.8 MB 4.8 MB/s eta 0:00:01\n",
      "     ---------------------------------------  12.6/12.8 MB 4.6 MB/s eta 0:00:01\n",
      "     ---------------------------------------  12.6/12.8 MB 4.6 MB/s eta 0:00:01\n",
      "     ---------------------------------------  12.6/12.8 MB 4.6 MB/s eta 0:00:01\n",
      "     ---------------------------------------  12.6/12.8 MB 4.6 MB/s eta 0:00:01\n",
      "     ---------------------------------------- 12.8/12.8 MB 3.2 MB/s eta 0:00:00\n",
      "\u001b[38;5;2m✔ Download and installation successful\u001b[0m\n",
      "You can now load the package via spacy.load('en_core_web_sm')\n"
     ]
    }
   ],
   "source": [
    "!python -m spacy download en_core_web_sm"
   ]
  },
  {
   "cell_type": "code",
   "execution_count": 58,
   "metadata": {},
   "outputs": [
    {
     "data": {
      "text/plain": [
       "'come to china travel china this is car polupar in love tea and apple to is in the work write some papers science'"
      ]
     },
     "execution_count": 58,
     "metadata": {},
     "output_type": "execute_result"
    }
   ],
   "source": [
    "clean_all_words_en"
   ]
  },
  {
   "cell_type": "code",
   "execution_count": 59,
   "metadata": {},
   "outputs": [
    {
     "name": "stdout",
     "output_type": "stream",
     "text": [
      "d:\\ProgramData\\anaconda3\\envs\\keras\\Lib\\site-packages\n",
      "china travel china 0.2398593525703005\n",
      "love tea 0.20177238811501289\n",
      "car polupar 0.20134659622880635\n",
      "china 0.17354166232199086\n",
      "apple 0.15303622755300156\n",
      "some papers science 0.08792582345568749\n",
      "the work 0.07152803382809417\n",
      "this 0.0\n"
     ]
    }
   ],
   "source": [
    "import spacy\n",
    "import pytextrank\n",
    "\n",
    "# 加载英文模型\n",
    "nlp = spacy.load(\"en_core_web_sm\")\n",
    " \n",
    "# 添加 PyTextRank 管道\n",
    "nlp.add_pipe(\"textrank\")\n",
    "\n",
    "# 处理文本\n",
    "doc = nlp(clean_all_words_en)\n",
    "\n",
    "# 输出最高排名的短语\n",
    "for phrase in doc._.phrases:\n",
    "    print(phrase.text, phrase.rank)"
   ]
  },
  {
   "cell_type": "code",
   "execution_count": 60,
   "metadata": {},
   "outputs": [
    {
     "name": "stderr",
     "output_type": "stream",
     "text": [
      "Building prefix dict from the default dictionary ...\n",
      "Loading model from cache C:\\Users\\VICTOL~1\\AppData\\Local\\Temp\\jieba.cache\n",
      "Loading model cost 5.455 seconds.\n",
      "Prefix dict has been built successfully.\n"
     ]
    },
    {
     "data": {
      "text/plain": [
       "[('china', 1.7078239289857142),\n",
       " ('come', 0.8539119644928571),\n",
       " ('travel', 0.8539119644928571),\n",
       " ('car', 0.8539119644928571),\n",
       " ('polupar', 0.8539119644928571),\n",
       " ('love', 0.8539119644928571),\n",
       " ('tea', 0.8539119644928571),\n",
       " ('apple', 0.8539119644928571),\n",
       " ('work', 0.8539119644928571),\n",
       " ('write', 0.8539119644928571),\n",
       " ('some', 0.8539119644928571),\n",
       " ('papers', 0.8539119644928571),\n",
       " ('science', 0.8539119644928571)]"
      ]
     },
     "execution_count": 60,
     "metadata": {},
     "output_type": "execute_result"
    }
   ],
   "source": [
    "import jieba.analyse as analyse\n",
    "\n",
    "'''\n",
    "jieba.analyse.extract_tags(sentence, topK=20, withWeight=False, allowPOS=(), withFlag=False)\n",
    "\n",
    "    :sentence: 为待提取的文本\n",
    "    :topK: 为返回几个关键词\n",
    "    :TF/IDF: 权重大的关键词，默认值为 20\n",
    "    :withWeight: 为是否一并返回关键词权重值，默认值为 False\n",
    "    :allowPOS: 仅包括指定词性的词，默认值为空，即不筛选\n",
    "    :withFlag: 这个是跟allowPOS结合使用的，只有当allowPOS不为空且该值为True的时候才会 打印词性\n",
    "'''\n",
    "\n",
    "# 抽取关键词\n",
    "analyse.extract_tags(clean_all_words_en, topK=30, withWeight=True, allowPOS=()) #注意clean_all_words"
   ]
  },
  {
   "cell_type": "markdown",
   "metadata": {},
   "source": [
    "#### 文本相似度"
   ]
  },
  {
   "cell_type": "code",
   "execution_count": 61,
   "metadata": {},
   "outputs": [],
   "source": [
    "from sklearn.feature_extraction.text import CountVectorizer\n",
    "vect = CountVectorizer()\n",
    "bag_of_words = vect.fit_transform(corpus_en)"
   ]
  },
  {
   "cell_type": "code",
   "execution_count": 62,
   "metadata": {},
   "outputs": [],
   "source": [
    "import numpy as np\n",
    "\n",
    "def cos_sim(vector_a, vector_b):\n",
    "    \"\"\"\n",
    "    计算两个向量之间的余弦相似度\n",
    "    :param vector_a: 向量 a \n",
    "    :param vector_b: 向量 b\n",
    "    :return: sim\n",
    "    \"\"\"\n",
    "    vector_a = np.asmatrix(vector_a)\n",
    "    vector_b = np.asmatrix(vector_b)\n",
    "    num = float(vector_a * vector_b.T)\n",
    "    denom = np.linalg.norm(vector_a) * np.linalg.norm(vector_b)\n",
    "    cos = num / denom\n",
    "    # 归一化\n",
    "    sim = 0.5 + 0.5 * cos\n",
    "    return sim"
   ]
  },
  {
   "cell_type": "code",
   "execution_count": 63,
   "metadata": {},
   "outputs": [
    {
     "data": {
      "text/html": [
       "<div>\n",
       "<style scoped>\n",
       "    .dataframe tbody tr th:only-of-type {\n",
       "        vertical-align: middle;\n",
       "    }\n",
       "\n",
       "    .dataframe tbody tr th {\n",
       "        vertical-align: top;\n",
       "    }\n",
       "\n",
       "    .dataframe thead th {\n",
       "        text-align: right;\n",
       "    }\n",
       "</style>\n",
       "<table border=\"1\" class=\"dataframe\">\n",
       "  <thead>\n",
       "    <tr style=\"text-align: right;\">\n",
       "      <th></th>\n",
       "      <th>and</th>\n",
       "      <th>apple</th>\n",
       "      <th>car</th>\n",
       "      <th>china</th>\n",
       "      <th>come</th>\n",
       "      <th>in</th>\n",
       "      <th>is</th>\n",
       "      <th>love</th>\n",
       "      <th>papers</th>\n",
       "      <th>polupar</th>\n",
       "      <th>science</th>\n",
       "      <th>some</th>\n",
       "      <th>tea</th>\n",
       "      <th>the</th>\n",
       "      <th>this</th>\n",
       "      <th>to</th>\n",
       "      <th>travel</th>\n",
       "      <th>work</th>\n",
       "      <th>write</th>\n",
       "    </tr>\n",
       "  </thead>\n",
       "  <tbody>\n",
       "    <tr>\n",
       "      <th>0</th>\n",
       "      <td>0</td>\n",
       "      <td>0</td>\n",
       "      <td>0</td>\n",
       "      <td>1</td>\n",
       "      <td>1</td>\n",
       "      <td>0</td>\n",
       "      <td>0</td>\n",
       "      <td>0</td>\n",
       "      <td>0</td>\n",
       "      <td>0</td>\n",
       "      <td>0</td>\n",
       "      <td>0</td>\n",
       "      <td>0</td>\n",
       "      <td>0</td>\n",
       "      <td>0</td>\n",
       "      <td>2</td>\n",
       "      <td>1</td>\n",
       "      <td>0</td>\n",
       "      <td>0</td>\n",
       "    </tr>\n",
       "    <tr>\n",
       "      <th>1</th>\n",
       "      <td>0</td>\n",
       "      <td>0</td>\n",
       "      <td>1</td>\n",
       "      <td>1</td>\n",
       "      <td>0</td>\n",
       "      <td>1</td>\n",
       "      <td>1</td>\n",
       "      <td>0</td>\n",
       "      <td>0</td>\n",
       "      <td>1</td>\n",
       "      <td>0</td>\n",
       "      <td>0</td>\n",
       "      <td>0</td>\n",
       "      <td>0</td>\n",
       "      <td>1</td>\n",
       "      <td>0</td>\n",
       "      <td>0</td>\n",
       "      <td>0</td>\n",
       "      <td>0</td>\n",
       "    </tr>\n",
       "    <tr>\n",
       "      <th>2</th>\n",
       "      <td>1</td>\n",
       "      <td>1</td>\n",
       "      <td>0</td>\n",
       "      <td>0</td>\n",
       "      <td>0</td>\n",
       "      <td>0</td>\n",
       "      <td>0</td>\n",
       "      <td>1</td>\n",
       "      <td>0</td>\n",
       "      <td>0</td>\n",
       "      <td>0</td>\n",
       "      <td>0</td>\n",
       "      <td>1</td>\n",
       "      <td>0</td>\n",
       "      <td>0</td>\n",
       "      <td>0</td>\n",
       "      <td>0</td>\n",
       "      <td>0</td>\n",
       "      <td>0</td>\n",
       "    </tr>\n",
       "    <tr>\n",
       "      <th>3</th>\n",
       "      <td>0</td>\n",
       "      <td>0</td>\n",
       "      <td>0</td>\n",
       "      <td>0</td>\n",
       "      <td>0</td>\n",
       "      <td>1</td>\n",
       "      <td>1</td>\n",
       "      <td>0</td>\n",
       "      <td>1</td>\n",
       "      <td>0</td>\n",
       "      <td>1</td>\n",
       "      <td>1</td>\n",
       "      <td>0</td>\n",
       "      <td>1</td>\n",
       "      <td>0</td>\n",
       "      <td>1</td>\n",
       "      <td>0</td>\n",
       "      <td>1</td>\n",
       "      <td>1</td>\n",
       "    </tr>\n",
       "  </tbody>\n",
       "</table>\n",
       "</div>"
      ],
      "text/plain": [
       "   and  apple  car  china  come  in  is  love  papers  polupar  science  some  \\\n",
       "0    0      0    0      1     1   0   0     0       0        0        0     0   \n",
       "1    0      0    1      1     0   1   1     0       0        1        0     0   \n",
       "2    1      1    0      0     0   0   0     1       0        0        0     0   \n",
       "3    0      0    0      0     0   1   1     0       1        0        1     1   \n",
       "\n",
       "   tea  the  this  to  travel  work  write  \n",
       "0    0    0     0   2       1     0      0  \n",
       "1    0    0     1   0       0     0      0  \n",
       "2    1    0     0   0       0     0      0  \n",
       "3    0    1     0   1       0     1      1  "
      ]
     },
     "execution_count": 63,
     "metadata": {},
     "output_type": "execute_result"
    }
   ],
   "source": [
    "pd.DataFrame(bag_of_words.toarray(), columns=vect.get_feature_names_out())"
   ]
  },
  {
   "cell_type": "code",
   "execution_count": 64,
   "metadata": {},
   "outputs": [],
   "source": [
    "# 基于词频特征向量\n",
    "vector1 = bag_of_words.toarray()[0]\n",
    "vector2 = bag_of_words.toarray()[1]"
   ]
  },
  {
   "cell_type": "code",
   "execution_count": 65,
   "metadata": {
    "scrolled": true
   },
   "outputs": [
    {
     "data": {
      "text/plain": [
       "np.float64(0.5771516749810459)"
      ]
     },
     "execution_count": 65,
     "metadata": {},
     "output_type": "execute_result"
    }
   ],
   "source": [
    "cos_sim(vector1, vector2)"
   ]
  },
  {
   "cell_type": "markdown",
   "metadata": {},
   "source": [
    "#### 情感分析"
   ]
  },
  {
   "cell_type": "code",
   "execution_count": 66,
   "metadata": {},
   "outputs": [
    {
     "name": "stdout",
     "output_type": "stream",
     "text": [
      "Requirement already satisfied: TextBlob in c:\\users\\victola pan\\appdata\\roaming\\python\\python312\\site-packages (0.19.0)\n",
      "Requirement already satisfied: nltk>=3.9 in c:\\users\\victola pan\\appdata\\roaming\\python\\python312\\site-packages (from TextBlob) (3.9.1)\n",
      "Requirement already satisfied: click in d:\\programdata\\anaconda3\\envs\\keras\\lib\\site-packages (from nltk>=3.9->TextBlob) (8.1.8)\n",
      "Requirement already satisfied: joblib in c:\\users\\victola pan\\appdata\\roaming\\python\\python312\\site-packages (from nltk>=3.9->TextBlob) (1.5.1)\n",
      "Requirement already satisfied: regex>=2021.8.3 in d:\\programdata\\anaconda3\\envs\\keras\\lib\\site-packages (from nltk>=3.9->TextBlob) (2024.11.6)\n",
      "Requirement already satisfied: tqdm in d:\\programdata\\anaconda3\\envs\\keras\\lib\\site-packages (from nltk>=3.9->TextBlob) (4.67.1)\n",
      "Requirement already satisfied: colorama in d:\\programdata\\anaconda3\\envs\\keras\\lib\\site-packages (from click->nltk>=3.9->TextBlob) (0.4.6)\n"
     ]
    }
   ],
   "source": [
    "!pip install TextBlob"
   ]
  },
  {
   "cell_type": "code",
   "execution_count": 67,
   "metadata": {},
   "outputs": [],
   "source": [
    "text = \"I am happy today. I feel sad today.\""
   ]
  },
  {
   "cell_type": "code",
   "execution_count": 68,
   "metadata": {},
   "outputs": [
    {
     "data": {
      "text/plain": [
       "TextBlob(\"I am happy today. I feel sad today.\")"
      ]
     },
     "execution_count": 68,
     "metadata": {},
     "output_type": "execute_result"
    }
   ],
   "source": [
    "from textblob import TextBlob\n",
    "blob = TextBlob(text)\n",
    "blob"
   ]
  },
  {
   "cell_type": "code",
   "execution_count": 69,
   "metadata": {},
   "outputs": [
    {
     "data": {
      "text/plain": [
       "[Sentence(\"I am happy today.\"), Sentence(\"I feel sad today.\")]"
      ]
     },
     "execution_count": 69,
     "metadata": {},
     "output_type": "execute_result"
    }
   ],
   "source": [
    "blob.sentences"
   ]
  },
  {
   "cell_type": "code",
   "execution_count": 70,
   "metadata": {},
   "outputs": [
    {
     "data": {
      "text/plain": [
       "Sentiment(polarity=0.8, subjectivity=1.0)"
      ]
     },
     "execution_count": 70,
     "metadata": {},
     "output_type": "execute_result"
    }
   ],
   "source": [
    "blob.sentences[0].sentiment"
   ]
  },
  {
   "cell_type": "code",
   "execution_count": 71,
   "metadata": {},
   "outputs": [
    {
     "data": {
      "text/plain": [
       "Sentiment(polarity=-0.5, subjectivity=1.0)"
      ]
     },
     "execution_count": 71,
     "metadata": {},
     "output_type": "execute_result"
    }
   ],
   "source": [
    "blob.sentences[1].sentiment"
   ]
  },
  {
   "cell_type": "markdown",
   "metadata": {},
   "source": [
    "#### 文本聚类"
   ]
  },
  {
   "cell_type": "markdown",
   "metadata": {},
   "source": [
    "##### KMeans"
   ]
  },
  {
   "cell_type": "code",
   "execution_count": 72,
   "metadata": {},
   "outputs": [],
   "source": [
    "from sklearn.feature_extraction.text import TfidfVectorizer\n",
    "tfidf_vect = TfidfVectorizer()\n",
    "bag_of_words = tfidf_vect.fit_transform(corpus_en)"
   ]
  },
  {
   "cell_type": "code",
   "execution_count": 73,
   "metadata": {},
   "outputs": [
    {
     "data": {
      "text/html": [
       "<div>\n",
       "<style scoped>\n",
       "    .dataframe tbody tr th:only-of-type {\n",
       "        vertical-align: middle;\n",
       "    }\n",
       "\n",
       "    .dataframe tbody tr th {\n",
       "        vertical-align: top;\n",
       "    }\n",
       "\n",
       "    .dataframe thead th {\n",
       "        text-align: right;\n",
       "    }\n",
       "</style>\n",
       "<table border=\"1\" class=\"dataframe\">\n",
       "  <thead>\n",
       "    <tr style=\"text-align: right;\">\n",
       "      <th></th>\n",
       "      <th>and</th>\n",
       "      <th>apple</th>\n",
       "      <th>car</th>\n",
       "      <th>china</th>\n",
       "      <th>come</th>\n",
       "      <th>in</th>\n",
       "      <th>is</th>\n",
       "      <th>love</th>\n",
       "      <th>papers</th>\n",
       "      <th>polupar</th>\n",
       "      <th>science</th>\n",
       "      <th>some</th>\n",
       "      <th>tea</th>\n",
       "      <th>the</th>\n",
       "      <th>this</th>\n",
       "      <th>to</th>\n",
       "      <th>travel</th>\n",
       "      <th>work</th>\n",
       "      <th>write</th>\n",
       "    </tr>\n",
       "  </thead>\n",
       "  <tbody>\n",
       "    <tr>\n",
       "      <th>0</th>\n",
       "      <td>0.0</td>\n",
       "      <td>0.0</td>\n",
       "      <td>0.000000</td>\n",
       "      <td>0.348842</td>\n",
       "      <td>0.442462</td>\n",
       "      <td>0.000000</td>\n",
       "      <td>0.000000</td>\n",
       "      <td>0.0</td>\n",
       "      <td>0.00000</td>\n",
       "      <td>0.000000</td>\n",
       "      <td>0.00000</td>\n",
       "      <td>0.00000</td>\n",
       "      <td>0.0</td>\n",
       "      <td>0.00000</td>\n",
       "      <td>0.000000</td>\n",
       "      <td>0.697684</td>\n",
       "      <td>0.442462</td>\n",
       "      <td>0.00000</td>\n",
       "      <td>0.00000</td>\n",
       "    </tr>\n",
       "    <tr>\n",
       "      <th>1</th>\n",
       "      <td>0.0</td>\n",
       "      <td>0.0</td>\n",
       "      <td>0.453386</td>\n",
       "      <td>0.357455</td>\n",
       "      <td>0.000000</td>\n",
       "      <td>0.357455</td>\n",
       "      <td>0.357455</td>\n",
       "      <td>0.0</td>\n",
       "      <td>0.00000</td>\n",
       "      <td>0.453386</td>\n",
       "      <td>0.00000</td>\n",
       "      <td>0.00000</td>\n",
       "      <td>0.0</td>\n",
       "      <td>0.00000</td>\n",
       "      <td>0.453386</td>\n",
       "      <td>0.000000</td>\n",
       "      <td>0.000000</td>\n",
       "      <td>0.00000</td>\n",
       "      <td>0.00000</td>\n",
       "    </tr>\n",
       "    <tr>\n",
       "      <th>2</th>\n",
       "      <td>0.5</td>\n",
       "      <td>0.5</td>\n",
       "      <td>0.000000</td>\n",
       "      <td>0.000000</td>\n",
       "      <td>0.000000</td>\n",
       "      <td>0.000000</td>\n",
       "      <td>0.000000</td>\n",
       "      <td>0.5</td>\n",
       "      <td>0.00000</td>\n",
       "      <td>0.000000</td>\n",
       "      <td>0.00000</td>\n",
       "      <td>0.00000</td>\n",
       "      <td>0.5</td>\n",
       "      <td>0.00000</td>\n",
       "      <td>0.000000</td>\n",
       "      <td>0.000000</td>\n",
       "      <td>0.000000</td>\n",
       "      <td>0.00000</td>\n",
       "      <td>0.00000</td>\n",
       "    </tr>\n",
       "    <tr>\n",
       "      <th>3</th>\n",
       "      <td>0.0</td>\n",
       "      <td>0.0</td>\n",
       "      <td>0.000000</td>\n",
       "      <td>0.000000</td>\n",
       "      <td>0.000000</td>\n",
       "      <td>0.281132</td>\n",
       "      <td>0.281132</td>\n",
       "      <td>0.0</td>\n",
       "      <td>0.35658</td>\n",
       "      <td>0.000000</td>\n",
       "      <td>0.35658</td>\n",
       "      <td>0.35658</td>\n",
       "      <td>0.0</td>\n",
       "      <td>0.35658</td>\n",
       "      <td>0.000000</td>\n",
       "      <td>0.281132</td>\n",
       "      <td>0.000000</td>\n",
       "      <td>0.35658</td>\n",
       "      <td>0.35658</td>\n",
       "    </tr>\n",
       "  </tbody>\n",
       "</table>\n",
       "</div>"
      ],
      "text/plain": [
       "   and  apple       car     china      come        in        is  love  \\\n",
       "0  0.0    0.0  0.000000  0.348842  0.442462  0.000000  0.000000   0.0   \n",
       "1  0.0    0.0  0.453386  0.357455  0.000000  0.357455  0.357455   0.0   \n",
       "2  0.5    0.5  0.000000  0.000000  0.000000  0.000000  0.000000   0.5   \n",
       "3  0.0    0.0  0.000000  0.000000  0.000000  0.281132  0.281132   0.0   \n",
       "\n",
       "    papers   polupar  science     some  tea      the      this        to  \\\n",
       "0  0.00000  0.000000  0.00000  0.00000  0.0  0.00000  0.000000  0.697684   \n",
       "1  0.00000  0.453386  0.00000  0.00000  0.0  0.00000  0.453386  0.000000   \n",
       "2  0.00000  0.000000  0.00000  0.00000  0.5  0.00000  0.000000  0.000000   \n",
       "3  0.35658  0.000000  0.35658  0.35658  0.0  0.35658  0.000000  0.281132   \n",
       "\n",
       "     travel     work    write  \n",
       "0  0.442462  0.00000  0.00000  \n",
       "1  0.000000  0.00000  0.00000  \n",
       "2  0.000000  0.00000  0.00000  \n",
       "3  0.000000  0.35658  0.35658  "
      ]
     },
     "execution_count": 73,
     "metadata": {},
     "output_type": "execute_result"
    }
   ],
   "source": [
    "import pandas as pd\n",
    "pd.DataFrame(bag_of_words.toarray(), columns=tfidf_vect.get_feature_names_out())"
   ]
  },
  {
   "cell_type": "code",
   "execution_count": 74,
   "metadata": {},
   "outputs": [],
   "source": [
    "from sklearn.cluster import KMeans\n",
    "\n",
    "X = bag_of_words.toarray().T\n",
    "kmeans = KMeans(n_clusters=3)\n",
    "kmeans.fit(X)\n",
    "cluster_labels = kmeans.labels_"
   ]
  },
  {
   "cell_type": "code",
   "execution_count": 75,
   "metadata": {},
   "outputs": [
    {
     "data": {
      "text/html": [
       "<div>\n",
       "<style scoped>\n",
       "    .dataframe tbody tr th:only-of-type {\n",
       "        vertical-align: middle;\n",
       "    }\n",
       "\n",
       "    .dataframe tbody tr th {\n",
       "        vertical-align: top;\n",
       "    }\n",
       "\n",
       "    .dataframe thead th {\n",
       "        text-align: right;\n",
       "    }\n",
       "</style>\n",
       "<table border=\"1\" class=\"dataframe\">\n",
       "  <thead>\n",
       "    <tr style=\"text-align: right;\">\n",
       "      <th></th>\n",
       "      <th>words</th>\n",
       "      <th>labels</th>\n",
       "    </tr>\n",
       "  </thead>\n",
       "  <tbody>\n",
       "    <tr>\n",
       "      <th>0</th>\n",
       "      <td>and</td>\n",
       "      <td>2</td>\n",
       "    </tr>\n",
       "    <tr>\n",
       "      <th>1</th>\n",
       "      <td>apple</td>\n",
       "      <td>2</td>\n",
       "    </tr>\n",
       "    <tr>\n",
       "      <th>2</th>\n",
       "      <td>car</td>\n",
       "      <td>1</td>\n",
       "    </tr>\n",
       "    <tr>\n",
       "      <th>3</th>\n",
       "      <td>china</td>\n",
       "      <td>0</td>\n",
       "    </tr>\n",
       "    <tr>\n",
       "      <th>4</th>\n",
       "      <td>come</td>\n",
       "      <td>0</td>\n",
       "    </tr>\n",
       "    <tr>\n",
       "      <th>5</th>\n",
       "      <td>in</td>\n",
       "      <td>1</td>\n",
       "    </tr>\n",
       "    <tr>\n",
       "      <th>6</th>\n",
       "      <td>is</td>\n",
       "      <td>1</td>\n",
       "    </tr>\n",
       "    <tr>\n",
       "      <th>7</th>\n",
       "      <td>love</td>\n",
       "      <td>2</td>\n",
       "    </tr>\n",
       "    <tr>\n",
       "      <th>8</th>\n",
       "      <td>papers</td>\n",
       "      <td>1</td>\n",
       "    </tr>\n",
       "    <tr>\n",
       "      <th>9</th>\n",
       "      <td>polupar</td>\n",
       "      <td>1</td>\n",
       "    </tr>\n",
       "    <tr>\n",
       "      <th>10</th>\n",
       "      <td>science</td>\n",
       "      <td>1</td>\n",
       "    </tr>\n",
       "    <tr>\n",
       "      <th>11</th>\n",
       "      <td>some</td>\n",
       "      <td>1</td>\n",
       "    </tr>\n",
       "    <tr>\n",
       "      <th>12</th>\n",
       "      <td>tea</td>\n",
       "      <td>2</td>\n",
       "    </tr>\n",
       "    <tr>\n",
       "      <th>13</th>\n",
       "      <td>the</td>\n",
       "      <td>1</td>\n",
       "    </tr>\n",
       "    <tr>\n",
       "      <th>14</th>\n",
       "      <td>this</td>\n",
       "      <td>1</td>\n",
       "    </tr>\n",
       "    <tr>\n",
       "      <th>15</th>\n",
       "      <td>to</td>\n",
       "      <td>0</td>\n",
       "    </tr>\n",
       "    <tr>\n",
       "      <th>16</th>\n",
       "      <td>travel</td>\n",
       "      <td>0</td>\n",
       "    </tr>\n",
       "    <tr>\n",
       "      <th>17</th>\n",
       "      <td>work</td>\n",
       "      <td>1</td>\n",
       "    </tr>\n",
       "    <tr>\n",
       "      <th>18</th>\n",
       "      <td>write</td>\n",
       "      <td>1</td>\n",
       "    </tr>\n",
       "  </tbody>\n",
       "</table>\n",
       "</div>"
      ],
      "text/plain": [
       "      words  labels\n",
       "0       and       2\n",
       "1     apple       2\n",
       "2       car       1\n",
       "3     china       0\n",
       "4      come       0\n",
       "5        in       1\n",
       "6        is       1\n",
       "7      love       2\n",
       "8    papers       1\n",
       "9   polupar       1\n",
       "10  science       1\n",
       "11     some       1\n",
       "12      tea       2\n",
       "13      the       1\n",
       "14     this       1\n",
       "15       to       0\n",
       "16   travel       0\n",
       "17     work       1\n",
       "18    write       1"
      ]
     },
     "execution_count": 75,
     "metadata": {},
     "output_type": "execute_result"
    }
   ],
   "source": [
    "words = pd.DataFrame() # to DataFrame\n",
    "words['words'] = tfidf_vect.get_feature_names_out()\n",
    "words['labels'] = cluster_labels\n",
    "words"
   ]
  },
  {
   "cell_type": "code",
   "execution_count": 76,
   "metadata": {},
   "outputs": [
    {
     "data": {
      "text/plain": [
       "labels\n",
       "0                            [china, come, to, travel]\n",
       "1    [car, in, is, papers, polupar, science, some, ...\n",
       "2                              [and, apple, love, tea]\n",
       "Name: words, dtype: object"
      ]
     },
     "execution_count": 76,
     "metadata": {},
     "output_type": "execute_result"
    }
   ],
   "source": [
    "words.groupby('labels')['words'].unique()"
   ]
  },
  {
   "cell_type": "markdown",
   "metadata": {},
   "source": [
    "##### LDA主题建模"
   ]
  },
  {
   "cell_type": "code",
   "execution_count": 77,
   "metadata": {},
   "outputs": [],
   "source": [
    "from sklearn.feature_extraction.text import CountVectorizer\n",
    "vect = CountVectorizer(stop_words='english')\n",
    "bag_of_words = vect.fit_transform(corpus_en)"
   ]
  },
  {
   "cell_type": "code",
   "execution_count": 78,
   "metadata": {},
   "outputs": [],
   "source": [
    "from sklearn.decomposition import LatentDirichletAllocation\n",
    "\n",
    "lda = LatentDirichletAllocation(n_components=3,\n",
    "                                learning_method=\"batch\",\n",
    "                                max_iter=25,\n",
    "                                random_state=0)\n",
    "document_topics = lda.fit_transform(bag_of_words)"
   ]
  },
  {
   "cell_type": "code",
   "execution_count": 79,
   "metadata": {},
   "outputs": [],
   "source": [
    "sorting = np.argsort(lda.components_, axis=1)[:, ::-1]\n",
    "feature_names = np.array(vect.get_feature_names_out())"
   ]
  },
  {
   "cell_type": "code",
   "execution_count": 80,
   "metadata": {},
   "outputs": [
    {
     "name": "stdout",
     "output_type": "stream",
     "text": [
      "topic 0       topic 1       topic 2       \n",
      "--------      --------      --------      \n",
      "write         china         tea           \n",
      "work          polupar       love          \n",
      "papers        car           apple         \n",
      "science       travel        travel        \n",
      "love          come          come          \n",
      "\n",
      "\n"
     ]
    }
   ],
   "source": [
    "import mglearn\n",
    "mglearn.tools.print_topics(topics=range(3),\n",
    "                           feature_names=feature_names,\n",
    "                           sorting=sorting,\n",
    "                           topics_per_chunk=5,\n",
    "                           n_words=5)"
   ]
  },
  {
   "cell_type": "markdown",
   "metadata": {},
   "source": [
    "## 中文文本"
   ]
  },
  {
   "cell_type": "code",
   "execution_count": 81,
   "metadata": {},
   "outputs": [],
   "source": [
    "corpus_cn = ['我来中国旅游。',\n",
    "          '这是一辆在中国很流行的汽车。',\n",
    "          '我喜欢茶和苹果。',\n",
    "          '工作是写一些科学论文。']"
   ]
  },
  {
   "cell_type": "markdown",
   "metadata": {},
   "source": [
    "### 词袋模型（Bag of Words, BOW）"
   ]
  },
  {
   "cell_type": "markdown",
   "metadata": {},
   "source": [
    "该模型基于词频，将文本转换成向量，而不考虑词序。"
   ]
  },
  {
   "cell_type": "markdown",
   "metadata": {},
   "source": [
    "#### 分词（Tokenization）"
   ]
  },
  {
   "cell_type": "markdown",
   "metadata": {},
   "source": [
    "**什么是Tokenization？**\n",
    "+ 文本是不能成段送入模型中进行分析的，我们通常会把文本切成有独立含义的字、词或者短语，这个过程叫做tokenization，这通常是大家解决自然语言处理问题的第一步。\n",
    "\n",
    "**中文如何做Tokenization？**"
   ]
  },
  {
   "cell_type": "code",
   "execution_count": 82,
   "metadata": {},
   "outputs": [],
   "source": [
    "import jieba #分词包"
   ]
  },
  {
   "cell_type": "code",
   "execution_count": 83,
   "metadata": {},
   "outputs": [
    {
     "data": {
      "text/plain": [
       "'我来到北京清华大学'"
      ]
     },
     "execution_count": 83,
     "metadata": {},
     "output_type": "execute_result"
    }
   ],
   "source": [
    "sentence = \"我来到北京清华大学\"\n",
    "sentence"
   ]
  },
  {
   "cell_type": "markdown",
   "metadata": {},
   "source": [
    "+ 全模式：把句子中所有的可以成词的词语都扫描出来, 速度非常快，但是不能解决歧义"
   ]
  },
  {
   "cell_type": "code",
   "execution_count": 84,
   "metadata": {},
   "outputs": [
    {
     "name": "stdout",
     "output_type": "stream",
     "text": [
      "全模式: 我/来到/北京/清华/清华大学/华大/大学\n"
     ]
    }
   ],
   "source": [
    "words = jieba.cut(sentence, cut_all=True)\n",
    "print(\"全模式:\", \"/\".join(words))"
   ]
  },
  {
   "cell_type": "markdown",
   "metadata": {},
   "source": [
    "+ 精确模式：试图将句子最精确地切开，适合文本分析"
   ]
  },
  {
   "cell_type": "code",
   "execution_count": 85,
   "metadata": {},
   "outputs": [
    {
     "name": "stdout",
     "output_type": "stream",
     "text": [
      "精确模式: 我/来到/北京/清华大学\n"
     ]
    }
   ],
   "source": [
    "words = jieba.cut(sentence)\n",
    "print(\"精确模式:\", \"/\".join(words))"
   ]
  },
  {
   "cell_type": "markdown",
   "metadata": {},
   "source": [
    "+ 搜索引擎模式：在精确模式的基础上，对长词再次切分，提高召回率，适合用于搜索引擎分词"
   ]
  },
  {
   "cell_type": "code",
   "execution_count": 86,
   "metadata": {},
   "outputs": [
    {
     "name": "stdout",
     "output_type": "stream",
     "text": [
      "搜索模式: 我/来到/北京/清华/华大/大学/清华大学\n"
     ]
    }
   ],
   "source": [
    "words = jieba.cut_for_search(sentence)\n",
    "print(\"搜索模式:\", \"/\".join(words))"
   ]
  },
  {
   "cell_type": "markdown",
   "metadata": {},
   "source": [
    "+ 列表模式"
   ]
  },
  {
   "cell_type": "code",
   "execution_count": 87,
   "metadata": {},
   "outputs": [
    {
     "data": {
      "text/plain": [
       "['我', '来到', '北京', '清华大学']"
      ]
     },
     "execution_count": 87,
     "metadata": {},
     "output_type": "execute_result"
    }
   ],
   "source": [
    "words = jieba.lcut(sentence, cut_all=False)\n",
    "words"
   ]
  },
  {
   "cell_type": "markdown",
   "metadata": {},
   "source": [
    "##### 添加词典"
   ]
  },
  {
   "cell_type": "code",
   "execution_count": 88,
   "metadata": {},
   "outputs": [
    {
     "name": "stdout",
     "output_type": "stream",
     "text": [
      "周杰伦/来到/北京/清华大学\n"
     ]
    }
   ],
   "source": [
    "sentence = \"周杰伦来到北京清华大学\"\n",
    "\n",
    "words = jieba.cut(sentence)\n",
    "print(\"/\".join(words))"
   ]
  },
  {
   "cell_type": "code",
   "execution_count": 89,
   "metadata": {},
   "outputs": [
    {
     "name": "stdout",
     "output_type": "stream",
     "text": [
      "华晨/宇/来到/北京/清华大学\n"
     ]
    }
   ],
   "source": [
    "sentence = \"华晨宇来到北京清华大学\"\n",
    "\n",
    "words = jieba.cut(sentence)\n",
    "print(\"/\".join(words))"
   ]
  },
  {
   "cell_type": "markdown",
   "metadata": {},
   "source": [
    "+ 添加词典"
   ]
  },
  {
   "cell_type": "code",
   "execution_count": 90,
   "metadata": {},
   "outputs": [],
   "source": [
    "jieba.add_word('华晨宇')"
   ]
  },
  {
   "cell_type": "code",
   "execution_count": 91,
   "metadata": {},
   "outputs": [
    {
     "name": "stdout",
     "output_type": "stream",
     "text": [
      "精确模式: 华晨宇/来到/北京/清华大学\n"
     ]
    }
   ],
   "source": [
    "words = jieba.cut(sentence)\n",
    "print(\"精确模式:\", \"/\".join(words))"
   ]
  },
  {
   "cell_type": "code",
   "execution_count": 92,
   "metadata": {},
   "outputs": [
    {
     "data": {
      "text/plain": [
       "['华晨宇', '来到', '北京', '清华大学']"
      ]
     },
     "execution_count": 92,
     "metadata": {},
     "output_type": "execute_result"
    }
   ],
   "source": [
    "tokenized_words = jieba.lcut(sentence)\n",
    "tokenized_words"
   ]
  },
  {
   "cell_type": "markdown",
   "metadata": {},
   "source": [
    "##### 单词转为特征向量"
   ]
  },
  {
   "cell_type": "markdown",
   "metadata": {},
   "source": [
    " vectorization(向量化) 是转化文本集合为数值向量的普遍方法。这种特殊思想，包括令牌化，统计频数和归一化，被称为 Bag of Words(词袋子) 或 “Bag of n-grams” 模型。文本被词出现频率描述，完全忽略词的相对位置信息。"
   ]
  },
  {
   "cell_type": "code",
   "execution_count": 93,
   "metadata": {},
   "outputs": [
    {
     "data": {
      "text/plain": [
       "['我来 中国 旅游 。', '这是 一辆 在 中国 很 流行 的 汽车 。', '我 喜欢 茶 和 苹果 。', '工作 是 写 一些 科学论文 。']"
      ]
     },
     "execution_count": 93,
     "metadata": {},
     "output_type": "execute_result"
    }
   ],
   "source": [
    "corpus_cn = [' '.join(jieba.lcut(s, cut_all = False)) for s in corpus_cn]\n",
    "corpus_cn"
   ]
  },
  {
   "cell_type": "code",
   "execution_count": 94,
   "metadata": {},
   "outputs": [],
   "source": [
    "from zhon.hanzi import punctuation\n",
    "\n",
    "def custom_tokenizer(document):\n",
    "    words = jieba.lcut(document)\n",
    "    docs = [word for word in words if word not in punctuation]\n",
    "    return docs\n",
    "\n",
    "# 利用自定义分词器来定义一个计数向量器\n",
    "custom_vect = CountVectorizer(tokenizer=custom_tokenizer, min_df=1)"
   ]
  },
  {
   "cell_type": "code",
   "execution_count": 95,
   "metadata": {},
   "outputs": [
    {
     "name": "stdout",
     "output_type": "stream",
     "text": [
      "bag_of_words: <4x21 sparse matrix of type '<class 'numpy.int64'>'\n",
      "\twith 25 stored elements in Compressed Sparse Row format>\n"
     ]
    }
   ],
   "source": [
    "bag_of_words = custom_vect.fit_transform(corpus_cn)\n",
    "print(\"bag_of_words: {}\".format(repr(bag_of_words)))"
   ]
  },
  {
   "cell_type": "code",
   "execution_count": 96,
   "metadata": {},
   "outputs": [
    {
     "data": {
      "text/html": [
       "<div>\n",
       "<style scoped>\n",
       "    .dataframe tbody tr th:only-of-type {\n",
       "        vertical-align: middle;\n",
       "    }\n",
       "\n",
       "    .dataframe tbody tr th {\n",
       "        vertical-align: top;\n",
       "    }\n",
       "\n",
       "    .dataframe thead th {\n",
       "        text-align: right;\n",
       "    }\n",
       "</style>\n",
       "<table border=\"1\" class=\"dataframe\">\n",
       "  <thead>\n",
       "    <tr style=\"text-align: right;\">\n",
       "      <th></th>\n",
       "      <th></th>\n",
       "      <th>一些</th>\n",
       "      <th>一辆</th>\n",
       "      <th>中国</th>\n",
       "      <th>写</th>\n",
       "      <th>和</th>\n",
       "      <th>喜欢</th>\n",
       "      <th>在</th>\n",
       "      <th>工作</th>\n",
       "      <th>很</th>\n",
       "      <th>...</th>\n",
       "      <th>我来</th>\n",
       "      <th>旅游</th>\n",
       "      <th>是</th>\n",
       "      <th>汽车</th>\n",
       "      <th>流行</th>\n",
       "      <th>的</th>\n",
       "      <th>科学论文</th>\n",
       "      <th>苹果</th>\n",
       "      <th>茶</th>\n",
       "      <th>这是</th>\n",
       "    </tr>\n",
       "  </thead>\n",
       "  <tbody>\n",
       "    <tr>\n",
       "      <th>0</th>\n",
       "      <td>3</td>\n",
       "      <td>0</td>\n",
       "      <td>0</td>\n",
       "      <td>1</td>\n",
       "      <td>0</td>\n",
       "      <td>0</td>\n",
       "      <td>0</td>\n",
       "      <td>0</td>\n",
       "      <td>0</td>\n",
       "      <td>0</td>\n",
       "      <td>...</td>\n",
       "      <td>1</td>\n",
       "      <td>1</td>\n",
       "      <td>0</td>\n",
       "      <td>0</td>\n",
       "      <td>0</td>\n",
       "      <td>0</td>\n",
       "      <td>0</td>\n",
       "      <td>0</td>\n",
       "      <td>0</td>\n",
       "      <td>0</td>\n",
       "    </tr>\n",
       "    <tr>\n",
       "      <th>1</th>\n",
       "      <td>8</td>\n",
       "      <td>0</td>\n",
       "      <td>1</td>\n",
       "      <td>1</td>\n",
       "      <td>0</td>\n",
       "      <td>0</td>\n",
       "      <td>0</td>\n",
       "      <td>1</td>\n",
       "      <td>0</td>\n",
       "      <td>1</td>\n",
       "      <td>...</td>\n",
       "      <td>0</td>\n",
       "      <td>0</td>\n",
       "      <td>0</td>\n",
       "      <td>1</td>\n",
       "      <td>1</td>\n",
       "      <td>1</td>\n",
       "      <td>0</td>\n",
       "      <td>0</td>\n",
       "      <td>0</td>\n",
       "      <td>1</td>\n",
       "    </tr>\n",
       "    <tr>\n",
       "      <th>2</th>\n",
       "      <td>5</td>\n",
       "      <td>0</td>\n",
       "      <td>0</td>\n",
       "      <td>0</td>\n",
       "      <td>0</td>\n",
       "      <td>1</td>\n",
       "      <td>1</td>\n",
       "      <td>0</td>\n",
       "      <td>0</td>\n",
       "      <td>0</td>\n",
       "      <td>...</td>\n",
       "      <td>0</td>\n",
       "      <td>0</td>\n",
       "      <td>0</td>\n",
       "      <td>0</td>\n",
       "      <td>0</td>\n",
       "      <td>0</td>\n",
       "      <td>0</td>\n",
       "      <td>1</td>\n",
       "      <td>1</td>\n",
       "      <td>0</td>\n",
       "    </tr>\n",
       "    <tr>\n",
       "      <th>3</th>\n",
       "      <td>5</td>\n",
       "      <td>1</td>\n",
       "      <td>0</td>\n",
       "      <td>0</td>\n",
       "      <td>1</td>\n",
       "      <td>0</td>\n",
       "      <td>0</td>\n",
       "      <td>0</td>\n",
       "      <td>1</td>\n",
       "      <td>0</td>\n",
       "      <td>...</td>\n",
       "      <td>0</td>\n",
       "      <td>0</td>\n",
       "      <td>1</td>\n",
       "      <td>0</td>\n",
       "      <td>0</td>\n",
       "      <td>0</td>\n",
       "      <td>1</td>\n",
       "      <td>0</td>\n",
       "      <td>0</td>\n",
       "      <td>0</td>\n",
       "    </tr>\n",
       "  </tbody>\n",
       "</table>\n",
       "<p>4 rows × 21 columns</p>\n",
       "</div>"
      ],
      "text/plain": [
       "      一些  一辆  中国  写  和  喜欢  在  工作  很  ...  我来  旅游  是  汽车  流行  的  科学论文  苹果  茶  \\\n",
       "0  3   0   0   1  0  0   0  0   0  0  ...   1   1  0   0   0  0     0   0  0   \n",
       "1  8   0   1   1  0  0   0  1   0  1  ...   0   0  0   1   1  1     0   0  0   \n",
       "2  5   0   0   0  0  1   1  0   0  0  ...   0   0  0   0   0  0     0   1  1   \n",
       "3  5   1   0   0  1  0   0  0   1  0  ...   0   0  1   0   0  0     1   0  0   \n",
       "\n",
       "   这是  \n",
       "0   0  \n",
       "1   1  \n",
       "2   0  \n",
       "3   0  \n",
       "\n",
       "[4 rows x 21 columns]"
      ]
     },
     "execution_count": 96,
     "metadata": {},
     "output_type": "execute_result"
    }
   ],
   "source": [
    "pd.DataFrame(bag_of_words.toarray(), columns=custom_vect.get_feature_names_out())"
   ]
  },
  {
   "cell_type": "markdown",
   "metadata": {},
   "source": [
    "##### ngram语言模型"
   ]
  },
  {
   "cell_type": "markdown",
   "metadata": {},
   "source": [
    "+ N-gram模型是一种语言模型（Language Model），语言模型是一个基于概率的判别模型，它的输入是一句话（单词的顺序序列），输出是这句话的概率，即这些单词的联合概率（joint probability）。\n",
    "+ N-gram本身也指一个由N个单词组成的集合，各单词具有先后顺序，且不要求单词之间互不相同。\n",
    "+ 常用的有 Bi-gram (N=2) 和 Tri-gram (N=3)，一般已经够用了。\n",
    "+ \n",
    "+ 例如,\"I love deep learning\"，可以分解的 Bi-gram 和 Tri-gram ：\n",
    "+ Bi-gram : {I, love}, {love, deep}, {love, deep}, {deep, learning}\n",
    "+ Tri-gram : {I, love, deep}, {love, deep, learning}\n",
    "+ \n",
    "+ sklearn库中的CountVectorizer 有一个参数ngram_range，如果赋值为(2,2)则为Bigram，当然使用语言模型会大大增加我们字典的大小。"
   ]
  },
  {
   "cell_type": "code",
   "execution_count": 97,
   "metadata": {},
   "outputs": [],
   "source": [
    "from sklearn.feature_extraction.text import CountVectorizer\n",
    "vect = CountVectorizer(ngram_range=(2, 2))\n",
    "bag_of_words = vect.fit_transform(corpus_cn)"
   ]
  },
  {
   "cell_type": "code",
   "execution_count": 98,
   "metadata": {},
   "outputs": [
    {
     "data": {
      "text/html": [
       "<div>\n",
       "<style scoped>\n",
       "    .dataframe tbody tr th:only-of-type {\n",
       "        vertical-align: middle;\n",
       "    }\n",
       "\n",
       "    .dataframe tbody tr th {\n",
       "        vertical-align: top;\n",
       "    }\n",
       "\n",
       "    .dataframe thead th {\n",
       "        text-align: right;\n",
       "    }\n",
       "</style>\n",
       "<table border=\"1\" class=\"dataframe\">\n",
       "  <thead>\n",
       "    <tr style=\"text-align: right;\">\n",
       "      <th></th>\n",
       "      <th>一些 科学论文</th>\n",
       "      <th>一辆 中国</th>\n",
       "      <th>中国 旅游</th>\n",
       "      <th>中国 流行</th>\n",
       "      <th>喜欢 苹果</th>\n",
       "      <th>工作 一些</th>\n",
       "      <th>我来 中国</th>\n",
       "      <th>流行 汽车</th>\n",
       "      <th>这是 一辆</th>\n",
       "    </tr>\n",
       "  </thead>\n",
       "  <tbody>\n",
       "    <tr>\n",
       "      <th>0</th>\n",
       "      <td>0</td>\n",
       "      <td>0</td>\n",
       "      <td>1</td>\n",
       "      <td>0</td>\n",
       "      <td>0</td>\n",
       "      <td>0</td>\n",
       "      <td>1</td>\n",
       "      <td>0</td>\n",
       "      <td>0</td>\n",
       "    </tr>\n",
       "    <tr>\n",
       "      <th>1</th>\n",
       "      <td>0</td>\n",
       "      <td>1</td>\n",
       "      <td>0</td>\n",
       "      <td>1</td>\n",
       "      <td>0</td>\n",
       "      <td>0</td>\n",
       "      <td>0</td>\n",
       "      <td>1</td>\n",
       "      <td>1</td>\n",
       "    </tr>\n",
       "    <tr>\n",
       "      <th>2</th>\n",
       "      <td>0</td>\n",
       "      <td>0</td>\n",
       "      <td>0</td>\n",
       "      <td>0</td>\n",
       "      <td>1</td>\n",
       "      <td>0</td>\n",
       "      <td>0</td>\n",
       "      <td>0</td>\n",
       "      <td>0</td>\n",
       "    </tr>\n",
       "    <tr>\n",
       "      <th>3</th>\n",
       "      <td>1</td>\n",
       "      <td>0</td>\n",
       "      <td>0</td>\n",
       "      <td>0</td>\n",
       "      <td>0</td>\n",
       "      <td>1</td>\n",
       "      <td>0</td>\n",
       "      <td>0</td>\n",
       "      <td>0</td>\n",
       "    </tr>\n",
       "  </tbody>\n",
       "</table>\n",
       "</div>"
      ],
      "text/plain": [
       "   一些 科学论文  一辆 中国  中国 旅游  中国 流行  喜欢 苹果  工作 一些  我来 中国  流行 汽车  这是 一辆\n",
       "0        0      0      1      0      0      0      1      0      0\n",
       "1        0      1      0      1      0      0      0      1      1\n",
       "2        0      0      0      0      1      0      0      0      0\n",
       "3        1      0      0      0      0      1      0      0      0"
      ]
     },
     "execution_count": 98,
     "metadata": {},
     "output_type": "execute_result"
    }
   ],
   "source": [
    "pd.DataFrame(bag_of_words.toarray(), columns=vect.get_feature_names_out())"
   ]
  },
  {
   "cell_type": "markdown",
   "metadata": {},
   "source": [
    "### 文本可视化：词云图"
   ]
  },
  {
   "cell_type": "code",
   "execution_count": 99,
   "metadata": {},
   "outputs": [
    {
     "data": {
      "text/plain": [
       "'我来 中国 中国 旅游 这是 一辆 一辆 中国 中国 流行 流行 汽车 喜欢 苹果 工作 一些 一些 科学论文'"
      ]
     },
     "execution_count": 99,
     "metadata": {},
     "output_type": "execute_result"
    }
   ],
   "source": [
    "clean_all_words_cn = ' '.join([' '.join(sentence) for sentence in vect.inverse_transform(bag_of_words)])\n",
    "clean_all_words_cn"
   ]
  },
  {
   "cell_type": "code",
   "execution_count": 100,
   "metadata": {},
   "outputs": [
    {
     "data": {
      "text/plain": [
       "(np.float64(-0.5), np.float64(999.5), np.float64(879.5), np.float64(-0.5))"
      ]
     },
     "execution_count": 100,
     "metadata": {},
     "output_type": "execute_result"
    },
    {
     "data": {
      "image/png": "[encoded data removed]",
      "text/plain": [
       "<Figure size 640x480 with 1 Axes>"
      ]
     },
     "metadata": {},
     "output_type": "display_data"
    }
   ],
   "source": [
    "# 生成词云\n",
    "import matplotlib.pyplot as plt\n",
    "from wordcloud import WordCloud, ImageColorGenerator  # 引入词云WordCloud\n",
    "\n",
    "# WordCloud()设定词云参数，.generate()将str文本生成词云\n",
    "wordcloud = WordCloud(\n",
    "    font_path=\"C:/Windows/Fonts/simfang.ttf\", \n",
    "    background_color=\"white\",\n",
    "    width=1000,\n",
    "    height=880,\n",
    ").generate(clean_all_words_cn)\n",
    "\n",
    "plt.imshow(wordcloud, interpolation='bilinear')\n",
    "plt.axis(\"off\")\n",
    "\n",
    "# wordcloud.to_file(\"cloud1.jpg\") # 保存图片"
   ]
  },
  {
   "cell_type": "code",
   "execution_count": 101,
   "metadata": {},
   "outputs": [
    {
     "data": {
      "text/plain": [
       "(np.float64(-0.5), np.float64(639.5), np.float64(1328.5), np.float64(-0.5))"
      ]
     },
     "execution_count": 101,
     "metadata": {},
     "output_type": "execute_result"
    },
    {
     "data": {
      "image/png": "[encoded data removed]",
      "text/plain": [
       "<Figure size 640x480 with 1 Axes>"
      ]
     },
     "metadata": {},
     "output_type": "display_data"
    }
   ],
   "source": [
    "# 设置图云背景\n",
    "from wordcloud import WordCloud, ImageColorGenerator  # 引入词云WordCloud\n",
    "from PIL import Image\n",
    "import numpy as np\n",
    "\n",
    "# 文件路径需要加引号\n",
    "path_img = './background/conan.jpg'\n",
    "\n",
    "# 创建图片，这是为了替换WordCloud默认的长方形输出形状\n",
    "background_image = np.array(Image.open(path_img))\n",
    "\n",
    "wordcloud = WordCloud(\n",
    "    font_path=\"C:/Windows/Fonts/simfang.ttf\", # 设定文字的类型为中文黑体\n",
    "    background_color=\"white\", # 设定图片背景为白色。默认为黑色。\n",
    "    width=100,\n",
    "    height=88,\n",
    "    scale=1, # 设定图片像素密度为15.默认之为1。\n",
    "    mask = background_image # 设定词云形状是background_image。\n",
    ").generate(clean_all_words_cn) # 注意是clean_all_words\n",
    "\n",
    "image_colors = ImageColorGenerator(background_image) # 提取图片的色彩分布\n",
    "plt.imshow(wordcloud.recolor(color_func = image_colors), interpolation=\"bilinear\") # 替换默认的字体颜色\n",
    "\n",
    "plt.axis(\"off\") # 关闭坐标轴显示\n",
    "\n",
    "# wordcloud.to_file(\"./output/cloud.jpg\") # 保存图片"
   ]
  },
  {
   "cell_type": "markdown",
   "metadata": {},
   "source": [
    "### 文本选择"
   ]
  },
  {
   "cell_type": "markdown",
   "metadata": {},
   "source": [
    "#### 停用词（Stopwords）"
   ]
  },
  {
   "cell_type": "markdown",
   "metadata": {},
   "source": [
    "**什么是停用词？**\n",
    "+ 在自然语言处理的很多任务中，我们处理的主体“文本”中有一些功能词经常出现，然而对于最后的任务目标并没有帮助，甚至会对统计方法带来一些干扰，我们把这类词叫做停用词，通常我们会用一个停用词表把它们过滤出来。比如英语当中的定冠词/不定冠词(a,an,the等)。\n",
    "\n",
    "**Jieba如何去除停用词？**"
   ]
  },
  {
   "cell_type": "code",
   "execution_count": 102,
   "metadata": {},
   "outputs": [
    {
     "data": {
      "text/plain": [
       "['———',\n",
       " '》），',\n",
       " '）÷（１－',\n",
       " '”，',\n",
       " '）、',\n",
       " '＝（',\n",
       " ':',\n",
       " '→',\n",
       " '℃ ',\n",
       " '&',\n",
       " '*',\n",
       " '一一',\n",
       " '~~~~',\n",
       " '’',\n",
       " '. ',\n",
       " '『',\n",
       " '.一',\n",
       " './',\n",
       " '-- ',\n",
       " '』',\n",
       " '＝″',\n",
       " '【',\n",
       " '［＊］',\n",
       " '｝＞',\n",
       " '［⑤］］',\n",
       " '［①Ｄ］',\n",
       " 'ｃ］',\n",
       " 'ｎｇ昉',\n",
       " '＊',\n",
       " '//',\n",
       " '［',\n",
       " '］',\n",
       " '［②ｅ］',\n",
       " '［②ｇ］',\n",
       " '＝｛',\n",
       " '}',\n",
       " '，也 ',\n",
       " '‘',\n",
       " 'Ａ',\n",
       " '［①⑥］',\n",
       " '［②Ｂ］ ',\n",
       " '［①ａ］',\n",
       " '［④ａ］',\n",
       " '［①③］',\n",
       " '［③ｈ］',\n",
       " '③］',\n",
       " '１． ',\n",
       " '－－ ',\n",
       " '［②ｂ］',\n",
       " '’‘ ',\n",
       " '××× ',\n",
       " '［①⑧］',\n",
       " '０：２ ',\n",
       " '＝［',\n",
       " '［⑤ｂ］',\n",
       " '［②ｃ］ ',\n",
       " '［④ｂ］',\n",
       " '［②③］',\n",
       " '［③ａ］',\n",
       " '［④ｃ］',\n",
       " '［①⑤］',\n",
       " '［①⑦］',\n",
       " '［①ｇ］',\n",
       " '∈［ ',\n",
       " '［①⑨］',\n",
       " '［①④］',\n",
       " '［①ｃ］',\n",
       " '［②ｆ］',\n",
       " '［②⑧］',\n",
       " '［②①］',\n",
       " '［①Ｃ］',\n",
       " '［③ｃ］',\n",
       " '［③ｇ］',\n",
       " '［②⑤］',\n",
       " '［②②］',\n",
       " '一.',\n",
       " '［①ｈ］',\n",
       " '.数',\n",
       " '［］',\n",
       " '［①Ｂ］',\n",
       " '数/',\n",
       " '［①ｉ］',\n",
       " '［③ｅ］',\n",
       " '［①①］',\n",
       " '［④ｄ］',\n",
       " '［④ｅ］',\n",
       " '［③ｂ］',\n",
       " '［⑤ａ］',\n",
       " '［①Ａ］',\n",
       " '［②⑧］',\n",
       " '［②⑦］',\n",
       " '［①ｄ］',\n",
       " '［②ｊ］',\n",
       " '〕〔',\n",
       " '］［',\n",
       " '://',\n",
       " '′∈',\n",
       " '［②④',\n",
       " '［⑤ｅ］',\n",
       " '１２％',\n",
       " 'ｂ］',\n",
       " '...',\n",
       " '...................',\n",
       " '…………………………………………………③',\n",
       " 'ＺＸＦＩＴＬ',\n",
       " '［③Ｆ］',\n",
       " '」',\n",
       " '［①ｏ］',\n",
       " '］∧′＝［ ',\n",
       " '∪φ∈',\n",
       " '′｜',\n",
       " '｛－',\n",
       " '②ｃ',\n",
       " '｝',\n",
       " '［③①］',\n",
       " 'Ｒ．Ｌ．',\n",
       " '［①Ｅ］',\n",
       " 'Ψ',\n",
       " '－［＊］－',\n",
       " '↑',\n",
       " '.日 ',\n",
       " '［②ｄ］',\n",
       " '［②',\n",
       " '［②⑦］',\n",
       " '［②②］',\n",
       " '［③ｅ］',\n",
       " '［①ｉ］',\n",
       " '［①Ｂ］',\n",
       " '［①ｈ］',\n",
       " '［①ｄ］',\n",
       " '［①ｇ］',\n",
       " '［①②］',\n",
       " '［②ａ］',\n",
       " 'ｆ］',\n",
       " '［⑩］',\n",
       " 'ａ］',\n",
       " '［①ｅ］',\n",
       " '［②ｈ］',\n",
       " '［②⑥］',\n",
       " '［③ｄ］',\n",
       " '［②⑩］',\n",
       " 'ｅ］',\n",
       " '〉',\n",
       " '】',\n",
       " '元／吨',\n",
       " '［②⑩］',\n",
       " '２．３％',\n",
       " '５：０  ',\n",
       " '［①］',\n",
       " '::',\n",
       " '［②］',\n",
       " '［③］',\n",
       " '［④］',\n",
       " '［⑤］',\n",
       " '［⑥］',\n",
       " '［⑦］',\n",
       " '［⑧］',\n",
       " '［⑨］ ',\n",
       " '……',\n",
       " '——',\n",
       " '?',\n",
       " '、',\n",
       " '。',\n",
       " '“',\n",
       " '”',\n",
       " '《',\n",
       " '》',\n",
       " '！',\n",
       " '，',\n",
       " '：',\n",
       " '；',\n",
       " '？',\n",
       " '．',\n",
       " ',',\n",
       " '．',\n",
       " \"'\",\n",
       " '? ',\n",
       " '·',\n",
       " '———',\n",
       " '──',\n",
       " '? ',\n",
       " '—',\n",
       " '<',\n",
       " '>',\n",
       " '（',\n",
       " '）',\n",
       " '〔',\n",
       " '〕',\n",
       " '[',\n",
       " ']',\n",
       " '(',\n",
       " ')',\n",
       " '-',\n",
       " '+',\n",
       " '～',\n",
       " '×',\n",
       " '／',\n",
       " '/',\n",
       " '①',\n",
       " '②',\n",
       " '③',\n",
       " '④',\n",
       " '⑤',\n",
       " '⑥',\n",
       " '⑦',\n",
       " '⑧',\n",
       " '⑨',\n",
       " '⑩',\n",
       " 'Ⅲ',\n",
       " 'В',\n",
       " '\"',\n",
       " ';',\n",
       " '#',\n",
       " '@',\n",
       " 'γ',\n",
       " 'μ',\n",
       " 'φ',\n",
       " 'φ．',\n",
       " '× ',\n",
       " 'Δ',\n",
       " '■',\n",
       " '▲',\n",
       " 'sub',\n",
       " 'exp ',\n",
       " 'sup',\n",
       " 'sub',\n",
       " 'Lex ',\n",
       " '＃',\n",
       " '％',\n",
       " '＆',\n",
       " '＇',\n",
       " '＋',\n",
       " '＋ξ',\n",
       " '＋＋',\n",
       " '－',\n",
       " '－β',\n",
       " '＜',\n",
       " '＜±',\n",
       " '＜Δ',\n",
       " '＜λ',\n",
       " '＜φ',\n",
       " '＜＜',\n",
       " '=',\n",
       " '＝',\n",
       " '＝☆',\n",
       " '＝－',\n",
       " '＞',\n",
       " '＞λ',\n",
       " '＿',\n",
       " '～±',\n",
       " '～＋',\n",
       " '［⑤ｆ］',\n",
       " '［⑤ｄ］',\n",
       " '［②ｉ］',\n",
       " '≈ ',\n",
       " '［②Ｇ］',\n",
       " '［①ｆ］',\n",
       " 'ＬＩ',\n",
       " '㈧ ',\n",
       " '［－',\n",
       " '......',\n",
       " '〉',\n",
       " '［③⑩］',\n",
       " '第二',\n",
       " '一番',\n",
       " '一直',\n",
       " '一个',\n",
       " '一些',\n",
       " '许多',\n",
       " '种',\n",
       " '有的是',\n",
       " '也就是说',\n",
       " '末##末',\n",
       " '啊',\n",
       " '阿',\n",
       " '哎',\n",
       " '哎呀',\n",
       " '哎哟',\n",
       " '唉',\n",
       " '俺',\n",
       " '俺们',\n",
       " '按',\n",
       " '按照',\n",
       " '吧',\n",
       " '吧哒',\n",
       " '把',\n",
       " '罢了',\n",
       " '被',\n",
       " '本',\n",
       " '本着',\n",
       " '比',\n",
       " '比方',\n",
       " '比如',\n",
       " '鄙人',\n",
       " '彼',\n",
       " '彼此',\n",
       " '边',\n",
       " '别',\n",
       " '别的',\n",
       " '别说',\n",
       " '并',\n",
       " '并且',\n",
       " '不比',\n",
       " '不成',\n",
       " '不单',\n",
       " '不但',\n",
       " '不独',\n",
       " '不管',\n",
       " '不光',\n",
       " '不过',\n",
       " '不仅',\n",
       " '不拘',\n",
       " '不论',\n",
       " '不怕',\n",
       " '不然',\n",
       " '不如',\n",
       " '不特',\n",
       " '不惟',\n",
       " '不问',\n",
       " '不只',\n",
       " '朝',\n",
       " '朝着',\n",
       " '趁',\n",
       " '趁着',\n",
       " '乘',\n",
       " '冲',\n",
       " '除',\n",
       " '除此之外',\n",
       " '除非',\n",
       " '除了',\n",
       " '此',\n",
       " '此间',\n",
       " '此外',\n",
       " '从',\n",
       " '从而',\n",
       " '打',\n",
       " '待',\n",
       " '但',\n",
       " '但是',\n",
       " '当',\n",
       " '当着',\n",
       " '到',\n",
       " '得',\n",
       " '的',\n",
       " '的话',\n",
       " '等',\n",
       " '等等',\n",
       " '地',\n",
       " '第',\n",
       " '叮咚',\n",
       " '对',\n",
       " '对于',\n",
       " '多',\n",
       " '多少',\n",
       " '而',\n",
       " '而况',\n",
       " '而且',\n",
       " '而是',\n",
       " '而外',\n",
       " '而言',\n",
       " '而已',\n",
       " '尔后',\n",
       " '反过来',\n",
       " '反过来说',\n",
       " '反之',\n",
       " '非但',\n",
       " '非徒',\n",
       " '否则',\n",
       " '嘎',\n",
       " '嘎登',\n",
       " '该',\n",
       " '赶',\n",
       " '个',\n",
       " '各',\n",
       " '各个',\n",
       " '各位',\n",
       " '各种',\n",
       " '各自',\n",
       " '给',\n",
       " '根据',\n",
       " '跟',\n",
       " '故',\n",
       " '故此',\n",
       " '固然',\n",
       " '关于',\n",
       " '管',\n",
       " '归',\n",
       " '果然',\n",
       " '果真',\n",
       " '过',\n",
       " '哈',\n",
       " '哈哈',\n",
       " '呵',\n",
       " '和',\n",
       " '何',\n",
       " '何处',\n",
       " '何况',\n",
       " '何时',\n",
       " '嘿',\n",
       " '哼',\n",
       " '哼唷',\n",
       " '呼哧',\n",
       " '乎',\n",
       " '哗',\n",
       " '还是',\n",
       " '还有',\n",
       " '换句话说',\n",
       " '换言之',\n",
       " '或',\n",
       " '或是',\n",
       " '或者',\n",
       " '极了',\n",
       " '及',\n",
       " '及其',\n",
       " '及至',\n",
       " '即',\n",
       " '即便',\n",
       " '即或',\n",
       " '即令',\n",
       " '即若',\n",
       " '即使',\n",
       " '几',\n",
       " '几时',\n",
       " '己',\n",
       " '既',\n",
       " '既然',\n",
       " '既是',\n",
       " '继而',\n",
       " '加之',\n",
       " '假如',\n",
       " '假若',\n",
       " '假使',\n",
       " '鉴于',\n",
       " '将',\n",
       " '较',\n",
       " '较之',\n",
       " '叫',\n",
       " '接着',\n",
       " '结果',\n",
       " '借',\n",
       " '紧接着',\n",
       " '进而',\n",
       " '尽',\n",
       " '尽管',\n",
       " '经',\n",
       " '经过',\n",
       " '就',\n",
       " '就是',\n",
       " '就是说',\n",
       " '据',\n",
       " '具体地说',\n",
       " '具体说来',\n",
       " '开始',\n",
       " '开外',\n",
       " '靠',\n",
       " '咳',\n",
       " '可',\n",
       " '可见',\n",
       " '可是',\n",
       " '可以',\n",
       " '况且',\n",
       " '啦',\n",
       " '来',\n",
       " '来着',\n",
       " '离',\n",
       " '例如',\n",
       " '哩',\n",
       " '连',\n",
       " '连同',\n",
       " '两者',\n",
       " '了',\n",
       " '临',\n",
       " '另',\n",
       " '另外',\n",
       " '另一方面',\n",
       " '论',\n",
       " '嘛',\n",
       " '吗',\n",
       " '慢说',\n",
       " '漫说',\n",
       " '冒',\n",
       " '么',\n",
       " '每',\n",
       " '每当',\n",
       " '们',\n",
       " '莫若',\n",
       " '某',\n",
       " '某个',\n",
       " '某些',\n",
       " '拿',\n",
       " '哪',\n",
       " '哪边',\n",
       " '哪儿',\n",
       " '哪个',\n",
       " '哪里',\n",
       " '哪年',\n",
       " '哪怕',\n",
       " '哪天',\n",
       " '哪些',\n",
       " '哪样',\n",
       " '那',\n",
       " '那边',\n",
       " '那儿',\n",
       " '那个',\n",
       " '那会儿',\n",
       " '那里',\n",
       " '那么',\n",
       " '那么些',\n",
       " '那么样',\n",
       " '那时',\n",
       " '那些',\n",
       " '那样',\n",
       " '乃',\n",
       " '乃至',\n",
       " '呢',\n",
       " '能',\n",
       " '你',\n",
       " '你们',\n",
       " '您',\n",
       " '宁',\n",
       " '宁可',\n",
       " '宁肯',\n",
       " '宁愿',\n",
       " '哦',\n",
       " '呕',\n",
       " '啪达',\n",
       " '旁人',\n",
       " '呸',\n",
       " '凭',\n",
       " '凭借',\n",
       " '其',\n",
       " '其次',\n",
       " '其二',\n",
       " '其他',\n",
       " '其它',\n",
       " '其一',\n",
       " '其余',\n",
       " '其中',\n",
       " '起',\n",
       " '起见',\n",
       " '起见',\n",
       " '岂但',\n",
       " '恰恰相反',\n",
       " '前后',\n",
       " '前者',\n",
       " '且',\n",
       " '然而',\n",
       " '然后',\n",
       " '然则',\n",
       " '让',\n",
       " '人家',\n",
       " '任',\n",
       " '任何',\n",
       " '任凭',\n",
       " '如',\n",
       " '如此',\n",
       " '如果',\n",
       " '如何',\n",
       " '如其',\n",
       " '如若',\n",
       " '如上所述',\n",
       " '若',\n",
       " '若非',\n",
       " '若是',\n",
       " '啥',\n",
       " '上下',\n",
       " '尚且',\n",
       " '设若',\n",
       " '设使',\n",
       " '甚而',\n",
       " '甚么',\n",
       " '甚至',\n",
       " '省得',\n",
       " '时候',\n",
       " '什么',\n",
       " '什么样',\n",
       " '使得',\n",
       " '是',\n",
       " '是的',\n",
       " '首先',\n",
       " '谁',\n",
       " '谁知',\n",
       " '顺',\n",
       " '顺着',\n",
       " '似的',\n",
       " '虽',\n",
       " '虽然',\n",
       " '虽说',\n",
       " '虽则',\n",
       " '随',\n",
       " '随着',\n",
       " '所',\n",
       " '所以',\n",
       " '他',\n",
       " '他们',\n",
       " '他人',\n",
       " '它',\n",
       " '它们',\n",
       " '她',\n",
       " '她们',\n",
       " '倘',\n",
       " '倘或',\n",
       " '倘然',\n",
       " '倘若',\n",
       " '倘使',\n",
       " '腾',\n",
       " '替',\n",
       " '通过',\n",
       " '同',\n",
       " '同时',\n",
       " '哇',\n",
       " '万一',\n",
       " '往',\n",
       " '望',\n",
       " '为',\n",
       " '为何',\n",
       " '为了',\n",
       " '为什么',\n",
       " '为着',\n",
       " '喂',\n",
       " '嗡嗡',\n",
       " '我',\n",
       " '我们',\n",
       " '呜',\n",
       " '呜呼',\n",
       " '乌乎',\n",
       " '无论',\n",
       " '无宁',\n",
       " '毋宁',\n",
       " '嘻',\n",
       " '吓',\n",
       " '相对而言',\n",
       " '像',\n",
       " '向',\n",
       " '向着',\n",
       " '嘘',\n",
       " '呀',\n",
       " '焉',\n",
       " '沿',\n",
       " '沿着',\n",
       " '要',\n",
       " '要不',\n",
       " '要不然',\n",
       " '要不是',\n",
       " '要么',\n",
       " '要是',\n",
       " '也',\n",
       " '也罢',\n",
       " '也好',\n",
       " '一',\n",
       " '一般',\n",
       " '一旦',\n",
       " '一方面',\n",
       " '一来',\n",
       " '一切',\n",
       " '一样',\n",
       " '一则',\n",
       " '依',\n",
       " '依照',\n",
       " '矣',\n",
       " '以',\n",
       " '以便',\n",
       " '以及',\n",
       " '以免',\n",
       " '以至',\n",
       " '以至于',\n",
       " '以致',\n",
       " '抑或',\n",
       " '因',\n",
       " '因此',\n",
       " '因而',\n",
       " '因为',\n",
       " '哟',\n",
       " '用',\n",
       " '由',\n",
       " '由此可见',\n",
       " '由于',\n",
       " '有',\n",
       " '有的',\n",
       " '有关',\n",
       " '有些',\n",
       " '又',\n",
       " '于',\n",
       " '于是',\n",
       " '于是乎',\n",
       " '与',\n",
       " '与此同时',\n",
       " '与否',\n",
       " '与其',\n",
       " '越是',\n",
       " '云云',\n",
       " '哉',\n",
       " '再说',\n",
       " '再者',\n",
       " '在',\n",
       " '在下',\n",
       " '咱',\n",
       " '咱们',\n",
       " '则',\n",
       " '怎',\n",
       " '怎么',\n",
       " '怎么办',\n",
       " '怎么样',\n",
       " '怎样',\n",
       " '咋',\n",
       " '照',\n",
       " '照着',\n",
       " '者',\n",
       " '这',\n",
       " '这边',\n",
       " '这儿',\n",
       " '这个',\n",
       " '这会儿',\n",
       " '这就是说',\n",
       " '这里',\n",
       " '这么',\n",
       " '这么点儿',\n",
       " '这么些',\n",
       " '这么样',\n",
       " '这时',\n",
       " '这些',\n",
       " '这样',\n",
       " '正如',\n",
       " '吱',\n",
       " '之',\n",
       " '之类',\n",
       " '之所以',\n",
       " '之一',\n",
       " '只是',\n",
       " '只限',\n",
       " '只要',\n",
       " '只有',\n",
       " '至',\n",
       " '至于',\n",
       " '诸位',\n",
       " '着',\n",
       " '着呢',\n",
       " '自',\n",
       " '自从',\n",
       " '自个儿',\n",
       " '自各儿',\n",
       " '自己',\n",
       " '自家',\n",
       " '自身',\n",
       " '综上所述',\n",
       " '总的来看',\n",
       " '总的来说',\n",
       " '总的说来',\n",
       " '总而言之',\n",
       " '总之',\n",
       " '纵',\n",
       " '纵令',\n",
       " '纵然',\n",
       " '纵使',\n",
       " '遵照',\n",
       " '作为',\n",
       " '兮',\n",
       " '呃',\n",
       " '呗',\n",
       " '咚',\n",
       " '咦',\n",
       " '喏',\n",
       " '啐',\n",
       " '喔唷',\n",
       " '嗬',\n",
       " '嗯',\n",
       " '嗳',\n",
       " ' ']"
      ]
     },
     "execution_count": 102,
     "metadata": {},
     "output_type": "execute_result"
    }
   ],
   "source": [
    "# 读取停用词表\n",
    "\n",
    "with open('./stopwords/哈工大停用词表.txt', 'r', encoding = 'utf-8') as f:\n",
    "    stopwords = f.read()\n",
    "stopwords = stopwords.split('\\n')\n",
    "stopwords"
   ]
  },
  {
   "cell_type": "code",
   "execution_count": 103,
   "metadata": {},
   "outputs": [
    {
     "name": "stdout",
     "output_type": "stream",
     "text": [
      "bag_of_words: <4x11 sparse matrix of type '<class 'numpy.int64'>'\n",
      "\twith 12 stored elements in Compressed Sparse Row format>\n"
     ]
    }
   ],
   "source": [
    "from sklearn.feature_extraction.text import CountVectorizer\n",
    "vect = CountVectorizer(stop_words=stopwords)\n",
    "bag_of_words = vect.fit_transform(corpus_cn)\n",
    "print(\"bag_of_words: {}\".format(repr(bag_of_words)))"
   ]
  },
  {
   "cell_type": "code",
   "execution_count": 104,
   "metadata": {},
   "outputs": [
    {
     "data": {
      "text/html": [
       "<div>\n",
       "<style scoped>\n",
       "    .dataframe tbody tr th:only-of-type {\n",
       "        vertical-align: middle;\n",
       "    }\n",
       "\n",
       "    .dataframe tbody tr th {\n",
       "        vertical-align: top;\n",
       "    }\n",
       "\n",
       "    .dataframe thead th {\n",
       "        text-align: right;\n",
       "    }\n",
       "</style>\n",
       "<table border=\"1\" class=\"dataframe\">\n",
       "  <thead>\n",
       "    <tr style=\"text-align: right;\">\n",
       "      <th></th>\n",
       "      <th>一辆</th>\n",
       "      <th>中国</th>\n",
       "      <th>喜欢</th>\n",
       "      <th>工作</th>\n",
       "      <th>我来</th>\n",
       "      <th>旅游</th>\n",
       "      <th>汽车</th>\n",
       "      <th>流行</th>\n",
       "      <th>科学论文</th>\n",
       "      <th>苹果</th>\n",
       "      <th>这是</th>\n",
       "    </tr>\n",
       "  </thead>\n",
       "  <tbody>\n",
       "    <tr>\n",
       "      <th>0</th>\n",
       "      <td>0</td>\n",
       "      <td>1</td>\n",
       "      <td>0</td>\n",
       "      <td>0</td>\n",
       "      <td>1</td>\n",
       "      <td>1</td>\n",
       "      <td>0</td>\n",
       "      <td>0</td>\n",
       "      <td>0</td>\n",
       "      <td>0</td>\n",
       "      <td>0</td>\n",
       "    </tr>\n",
       "    <tr>\n",
       "      <th>1</th>\n",
       "      <td>1</td>\n",
       "      <td>1</td>\n",
       "      <td>0</td>\n",
       "      <td>0</td>\n",
       "      <td>0</td>\n",
       "      <td>0</td>\n",
       "      <td>1</td>\n",
       "      <td>1</td>\n",
       "      <td>0</td>\n",
       "      <td>0</td>\n",
       "      <td>1</td>\n",
       "    </tr>\n",
       "    <tr>\n",
       "      <th>2</th>\n",
       "      <td>0</td>\n",
       "      <td>0</td>\n",
       "      <td>1</td>\n",
       "      <td>0</td>\n",
       "      <td>0</td>\n",
       "      <td>0</td>\n",
       "      <td>0</td>\n",
       "      <td>0</td>\n",
       "      <td>0</td>\n",
       "      <td>1</td>\n",
       "      <td>0</td>\n",
       "    </tr>\n",
       "    <tr>\n",
       "      <th>3</th>\n",
       "      <td>0</td>\n",
       "      <td>0</td>\n",
       "      <td>0</td>\n",
       "      <td>1</td>\n",
       "      <td>0</td>\n",
       "      <td>0</td>\n",
       "      <td>0</td>\n",
       "      <td>0</td>\n",
       "      <td>1</td>\n",
       "      <td>0</td>\n",
       "      <td>0</td>\n",
       "    </tr>\n",
       "  </tbody>\n",
       "</table>\n",
       "</div>"
      ],
      "text/plain": [
       "   一辆  中国  喜欢  工作  我来  旅游  汽车  流行  科学论文  苹果  这是\n",
       "0   0   1   0   0   1   1   0   0     0   0   0\n",
       "1   1   1   0   0   0   0   1   1     0   0   1\n",
       "2   0   0   1   0   0   0   0   0     0   1   0\n",
       "3   0   0   0   1   0   0   0   0     1   0   0"
      ]
     },
     "execution_count": 104,
     "metadata": {},
     "output_type": "execute_result"
    }
   ],
   "source": [
    "import pandas as pd\n",
    "pd.DataFrame(bag_of_words.toarray(), columns=vect.get_feature_names_out())"
   ]
  },
  {
   "cell_type": "markdown",
   "metadata": {},
   "source": [
    "#### 词性标注（Part-of-speech Tagging）"
   ]
  },
  {
   "cell_type": "markdown",
   "metadata": {},
   "source": [
    "**什么是词性标注？**\n",
    "+ 词性（part-of-speech）是词汇基本的语法属性，通常也称为词性。\n",
    "+ 词性标注（part-of-speech tagging）,又称为词类标注或者简称标注，是指为分词结果中的每个单词标注一个正确的词性的程序，也即确定每个词是名词、动词、形容词或者其他词性的过程。\n",
    "\n",
    "**中文如何做词性标注？**"
   ]
  },
  {
   "cell_type": "code",
   "execution_count": 105,
   "metadata": {},
   "outputs": [
    {
     "name": "stdout",
     "output_type": "stream",
     "text": [
      "我 r\n",
      "爱 v\n",
      "北京 ns\n",
      "天安门 ns\n"
     ]
    }
   ],
   "source": [
    "import jieba.posseg as pseg\n",
    "\n",
    "corpus_pos = pseg.cut('我爱北京天安门')\n",
    "for w in corpus_pos:\n",
    "    print(w.word, w.flag)"
   ]
  },
  {
   "cell_type": "markdown",
   "metadata": {},
   "source": [
    "#### 利用词性标注选择文本"
   ]
  },
  {
   "cell_type": "code",
   "execution_count": 106,
   "metadata": {},
   "outputs": [],
   "source": [
    "from zhon.hanzi import punctuation\n",
    "import jieba.posseg as pseg\n",
    "\n",
    "pos_tag_list = ['r', 'v', 'ns']\n",
    "\n",
    "def custom_tokenizer(document):\n",
    "    docs  =pseg.cut(document)\n",
    "    return [word.word for word in docs if word.word not in punctuation and word.flag not in pos_tag_list]\n",
    "\n",
    "# 利用自定义分词器来定义一个计数向量器\n",
    "pos_tag_vect = CountVectorizer(tokenizer=custom_tokenizer, min_df=1)"
   ]
  },
  {
   "cell_type": "code",
   "execution_count": 107,
   "metadata": {
    "scrolled": true
   },
   "outputs": [
    {
     "name": "stdout",
     "output_type": "stream",
     "text": [
      "bag_of_words: <4x13 sparse matrix of type '<class 'numpy.int64'>'\n",
      "\twith 16 stored elements in Compressed Sparse Row format>\n"
     ]
    }
   ],
   "source": [
    "bag_of_words = pos_tag_vect.fit_transform(corpus_cn)\n",
    "print(\"bag_of_words: {}\".format(repr(bag_of_words)))"
   ]
  },
  {
   "cell_type": "code",
   "execution_count": 108,
   "metadata": {},
   "outputs": [
    {
     "data": {
      "text/html": [
       "<div>\n",
       "<style scoped>\n",
       "    .dataframe tbody tr th:only-of-type {\n",
       "        vertical-align: middle;\n",
       "    }\n",
       "\n",
       "    .dataframe tbody tr th {\n",
       "        vertical-align: top;\n",
       "    }\n",
       "\n",
       "    .dataframe thead th {\n",
       "        text-align: right;\n",
       "    }\n",
       "</style>\n",
       "<table border=\"1\" class=\"dataframe\">\n",
       "  <thead>\n",
       "    <tr style=\"text-align: right;\">\n",
       "      <th></th>\n",
       "      <th></th>\n",
       "      <th>一些</th>\n",
       "      <th>一辆</th>\n",
       "      <th>和</th>\n",
       "      <th>在</th>\n",
       "      <th>工作</th>\n",
       "      <th>很</th>\n",
       "      <th>旅游</th>\n",
       "      <th>汽车</th>\n",
       "      <th>的</th>\n",
       "      <th>科学论文</th>\n",
       "      <th>苹果</th>\n",
       "      <th>茶</th>\n",
       "    </tr>\n",
       "  </thead>\n",
       "  <tbody>\n",
       "    <tr>\n",
       "      <th>0</th>\n",
       "      <td>3</td>\n",
       "      <td>0</td>\n",
       "      <td>0</td>\n",
       "      <td>0</td>\n",
       "      <td>0</td>\n",
       "      <td>0</td>\n",
       "      <td>0</td>\n",
       "      <td>1</td>\n",
       "      <td>0</td>\n",
       "      <td>0</td>\n",
       "      <td>0</td>\n",
       "      <td>0</td>\n",
       "      <td>0</td>\n",
       "    </tr>\n",
       "    <tr>\n",
       "      <th>1</th>\n",
       "      <td>8</td>\n",
       "      <td>0</td>\n",
       "      <td>1</td>\n",
       "      <td>0</td>\n",
       "      <td>1</td>\n",
       "      <td>0</td>\n",
       "      <td>1</td>\n",
       "      <td>0</td>\n",
       "      <td>1</td>\n",
       "      <td>1</td>\n",
       "      <td>0</td>\n",
       "      <td>0</td>\n",
       "      <td>0</td>\n",
       "    </tr>\n",
       "    <tr>\n",
       "      <th>2</th>\n",
       "      <td>5</td>\n",
       "      <td>0</td>\n",
       "      <td>0</td>\n",
       "      <td>1</td>\n",
       "      <td>0</td>\n",
       "      <td>0</td>\n",
       "      <td>0</td>\n",
       "      <td>0</td>\n",
       "      <td>0</td>\n",
       "      <td>0</td>\n",
       "      <td>0</td>\n",
       "      <td>1</td>\n",
       "      <td>1</td>\n",
       "    </tr>\n",
       "    <tr>\n",
       "      <th>3</th>\n",
       "      <td>5</td>\n",
       "      <td>1</td>\n",
       "      <td>0</td>\n",
       "      <td>0</td>\n",
       "      <td>0</td>\n",
       "      <td>1</td>\n",
       "      <td>0</td>\n",
       "      <td>0</td>\n",
       "      <td>0</td>\n",
       "      <td>0</td>\n",
       "      <td>1</td>\n",
       "      <td>0</td>\n",
       "      <td>0</td>\n",
       "    </tr>\n",
       "  </tbody>\n",
       "</table>\n",
       "</div>"
      ],
      "text/plain": [
       "      一些  一辆  和  在  工作  很  旅游  汽车  的  科学论文  苹果  茶\n",
       "0  3   0   0  0  0   0  0   1   0  0     0   0  0\n",
       "1  8   0   1  0  1   0  1   0   1  1     0   0  0\n",
       "2  5   0   0  1  0   0  0   0   0  0     0   1  1\n",
       "3  5   1   0  0  0   1  0   0   0  0     1   0  0"
      ]
     },
     "execution_count": 108,
     "metadata": {},
     "output_type": "execute_result"
    }
   ],
   "source": [
    "pd.DataFrame(bag_of_words.toarray(), columns=pos_tag_vect.get_feature_names_out())"
   ]
  },
  {
   "cell_type": "markdown",
   "metadata": {},
   "source": [
    "### TF-IDF数据缩放"
   ]
  },
  {
   "cell_type": "code",
   "execution_count": 109,
   "metadata": {},
   "outputs": [],
   "source": [
    "from sklearn.feature_extraction.text import TfidfVectorizer\n",
    "vect = TfidfVectorizer()\n",
    "bag_of_words = vect.fit_transform(corpus_cn)"
   ]
  },
  {
   "cell_type": "code",
   "execution_count": 110,
   "metadata": {},
   "outputs": [
    {
     "data": {
      "text/html": [
       "<div>\n",
       "<style scoped>\n",
       "    .dataframe tbody tr th:only-of-type {\n",
       "        vertical-align: middle;\n",
       "    }\n",
       "\n",
       "    .dataframe tbody tr th {\n",
       "        vertical-align: top;\n",
       "    }\n",
       "\n",
       "    .dataframe thead th {\n",
       "        text-align: right;\n",
       "    }\n",
       "</style>\n",
       "<table border=\"1\" class=\"dataframe\">\n",
       "  <thead>\n",
       "    <tr style=\"text-align: right;\">\n",
       "      <th></th>\n",
       "      <th>一些</th>\n",
       "      <th>一辆</th>\n",
       "      <th>中国</th>\n",
       "      <th>喜欢</th>\n",
       "      <th>工作</th>\n",
       "      <th>我来</th>\n",
       "      <th>旅游</th>\n",
       "      <th>汽车</th>\n",
       "      <th>流行</th>\n",
       "      <th>科学论文</th>\n",
       "      <th>苹果</th>\n",
       "      <th>这是</th>\n",
       "    </tr>\n",
       "  </thead>\n",
       "  <tbody>\n",
       "    <tr>\n",
       "      <th>0</th>\n",
       "      <td>0.00000</td>\n",
       "      <td>0.000000</td>\n",
       "      <td>0.486934</td>\n",
       "      <td>0.000000</td>\n",
       "      <td>0.00000</td>\n",
       "      <td>0.617614</td>\n",
       "      <td>0.617614</td>\n",
       "      <td>0.000000</td>\n",
       "      <td>0.000000</td>\n",
       "      <td>0.00000</td>\n",
       "      <td>0.000000</td>\n",
       "      <td>0.000000</td>\n",
       "    </tr>\n",
       "    <tr>\n",
       "      <th>1</th>\n",
       "      <td>0.00000</td>\n",
       "      <td>0.465162</td>\n",
       "      <td>0.366739</td>\n",
       "      <td>0.000000</td>\n",
       "      <td>0.00000</td>\n",
       "      <td>0.000000</td>\n",
       "      <td>0.000000</td>\n",
       "      <td>0.465162</td>\n",
       "      <td>0.465162</td>\n",
       "      <td>0.00000</td>\n",
       "      <td>0.000000</td>\n",
       "      <td>0.465162</td>\n",
       "    </tr>\n",
       "    <tr>\n",
       "      <th>2</th>\n",
       "      <td>0.00000</td>\n",
       "      <td>0.000000</td>\n",
       "      <td>0.000000</td>\n",
       "      <td>0.707107</td>\n",
       "      <td>0.00000</td>\n",
       "      <td>0.000000</td>\n",
       "      <td>0.000000</td>\n",
       "      <td>0.000000</td>\n",
       "      <td>0.000000</td>\n",
       "      <td>0.00000</td>\n",
       "      <td>0.707107</td>\n",
       "      <td>0.000000</td>\n",
       "    </tr>\n",
       "    <tr>\n",
       "      <th>3</th>\n",
       "      <td>0.57735</td>\n",
       "      <td>0.000000</td>\n",
       "      <td>0.000000</td>\n",
       "      <td>0.000000</td>\n",
       "      <td>0.57735</td>\n",
       "      <td>0.000000</td>\n",
       "      <td>0.000000</td>\n",
       "      <td>0.000000</td>\n",
       "      <td>0.000000</td>\n",
       "      <td>0.57735</td>\n",
       "      <td>0.000000</td>\n",
       "      <td>0.000000</td>\n",
       "    </tr>\n",
       "  </tbody>\n",
       "</table>\n",
       "</div>"
      ],
      "text/plain": [
       "        一些        一辆        中国        喜欢       工作        我来        旅游  \\\n",
       "0  0.00000  0.000000  0.486934  0.000000  0.00000  0.617614  0.617614   \n",
       "1  0.00000  0.465162  0.366739  0.000000  0.00000  0.000000  0.000000   \n",
       "2  0.00000  0.000000  0.000000  0.707107  0.00000  0.000000  0.000000   \n",
       "3  0.57735  0.000000  0.000000  0.000000  0.57735  0.000000  0.000000   \n",
       "\n",
       "         汽车        流行     科学论文        苹果        这是  \n",
       "0  0.000000  0.000000  0.00000  0.000000  0.000000  \n",
       "1  0.465162  0.465162  0.00000  0.000000  0.465162  \n",
       "2  0.000000  0.000000  0.00000  0.707107  0.000000  \n",
       "3  0.000000  0.000000  0.57735  0.000000  0.000000  "
      ]
     },
     "execution_count": 110,
     "metadata": {},
     "output_type": "execute_result"
    }
   ],
   "source": [
    "import pandas as pd\n",
    "pd.DataFrame(bag_of_words.toarray(), columns=vect.get_feature_names_out())"
   ]
  },
  {
   "cell_type": "markdown",
   "metadata": {},
   "source": [
    "### 文本挖掘"
   ]
  },
  {
   "cell_type": "markdown",
   "metadata": {},
   "source": [
    "#### 关键词抽取"
   ]
  },
  {
   "cell_type": "code",
   "execution_count": 111,
   "metadata": {},
   "outputs": [
    {
     "data": {
      "text/plain": [
       "[('一辆', 0.7729544937499999),\n",
       " ('流行', 0.7126738154266667),\n",
       " ('中国', 0.6727379303688888),\n",
       " ('我来', 0.6641537501611111),\n",
       " ('科学论文', 0.6116836607833334),\n",
       " ('一些', 0.44835017841444447),\n",
       " ('苹果', 0.41856706690222223),\n",
       " ('旅游', 0.3565865960233333),\n",
       " ('喜欢', 0.31681046683444447),\n",
       " ('汽车', 0.2877173497127778),\n",
       " ('这是', 0.23842379313277778),\n",
       " ('工作', 0.23348551901944445)]"
      ]
     },
     "execution_count": 111,
     "metadata": {},
     "output_type": "execute_result"
    }
   ],
   "source": [
    "import jieba.analyse as analyse\n",
    "\n",
    "'''\n",
    "jieba.analyse.extract_tags(sentence, topK=20, withWeight=False, allowPOS=(), withFlag=False)\n",
    "\n",
    "    :sentence: 为待提取的文本\n",
    "    :topK: 为返回几个关键词\n",
    "    :TF/IDF: 权重大的关键词，默认值为 20\n",
    "    :withWeight: 为是否一并返回关键词权重值，默认值为 False\n",
    "    :allowPOS: 仅包括指定词性的词，默认值为空，即不筛选\n",
    "    :withFlag: 这个是跟allowPOS结合使用的，只有当allowPOS不为空且该值为True的时候才会 打印词性\n",
    "'''\n",
    "\n",
    "# 抽取关键词\n",
    "analyse.extract_tags(clean_all_words_cn, topK=30, withWeight=True, allowPOS=()) #注意clean_all_words"
   ]
  },
  {
   "cell_type": "code",
   "execution_count": 112,
   "metadata": {},
   "outputs": [
    {
     "data": {
      "text/plain": [
       "[('流行', 2.1380214462800002),\n",
       " ('科学论文', 1.83505098235),\n",
       " ('苹果', 1.2557012007066668),\n",
       " ('喜欢', 0.9504314005033333),\n",
       " ('汽车', 0.8631520491383333)]"
      ]
     },
     "execution_count": 112,
     "metadata": {},
     "output_type": "execute_result"
    }
   ],
   "source": [
    "# 限定词性（示例为名词、人名、动词）\n",
    "analyse.extract_tags(clean_all_words_cn, topK=10, withWeight=True, allowPOS=('n','nr','v')) "
   ]
  },
  {
   "cell_type": "markdown",
   "metadata": {},
   "source": [
    "#### 文本相似度"
   ]
  },
  {
   "cell_type": "code",
   "execution_count": 113,
   "metadata": {},
   "outputs": [],
   "source": [
    "from sklearn.feature_extraction.text import CountVectorizer\n",
    "vect = CountVectorizer()\n",
    "bag_of_words = vect.fit_transform(corpus_cn)"
   ]
  },
  {
   "cell_type": "code",
   "execution_count": 114,
   "metadata": {},
   "outputs": [],
   "source": [
    "import numpy as np\n",
    "\n",
    "def cos_sim(vector_a, vector_b):\n",
    "    \"\"\"\n",
    "    计算两个向量之间的余弦相似度\n",
    "    :param vector_a: 向量 a \n",
    "    :param vector_b: 向量 b\n",
    "    :return: sim\n",
    "    \"\"\"\n",
    "    vector_a = np.asmatrix(vector_a)\n",
    "    vector_b = np.asmatrix(vector_b)\n",
    "    num = float(vector_a * vector_b.T)\n",
    "    denom = np.linalg.norm(vector_a) * np.linalg.norm(vector_b)\n",
    "    cos = num / denom\n",
    "    # 归一化\n",
    "    sim = 0.5 + 0.5 * cos\n",
    "    return sim"
   ]
  },
  {
   "cell_type": "code",
   "execution_count": 115,
   "metadata": {},
   "outputs": [
    {
     "data": {
      "text/html": [
       "<div>\n",
       "<style scoped>\n",
       "    .dataframe tbody tr th:only-of-type {\n",
       "        vertical-align: middle;\n",
       "    }\n",
       "\n",
       "    .dataframe tbody tr th {\n",
       "        vertical-align: top;\n",
       "    }\n",
       "\n",
       "    .dataframe thead th {\n",
       "        text-align: right;\n",
       "    }\n",
       "</style>\n",
       "<table border=\"1\" class=\"dataframe\">\n",
       "  <thead>\n",
       "    <tr style=\"text-align: right;\">\n",
       "      <th></th>\n",
       "      <th>一些</th>\n",
       "      <th>一辆</th>\n",
       "      <th>中国</th>\n",
       "      <th>喜欢</th>\n",
       "      <th>工作</th>\n",
       "      <th>我来</th>\n",
       "      <th>旅游</th>\n",
       "      <th>汽车</th>\n",
       "      <th>流行</th>\n",
       "      <th>科学论文</th>\n",
       "      <th>苹果</th>\n",
       "      <th>这是</th>\n",
       "    </tr>\n",
       "  </thead>\n",
       "  <tbody>\n",
       "    <tr>\n",
       "      <th>0</th>\n",
       "      <td>0</td>\n",
       "      <td>0</td>\n",
       "      <td>1</td>\n",
       "      <td>0</td>\n",
       "      <td>0</td>\n",
       "      <td>1</td>\n",
       "      <td>1</td>\n",
       "      <td>0</td>\n",
       "      <td>0</td>\n",
       "      <td>0</td>\n",
       "      <td>0</td>\n",
       "      <td>0</td>\n",
       "    </tr>\n",
       "    <tr>\n",
       "      <th>1</th>\n",
       "      <td>0</td>\n",
       "      <td>1</td>\n",
       "      <td>1</td>\n",
       "      <td>0</td>\n",
       "      <td>0</td>\n",
       "      <td>0</td>\n",
       "      <td>0</td>\n",
       "      <td>1</td>\n",
       "      <td>1</td>\n",
       "      <td>0</td>\n",
       "      <td>0</td>\n",
       "      <td>1</td>\n",
       "    </tr>\n",
       "    <tr>\n",
       "      <th>2</th>\n",
       "      <td>0</td>\n",
       "      <td>0</td>\n",
       "      <td>0</td>\n",
       "      <td>1</td>\n",
       "      <td>0</td>\n",
       "      <td>0</td>\n",
       "      <td>0</td>\n",
       "      <td>0</td>\n",
       "      <td>0</td>\n",
       "      <td>0</td>\n",
       "      <td>1</td>\n",
       "      <td>0</td>\n",
       "    </tr>\n",
       "    <tr>\n",
       "      <th>3</th>\n",
       "      <td>1</td>\n",
       "      <td>0</td>\n",
       "      <td>0</td>\n",
       "      <td>0</td>\n",
       "      <td>1</td>\n",
       "      <td>0</td>\n",
       "      <td>0</td>\n",
       "      <td>0</td>\n",
       "      <td>0</td>\n",
       "      <td>1</td>\n",
       "      <td>0</td>\n",
       "      <td>0</td>\n",
       "    </tr>\n",
       "  </tbody>\n",
       "</table>\n",
       "</div>"
      ],
      "text/plain": [
       "   一些  一辆  中国  喜欢  工作  我来  旅游  汽车  流行  科学论文  苹果  这是\n",
       "0   0   0   1   0   0   1   1   0   0     0   0   0\n",
       "1   0   1   1   0   0   0   0   1   1     0   0   1\n",
       "2   0   0   0   1   0   0   0   0   0     0   1   0\n",
       "3   1   0   0   0   1   0   0   0   0     1   0   0"
      ]
     },
     "execution_count": 115,
     "metadata": {},
     "output_type": "execute_result"
    }
   ],
   "source": [
    "pd.DataFrame(bag_of_words.toarray(), columns=vect.get_feature_names_out())"
   ]
  },
  {
   "cell_type": "code",
   "execution_count": 116,
   "metadata": {},
   "outputs": [],
   "source": [
    "# 基于词频特征向量\n",
    "vector1 = bag_of_words.toarray()[0]\n",
    "vector2 = bag_of_words.toarray()[1]"
   ]
  },
  {
   "cell_type": "code",
   "execution_count": 117,
   "metadata": {
    "scrolled": true
   },
   "outputs": [
    {
     "data": {
      "text/plain": [
       "np.float64(0.6290994448735805)"
      ]
     },
     "execution_count": 117,
     "metadata": {},
     "output_type": "execute_result"
    }
   ],
   "source": [
    "cos_sim(vector1, vector2)"
   ]
  },
  {
   "cell_type": "markdown",
   "metadata": {},
   "source": [
    "#### 情感分析"
   ]
  },
  {
   "cell_type": "code",
   "execution_count": 118,
   "metadata": {},
   "outputs": [
    {
     "name": "stdout",
     "output_type": "stream",
     "text": [
      "Requirement already satisfied: snownlp in c:\\users\\victola pan\\appdata\\roaming\\python\\python312\\site-packages (0.12.3)\n"
     ]
    }
   ],
   "source": [
    "!pip install snownlp"
   ]
  },
  {
   "cell_type": "code",
   "execution_count": 119,
   "metadata": {},
   "outputs": [],
   "source": [
    "import snownlp"
   ]
  },
  {
   "cell_type": "code",
   "execution_count": 120,
   "metadata": {},
   "outputs": [],
   "source": [
    "text = u\"我今天很快乐。我今天很愤怒。\""
   ]
  },
  {
   "cell_type": "code",
   "execution_count": 121,
   "metadata": {},
   "outputs": [],
   "source": [
    "from snownlp import SnowNLP\n",
    "s = SnowNLP(text)"
   ]
  },
  {
   "cell_type": "code",
   "execution_count": 122,
   "metadata": {},
   "outputs": [
    {
     "name": "stdout",
     "output_type": "stream",
     "text": [
      "我今天很快乐\n",
      "我今天很愤怒\n"
     ]
    }
   ],
   "source": [
    "for sentence in s.sentences:\n",
    "    print(sentence)"
   ]
  },
  {
   "cell_type": "code",
   "execution_count": 123,
   "metadata": {},
   "outputs": [
    {
     "data": {
      "text/plain": [
       "0.971889316039116"
      ]
     },
     "execution_count": 123,
     "metadata": {},
     "output_type": "execute_result"
    }
   ],
   "source": [
    "SnowNLP(s.sentences[0]).sentiments"
   ]
  },
  {
   "cell_type": "code",
   "execution_count": 124,
   "metadata": {},
   "outputs": [
    {
     "data": {
      "text/plain": [
       "0.07763913772213482"
      ]
     },
     "execution_count": 124,
     "metadata": {},
     "output_type": "execute_result"
    }
   ],
   "source": [
    "SnowNLP(s.sentences[1]).sentiments"
   ]
  },
  {
   "cell_type": "markdown",
   "metadata": {},
   "source": [
    "#### 文本聚类"
   ]
  },
  {
   "cell_type": "markdown",
   "metadata": {},
   "source": [
    "##### KMeans"
   ]
  },
  {
   "cell_type": "code",
   "execution_count": 125,
   "metadata": {},
   "outputs": [
    {
     "data": {
      "text/html": [
       "<div>\n",
       "<style scoped>\n",
       "    .dataframe tbody tr th:only-of-type {\n",
       "        vertical-align: middle;\n",
       "    }\n",
       "\n",
       "    .dataframe tbody tr th {\n",
       "        vertical-align: top;\n",
       "    }\n",
       "\n",
       "    .dataframe thead th {\n",
       "        text-align: right;\n",
       "    }\n",
       "</style>\n",
       "<table border=\"1\" class=\"dataframe\">\n",
       "  <thead>\n",
       "    <tr style=\"text-align: right;\">\n",
       "      <th></th>\n",
       "      <th>一些</th>\n",
       "      <th>一辆</th>\n",
       "      <th>中国</th>\n",
       "      <th>喜欢</th>\n",
       "      <th>工作</th>\n",
       "      <th>我来</th>\n",
       "      <th>旅游</th>\n",
       "      <th>汽车</th>\n",
       "      <th>流行</th>\n",
       "      <th>科学论文</th>\n",
       "      <th>苹果</th>\n",
       "      <th>这是</th>\n",
       "    </tr>\n",
       "  </thead>\n",
       "  <tbody>\n",
       "    <tr>\n",
       "      <th>0</th>\n",
       "      <td>0</td>\n",
       "      <td>0</td>\n",
       "      <td>1</td>\n",
       "      <td>0</td>\n",
       "      <td>0</td>\n",
       "      <td>1</td>\n",
       "      <td>1</td>\n",
       "      <td>0</td>\n",
       "      <td>0</td>\n",
       "      <td>0</td>\n",
       "      <td>0</td>\n",
       "      <td>0</td>\n",
       "    </tr>\n",
       "    <tr>\n",
       "      <th>1</th>\n",
       "      <td>0</td>\n",
       "      <td>1</td>\n",
       "      <td>1</td>\n",
       "      <td>0</td>\n",
       "      <td>0</td>\n",
       "      <td>0</td>\n",
       "      <td>0</td>\n",
       "      <td>1</td>\n",
       "      <td>1</td>\n",
       "      <td>0</td>\n",
       "      <td>0</td>\n",
       "      <td>1</td>\n",
       "    </tr>\n",
       "    <tr>\n",
       "      <th>2</th>\n",
       "      <td>0</td>\n",
       "      <td>0</td>\n",
       "      <td>0</td>\n",
       "      <td>1</td>\n",
       "      <td>0</td>\n",
       "      <td>0</td>\n",
       "      <td>0</td>\n",
       "      <td>0</td>\n",
       "      <td>0</td>\n",
       "      <td>0</td>\n",
       "      <td>1</td>\n",
       "      <td>0</td>\n",
       "    </tr>\n",
       "    <tr>\n",
       "      <th>3</th>\n",
       "      <td>1</td>\n",
       "      <td>0</td>\n",
       "      <td>0</td>\n",
       "      <td>0</td>\n",
       "      <td>1</td>\n",
       "      <td>0</td>\n",
       "      <td>0</td>\n",
       "      <td>0</td>\n",
       "      <td>0</td>\n",
       "      <td>1</td>\n",
       "      <td>0</td>\n",
       "      <td>0</td>\n",
       "    </tr>\n",
       "  </tbody>\n",
       "</table>\n",
       "</div>"
      ],
      "text/plain": [
       "   一些  一辆  中国  喜欢  工作  我来  旅游  汽车  流行  科学论文  苹果  这是\n",
       "0   0   0   1   0   0   1   1   0   0     0   0   0\n",
       "1   0   1   1   0   0   0   0   1   1     0   0   1\n",
       "2   0   0   0   1   0   0   0   0   0     0   1   0\n",
       "3   1   0   0   0   1   0   0   0   0     1   0   0"
      ]
     },
     "execution_count": 125,
     "metadata": {},
     "output_type": "execute_result"
    }
   ],
   "source": [
    "import pandas as pd\n",
    "pd.DataFrame(bag_of_words.toarray(), columns=vect.get_feature_names_out())"
   ]
  },
  {
   "cell_type": "code",
   "execution_count": 126,
   "metadata": {},
   "outputs": [],
   "source": [
    "from sklearn.cluster import KMeans\n",
    "\n",
    "X = bag_of_words.toarray().T\n",
    "clf = KMeans(n_clusters=3)\n",
    "s = clf.fit(X)\n",
    "cluster_labels = clf.labels_"
   ]
  },
  {
   "cell_type": "code",
   "execution_count": 127,
   "metadata": {},
   "outputs": [
    {
     "data": {
      "text/html": [
       "<div>\n",
       "<style scoped>\n",
       "    .dataframe tbody tr th:only-of-type {\n",
       "        vertical-align: middle;\n",
       "    }\n",
       "\n",
       "    .dataframe tbody tr th {\n",
       "        vertical-align: top;\n",
       "    }\n",
       "\n",
       "    .dataframe thead th {\n",
       "        text-align: right;\n",
       "    }\n",
       "</style>\n",
       "<table border=\"1\" class=\"dataframe\">\n",
       "  <thead>\n",
       "    <tr style=\"text-align: right;\">\n",
       "      <th></th>\n",
       "      <th>words</th>\n",
       "      <th>labels</th>\n",
       "    </tr>\n",
       "  </thead>\n",
       "  <tbody>\n",
       "    <tr>\n",
       "      <th>0</th>\n",
       "      <td>一些</td>\n",
       "      <td>1</td>\n",
       "    </tr>\n",
       "    <tr>\n",
       "      <th>1</th>\n",
       "      <td>一辆</td>\n",
       "      <td>2</td>\n",
       "    </tr>\n",
       "    <tr>\n",
       "      <th>2</th>\n",
       "      <td>中国</td>\n",
       "      <td>0</td>\n",
       "    </tr>\n",
       "    <tr>\n",
       "      <th>3</th>\n",
       "      <td>喜欢</td>\n",
       "      <td>2</td>\n",
       "    </tr>\n",
       "    <tr>\n",
       "      <th>4</th>\n",
       "      <td>工作</td>\n",
       "      <td>1</td>\n",
       "    </tr>\n",
       "    <tr>\n",
       "      <th>5</th>\n",
       "      <td>我来</td>\n",
       "      <td>0</td>\n",
       "    </tr>\n",
       "    <tr>\n",
       "      <th>6</th>\n",
       "      <td>旅游</td>\n",
       "      <td>0</td>\n",
       "    </tr>\n",
       "    <tr>\n",
       "      <th>7</th>\n",
       "      <td>汽车</td>\n",
       "      <td>2</td>\n",
       "    </tr>\n",
       "    <tr>\n",
       "      <th>8</th>\n",
       "      <td>流行</td>\n",
       "      <td>2</td>\n",
       "    </tr>\n",
       "    <tr>\n",
       "      <th>9</th>\n",
       "      <td>科学论文</td>\n",
       "      <td>1</td>\n",
       "    </tr>\n",
       "    <tr>\n",
       "      <th>10</th>\n",
       "      <td>苹果</td>\n",
       "      <td>2</td>\n",
       "    </tr>\n",
       "    <tr>\n",
       "      <th>11</th>\n",
       "      <td>这是</td>\n",
       "      <td>2</td>\n",
       "    </tr>\n",
       "  </tbody>\n",
       "</table>\n",
       "</div>"
      ],
      "text/plain": [
       "   words  labels\n",
       "0     一些       1\n",
       "1     一辆       2\n",
       "2     中国       0\n",
       "3     喜欢       2\n",
       "4     工作       1\n",
       "5     我来       0\n",
       "6     旅游       0\n",
       "7     汽车       2\n",
       "8     流行       2\n",
       "9   科学论文       1\n",
       "10    苹果       2\n",
       "11    这是       2"
      ]
     },
     "execution_count": 127,
     "metadata": {},
     "output_type": "execute_result"
    }
   ],
   "source": [
    "words = pd.DataFrame() # to DataFrame\n",
    "words['words'] = vect.get_feature_names_out()\n",
    "words['labels'] = cluster_labels\n",
    "words"
   ]
  },
  {
   "cell_type": "code",
   "execution_count": 128,
   "metadata": {},
   "outputs": [
    {
     "data": {
      "text/plain": [
       "labels\n",
       "0                [中国, 我来, 旅游]\n",
       "1              [一些, 工作, 科学论文]\n",
       "2    [一辆, 喜欢, 汽车, 流行, 苹果, 这是]\n",
       "Name: words, dtype: object"
      ]
     },
     "execution_count": 128,
     "metadata": {},
     "output_type": "execute_result"
    }
   ],
   "source": [
    "words.groupby('labels')['words'].unique()"
   ]
  },
  {
   "cell_type": "markdown",
   "metadata": {},
   "source": [
    "##### LDA主题建模"
   ]
  },
  {
   "cell_type": "code",
   "execution_count": 129,
   "metadata": {},
   "outputs": [],
   "source": [
    "from sklearn.feature_extraction.text import CountVectorizer\n",
    "vect = CountVectorizer(stop_words=stopwords)\n",
    "bag_of_words = vect.fit_transform(corpus_cn)"
   ]
  },
  {
   "cell_type": "code",
   "execution_count": 130,
   "metadata": {},
   "outputs": [],
   "source": [
    "from sklearn.decomposition import LatentDirichletAllocation\n",
    "\n",
    "lda = LatentDirichletAllocation(n_components=3,\n",
    "                                learning_method=\"batch\",\n",
    "                                max_iter=25,\n",
    "                                random_state=0)\n",
    "document_topics = lda.fit_transform(bag_of_words)"
   ]
  },
  {
   "cell_type": "code",
   "execution_count": 131,
   "metadata": {},
   "outputs": [],
   "source": [
    "sorting = np.argsort(lda.components_, axis=1)[:, ::-1]\n",
    "feature_names = np.array(vect.get_feature_names_out())"
   ]
  },
  {
   "cell_type": "code",
   "execution_count": 132,
   "metadata": {},
   "outputs": [
    {
     "name": "stdout",
     "output_type": "stream",
     "text": [
      "topic 0       topic 1       topic 2       \n",
      "--------      --------      --------      \n",
      "中国            苹果            科学论文          \n",
      "流行            喜欢            工作            \n",
      "这是            我来            我来            \n",
      "一辆            旅游            旅游            \n",
      "汽车            中国            中国            \n",
      "\n",
      "\n"
     ]
    }
   ],
   "source": [
    "import mglearn\n",
    "mglearn.tools.print_topics(topics=range(3),\n",
    "                           feature_names=feature_names,\n",
    "                           sorting=sorting,\n",
    "                           topics_per_chunk=5,\n",
    "                           n_words=5)"
   ]
  }
 ],
 "metadata": {
  "kernelspec": {
   "display_name": "keras",
   "language": "python",
   "name": "python3"
  },
  "language_info": {
   "codemirror_mode": {
    "name": "ipython",
    "version": 3
   },
   "file_extension": ".py",
   "mimetype": "text/x-python",
   "name": "python",
   "nbconvert_exporter": "python",
   "pygments_lexer": "ipython3",
   "version": "3.12.0"
  },
  "toc": {
   "base_numbering": 1,
   "nav_menu": {},
   "number_sections": true,
   "sideBar": true,
   "skip_h1_title": false,
   "title_cell": "Table of Contents",
   "title_sidebar": "Contents",
   "toc_cell": false,
   "toc_position": {
    "height": "calc(100% - 180px)",
    "left": "10px",
    "top": "150px",
    "width": "328.062px"
   },
   "toc_section_display": true,
   "toc_window_display": true
  }
 },
 "nbformat": 4,
 "nbformat_minor": 2
}
