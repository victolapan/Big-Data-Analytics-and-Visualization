{
 "cells": [
  {
   "cell_type": "markdown",
   "id": "d27d22c1",
   "metadata": {},
   "source": [
    "# Chapter7 课堂示例——Python卷积神经网络（图像）"
   ]
  },
  {
   "cell_type": "code",
   "execution_count": 1,
   "id": "1a05d855",
   "metadata": {},
   "outputs": [],
   "source": [
    "import pandas as pd\n",
    "import numpy as np\n",
    "import matplotlib.pyplot as plt\n",
    "%matplotlib inline"
   ]
  },
  {
   "cell_type": "code",
   "execution_count": 2,
   "id": "8a139a79",
   "metadata": {},
   "outputs": [],
   "source": [
    "import torch\n",
    "# nn是神经网络的缩写\n",
    "from torch import nn\n",
    "from torch.utils import data\n",
    "from torchsummary import summary"
   ]
  },
  {
   "cell_type": "code",
   "execution_count": 3,
   "id": "0c86a36e",
   "metadata": {},
   "outputs": [],
   "source": [
    "import warnings\n",
    "warnings.filterwarnings('ignore')"
   ]
  },
  {
   "cell_type": "markdown",
   "id": "6ac75eac",
   "metadata": {},
   "source": [
    "## MNIST手写字数据集"
   ]
  },
  {
   "cell_type": "markdown",
   "id": "642a5afa",
   "metadata": {},
   "source": [
    "### 设置设备"
   ]
  },
  {
   "cell_type": "code",
   "execution_count": 4,
   "id": "25fc2bd9",
   "metadata": {},
   "outputs": [],
   "source": [
    "device = torch.device('cuda' if torch.cuda.is_available() else 'cpu')"
   ]
  },
  {
   "cell_type": "code",
   "execution_count": 5,
   "id": "2f324863",
   "metadata": {},
   "outputs": [
    {
     "data": {
      "text/plain": [
       "device(type='cpu')"
      ]
     },
     "execution_count": 5,
     "metadata": {},
     "output_type": "execute_result"
    }
   ],
   "source": [
    "device"
   ]
  },
  {
   "cell_type": "markdown",
   "id": "7836385c",
   "metadata": {},
   "source": [
    "### 准备数据集"
   ]
  },
  {
   "cell_type": "code",
   "execution_count": 6,
   "id": "bbfe80f9",
   "metadata": {},
   "outputs": [],
   "source": [
    "import torchvision\n",
    "from torchvision import transforms"
   ]
  },
  {
   "cell_type": "code",
   "execution_count": 7,
   "id": "2559c397",
   "metadata": {},
   "outputs": [],
   "source": [
    "num_dataset_transform = transforms.Compose([\n",
    "    transforms.ToTensor()\n",
    "])"
   ]
  },
  {
   "cell_type": "code",
   "execution_count": 8,
   "id": "0c622237",
   "metadata": {},
   "outputs": [],
   "source": [
    "# 手写字数据集\n",
    "train_num = torchvision.datasets.MNIST(root = './data', train = True, transform = num_dataset_transform, download = True)\n",
    "test_num = torchvision.datasets.MNIST(root = './data', train = False, transform = num_dataset_transform, download = True)"
   ]
  },
  {
   "cell_type": "code",
   "execution_count": 9,
   "id": "9a97d571",
   "metadata": {},
   "outputs": [
    {
     "data": {
      "text/plain": [
       "60000"
      ]
     },
     "execution_count": 9,
     "metadata": {},
     "output_type": "execute_result"
    }
   ],
   "source": [
    "len(train_num)"
   ]
  },
  {
   "cell_type": "code",
   "execution_count": 10,
   "id": "874d161b",
   "metadata": {},
   "outputs": [
    {
     "data": {
      "text/plain": [
       "10000"
      ]
     },
     "execution_count": 10,
     "metadata": {},
     "output_type": "execute_result"
    }
   ],
   "source": [
    "len(test_num)"
   ]
  },
  {
   "cell_type": "code",
   "execution_count": 11,
   "id": "514a619f",
   "metadata": {},
   "outputs": [
    {
     "data": {
      "text/plain": [
       "torch.Size([1, 28, 28])"
      ]
     },
     "execution_count": 11,
     "metadata": {},
     "output_type": "execute_result"
    }
   ],
   "source": [
    "# 图片的通道数是1,图片形状是28*28\n",
    "train_num[0][0].shape"
   ]
  },
  {
   "cell_type": "code",
   "execution_count": 12,
   "id": "93c49b97",
   "metadata": {},
   "outputs": [
    {
     "data": {
      "text/plain": [
       "784"
      ]
     },
     "execution_count": 12,
     "metadata": {},
     "output_type": "execute_result"
    }
   ],
   "source": [
    "# 输入变量的大小 1*28*28\n",
    "insize = train_num[0][0].shape[0] * train_num[0][0].shape[1] * train_num[0][0].shape[2]\n",
    "insize"
   ]
  },
  {
   "cell_type": "code",
   "execution_count": 13,
   "id": "d001e3ba",
   "metadata": {
    "scrolled": true
   },
   "outputs": [
    {
     "data": {
      "text/plain": [
       "10"
      ]
     },
     "execution_count": 13,
     "metadata": {},
     "output_type": "execute_result"
    }
   ],
   "source": [
    "# 输出变量的大小，一共10个数字，10类\n",
    "outsize = len(train_num.classes)\n",
    "outsize"
   ]
  },
  {
   "cell_type": "markdown",
   "id": "dfe14f62",
   "metadata": {},
   "source": [
    "### 展示查看图片"
   ]
  },
  {
   "cell_type": "code",
   "execution_count": 14,
   "id": "e08b3789",
   "metadata": {},
   "outputs": [
    {
     "data": {
      "image/png": "[encoded data removed]",
      "text/plain": [
       "<Figure size 640x480 with 8 Axes>"
      ]
     },
     "metadata": {},
     "output_type": "display_data"
    }
   ],
   "source": [
    "fig = plt.figure()\n",
    "for i in range(8):\n",
    "    plt.subplot(2, 4, i + 1)\n",
    "    plt.tight_layout()\n",
    "    plt.imshow(train_num.train_data[i], cmap = 'gray', interpolation = 'none')\n",
    "    plt.title('Labels: {}'.format(train_num.train_labels[i]))\n",
    "    plt.xticks([])\n",
    "    plt.yticks([])\n",
    "plt.show()"
   ]
  },
  {
   "cell_type": "markdown",
   "id": "389b438a",
   "metadata": {},
   "source": [
    "### 加载数据集"
   ]
  },
  {
   "cell_type": "code",
   "execution_count": 15,
   "id": "7906c653",
   "metadata": {},
   "outputs": [],
   "source": [
    "# 利用DataLoader来加载数据集\n",
    "num_bs = 256\n",
    "train_num_dataloader = data.DataLoader(dataset = train_num, batch_size = num_bs, shuffle = True, num_workers = 0, drop_last = True)\n",
    "test_num_dataloader = data.DataLoader(dataset = test_num, batch_size = num_bs, shuffle = True, num_workers = 0, drop_last = True)"
   ]
  },
  {
   "cell_type": "code",
   "execution_count": 16,
   "id": "6fc9cf1c",
   "metadata": {
    "scrolled": true
   },
   "outputs": [
    {
     "name": "stdout",
     "output_type": "stream",
     "text": [
      "59904\n",
      "9984\n"
     ]
    }
   ],
   "source": [
    "train_num_len = len(train_num_dataloader) * num_bs\n",
    "test_num_len = len(test_num_dataloader) * num_bs\n",
    "print(train_num_len)\n",
    "print(test_num_len)"
   ]
  },
  {
   "cell_type": "markdown",
   "id": "cfd7b57e",
   "metadata": {},
   "source": [
    "## 简单线性模型（Linear Regression）"
   ]
  },
  {
   "cell_type": "markdown",
   "id": "e70d1eb3",
   "metadata": {},
   "source": [
    "### 搭建模型"
   ]
  },
  {
   "cell_type": "code",
   "execution_count": 17,
   "id": "606334c5",
   "metadata": {},
   "outputs": [],
   "source": [
    "class Linear(nn.Module):\n",
    "    def __init__(self, input_size, output_size):\n",
    "        super(Linear, self).__init__()\n",
    "        self.linear = nn.Sequential(\n",
    "            nn.Flatten(),   # 将28*28的二维矩阵展开成784的单维向量\n",
    "            nn.Linear(in_features = input_size, out_features = output_size),  # 线性层\n",
    "        )\n",
    "\n",
    "    def forward(self, input):\n",
    "        output = self.linear(input)\n",
    "        return output"
   ]
  },
  {
   "cell_type": "markdown",
   "id": "73495b19",
   "metadata": {},
   "source": [
    "### 定义模型"
   ]
  },
  {
   "cell_type": "code",
   "execution_count": 18,
   "id": "2712521c",
   "metadata": {},
   "outputs": [],
   "source": [
    "linear = Linear(insize, outsize).to(device)"
   ]
  },
  {
   "cell_type": "code",
   "execution_count": 19,
   "id": "7f2092af",
   "metadata": {
    "scrolled": true
   },
   "outputs": [
    {
     "name": "stdout",
     "output_type": "stream",
     "text": [
      "Linear(\n",
      "  (linear): Sequential(\n",
      "    (0): Flatten(start_dim=1, end_dim=-1)\n",
      "    (1): Linear(in_features=784, out_features=10, bias=True)\n",
      "  )\n",
      ")\n"
     ]
    }
   ],
   "source": [
    "print(linear)"
   ]
  },
  {
   "cell_type": "code",
   "execution_count": 20,
   "id": "2aea6a37",
   "metadata": {
    "scrolled": true
   },
   "outputs": [
    {
     "name": "stdout",
     "output_type": "stream",
     "text": [
      "----------------------------------------------------------------\n",
      "        Layer (type)               Output Shape         Param #\n",
      "================================================================\n",
      "           Flatten-1                  [-1, 784]               0\n",
      "            Linear-2                   [-1, 10]           7,850\n",
      "================================================================\n",
      "Total params: 7,850\n",
      "Trainable params: 7,850\n",
      "Non-trainable params: 0\n",
      "----------------------------------------------------------------\n",
      "Input size (MB): 0.00\n",
      "Forward/backward pass size (MB): 0.01\n",
      "Params size (MB): 0.03\n",
      "Estimated Total Size (MB): 0.04\n",
      "----------------------------------------------------------------\n"
     ]
    }
   ],
   "source": [
    "summary(linear, (1, 28, 28))"
   ]
  },
  {
   "cell_type": "markdown",
   "id": "31091e89",
   "metadata": {},
   "source": [
    "### 定义损失函数"
   ]
  },
  {
   "cell_type": "code",
   "execution_count": 21,
   "id": "0fe99cbb",
   "metadata": {},
   "outputs": [],
   "source": [
    "linear_loss = nn.CrossEntropyLoss()   # 交叉熵"
   ]
  },
  {
   "cell_type": "markdown",
   "id": "8d9d0060",
   "metadata": {},
   "source": [
    ">**损失函数介绍<br>**<br>\n",
    ">linear_loss = nn.CrossEntropyLoss()<br>\n",
    ">linear_loss = linear_loss(outputs, targets)<br>\n",
    ">注意以下几点：<br>\n",
    ">outputs 是模型的输出分数，不需要先应用 softmax，因为 nn.CrossEntropyLoss 内部会处理。<br>\n",
    ">targets 是真实标签索引，而不是 one-hot 编码。<br>\n",
    ">nn.CrossEntropyLoss 会先对 outputs 应用 softmax，然后计算与 targets 之间的交叉熵损失<br>"
   ]
  },
  {
   "cell_type": "markdown",
   "id": "d7796b32",
   "metadata": {},
   "source": [
    "### 定义优化器"
   ]
  },
  {
   "cell_type": "code",
   "execution_count": 22,
   "id": "590294cf",
   "metadata": {},
   "outputs": [],
   "source": [
    "linear_optimizer = torch.optim.SGD(linear.parameters(), lr = 0.01)   # 随机梯度下降算法"
   ]
  },
  {
   "cell_type": "markdown",
   "id": "a4d75966",
   "metadata": {},
   "source": [
    "### 训练模型"
   ]
  },
  {
   "cell_type": "code",
   "execution_count": 23,
   "id": "0229f1bb",
   "metadata": {},
   "outputs": [
    {
     "name": "stdout",
     "output_type": "stream",
     "text": [
      "-------第 1 轮训练-------\n",
      "整体训练集上的Loss: 366.28223741054535\n",
      "整体测试集上的Loss: 43.013904333114624\n",
      "整体测试集上的准确率: 0.8126001358032227\n",
      "-------第 2 轮训练-------\n",
      "整体训练集上的Loss: 222.71660125255585\n",
      "整体测试集上的Loss: 31.324975907802582\n",
      "整体测试集上的准确率: 0.8433493375778198\n",
      "-------第 3 轮训练-------\n",
      "整体训练集上的Loss: 177.26068550348282\n",
      "整体测试集上的Loss: 26.328799545764923\n",
      "整体测试集上的准确率: 0.8592748641967773\n",
      "-------第 4 轮训练-------\n",
      "整体训练集上的Loss: 154.8524421453476\n",
      "整体测试集上的Loss: 23.538740694522858\n",
      "整体测试集上的准确率: 0.8693910241127014\n",
      "-------第 5 轮训练-------\n",
      "整体训练集上的Loss: 141.14127057790756\n",
      "整体测试集上的Loss: 21.68526580929756\n",
      "整体测试集上的准确率: 0.8758012652397156\n",
      "-------第 6 轮训练-------\n",
      "整体训练集上的Loss: 131.79980963468552\n",
      "整体测试集上的Loss: 20.397856563329697\n",
      "整体测试集上的准确率: 0.8795071840286255\n",
      "-------第 7 轮训练-------\n",
      "整体训练集上的Loss: 124.91613611578941\n",
      "整体测试集上的Loss: 19.38606485724449\n",
      "整体测试集上的准确率: 0.881911039352417\n",
      "-------第 8 轮训练-------\n",
      "整体训练集上的Loss: 119.54786616563797\n",
      "整体测试集上的Loss: 18.617347329854965\n",
      "整体测试集上的准确率: 0.8852163553237915\n",
      "-------第 9 轮训练-------\n",
      "整体训练集上的Loss: 115.31749331951141\n",
      "整体测试集上的Loss: 17.98876005411148\n",
      "整体测试集上的准确率: 0.8860176205635071\n",
      "-------第 10 轮训练-------\n",
      "整体训练集上的Loss: 111.73713430762291\n",
      "整体测试集上的Loss: 17.477433055639267\n",
      "整体测试集上的准确率: 0.8875200152397156\n",
      "CPU times: total: 1min 55s\n",
      "Wall time: 1min 30s\n"
     ]
    }
   ],
   "source": [
    "%%time\n",
    "\n",
    "epoch = 10  # 训练的轮数\n",
    "linear_accuracy = []\n",
    "for i in range(epoch):\n",
    "    print(\"-------第 {} 轮训练-------\".format(i + 1))\n",
    "    \n",
    "    # 训练\n",
    "    linear.train()\n",
    "    \n",
    "    total_train_loss = 0\n",
    "    total_train_accuracy = 0\n",
    "    \n",
    "    for X, y in train_num_dataloader:\n",
    "        X = X.to(device)\n",
    "        y = y.to(device)\n",
    "        output = linear(X)\n",
    "        \n",
    "        l = linear_loss(output, y)\n",
    "        total_train_loss = total_train_loss + l.item()\n",
    "        \n",
    "        linear_optimizer.zero_grad()   # 梯度清零\n",
    "        l.backward()                   # 反向传播\n",
    "        linear_optimizer.step()        # 优化\n",
    "    \n",
    "    print(\"整体训练集上的Loss: {}\".format(total_train_loss))\n",
    "    \n",
    "    # 测试\n",
    "    linear.eval()\n",
    "    \n",
    "    total_test_loss = 0\n",
    "    total_test_accuracy = 0\n",
    "    \n",
    "    with torch.no_grad():\n",
    "        for X, y in test_num_dataloader:\n",
    "            X = X.to(device)\n",
    "            y = y.to(device)\n",
    "            output = linear(X)\n",
    "\n",
    "            l = linear_loss(output, y)\n",
    "            total_test_loss += l.item()\n",
    "\n",
    "            accuracy = (output.argmax(1) == y).sum()\n",
    "            total_test_accuracy += accuracy\n",
    "    \n",
    "    print(\"整体测试集上的Loss: {}\".format(total_test_loss))\n",
    "    print(\"整体测试集上的准确率: {}\".format(total_test_accuracy / test_num_len))\n",
    "    linear_accuracy.append(total_test_accuracy / test_num_len)"
   ]
  },
  {
   "cell_type": "markdown",
   "id": "93f53624",
   "metadata": {},
   "source": [
    "## 多层感知机（MLP）"
   ]
  },
  {
   "cell_type": "markdown",
   "id": "fc37b60f",
   "metadata": {},
   "source": [
    "### 搭建模型"
   ]
  },
  {
   "cell_type": "code",
   "execution_count": 24,
   "id": "7b0c981a",
   "metadata": {
    "code_folding": []
   },
   "outputs": [],
   "source": [
    "class MLP(nn.Module):\n",
    "    def __init__(self, input_size, hidden_size, output_size):\n",
    "        super(MLP, self).__init__()\n",
    "        self.mlp = nn.Sequential(\n",
    "            nn.Flatten(),   # 将28*28的二维矩阵展开成784的单维向量\n",
    "            nn.Linear(in_features = input_size, out_features = hidden_size),    # 线性层\n",
    "            nn.ReLU(),                                                          # 激活函数\n",
    "            nn.Linear(in_features = hidden_size, out_features = output_size),   # 线性层\n",
    "        )\n",
    "\n",
    "    def forward(self, input):\n",
    "        output = self.mlp(input)\n",
    "        return output"
   ]
  },
  {
   "cell_type": "markdown",
   "id": "86aa6faf",
   "metadata": {},
   "source": [
    "### 定义模型"
   ]
  },
  {
   "cell_type": "code",
   "execution_count": 25,
   "id": "9121b8e7",
   "metadata": {},
   "outputs": [],
   "source": [
    "hiddens = 128  # 隐藏层的维度\n",
    "mlp = MLP(insize, hiddens, outsize).to(device)"
   ]
  },
  {
   "cell_type": "code",
   "execution_count": 26,
   "id": "1fc49345",
   "metadata": {
    "scrolled": true
   },
   "outputs": [
    {
     "name": "stdout",
     "output_type": "stream",
     "text": [
      "MLP(\n",
      "  (mlp): Sequential(\n",
      "    (0): Flatten(start_dim=1, end_dim=-1)\n",
      "    (1): Linear(in_features=784, out_features=128, bias=True)\n",
      "    (2): ReLU()\n",
      "    (3): Linear(in_features=128, out_features=10, bias=True)\n",
      "  )\n",
      ")\n"
     ]
    }
   ],
   "source": [
    "print(mlp)"
   ]
  },
  {
   "cell_type": "code",
   "execution_count": 27,
   "id": "2c08cd07",
   "metadata": {
    "scrolled": false
   },
   "outputs": [
    {
     "name": "stdout",
     "output_type": "stream",
     "text": [
      "----------------------------------------------------------------\n",
      "        Layer (type)               Output Shape         Param #\n",
      "================================================================\n",
      "           Flatten-1                  [-1, 784]               0\n",
      "            Linear-2                  [-1, 128]         100,480\n",
      "              ReLU-3                  [-1, 128]               0\n",
      "            Linear-4                   [-1, 10]           1,290\n",
      "================================================================\n",
      "Total params: 101,770\n",
      "Trainable params: 101,770\n",
      "Non-trainable params: 0\n",
      "----------------------------------------------------------------\n",
      "Input size (MB): 0.00\n",
      "Forward/backward pass size (MB): 0.01\n",
      "Params size (MB): 0.39\n",
      "Estimated Total Size (MB): 0.40\n",
      "----------------------------------------------------------------\n"
     ]
    }
   ],
   "source": [
    "summary(mlp, (1, 28, 28))"
   ]
  },
  {
   "cell_type": "markdown",
   "id": "64eecd98",
   "metadata": {},
   "source": [
    "### 定义损失函数"
   ]
  },
  {
   "cell_type": "code",
   "execution_count": 28,
   "id": "8a456f77",
   "metadata": {},
   "outputs": [],
   "source": [
    "mlp_loss = nn.CrossEntropyLoss()   # 交叉熵"
   ]
  },
  {
   "cell_type": "markdown",
   "id": "2a98daa6",
   "metadata": {},
   "source": [
    "### 定义优化器"
   ]
  },
  {
   "cell_type": "code",
   "execution_count": null,
   "id": "3f7c93f2",
   "metadata": {},
   "outputs": [],
   "source": [
    "mlp_optimizer = torch.optim.SGD(mlp.parameters(), lr = 0.01)   # 随机梯度下降算法"
   ]
  },
  {
   "cell_type": "markdown",
   "id": "d714e498",
   "metadata": {},
   "source": [
    "### 训练模型"
   ]
  },
  {
   "cell_type": "code",
   "execution_count": 30,
   "id": "35386ea0",
   "metadata": {},
   "outputs": [
    {
     "name": "stdout",
     "output_type": "stream",
     "text": [
      "-------第 1 轮训练 + 测试-------\n",
      "整体训练集上的Loss: 481.9543647766113\n",
      "整体测试集上的Loss: 67.29173243045807\n",
      "整体测试集上的准确率: 0.7125400900840759\n",
      "-------第 2 轮训练 + 测试-------\n",
      "整体训练集上的Loss: 322.4235931634903\n",
      "整体测试集上的Loss: 40.87729924917221\n",
      "整体测试集上的准确率: 0.8114984035491943\n",
      "-------第 3 轮训练 + 测试-------\n",
      "整体训练集上的Loss: 209.33616119623184\n",
      "整体测试集上的Loss: 28.758091151714325\n",
      "整体测试集上的准确率: 0.8453525900840759\n",
      "-------第 4 轮训练 + 测试-------\n",
      "整体训练集上的Loss: 159.40494340658188\n",
      "整体测试集上的Loss: 23.174821972846985\n",
      "整体测试集上的准确率: 0.8640825152397156\n",
      "-------第 5 轮训练 + 测试-------\n",
      "整体训练集上的Loss: 134.19899025559425\n",
      "整体测试集上的Loss: 20.071949005126953\n",
      "整体测试集上的准确率: 0.8765023946762085\n",
      "-------第 6 轮训练 + 测试-------\n",
      "整体训练集上的Loss: 119.33362343907356\n",
      "整体测试集上的Loss: 18.10901328921318\n",
      "整体测试集上的准确率: 0.883713960647583\n",
      "-------第 7 轮训练 + 测试-------\n",
      "整体训练集上的Loss: 109.55683407187462\n",
      "整体测试集上的Loss: 16.7746385037899\n",
      "整体测试集上的准确率: 0.8894230723381042\n",
      "-------第 8 轮训练 + 测试-------\n",
      "整体训练集上的Loss: 102.60221666097641\n",
      "整体测试集上的Loss: 15.810462862253189\n",
      "整体测试集上的准确率: 0.8943309187889099\n",
      "-------第 9 轮训练 + 测试-------\n",
      "整体训练集上的Loss: 97.45178160071373\n",
      "整体测试集上的Loss: 15.09574031829834\n",
      "整体测试集上的准确率: 0.8973357081413269\n",
      "-------第 10 轮训练 + 测试-------\n",
      "整体训练集上的Loss: 93.41633570194244\n",
      "整体测试集上的Loss: 14.52706590294838\n",
      "整体测试集上的准确率: 0.8999398946762085\n",
      "CPU times: total: 2min 11s\n",
      "Wall time: 2min 7s\n"
     ]
    }
   ],
   "source": [
    "%%time\n",
    "\n",
    "epoch = 10  # 训练的轮数\n",
    "mlp_accuracy = []\n",
    "\n",
    "for i in range(epoch):\n",
    "    print(\"-------第 {} 轮训练 + 测试-------\".format(i + 1))\n",
    "    \n",
    "    # 训练\n",
    "    mlp.train()\n",
    "    \n",
    "    total_train_loss = 0\n",
    "    total_train_accuracy = 0\n",
    "    \n",
    "    for X, y in train_num_dataloader:\n",
    "        X = X.to(device)\n",
    "        y = y.to(device)\n",
    "        output = mlp(X)\n",
    "        \n",
    "        l = mlp_loss(output, y)\n",
    "        total_train_loss = total_train_loss + l.item()\n",
    "        \n",
    "        mlp_optimizer.zero_grad()   # 梯度清零\n",
    "        l.backward()                # 反向传播\n",
    "        mlp_optimizer.step()        # 优化\n",
    "    \n",
    "    print(\"整体训练集上的Loss: {}\".format(total_train_loss))\n",
    "    \n",
    "    # 测试\n",
    "    mlp.eval()\n",
    "    \n",
    "    total_test_loss = 0\n",
    "    total_test_accuracy = 0\n",
    "    \n",
    "    with torch.no_grad():\n",
    "        for X, y in test_num_dataloader:\n",
    "            X = X.to(device)\n",
    "            y = y.to(device)\n",
    "            output = mlp(X)\n",
    "\n",
    "            l = mlp_loss(output, y)\n",
    "            total_test_loss += l.item()\n",
    "\n",
    "            accuracy = (output.argmax(1) == y).sum()\n",
    "            total_test_accuracy += accuracy\n",
    "    \n",
    "    print(\"整体测试集上的Loss: {}\".format(total_test_loss))\n",
    "    print(\"整体测试集上的准确率: {}\".format(total_test_accuracy / test_num_len))\n",
    "    mlp_accuracy.append(total_test_accuracy / test_num_len)"
   ]
  },
  {
   "cell_type": "markdown",
   "id": "000b276f",
   "metadata": {},
   "source": [
    "## 卷积神经网络（CNN）"
   ]
  },
  {
   "cell_type": "markdown",
   "id": "7353454f",
   "metadata": {},
   "source": [
    "### 搭建LeNet-5模型"
   ]
  },
  {
   "attachments": {
    "image.png": {
     "image/png": "[encoded data removed]"
    }
   },
   "cell_type": "markdown",
   "id": "bce41429",
   "metadata": {},
   "source": [
    "![image.png](attachment:image.png)"
   ]
  },
  {
   "cell_type": "markdown",
   "id": "196964e3",
   "metadata": {},
   "source": [
    ">**输入层 1@32×32（单通道28）<br>**\n",
    ">（6个步幅为1填充为2的5×5卷积+Sigmoid激活）<br>\n",
    ">**卷积层 6@28×28<br>**\n",
    ">（2×2步幅为2的平均池化）<br>\n",
    ">**池化层 6@14×14**<br>\n",
    ">（16个步幅为1填充为1的5×5卷积+Sigmoid激活）<br>\n",
    ">**卷积层 16@10×10<br>**\n",
    ">（2×2步幅为2的平均池化）<br>\n",
    ">**池化层 16@5×5<br>**\n",
    ">（降维）<br>\n",
    ">**降维 16×5×5 = 400<br>**\n",
    ">（线性+Sigmoid激活）<br>\n",
    ">**全连接层 120<br>**\n",
    ">（线性+Sigmoid激活）<br>\n",
    ">**全连接层 84<br>**\n",
    ">（线性）<br>\n",
    ">**输出层 10<br>**"
   ]
  },
  {
   "cell_type": "code",
   "execution_count": 31,
   "id": "04b3ebcd",
   "metadata": {},
   "outputs": [],
   "source": [
    "class CNN(nn.Module):\n",
    "    def __init__(self):\n",
    "        super(CNN, self).__init__()\n",
    "        self.cnn = nn.Sequential(\n",
    "            nn.Conv2d(in_channels = 1, out_channels = 6, kernel_size = 5, stride = 1, padding = 2),    # 卷积层\n",
    "            nn.Sigmoid(),                                                                              # 激活函数\n",
    "            nn.AvgPool2d(kernel_size = 2, stride = 2),                                                 # 平均池化\n",
    "            nn.Conv2d(in_channels = 6, out_channels = 16, kernel_size = 5, stride = 1, padding = 0),   # 卷积层\n",
    "            nn.Sigmoid(),                                                                              # 激活函数\n",
    "            nn.AvgPool2d(kernel_size = 2, stride = 2),                                                 # 平均池化\n",
    "            nn.Flatten(),                                                                              # 二维数据展平\n",
    "            nn.Linear(in_features = 16 * 5 * 5, out_features = 120),                                   # 线性层\n",
    "            nn.Sigmoid(),                                                                              # 激活函数\n",
    "            nn.Linear(in_features = 120, out_features = 84),                                           # 线性层\n",
    "            nn.Sigmoid(),                                                                              # 激活函数\n",
    "            nn.Linear(in_features = 84, out_features = 10)                                             # 线性层\n",
    "        )\n",
    "\n",
    "    def forward(self, input):\n",
    "        output = self.cnn(input)\n",
    "        return output"
   ]
  },
  {
   "cell_type": "markdown",
   "id": "99081bca",
   "metadata": {},
   "source": [
    "### 定义模型"
   ]
  },
  {
   "cell_type": "code",
   "execution_count": 32,
   "id": "0e43814e",
   "metadata": {},
   "outputs": [],
   "source": [
    "cnn = CNN().to(device)"
   ]
  },
  {
   "cell_type": "code",
   "execution_count": 33,
   "id": "ee407c2f",
   "metadata": {
    "scrolled": true
   },
   "outputs": [
    {
     "name": "stdout",
     "output_type": "stream",
     "text": [
      "CNN(\n",
      "  (cnn): Sequential(\n",
      "    (0): Conv2d(1, 6, kernel_size=(5, 5), stride=(1, 1), padding=(2, 2))\n",
      "    (1): Sigmoid()\n",
      "    (2): AvgPool2d(kernel_size=2, stride=2, padding=0)\n",
      "    (3): Conv2d(6, 16, kernel_size=(5, 5), stride=(1, 1))\n",
      "    (4): Sigmoid()\n",
      "    (5): AvgPool2d(kernel_size=2, stride=2, padding=0)\n",
      "    (6): Flatten(start_dim=1, end_dim=-1)\n",
      "    (7): Linear(in_features=400, out_features=120, bias=True)\n",
      "    (8): Sigmoid()\n",
      "    (9): Linear(in_features=120, out_features=84, bias=True)\n",
      "    (10): Sigmoid()\n",
      "    (11): Linear(in_features=84, out_features=10, bias=True)\n",
      "  )\n",
      ")\n"
     ]
    }
   ],
   "source": [
    "print(cnn)"
   ]
  },
  {
   "cell_type": "code",
   "execution_count": 34,
   "id": "3fae552d",
   "metadata": {
    "scrolled": false
   },
   "outputs": [
    {
     "name": "stdout",
     "output_type": "stream",
     "text": [
      "----------------------------------------------------------------\n",
      "        Layer (type)               Output Shape         Param #\n",
      "================================================================\n",
      "            Conv2d-1            [-1, 6, 28, 28]             156\n",
      "           Sigmoid-2            [-1, 6, 28, 28]               0\n",
      "         AvgPool2d-3            [-1, 6, 14, 14]               0\n",
      "            Conv2d-4           [-1, 16, 10, 10]           2,416\n",
      "           Sigmoid-5           [-1, 16, 10, 10]               0\n",
      "         AvgPool2d-6             [-1, 16, 5, 5]               0\n",
      "           Flatten-7                  [-1, 400]               0\n",
      "            Linear-8                  [-1, 120]          48,120\n",
      "           Sigmoid-9                  [-1, 120]               0\n",
      "           Linear-10                   [-1, 84]          10,164\n",
      "          Sigmoid-11                   [-1, 84]               0\n",
      "           Linear-12                   [-1, 10]             850\n",
      "================================================================\n",
      "Total params: 61,706\n",
      "Trainable params: 61,706\n",
      "Non-trainable params: 0\n",
      "----------------------------------------------------------------\n",
      "Input size (MB): 0.00\n",
      "Forward/backward pass size (MB): 0.11\n",
      "Params size (MB): 0.24\n",
      "Estimated Total Size (MB): 0.35\n",
      "----------------------------------------------------------------\n"
     ]
    }
   ],
   "source": [
    "summary(cnn, (1, 28, 28))"
   ]
  },
  {
   "cell_type": "markdown",
   "id": "b8589fa7",
   "metadata": {},
   "source": [
    "### 定义损失函数"
   ]
  },
  {
   "cell_type": "code",
   "execution_count": 35,
   "id": "3d8a7814",
   "metadata": {},
   "outputs": [],
   "source": [
    "cnn_loss = nn.CrossEntropyLoss()   # 交叉熵"
   ]
  },
  {
   "cell_type": "markdown",
   "id": "c70be890",
   "metadata": {},
   "source": [
    "### 定义优化器"
   ]
  },
  {
   "cell_type": "code",
   "execution_count": 36,
   "id": "de72fc94",
   "metadata": {},
   "outputs": [],
   "source": [
    "cnn_optimizer = torch.optim.Adam(cnn.parameters(), lr = 0.01)   # Adam算法"
   ]
  },
  {
   "cell_type": "markdown",
   "id": "6388b81a",
   "metadata": {},
   "source": [
    "### 训练模型"
   ]
  },
  {
   "cell_type": "code",
   "execution_count": 37,
   "id": "ee5fec32",
   "metadata": {
    "scrolled": false
   },
   "outputs": [
    {
     "name": "stdout",
     "output_type": "stream",
     "text": [
      "-------第 1 轮训练 + 测试-------\n",
      "整体训练集上的Loss: 539.265064239502\n",
      "整体测试集上的Loss: 89.75779914855957\n",
      "整体测试集上的准确率: 0.11358173191547394\n",
      "-------第 2 轮训练 + 测试-------\n",
      "整体训练集上的Loss: 531.445179104805\n",
      "整体测试集上的Loss: 74.98853135108948\n",
      "整体测试集上的准确率: 0.30178284645080566\n",
      "-------第 3 轮训练 + 测试-------\n",
      "整体训练集上的Loss: 148.62567806243896\n",
      "整体测试集上的Loss: 6.880427822470665\n",
      "整体测试集上的准确率: 0.9424078464508057\n",
      "-------第 4 轮训练 + 测试-------\n",
      "整体训练集上的Loss: 30.529594022780657\n",
      "整体测试集上的Loss: 4.269370045512915\n",
      "整体测试集上的准确率: 0.9652444124221802\n",
      "-------第 5 轮训练 + 测试-------\n",
      "整体训练集上的Loss: 20.602267876267433\n",
      "整体测试集上的Loss: 3.056522198021412\n",
      "整体测试集上的准确率: 0.9752604365348816\n",
      "-------第 6 轮训练 + 测试-------\n",
      "整体训练集上的Loss: 16.552915597334504\n",
      "整体测试集上的Loss: 3.450504057109356\n",
      "整体测试集上的准确率: 0.97265625\n",
      "-------第 7 轮训练 + 测试-------\n",
      "整体训练集上的Loss: 14.223142239265144\n",
      "整体测试集上的Loss: 2.426508747972548\n",
      "整体测试集上的准确率: 0.9807692170143127\n",
      "-------第 8 轮训练 + 测试-------\n",
      "整体训练集上的Loss: 11.603702316060662\n",
      "整体测试集上的Loss: 2.112515293993056\n",
      "整体测试集上的准确率: 0.9841746687889099\n",
      "-------第 9 轮训练 + 测试-------\n",
      "整体训练集上的Loss: 10.414993138518184\n",
      "整体测试集上的Loss: 2.0635781809687614\n",
      "整体测试集上的准确率: 0.9831730723381042\n",
      "-------第 10 轮训练 + 测试-------\n",
      "整体训练集上的Loss: 9.03335261438042\n",
      "整体测试集上的Loss: 2.364136276766658\n",
      "整体测试集上的准确率: 0.9810696840286255\n",
      "CPU times: total: 17min 3s\n",
      "Wall time: 5min 15s\n"
     ]
    }
   ],
   "source": [
    "%%time\n",
    "\n",
    "epoch = 10  # 训练的轮数\n",
    "cnn_accuracy = []\n",
    "\n",
    "for i in range(epoch):\n",
    "    print(\"-------第 {} 轮训练 + 测试-------\".format(i + 1))\n",
    "    \n",
    "    # 训练\n",
    "    cnn.train()\n",
    "    \n",
    "    total_train_loss = 0\n",
    "    total_train_accuracy = 0\n",
    "    \n",
    "    for X, y in train_num_dataloader:\n",
    "        X = X.to(device)\n",
    "        y = y.to(device)\n",
    "        output = cnn(X)\n",
    "        \n",
    "        l = cnn_loss(output, y)\n",
    "        total_train_loss = total_train_loss + l.item()\n",
    "        \n",
    "        cnn_optimizer.zero_grad()   # 梯度清零\n",
    "        l.backward()                # 反向传播\n",
    "        cnn_optimizer.step()        # 优化\n",
    "    \n",
    "    print(\"整体训练集上的Loss: {}\".format(total_train_loss))\n",
    "    \n",
    "    # 测试\n",
    "    cnn.eval()\n",
    "    \n",
    "    total_test_loss = 0\n",
    "    total_test_accuracy = 0\n",
    "    \n",
    "    with torch.no_grad():\n",
    "        for X, y in test_num_dataloader:\n",
    "            X = X.to(device)\n",
    "            y = y.to(device)\n",
    "            output = cnn(X)\n",
    "\n",
    "            l = cnn_loss(output, y)\n",
    "            total_test_loss += l.item()\n",
    "\n",
    "            accuracy = (output.argmax(1) == y).sum()\n",
    "            total_test_accuracy += accuracy\n",
    "    \n",
    "    print(\"整体测试集上的Loss: {}\".format(total_test_loss))\n",
    "    print(\"整体测试集上的准确率: {}\".format(total_test_accuracy / test_num_len))\n",
    "    cnn_accuracy.append(total_test_accuracy / test_num_len)"
   ]
  },
  {
   "cell_type": "markdown",
   "id": "e3137048",
   "metadata": {},
   "source": [
    "## 模型比较"
   ]
  },
  {
   "cell_type": "code",
   "execution_count": 38,
   "id": "14e31373",
   "metadata": {},
   "outputs": [
    {
     "data": {
      "text/plain": [
       "[1, 2, 3, 4, 5, 6, 7, 8, 9, 10]"
      ]
     },
     "execution_count": 38,
     "metadata": {},
     "output_type": "execute_result"
    }
   ],
   "source": [
    "x = list(range(1, 11))\n",
    "x"
   ]
  },
  {
   "cell_type": "code",
   "execution_count": 39,
   "id": "d60e1854",
   "metadata": {},
   "outputs": [
    {
     "data": {
      "image/png": "[encoded data removed]",
      "text/plain": [
       "<Figure size 800x500 with 1 Axes>"
      ]
     },
     "metadata": {},
     "output_type": "display_data"
    }
   ],
   "source": [
    "plt.figure(figsize = (8, 5))\n",
    "\n",
    "# 绘制linear_accuracy\n",
    "plt.plot(x, linear_accuracy, label = 'Linear', color = 'b', linewidth = 2, linestyle = '-', marker = 'o', markersize = 5)\n",
    "\n",
    "# 绘制mlp_accuracy\n",
    "plt.plot(x, mlp_accuracy, label = 'MLP', color = 'g', linewidth = 2, linestyle = '--', marker = 's', markersize = 5)\n",
    "\n",
    "# 绘制cnn_accuracy\n",
    "plt.plot(x, cnn_accuracy, label = 'CNN', color = 'r', linewidth = 2, linestyle = '-.', marker = '^', markersize = 5)\n",
    "\n",
    "# 添加网格\n",
    "plt.grid(True)\n",
    "\n",
    "# 添加图例\n",
    "plt.legend(loc = 'best', fontsize = 12)\n",
    "\n",
    "# 显示图形\n",
    "plt.show()"
   ]
  },
  {
   "cell_type": "markdown",
   "id": "f73b3af3",
   "metadata": {},
   "source": [
    "## 模型保存"
   ]
  },
  {
   "cell_type": "code",
   "execution_count": 40,
   "id": "58afd0ac",
   "metadata": {},
   "outputs": [],
   "source": [
    "torch.save(cnn.state_dict(), './models/cnn_number.pth')"
   ]
  },
  {
   "cell_type": "markdown",
   "id": "a73fb4c8",
   "metadata": {},
   "source": [
    "# 课堂练习"
   ]
  }
 ],
 "metadata": {
  "kernelspec": {
   "display_name": "keras",
   "language": "python",
   "name": "python3"
  },
  "language_info": {
   "codemirror_mode": {
    "name": "ipython",
    "version": 3
   },
   "file_extension": ".py",
   "mimetype": "text/x-python",
   "name": "python",
   "nbconvert_exporter": "python",
   "pygments_lexer": "ipython3",
   "version": "3.12.0"
  },
  "toc": {
   "base_numbering": 1,
   "nav_menu": {},
   "number_sections": true,
   "sideBar": true,
   "skip_h1_title": true,
   "title_cell": "Table of Contents",
   "title_sidebar": "Contents",
   "toc_cell": false,
   "toc_position": {
    "height": "calc(100% - 180px)",
    "left": "10px",
    "top": "150px",
    "width": "230.578px"
   },
   "toc_section_display": true,
   "toc_window_display": true
  }
 },
 "nbformat": 4,
 "nbformat_minor": 5
}
