{
 "cells": [
  {
   "cell_type": "markdown",
   "id": "d27d22c1",
   "metadata": {},
   "source": [
    "# Chapter7 课堂示例——Python神经网络基础"
   ]
  },
  {
   "cell_type": "code",
   "execution_count": 1,
   "id": "1a05d855",
   "metadata": {},
   "outputs": [],
   "source": [
    "import pandas as pd\n",
    "import numpy as np\n",
    "import matplotlib.pyplot as plt\n",
    "%matplotlib inline"
   ]
  },
  {
   "cell_type": "code",
   "execution_count": 2,
   "id": "8a139a79",
   "metadata": {},
   "outputs": [],
   "source": [
    "import torch\n",
    "from torch import nn # nn是神经网络的缩写\n",
    "from torch.utils import data\n",
    "from torchsummary import summary"
   ]
  },
  {
   "cell_type": "markdown",
   "id": "4b6f6f2d",
   "metadata": {},
   "source": [
    "## 数据预处理"
   ]
  },
  {
   "cell_type": "markdown",
   "id": "5137e2c5",
   "metadata": {},
   "source": [
    "### 生成数据"
   ]
  },
  {
   "cell_type": "code",
   "execution_count": 3,
   "id": "df7cf709",
   "metadata": {},
   "outputs": [],
   "source": [
    "def synthetic_data(w, b, num_examples):  #@save\n",
    "    \"\"\"生成y=Xw+b+噪声\"\"\"\n",
    "    X = torch.normal(0, 1, (num_examples, len(w)))\n",
    "    y = torch.matmul(X, w) + b\n",
    "    y += torch.normal(0, 0.01, y.shape)\n",
    "    return X, y.reshape((-1, 1))"
   ]
  },
  {
   "cell_type": "code",
   "execution_count": 4,
   "id": "6dac2178",
   "metadata": {},
   "outputs": [],
   "source": [
    "true_w = torch.tensor([2, -3.4])\n",
    "true_b = 4.2\n",
    "features, labels = synthetic_data(true_w, true_b, 1000)"
   ]
  },
  {
   "cell_type": "code",
   "execution_count": 5,
   "id": "929a0a7a",
   "metadata": {},
   "outputs": [
    {
     "name": "stdout",
     "output_type": "stream",
     "text": [
      "features: tensor([0.9226, 0.5581]) \n",
      "label: tensor([4.1470])\n"
     ]
    }
   ],
   "source": [
    "print('features:', features[0],'\\nlabel:', labels[0])"
   ]
  },
  {
   "cell_type": "code",
   "execution_count": 6,
   "id": "51b299f3",
   "metadata": {},
   "outputs": [
    {
     "data": {
      "image/png": "[encoded data removed]",
      "text/plain": [
       "<Figure size 640x480 with 1 Axes>"
      ]
     },
     "metadata": {},
     "output_type": "display_data"
    }
   ],
   "source": [
    "plt.scatter(features[:, (1)].detach().numpy(), labels.detach().numpy(), 1)\n",
    "plt.show()"
   ]
  },
  {
   "cell_type": "markdown",
   "id": "e08a7466",
   "metadata": {},
   "source": [
    "### 读取数据"
   ]
  },
  {
   "cell_type": "code",
   "execution_count": 7,
   "id": "f5bfcaa7",
   "metadata": {},
   "outputs": [],
   "source": [
    "def load_array(data_arrays, batch_size, is_train=True):  #@save\n",
    "    \"\"\"构造一个PyTorch数据迭代器\"\"\"\n",
    "    dataset = data.TensorDataset(*data_arrays)\n",
    "    return data.DataLoader(dataset, batch_size, shuffle=is_train)"
   ]
  },
  {
   "cell_type": "code",
   "execution_count": 8,
   "id": "3ec879e4",
   "metadata": {},
   "outputs": [],
   "source": [
    "batch_size = 10\n",
    "data_iter = load_array((features, labels), batch_size)"
   ]
  },
  {
   "cell_type": "code",
   "execution_count": 9,
   "id": "76ed3bfa",
   "metadata": {},
   "outputs": [
    {
     "data": {
      "text/plain": [
       "[tensor([[ 0.7910, -0.5648],\n",
       "         [ 0.2651, -2.1253],\n",
       "         [-0.3876, -1.2789],\n",
       "         [-0.7502, -0.3449],\n",
       "         [-1.1083,  0.9055],\n",
       "         [ 0.6049, -0.1269],\n",
       "         [-0.0346,  1.3689],\n",
       "         [-1.0595, -0.2978],\n",
       "         [ 1.1842, -2.0563],\n",
       "         [-0.6445, -0.9684]]),\n",
       " tensor([[ 7.6979],\n",
       "         [11.9639],\n",
       "         [ 7.7652],\n",
       "         [ 3.8768],\n",
       "         [-1.0871],\n",
       "         [ 5.8370],\n",
       "         [-0.5468],\n",
       "         [ 3.0825],\n",
       "         [13.5537],\n",
       "         [ 6.2163]])]"
      ]
     },
     "execution_count": 9,
     "metadata": {},
     "output_type": "execute_result"
    }
   ],
   "source": [
    "next(iter(data_iter))"
   ]
  },
  {
   "cell_type": "markdown",
   "id": "62f3c4d0",
   "metadata": {},
   "source": [
    "## 单层神经网络"
   ]
  },
  {
   "cell_type": "markdown",
   "id": "c3215839",
   "metadata": {},
   "source": [
    "### 定义模型"
   ]
  },
  {
   "cell_type": "code",
   "execution_count": 10,
   "id": "5624697a",
   "metadata": {},
   "outputs": [],
   "source": [
    "net = nn.Sequential(nn.Linear(2, 1))"
   ]
  },
  {
   "cell_type": "markdown",
   "id": "421b0341",
   "metadata": {},
   "source": [
    "### 初始化模型参数"
   ]
  },
  {
   "cell_type": "code",
   "execution_count": 11,
   "id": "9702681e",
   "metadata": {},
   "outputs": [
    {
     "data": {
      "text/plain": [
       "tensor([0.])"
      ]
     },
     "execution_count": 11,
     "metadata": {},
     "output_type": "execute_result"
    }
   ],
   "source": [
    "net[0].weight.data.normal_(0, 0.01)\n",
    "net[0].bias.data.fill_(0)"
   ]
  },
  {
   "cell_type": "markdown",
   "id": "8b8f828e",
   "metadata": {},
   "source": [
    "### 定义损失函数"
   ]
  },
  {
   "cell_type": "code",
   "execution_count": 12,
   "id": "c9ded24c",
   "metadata": {},
   "outputs": [],
   "source": [
    "loss = nn.MSELoss()"
   ]
  },
  {
   "cell_type": "markdown",
   "id": "afe92d8f",
   "metadata": {},
   "source": [
    "### 定义优化算法"
   ]
  },
  {
   "cell_type": "code",
   "execution_count": 13,
   "id": "9312885a",
   "metadata": {},
   "outputs": [],
   "source": [
    "trainer = torch.optim.SGD(net.parameters(), lr=0.03)"
   ]
  },
  {
   "cell_type": "markdown",
   "id": "9951cc8f",
   "metadata": {},
   "source": [
    "### 训练模型"
   ]
  },
  {
   "cell_type": "code",
   "execution_count": 14,
   "id": "7c9e0674",
   "metadata": {},
   "outputs": [
    {
     "name": "stdout",
     "output_type": "stream",
     "text": [
      "epoch 1, loss 0.000182\n",
      "epoch 2, loss 0.000099\n",
      "epoch 3, loss 0.000099\n"
     ]
    }
   ],
   "source": [
    "num_epochs = 3\n",
    "# 训练三轮\n",
    "for epoch in range(num_epochs):\n",
    "    # 每次分批训练\n",
    "    for X, y in data_iter:\n",
    "        # 前向反馈\n",
    "        y_hat = net(X)\n",
    "        # 计算损失\n",
    "        l = loss(y_hat, y)\n",
    "        # 计算梯度\n",
    "        trainer.zero_grad() # 清理梯度\n",
    "        l.backward() # 计算梯度\n",
    "        # 更新参数\n",
    "        trainer.step()\n",
    "    l = loss(net(features), labels) # 训练一轮之后的参数\n",
    "    print(f'epoch {epoch + 1}, loss {l:f}')"
   ]
  },
  {
   "cell_type": "code",
   "execution_count": 15,
   "id": "d08287a6",
   "metadata": {},
   "outputs": [
    {
     "name": "stdout",
     "output_type": "stream",
     "text": [
      "tensor([[ 2.0005, -3.3994]])\n",
      "tensor([4.2004])\n"
     ]
    }
   ],
   "source": [
    "w = net[0].weight.data\n",
    "b = net[0].bias.data\n",
    "print(w)\n",
    "print(b)"
   ]
  },
  {
   "cell_type": "code",
   "execution_count": 16,
   "id": "63e897ed",
   "metadata": {},
   "outputs": [
    {
     "name": "stdout",
     "output_type": "stream",
     "text": [
      "w的估计误差： tensor([-0.0005, -0.0006])\n",
      "b的估计误差： tensor([-0.0004])\n"
     ]
    }
   ],
   "source": [
    "print('w的估计误差：', true_w - w.reshape(true_w.shape))\n",
    "print('b的估计误差：', true_b - b)"
   ]
  },
  {
   "cell_type": "markdown",
   "id": "85c3650e",
   "metadata": {},
   "source": [
    "## 多层感知机（MLP）"
   ]
  },
  {
   "cell_type": "markdown",
   "id": "e107b604",
   "metadata": {},
   "source": [
    "### 定义模型"
   ]
  },
  {
   "cell_type": "code",
   "execution_count": 17,
   "id": "8cb5256e",
   "metadata": {},
   "outputs": [],
   "source": [
    "class MLP(nn.Module):\n",
    "    def __init__(self, input_size, hidden_size, output_size):\n",
    "        super(MLP, self).__init__()\n",
    "        self.mlp = nn.Sequential(\n",
    "            nn.Linear(in_features = input_size, out_features = hidden_size),    # 线性层\n",
    "            nn.ReLU(),                                                          # 激活函数\n",
    "            nn.Linear(in_features = hidden_size, out_features = output_size),   # 线性层\n",
    "        )\n",
    "\n",
    "    def forward(self, input):\n",
    "        output = self.mlp(input)\n",
    "        return output"
   ]
  },
  {
   "cell_type": "code",
   "execution_count": 18,
   "id": "714e3860",
   "metadata": {},
   "outputs": [],
   "source": [
    "input_dim = 2   # 输入层的维度\n",
    "hidden_dim = 5  # 隐藏层的维度\n",
    "output_dim = 1  # 输出层的维度\n",
    "mlp = MLP(input_dim, hidden_dim, output_dim)"
   ]
  },
  {
   "cell_type": "code",
   "execution_count": 19,
   "id": "5d45b756",
   "metadata": {},
   "outputs": [
    {
     "name": "stdout",
     "output_type": "stream",
     "text": [
      "MLP(\n",
      "  (mlp): Sequential(\n",
      "    (0): Linear(in_features=2, out_features=5, bias=True)\n",
      "    (1): ReLU()\n",
      "    (2): Linear(in_features=5, out_features=1, bias=True)\n",
      "  )\n",
      ")\n"
     ]
    }
   ],
   "source": [
    "print(mlp)"
   ]
  },
  {
   "cell_type": "code",
   "execution_count": 20,
   "id": "7cf5b7fb",
   "metadata": {},
   "outputs": [
    {
     "name": "stdout",
     "output_type": "stream",
     "text": [
      "----------------------------------------------------------------\n",
      "        Layer (type)               Output Shape         Param #\n",
      "================================================================\n",
      "            Linear-1                 [-1, 1, 5]              15\n",
      "              ReLU-2                 [-1, 1, 5]               0\n",
      "            Linear-3                 [-1, 1, 1]               6\n",
      "================================================================\n",
      "Total params: 21\n",
      "Trainable params: 21\n",
      "Non-trainable params: 0\n",
      "----------------------------------------------------------------\n",
      "Input size (MB): 0.00\n",
      "Forward/backward pass size (MB): 0.00\n",
      "Params size (MB): 0.00\n",
      "Estimated Total Size (MB): 0.00\n",
      "----------------------------------------------------------------\n"
     ]
    }
   ],
   "source": [
    "summary(mlp, (1, input_dim))"
   ]
  },
  {
   "cell_type": "markdown",
   "id": "4c77d9dd",
   "metadata": {},
   "source": [
    "### 定义损失函数"
   ]
  },
  {
   "cell_type": "code",
   "execution_count": 21,
   "id": "09b3d00b",
   "metadata": {},
   "outputs": [],
   "source": [
    "mlp_loss = nn.MSELoss()   # 交叉熵"
   ]
  },
  {
   "cell_type": "markdown",
   "id": "1fd39c15",
   "metadata": {},
   "source": [
    "### 定义优化器"
   ]
  },
  {
   "cell_type": "code",
   "execution_count": 22,
   "id": "75a24ca7",
   "metadata": {},
   "outputs": [],
   "source": [
    "mlp_optimizer = torch.optim.SGD(mlp.parameters(), lr = 0.01)   # 随机梯度下降算法"
   ]
  },
  {
   "cell_type": "markdown",
   "id": "386d475a",
   "metadata": {},
   "source": [
    "### 训练模型"
   ]
  },
  {
   "cell_type": "code",
   "execution_count": 23,
   "id": "e697b638",
   "metadata": {},
   "outputs": [
    {
     "name": "stdout",
     "output_type": "stream",
     "text": [
      "epoch 1, loss 1.614654\n",
      "epoch 2, loss 1.179055\n",
      "epoch 3, loss 0.916227\n"
     ]
    }
   ],
   "source": [
    "num_epochs = 3\n",
    "# 训练三轮\n",
    "for epoch in range(num_epochs):\n",
    "    # 每次分批训练\n",
    "    for X, y in data_iter:\n",
    "        # 前向反馈\n",
    "        y_hat = mlp(X)\n",
    "        # 计算损失\n",
    "        mlp_loss = loss(y_hat, y)\n",
    "        # 计算梯度\n",
    "        mlp_optimizer.zero_grad() # 清理梯度\n",
    "        mlp_loss.backward() # 计算梯度\n",
    "        # 更新参数\n",
    "        mlp_optimizer.step()\n",
    "    l = loss(mlp(features), labels) # 训练一轮之后的参数\n",
    "    print(f'epoch {epoch + 1}, loss {l:f}')"
   ]
  },
  {
   "cell_type": "markdown",
   "id": "a73fb4c8",
   "metadata": {},
   "source": [
    "# 课堂练习"
   ]
  }
 ],
 "metadata": {
  "kernelspec": {
   "display_name": "keras",
   "language": "python",
   "name": "python3"
  },
  "language_info": {
   "codemirror_mode": {
    "name": "ipython",
    "version": 3
   },
   "file_extension": ".py",
   "mimetype": "text/x-python",
   "name": "python",
   "nbconvert_exporter": "python",
   "pygments_lexer": "ipython3",
   "version": "3.12.0"
  },
  "toc": {
   "base_numbering": 1,
   "nav_menu": {},
   "number_sections": true,
   "sideBar": true,
   "skip_h1_title": true,
   "title_cell": "Table of Contents",
   "title_sidebar": "Contents",
   "toc_cell": false,
   "toc_position": {
    "height": "calc(100% - 180px)",
    "left": "10px",
    "top": "150px",
    "width": "230.578px"
   },
   "toc_section_display": true,
   "toc_window_display": true
  }
 },
 "nbformat": 4,
 "nbformat_minor": 5
}
